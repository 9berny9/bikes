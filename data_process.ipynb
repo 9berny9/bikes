{
  "nbformat": 4,
  "nbformat_minor": 0,
  "metadata": {
    "colab": {
      "name": "bikes_process.ipynb",
      "provenance": [],
      "collapsed_sections": [],
      "mount_file_id": "1qPHH4ucRDhH3cakdRiANFC8oMqPl7m4R",
      "authorship_tag": "ABX9TyNG5WvxG3tCcDVxAus52b90"
    },
    "kernelspec": {
      "name": "python3",
      "display_name": "Python 3"
    },
    "language_info": {
      "name": "python"
    }
  },
  "cells": [
    {
      "cell_type": "code",
      "source": [
        "import pandas as pd\n",
        "import numpy as np"
      ],
      "metadata": {
        "id": "yWKzpblpdtNb"
      },
      "execution_count": 47,
      "outputs": []
    },
    {
      "cell_type": "code",
      "source": [
        "!git clone https://github.com/9berny9/bikes"
      ],
      "metadata": {
        "colab": {
          "base_uri": "https://localhost:8080/"
        },
        "id": "ZlKQjtUciJiO",
        "outputId": "f855edf0-834f-47e6-bdac-15217a275957"
      },
      "execution_count": 48,
      "outputs": [
        {
          "output_type": "stream",
          "name": "stdout",
          "text": [
            "fatal: destination path 'bikes' already exists and is not an empty directory.\n"
          ]
        }
      ]
    },
    {
      "cell_type": "markdown",
      "source": [
        "# DATABASE BIKES"
      ],
      "metadata": {
        "id": "qR-UQ6cI0U9g"
      }
    },
    {
      "cell_type": "markdown",
      "source": [
        "Tento colab notebook obsahuje práci a úpravu dat na vstupech z databáze."
      ],
      "metadata": {
        "id": "Gjzw2M2U0VxO"
      }
    },
    {
      "cell_type": "markdown",
      "source": [
        "# OBSAH\n",
        "1. [Jednotlivé datasety](#1)\n",
        "      1. [Bikes](#1.1)\n",
        "      2. [Weather](#1.2)\n",
        "      3. [Stations](#1.3)\n",
        "2. [Sjednocený dataset](#2)\n",
        "\n"
      ],
      "metadata": {
        "id": "R3_mPWybXAv-"
      }
    },
    {
      "cell_type": "markdown",
      "source": [
        "### Jednotlivé datasety <a name=\"1\"></a>"
      ],
      "metadata": {
        "id": "UDkxiyzLLdgT"
      }
    },
    {
      "cell_type": "markdown",
      "source": [
        "Pro zjednodušení a prezentaci práce si vytvořím pickle databáze, s kterým budu pracovat. V reálném projektu bych pracoval přímo s databází.\n",
        "\n",
        "Postup:\n",
        "1.   Načtení databáze do jednotlivých dataframů -> `data = pd.read_sql(sql=query, con=engine)`\n",
        "2.   Uložení dataframů jako pickle -> `data.to_pickle(\"data_basic.pkl\")`\n",
        "3.   Načtení do dataframu + kontrola datových formátů, chybějící údajů, řádků i sloupců a jejich následná úprava.\n",
        "4.   Upravený dataframe uložení do nového pickle souboru."
      ],
      "metadata": {
        "id": "4FTOqxh_2Vjg"
      }
    },
    {
      "cell_type": "markdown",
      "source": [
        "#### Bikes <a name=\"2.1.1\"></a>"
      ],
      "metadata": {
        "id": "VD37j5aJbe46"
      }
    },
    {
      "cell_type": "markdown",
      "source": [
        "Databáze bikes obsahuje informace o datumu a času vypůjčení kol s iformacemi o místě převzetí kola a jeho vrácení."
      ],
      "metadata": {
        "id": "TpNJTkpU4R4-"
      }
    },
    {
      "cell_type": "code",
      "source": [
        "# url github clonovaného repositáře v Colabu\n",
        "url_bikes_basic = \"/content/bikes/Database/bikes_first.pkl\""
      ],
      "metadata": {
        "id": "y7yu882ciu1e"
      },
      "execution_count": 49,
      "outputs": []
    },
    {
      "cell_type": "code",
      "source": [
        "# načtení do dataframu\n",
        "dfb = pd.read_pickle(url_bikes_basic)"
      ],
      "metadata": {
        "id": "_56gJNRWdsKT"
      },
      "execution_count": 50,
      "outputs": []
    },
    {
      "cell_type": "code",
      "source": [
        "dfb.head()"
      ],
      "metadata": {
        "colab": {
          "base_uri": "https://localhost:8080/",
          "height": 444
        },
        "id": "b1T5D0eIfLcL",
        "outputId": "a3653405-abf4-4ffa-a30d-03be65fcde66"
      },
      "execution_count": 51,
      "outputs": [
        {
          "output_type": "execute_result",
          "data": {
            "text/plain": [
              "   index           started_at             ended_at  duration  \\\n",
              "0      0  2018-09-15 08:52:05  2018-09-15 09:11:48      1182   \n",
              "1      1  2018-09-15 09:24:33  2018-09-15 09:41:09       995   \n",
              "2      2  2018-09-15 09:48:54  2018-09-15 10:46:40      3466   \n",
              "3      3  2018-09-16 12:01:36  2018-09-16 12:25:26      1430   \n",
              "4      4  2018-09-16 12:03:43  2018-09-16 12:11:16       452   \n",
              "\n",
              "   start_station_id start_station_name         start_station_description  \\\n",
              "0               247   Charlotte Square  North Corner of Charlotte Square   \n",
              "1               259   St Andrew Square                 North East corner   \n",
              "2               262         Canonmills                      near Tesco's   \n",
              "3               255  Kings Buildings 4                          X-Y Cafe   \n",
              "4               255  Kings Buildings 4                          X-Y Cafe   \n",
              "\n",
              "   start_station_latitude  start_station_longitude  end_station_id  \\\n",
              "0               55.952335                -3.207101             259   \n",
              "1               55.954749                -3.192774             262   \n",
              "2               55.962804                -3.196284             250   \n",
              "3               55.922001                -3.176902             254   \n",
              "4               55.922001                -3.176902             253   \n",
              "\n",
              "   end_station_name                 end_station_description  \\\n",
              "0  St Andrew Square                       North East corner   \n",
              "1        Canonmills                            near Tesco's   \n",
              "2     Victoria Quay  Entrance to Scottish Government Office   \n",
              "3  Kings Building 3                    Kings Building House   \n",
              "4  Kings Building 2                      Sanderson Building   \n",
              "\n",
              "   end_station_latitude  end_station_longitude  \n",
              "0             55.954728              -3.192653  \n",
              "1             55.962804              -3.196284  \n",
              "2             55.977638              -3.174116  \n",
              "3             55.923479              -3.175385  \n",
              "4             55.923202              -3.171646  "
            ],
            "text/html": [
              "\n",
              "  <div id=\"df-856f7583-8ef4-4eee-9e09-10e10c57afc6\">\n",
              "    <div class=\"colab-df-container\">\n",
              "      <div>\n",
              "<style scoped>\n",
              "    .dataframe tbody tr th:only-of-type {\n",
              "        vertical-align: middle;\n",
              "    }\n",
              "\n",
              "    .dataframe tbody tr th {\n",
              "        vertical-align: top;\n",
              "    }\n",
              "\n",
              "    .dataframe thead th {\n",
              "        text-align: right;\n",
              "    }\n",
              "</style>\n",
              "<table border=\"1\" class=\"dataframe\">\n",
              "  <thead>\n",
              "    <tr style=\"text-align: right;\">\n",
              "      <th></th>\n",
              "      <th>index</th>\n",
              "      <th>started_at</th>\n",
              "      <th>ended_at</th>\n",
              "      <th>duration</th>\n",
              "      <th>start_station_id</th>\n",
              "      <th>start_station_name</th>\n",
              "      <th>start_station_description</th>\n",
              "      <th>start_station_latitude</th>\n",
              "      <th>start_station_longitude</th>\n",
              "      <th>end_station_id</th>\n",
              "      <th>end_station_name</th>\n",
              "      <th>end_station_description</th>\n",
              "      <th>end_station_latitude</th>\n",
              "      <th>end_station_longitude</th>\n",
              "    </tr>\n",
              "  </thead>\n",
              "  <tbody>\n",
              "    <tr>\n",
              "      <th>0</th>\n",
              "      <td>0</td>\n",
              "      <td>2018-09-15 08:52:05</td>\n",
              "      <td>2018-09-15 09:11:48</td>\n",
              "      <td>1182</td>\n",
              "      <td>247</td>\n",
              "      <td>Charlotte Square</td>\n",
              "      <td>North Corner of Charlotte Square</td>\n",
              "      <td>55.952335</td>\n",
              "      <td>-3.207101</td>\n",
              "      <td>259</td>\n",
              "      <td>St Andrew Square</td>\n",
              "      <td>North East corner</td>\n",
              "      <td>55.954728</td>\n",
              "      <td>-3.192653</td>\n",
              "    </tr>\n",
              "    <tr>\n",
              "      <th>1</th>\n",
              "      <td>1</td>\n",
              "      <td>2018-09-15 09:24:33</td>\n",
              "      <td>2018-09-15 09:41:09</td>\n",
              "      <td>995</td>\n",
              "      <td>259</td>\n",
              "      <td>St Andrew Square</td>\n",
              "      <td>North East corner</td>\n",
              "      <td>55.954749</td>\n",
              "      <td>-3.192774</td>\n",
              "      <td>262</td>\n",
              "      <td>Canonmills</td>\n",
              "      <td>near Tesco's</td>\n",
              "      <td>55.962804</td>\n",
              "      <td>-3.196284</td>\n",
              "    </tr>\n",
              "    <tr>\n",
              "      <th>2</th>\n",
              "      <td>2</td>\n",
              "      <td>2018-09-15 09:48:54</td>\n",
              "      <td>2018-09-15 10:46:40</td>\n",
              "      <td>3466</td>\n",
              "      <td>262</td>\n",
              "      <td>Canonmills</td>\n",
              "      <td>near Tesco's</td>\n",
              "      <td>55.962804</td>\n",
              "      <td>-3.196284</td>\n",
              "      <td>250</td>\n",
              "      <td>Victoria Quay</td>\n",
              "      <td>Entrance to Scottish Government Office</td>\n",
              "      <td>55.977638</td>\n",
              "      <td>-3.174116</td>\n",
              "    </tr>\n",
              "    <tr>\n",
              "      <th>3</th>\n",
              "      <td>3</td>\n",
              "      <td>2018-09-16 12:01:36</td>\n",
              "      <td>2018-09-16 12:25:26</td>\n",
              "      <td>1430</td>\n",
              "      <td>255</td>\n",
              "      <td>Kings Buildings 4</td>\n",
              "      <td>X-Y Cafe</td>\n",
              "      <td>55.922001</td>\n",
              "      <td>-3.176902</td>\n",
              "      <td>254</td>\n",
              "      <td>Kings Building 3</td>\n",
              "      <td>Kings Building House</td>\n",
              "      <td>55.923479</td>\n",
              "      <td>-3.175385</td>\n",
              "    </tr>\n",
              "    <tr>\n",
              "      <th>4</th>\n",
              "      <td>4</td>\n",
              "      <td>2018-09-16 12:03:43</td>\n",
              "      <td>2018-09-16 12:11:16</td>\n",
              "      <td>452</td>\n",
              "      <td>255</td>\n",
              "      <td>Kings Buildings 4</td>\n",
              "      <td>X-Y Cafe</td>\n",
              "      <td>55.922001</td>\n",
              "      <td>-3.176902</td>\n",
              "      <td>253</td>\n",
              "      <td>Kings Building 2</td>\n",
              "      <td>Sanderson Building</td>\n",
              "      <td>55.923202</td>\n",
              "      <td>-3.171646</td>\n",
              "    </tr>\n",
              "  </tbody>\n",
              "</table>\n",
              "</div>\n",
              "      <button class=\"colab-df-convert\" onclick=\"convertToInteractive('df-856f7583-8ef4-4eee-9e09-10e10c57afc6')\"\n",
              "              title=\"Convert this dataframe to an interactive table.\"\n",
              "              style=\"display:none;\">\n",
              "        \n",
              "  <svg xmlns=\"http://www.w3.org/2000/svg\" height=\"24px\"viewBox=\"0 0 24 24\"\n",
              "       width=\"24px\">\n",
              "    <path d=\"M0 0h24v24H0V0z\" fill=\"none\"/>\n",
              "    <path d=\"M18.56 5.44l.94 2.06.94-2.06 2.06-.94-2.06-.94-.94-2.06-.94 2.06-2.06.94zm-11 1L8.5 8.5l.94-2.06 2.06-.94-2.06-.94L8.5 2.5l-.94 2.06-2.06.94zm10 10l.94 2.06.94-2.06 2.06-.94-2.06-.94-.94-2.06-.94 2.06-2.06.94z\"/><path d=\"M17.41 7.96l-1.37-1.37c-.4-.4-.92-.59-1.43-.59-.52 0-1.04.2-1.43.59L10.3 9.45l-7.72 7.72c-.78.78-.78 2.05 0 2.83L4 21.41c.39.39.9.59 1.41.59.51 0 1.02-.2 1.41-.59l7.78-7.78 2.81-2.81c.8-.78.8-2.07 0-2.86zM5.41 20L4 18.59l7.72-7.72 1.47 1.35L5.41 20z\"/>\n",
              "  </svg>\n",
              "      </button>\n",
              "      \n",
              "  <style>\n",
              "    .colab-df-container {\n",
              "      display:flex;\n",
              "      flex-wrap:wrap;\n",
              "      gap: 12px;\n",
              "    }\n",
              "\n",
              "    .colab-df-convert {\n",
              "      background-color: #E8F0FE;\n",
              "      border: none;\n",
              "      border-radius: 50%;\n",
              "      cursor: pointer;\n",
              "      display: none;\n",
              "      fill: #1967D2;\n",
              "      height: 32px;\n",
              "      padding: 0 0 0 0;\n",
              "      width: 32px;\n",
              "    }\n",
              "\n",
              "    .colab-df-convert:hover {\n",
              "      background-color: #E2EBFA;\n",
              "      box-shadow: 0px 1px 2px rgba(60, 64, 67, 0.3), 0px 1px 3px 1px rgba(60, 64, 67, 0.15);\n",
              "      fill: #174EA6;\n",
              "    }\n",
              "\n",
              "    [theme=dark] .colab-df-convert {\n",
              "      background-color: #3B4455;\n",
              "      fill: #D2E3FC;\n",
              "    }\n",
              "\n",
              "    [theme=dark] .colab-df-convert:hover {\n",
              "      background-color: #434B5C;\n",
              "      box-shadow: 0px 1px 3px 1px rgba(0, 0, 0, 0.15);\n",
              "      filter: drop-shadow(0px 1px 2px rgba(0, 0, 0, 0.3));\n",
              "      fill: #FFFFFF;\n",
              "    }\n",
              "  </style>\n",
              "\n",
              "      <script>\n",
              "        const buttonEl =\n",
              "          document.querySelector('#df-856f7583-8ef4-4eee-9e09-10e10c57afc6 button.colab-df-convert');\n",
              "        buttonEl.style.display =\n",
              "          google.colab.kernel.accessAllowed ? 'block' : 'none';\n",
              "\n",
              "        async function convertToInteractive(key) {\n",
              "          const element = document.querySelector('#df-856f7583-8ef4-4eee-9e09-10e10c57afc6');\n",
              "          const dataTable =\n",
              "            await google.colab.kernel.invokeFunction('convertToInteractive',\n",
              "                                                     [key], {});\n",
              "          if (!dataTable) return;\n",
              "\n",
              "          const docLinkHtml = 'Like what you see? Visit the ' +\n",
              "            '<a target=\"_blank\" href=https://colab.research.google.com/notebooks/data_table.ipynb>data table notebook</a>'\n",
              "            + ' to learn more about interactive tables.';\n",
              "          element.innerHTML = '';\n",
              "          dataTable['output_type'] = 'display_data';\n",
              "          await google.colab.output.renderOutput(dataTable, element);\n",
              "          const docLink = document.createElement('div');\n",
              "          docLink.innerHTML = docLinkHtml;\n",
              "          element.appendChild(docLink);\n",
              "        }\n",
              "      </script>\n",
              "    </div>\n",
              "  </div>\n",
              "  "
            ]
          },
          "metadata": {},
          "execution_count": 51
        }
      ]
    },
    {
      "cell_type": "code",
      "source": [
        "dfb.info()"
      ],
      "metadata": {
        "colab": {
          "base_uri": "https://localhost:8080/"
        },
        "id": "GSFR7zIuidTK",
        "outputId": "f025ceda-b34d-432f-e337-429845221559"
      },
      "execution_count": 52,
      "outputs": [
        {
          "output_type": "stream",
          "name": "stdout",
          "text": [
            "<class 'pandas.core.frame.DataFrame'>\n",
            "RangeIndex: 438259 entries, 0 to 438258\n",
            "Data columns (total 14 columns):\n",
            " #   Column                     Non-Null Count   Dtype  \n",
            "---  ------                     --------------   -----  \n",
            " 0   index                      438259 non-null  int64  \n",
            " 1   started_at                 438259 non-null  object \n",
            " 2   ended_at                   438259 non-null  object \n",
            " 3   duration                   438259 non-null  int64  \n",
            " 4   start_station_id           438259 non-null  int64  \n",
            " 5   start_station_name         438259 non-null  object \n",
            " 6   start_station_description  435549 non-null  object \n",
            " 7   start_station_latitude     438259 non-null  float64\n",
            " 8   start_station_longitude    438259 non-null  float64\n",
            " 9   end_station_id             438259 non-null  int64  \n",
            " 10  end_station_name           438259 non-null  object \n",
            " 11  end_station_description    435256 non-null  object \n",
            " 12  end_station_latitude       438259 non-null  float64\n",
            " 13  end_station_longitude      438259 non-null  float64\n",
            "dtypes: float64(4), int64(4), object(6)\n",
            "memory usage: 46.8+ MB\n"
          ]
        }
      ]
    },
    {
      "cell_type": "markdown",
      "source": [
        "Úprava datového typu u sloupců ***started_at*** a ***ended_at*** na formát datetime64 pro lepší práci s datem a časem."
      ],
      "metadata": {
        "id": "zbmdSJbGbi5P"
      }
    },
    {
      "cell_type": "code",
      "source": [
        "# datový formát datetime64\n",
        "dfb['started_at'] = pd.to_datetime(dfb['started_at'], format=\"%Y-%m-%d %H:%M\")\n",
        "dfb['ended_at'] = pd.to_datetime(dfb['ended_at'], format=\"%Y-%m-%d %H:%M\")"
      ],
      "metadata": {
        "id": "GDRYoXUNgA0U"
      },
      "execution_count": 53,
      "outputs": []
    },
    {
      "cell_type": "code",
      "source": [
        "# přejmenování sloupců na kratší názvy\n",
        "dfb = dfb.rename(columns={\"started_at\": \"start\", \"ended_at\": \"end\",\n",
        "        \"start_station_id\": \"start_id\", \"start_station_name\": \"start_name\",\n",
        "        \"start_station_description\": \"start_description\",\n",
        "        \"start_station_latitude\": \"start_latitude\",\n",
        "        \"start_station_longitude\": \"start_longitude\",\"end_station_id\": \"end_id\",\n",
        "        \"end_station_name\": \"end_name\", \n",
        "        \"end_station_description\": \"end_description\",\n",
        "        \"end_station_latitude\": \"end_latitude\",\n",
        "        \"end_station_longitude\": \"end_longitude\"\n",
        "        })"
      ],
      "metadata": {
        "id": "sAjbrgstg7cu"
      },
      "execution_count": 54,
      "outputs": []
    },
    {
      "cell_type": "code",
      "source": [
        "# odstranění sloupce\n",
        "dfb = dfb.drop(columns= \"index\")"
      ],
      "metadata": {
        "id": "iT7iZjUL_dkw"
      },
      "execution_count": 55,
      "outputs": []
    },
    {
      "cell_type": "code",
      "source": [
        "dfb.info()"
      ],
      "metadata": {
        "colab": {
          "base_uri": "https://localhost:8080/"
        },
        "id": "LXnYbB0KiZra",
        "outputId": "661b5493-65bf-44b6-81d3-e115b81b9b01"
      },
      "execution_count": 56,
      "outputs": [
        {
          "output_type": "stream",
          "name": "stdout",
          "text": [
            "<class 'pandas.core.frame.DataFrame'>\n",
            "RangeIndex: 438259 entries, 0 to 438258\n",
            "Data columns (total 13 columns):\n",
            " #   Column             Non-Null Count   Dtype         \n",
            "---  ------             --------------   -----         \n",
            " 0   start              438259 non-null  datetime64[ns]\n",
            " 1   end                438259 non-null  datetime64[ns]\n",
            " 2   duration           438259 non-null  int64         \n",
            " 3   start_id           438259 non-null  int64         \n",
            " 4   start_name         438259 non-null  object        \n",
            " 5   start_description  435549 non-null  object        \n",
            " 6   start_latitude     438259 non-null  float64       \n",
            " 7   start_longitude    438259 non-null  float64       \n",
            " 8   end_id             438259 non-null  int64         \n",
            " 9   end_name           438259 non-null  object        \n",
            " 10  end_description    435256 non-null  object        \n",
            " 11  end_latitude       438259 non-null  float64       \n",
            " 12  end_longitude      438259 non-null  float64       \n",
            "dtypes: datetime64[ns](2), float64(4), int64(3), object(4)\n",
            "memory usage: 43.5+ MB\n"
          ]
        }
      ]
    },
    {
      "cell_type": "code",
      "source": [
        "# zjištění prvnícho záznamu\n",
        "dfb[\"start\"].min()"
      ],
      "metadata": {
        "colab": {
          "base_uri": "https://localhost:8080/"
        },
        "id": "jQ_3rrKH74U_",
        "outputId": "2693684e-e315-4940-c548-639a8d455b36"
      },
      "execution_count": 57,
      "outputs": [
        {
          "output_type": "execute_result",
          "data": {
            "text/plain": [
              "Timestamp('2018-09-15 08:52:05')"
            ]
          },
          "metadata": {},
          "execution_count": 57
        }
      ]
    },
    {
      "cell_type": "code",
      "source": [
        "# zjištění posledního záznamu\n",
        "dfb[\"start\"].max()"
      ],
      "metadata": {
        "colab": {
          "base_uri": "https://localhost:8080/"
        },
        "id": "_2YBk8vK8OUu",
        "outputId": "6c28c9a7-f678-4fdc-f3d8-9f2de9dee1ce"
      },
      "execution_count": 58,
      "outputs": [
        {
          "output_type": "execute_result",
          "data": {
            "text/plain": [
              "Timestamp('2021-06-30 23:58:33')"
            ]
          },
          "metadata": {},
          "execution_count": 58
        }
      ]
    },
    {
      "cell_type": "code",
      "source": [
        "# Uložení upraveného dataframu do pickle.\n",
        "url_bikes = \"/content/bikes/Database/bikes.pkl\"\n",
        "dfb.to_pickle(url_bikes)"
      ],
      "metadata": {
        "id": "78DLUsh-9EpQ"
      },
      "execution_count": 59,
      "outputs": []
    },
    {
      "cell_type": "markdown",
      "source": [
        "Dataframe obsahuje **438 259** záznamů a **14** sloupců s informacemi od data **2018-09-15** do **2021-06-30**."
      ],
      "metadata": {
        "id": "ouJiNSDNirdH"
      }
    },
    {
      "cell_type": "markdown",
      "source": [
        "#### Weather <a name=\"2.1.2\"></a>"
      ],
      "metadata": {
        "id": "9k-kWOeEbjXF"
      }
    },
    {
      "cell_type": "markdown",
      "source": [
        "Databáze Weather obsahuje informace o datumu a času měření údajů o počasí v městě Edinburgh. Měření jsou prováděny každé 3 hodiny."
      ],
      "metadata": {
        "id": "U2rxVv9h6qNh"
      }
    },
    {
      "cell_type": "code",
      "source": [
        "# Načtení pickle do Dataframu.\n",
        "url_weather = \"/content/bikes/Database/weather_first.pkl\"\n",
        "dfw = pd.read_pickle(url_weather)"
      ],
      "metadata": {
        "id": "BXqQNx6UuaZB"
      },
      "execution_count": 60,
      "outputs": []
    },
    {
      "cell_type": "code",
      "source": [
        "dfw.head()"
      ],
      "metadata": {
        "colab": {
          "base_uri": "https://localhost:8080/",
          "height": 206
        },
        "id": "qVgFhzGZuosa",
        "outputId": "9c350b74-57fd-4fe7-b5c6-f02c80ac8dbe"
      },
      "execution_count": 61,
      "outputs": [
        {
          "output_type": "execute_result",
          "data": {
            "text/plain": [
              "    time   temp  feels              wind     gust    rain humidity cloud  \\\n",
              "0  00:00  11 °c  11 °c     9 km/h from S  19 km/h  0.0 mm      79%   13%   \n",
              "1  03:00  13 °c  12 °c  11 km/h from SSW  19 km/h  0.0 mm      76%   96%   \n",
              "2  06:00  14 °c  13 °c  11 km/h from SSW  19 km/h  0.0 mm      84%  100%   \n",
              "3  09:00  14 °c  13 °c  14 km/h from SSW  23 km/h  0.1 mm      88%   78%   \n",
              "4  12:00  16 °c  16 °c  15 km/h from SSW  22 km/h  0.0 mm      87%   87%   \n",
              "\n",
              "  pressure        vis        date  \n",
              "0  1020 mb  Excellent  2018-09-01  \n",
              "1  1020 mb  Excellent  2018-09-01  \n",
              "2  1020 mb  Excellent  2018-09-01  \n",
              "3  1021 mb  Excellent  2018-09-01  \n",
              "4  1021 mb  Excellent  2018-09-01  "
            ],
            "text/html": [
              "\n",
              "  <div id=\"df-04b7e7b1-631f-4f3b-89c2-0c9b85464fcb\">\n",
              "    <div class=\"colab-df-container\">\n",
              "      <div>\n",
              "<style scoped>\n",
              "    .dataframe tbody tr th:only-of-type {\n",
              "        vertical-align: middle;\n",
              "    }\n",
              "\n",
              "    .dataframe tbody tr th {\n",
              "        vertical-align: top;\n",
              "    }\n",
              "\n",
              "    .dataframe thead th {\n",
              "        text-align: right;\n",
              "    }\n",
              "</style>\n",
              "<table border=\"1\" class=\"dataframe\">\n",
              "  <thead>\n",
              "    <tr style=\"text-align: right;\">\n",
              "      <th></th>\n",
              "      <th>time</th>\n",
              "      <th>temp</th>\n",
              "      <th>feels</th>\n",
              "      <th>wind</th>\n",
              "      <th>gust</th>\n",
              "      <th>rain</th>\n",
              "      <th>humidity</th>\n",
              "      <th>cloud</th>\n",
              "      <th>pressure</th>\n",
              "      <th>vis</th>\n",
              "      <th>date</th>\n",
              "    </tr>\n",
              "  </thead>\n",
              "  <tbody>\n",
              "    <tr>\n",
              "      <th>0</th>\n",
              "      <td>00:00</td>\n",
              "      <td>11 °c</td>\n",
              "      <td>11 °c</td>\n",
              "      <td>9 km/h from S</td>\n",
              "      <td>19 km/h</td>\n",
              "      <td>0.0 mm</td>\n",
              "      <td>79%</td>\n",
              "      <td>13%</td>\n",
              "      <td>1020 mb</td>\n",
              "      <td>Excellent</td>\n",
              "      <td>2018-09-01</td>\n",
              "    </tr>\n",
              "    <tr>\n",
              "      <th>1</th>\n",
              "      <td>03:00</td>\n",
              "      <td>13 °c</td>\n",
              "      <td>12 °c</td>\n",
              "      <td>11 km/h from SSW</td>\n",
              "      <td>19 km/h</td>\n",
              "      <td>0.0 mm</td>\n",
              "      <td>76%</td>\n",
              "      <td>96%</td>\n",
              "      <td>1020 mb</td>\n",
              "      <td>Excellent</td>\n",
              "      <td>2018-09-01</td>\n",
              "    </tr>\n",
              "    <tr>\n",
              "      <th>2</th>\n",
              "      <td>06:00</td>\n",
              "      <td>14 °c</td>\n",
              "      <td>13 °c</td>\n",
              "      <td>11 km/h from SSW</td>\n",
              "      <td>19 km/h</td>\n",
              "      <td>0.0 mm</td>\n",
              "      <td>84%</td>\n",
              "      <td>100%</td>\n",
              "      <td>1020 mb</td>\n",
              "      <td>Excellent</td>\n",
              "      <td>2018-09-01</td>\n",
              "    </tr>\n",
              "    <tr>\n",
              "      <th>3</th>\n",
              "      <td>09:00</td>\n",
              "      <td>14 °c</td>\n",
              "      <td>13 °c</td>\n",
              "      <td>14 km/h from SSW</td>\n",
              "      <td>23 km/h</td>\n",
              "      <td>0.1 mm</td>\n",
              "      <td>88%</td>\n",
              "      <td>78%</td>\n",
              "      <td>1021 mb</td>\n",
              "      <td>Excellent</td>\n",
              "      <td>2018-09-01</td>\n",
              "    </tr>\n",
              "    <tr>\n",
              "      <th>4</th>\n",
              "      <td>12:00</td>\n",
              "      <td>16 °c</td>\n",
              "      <td>16 °c</td>\n",
              "      <td>15 km/h from SSW</td>\n",
              "      <td>22 km/h</td>\n",
              "      <td>0.0 mm</td>\n",
              "      <td>87%</td>\n",
              "      <td>87%</td>\n",
              "      <td>1021 mb</td>\n",
              "      <td>Excellent</td>\n",
              "      <td>2018-09-01</td>\n",
              "    </tr>\n",
              "  </tbody>\n",
              "</table>\n",
              "</div>\n",
              "      <button class=\"colab-df-convert\" onclick=\"convertToInteractive('df-04b7e7b1-631f-4f3b-89c2-0c9b85464fcb')\"\n",
              "              title=\"Convert this dataframe to an interactive table.\"\n",
              "              style=\"display:none;\">\n",
              "        \n",
              "  <svg xmlns=\"http://www.w3.org/2000/svg\" height=\"24px\"viewBox=\"0 0 24 24\"\n",
              "       width=\"24px\">\n",
              "    <path d=\"M0 0h24v24H0V0z\" fill=\"none\"/>\n",
              "    <path d=\"M18.56 5.44l.94 2.06.94-2.06 2.06-.94-2.06-.94-.94-2.06-.94 2.06-2.06.94zm-11 1L8.5 8.5l.94-2.06 2.06-.94-2.06-.94L8.5 2.5l-.94 2.06-2.06.94zm10 10l.94 2.06.94-2.06 2.06-.94-2.06-.94-.94-2.06-.94 2.06-2.06.94z\"/><path d=\"M17.41 7.96l-1.37-1.37c-.4-.4-.92-.59-1.43-.59-.52 0-1.04.2-1.43.59L10.3 9.45l-7.72 7.72c-.78.78-.78 2.05 0 2.83L4 21.41c.39.39.9.59 1.41.59.51 0 1.02-.2 1.41-.59l7.78-7.78 2.81-2.81c.8-.78.8-2.07 0-2.86zM5.41 20L4 18.59l7.72-7.72 1.47 1.35L5.41 20z\"/>\n",
              "  </svg>\n",
              "      </button>\n",
              "      \n",
              "  <style>\n",
              "    .colab-df-container {\n",
              "      display:flex;\n",
              "      flex-wrap:wrap;\n",
              "      gap: 12px;\n",
              "    }\n",
              "\n",
              "    .colab-df-convert {\n",
              "      background-color: #E8F0FE;\n",
              "      border: none;\n",
              "      border-radius: 50%;\n",
              "      cursor: pointer;\n",
              "      display: none;\n",
              "      fill: #1967D2;\n",
              "      height: 32px;\n",
              "      padding: 0 0 0 0;\n",
              "      width: 32px;\n",
              "    }\n",
              "\n",
              "    .colab-df-convert:hover {\n",
              "      background-color: #E2EBFA;\n",
              "      box-shadow: 0px 1px 2px rgba(60, 64, 67, 0.3), 0px 1px 3px 1px rgba(60, 64, 67, 0.15);\n",
              "      fill: #174EA6;\n",
              "    }\n",
              "\n",
              "    [theme=dark] .colab-df-convert {\n",
              "      background-color: #3B4455;\n",
              "      fill: #D2E3FC;\n",
              "    }\n",
              "\n",
              "    [theme=dark] .colab-df-convert:hover {\n",
              "      background-color: #434B5C;\n",
              "      box-shadow: 0px 1px 3px 1px rgba(0, 0, 0, 0.15);\n",
              "      filter: drop-shadow(0px 1px 2px rgba(0, 0, 0, 0.3));\n",
              "      fill: #FFFFFF;\n",
              "    }\n",
              "  </style>\n",
              "\n",
              "      <script>\n",
              "        const buttonEl =\n",
              "          document.querySelector('#df-04b7e7b1-631f-4f3b-89c2-0c9b85464fcb button.colab-df-convert');\n",
              "        buttonEl.style.display =\n",
              "          google.colab.kernel.accessAllowed ? 'block' : 'none';\n",
              "\n",
              "        async function convertToInteractive(key) {\n",
              "          const element = document.querySelector('#df-04b7e7b1-631f-4f3b-89c2-0c9b85464fcb');\n",
              "          const dataTable =\n",
              "            await google.colab.kernel.invokeFunction('convertToInteractive',\n",
              "                                                     [key], {});\n",
              "          if (!dataTable) return;\n",
              "\n",
              "          const docLinkHtml = 'Like what you see? Visit the ' +\n",
              "            '<a target=\"_blank\" href=https://colab.research.google.com/notebooks/data_table.ipynb>data table notebook</a>'\n",
              "            + ' to learn more about interactive tables.';\n",
              "          element.innerHTML = '';\n",
              "          dataTable['output_type'] = 'display_data';\n",
              "          await google.colab.output.renderOutput(dataTable, element);\n",
              "          const docLink = document.createElement('div');\n",
              "          docLink.innerHTML = docLinkHtml;\n",
              "          element.appendChild(docLink);\n",
              "        }\n",
              "      </script>\n",
              "    </div>\n",
              "  </div>\n",
              "  "
            ]
          },
          "metadata": {},
          "execution_count": 61
        }
      ]
    },
    {
      "cell_type": "code",
      "source": [
        "dfw.info()"
      ],
      "metadata": {
        "colab": {
          "base_uri": "https://localhost:8080/"
        },
        "id": "svI7hXj4uqqE",
        "outputId": "f13fe22e-5ef9-4aed-8d85-bdef8f42b049"
      },
      "execution_count": 62,
      "outputs": [
        {
          "output_type": "stream",
          "name": "stdout",
          "text": [
            "<class 'pandas.core.frame.DataFrame'>\n",
            "RangeIndex: 6336 entries, 0 to 6335\n",
            "Data columns (total 11 columns):\n",
            " #   Column    Non-Null Count  Dtype \n",
            "---  ------    --------------  ----- \n",
            " 0   time      6336 non-null   object\n",
            " 1   temp      6336 non-null   object\n",
            " 2   feels     6336 non-null   object\n",
            " 3   wind      6336 non-null   object\n",
            " 4   gust      6336 non-null   object\n",
            " 5   rain      6336 non-null   object\n",
            " 6   humidity  6336 non-null   object\n",
            " 7   cloud     6336 non-null   object\n",
            " 8   pressure  6336 non-null   object\n",
            " 9   vis       6336 non-null   object\n",
            " 10  date      6336 non-null   object\n",
            "dtypes: object(11)\n",
            "memory usage: 544.6+ KB\n"
          ]
        }
      ]
    },
    {
      "cell_type": "code",
      "source": [
        "# sjednocení datumu s časem a převedení na datetime64\n",
        "dfw['time'] = pd.to_datetime((dfw['date'] + ' ' + dfw['time']),\n",
        "                             format=\"%Y-%m-%d %H:%M\" )"
      ],
      "metadata": {
        "id": "N3QozdF6vJJS"
      },
      "execution_count": 63,
      "outputs": []
    },
    {
      "cell_type": "code",
      "source": [
        "# vyjmutí jednotek ze sloupců a nastavení datového formátu\n",
        "dfw[\"temp\"] = dfw[\"temp\"].str.extract('(\\d+)').astype(int)\n",
        "dfw['wind'] = dfw['wind'].str.extract('(\\d+)').astype(int)\n",
        "dfw[\"gust\"] = dfw[\"gust\"].str.extract('(\\d+)').astype(int)\n",
        "dfw[\"rain\"] = dfw[\"rain\"].str.extract('(\\d+)').astype(float)"
      ],
      "metadata": {
        "id": "QoNeewoaw_Pv"
      },
      "execution_count": 64,
      "outputs": []
    },
    {
      "cell_type": "code",
      "source": [
        "# odebrání nepotřebných sloupců\n",
        "dfw = dfw.drop(columns=[\"feels\",\"humidity\",\"cloud\",\"pressure\",\"vis\", \"date\"])"
      ],
      "metadata": {
        "id": "nvjmfLA_yZdf"
      },
      "execution_count": 65,
      "outputs": []
    },
    {
      "cell_type": "code",
      "source": [
        "# přejmenování sloupců na název a jednotku\n",
        "dfw = dfw.rename(columns={\"time\":\"datetime\", \"temp\":\"temp_c\",\n",
        "                          \"wind\":\"wind_kmh\", \"gust\":\"gust_kmh\",\n",
        "                          \"rain\":\"rain_mm\"})"
      ],
      "metadata": {
        "id": "tCnRG-ORxH7o"
      },
      "execution_count": 66,
      "outputs": []
    },
    {
      "cell_type": "code",
      "source": [
        "dfw.head()"
      ],
      "metadata": {
        "colab": {
          "base_uri": "https://localhost:8080/",
          "height": 206
        },
        "id": "SztX4occ7X4H",
        "outputId": "8b616c74-5e0c-42e6-f069-cb79610b7183"
      },
      "execution_count": 67,
      "outputs": [
        {
          "output_type": "execute_result",
          "data": {
            "text/plain": [
              "             datetime  temp_c  wind_kmh  gust_kmh  rain_mm\n",
              "0 2018-09-01 00:00:00      11         9        19      0.0\n",
              "1 2018-09-01 03:00:00      13        11        19      0.0\n",
              "2 2018-09-01 06:00:00      14        11        19      0.0\n",
              "3 2018-09-01 09:00:00      14        14        23      0.0\n",
              "4 2018-09-01 12:00:00      16        15        22      0.0"
            ],
            "text/html": [
              "\n",
              "  <div id=\"df-2d2e3999-7416-48b2-968e-f16d95bb007d\">\n",
              "    <div class=\"colab-df-container\">\n",
              "      <div>\n",
              "<style scoped>\n",
              "    .dataframe tbody tr th:only-of-type {\n",
              "        vertical-align: middle;\n",
              "    }\n",
              "\n",
              "    .dataframe tbody tr th {\n",
              "        vertical-align: top;\n",
              "    }\n",
              "\n",
              "    .dataframe thead th {\n",
              "        text-align: right;\n",
              "    }\n",
              "</style>\n",
              "<table border=\"1\" class=\"dataframe\">\n",
              "  <thead>\n",
              "    <tr style=\"text-align: right;\">\n",
              "      <th></th>\n",
              "      <th>datetime</th>\n",
              "      <th>temp_c</th>\n",
              "      <th>wind_kmh</th>\n",
              "      <th>gust_kmh</th>\n",
              "      <th>rain_mm</th>\n",
              "    </tr>\n",
              "  </thead>\n",
              "  <tbody>\n",
              "    <tr>\n",
              "      <th>0</th>\n",
              "      <td>2018-09-01 00:00:00</td>\n",
              "      <td>11</td>\n",
              "      <td>9</td>\n",
              "      <td>19</td>\n",
              "      <td>0.0</td>\n",
              "    </tr>\n",
              "    <tr>\n",
              "      <th>1</th>\n",
              "      <td>2018-09-01 03:00:00</td>\n",
              "      <td>13</td>\n",
              "      <td>11</td>\n",
              "      <td>19</td>\n",
              "      <td>0.0</td>\n",
              "    </tr>\n",
              "    <tr>\n",
              "      <th>2</th>\n",
              "      <td>2018-09-01 06:00:00</td>\n",
              "      <td>14</td>\n",
              "      <td>11</td>\n",
              "      <td>19</td>\n",
              "      <td>0.0</td>\n",
              "    </tr>\n",
              "    <tr>\n",
              "      <th>3</th>\n",
              "      <td>2018-09-01 09:00:00</td>\n",
              "      <td>14</td>\n",
              "      <td>14</td>\n",
              "      <td>23</td>\n",
              "      <td>0.0</td>\n",
              "    </tr>\n",
              "    <tr>\n",
              "      <th>4</th>\n",
              "      <td>2018-09-01 12:00:00</td>\n",
              "      <td>16</td>\n",
              "      <td>15</td>\n",
              "      <td>22</td>\n",
              "      <td>0.0</td>\n",
              "    </tr>\n",
              "  </tbody>\n",
              "</table>\n",
              "</div>\n",
              "      <button class=\"colab-df-convert\" onclick=\"convertToInteractive('df-2d2e3999-7416-48b2-968e-f16d95bb007d')\"\n",
              "              title=\"Convert this dataframe to an interactive table.\"\n",
              "              style=\"display:none;\">\n",
              "        \n",
              "  <svg xmlns=\"http://www.w3.org/2000/svg\" height=\"24px\"viewBox=\"0 0 24 24\"\n",
              "       width=\"24px\">\n",
              "    <path d=\"M0 0h24v24H0V0z\" fill=\"none\"/>\n",
              "    <path d=\"M18.56 5.44l.94 2.06.94-2.06 2.06-.94-2.06-.94-.94-2.06-.94 2.06-2.06.94zm-11 1L8.5 8.5l.94-2.06 2.06-.94-2.06-.94L8.5 2.5l-.94 2.06-2.06.94zm10 10l.94 2.06.94-2.06 2.06-.94-2.06-.94-.94-2.06-.94 2.06-2.06.94z\"/><path d=\"M17.41 7.96l-1.37-1.37c-.4-.4-.92-.59-1.43-.59-.52 0-1.04.2-1.43.59L10.3 9.45l-7.72 7.72c-.78.78-.78 2.05 0 2.83L4 21.41c.39.39.9.59 1.41.59.51 0 1.02-.2 1.41-.59l7.78-7.78 2.81-2.81c.8-.78.8-2.07 0-2.86zM5.41 20L4 18.59l7.72-7.72 1.47 1.35L5.41 20z\"/>\n",
              "  </svg>\n",
              "      </button>\n",
              "      \n",
              "  <style>\n",
              "    .colab-df-container {\n",
              "      display:flex;\n",
              "      flex-wrap:wrap;\n",
              "      gap: 12px;\n",
              "    }\n",
              "\n",
              "    .colab-df-convert {\n",
              "      background-color: #E8F0FE;\n",
              "      border: none;\n",
              "      border-radius: 50%;\n",
              "      cursor: pointer;\n",
              "      display: none;\n",
              "      fill: #1967D2;\n",
              "      height: 32px;\n",
              "      padding: 0 0 0 0;\n",
              "      width: 32px;\n",
              "    }\n",
              "\n",
              "    .colab-df-convert:hover {\n",
              "      background-color: #E2EBFA;\n",
              "      box-shadow: 0px 1px 2px rgba(60, 64, 67, 0.3), 0px 1px 3px 1px rgba(60, 64, 67, 0.15);\n",
              "      fill: #174EA6;\n",
              "    }\n",
              "\n",
              "    [theme=dark] .colab-df-convert {\n",
              "      background-color: #3B4455;\n",
              "      fill: #D2E3FC;\n",
              "    }\n",
              "\n",
              "    [theme=dark] .colab-df-convert:hover {\n",
              "      background-color: #434B5C;\n",
              "      box-shadow: 0px 1px 3px 1px rgba(0, 0, 0, 0.15);\n",
              "      filter: drop-shadow(0px 1px 2px rgba(0, 0, 0, 0.3));\n",
              "      fill: #FFFFFF;\n",
              "    }\n",
              "  </style>\n",
              "\n",
              "      <script>\n",
              "        const buttonEl =\n",
              "          document.querySelector('#df-2d2e3999-7416-48b2-968e-f16d95bb007d button.colab-df-convert');\n",
              "        buttonEl.style.display =\n",
              "          google.colab.kernel.accessAllowed ? 'block' : 'none';\n",
              "\n",
              "        async function convertToInteractive(key) {\n",
              "          const element = document.querySelector('#df-2d2e3999-7416-48b2-968e-f16d95bb007d');\n",
              "          const dataTable =\n",
              "            await google.colab.kernel.invokeFunction('convertToInteractive',\n",
              "                                                     [key], {});\n",
              "          if (!dataTable) return;\n",
              "\n",
              "          const docLinkHtml = 'Like what you see? Visit the ' +\n",
              "            '<a target=\"_blank\" href=https://colab.research.google.com/notebooks/data_table.ipynb>data table notebook</a>'\n",
              "            + ' to learn more about interactive tables.';\n",
              "          element.innerHTML = '';\n",
              "          dataTable['output_type'] = 'display_data';\n",
              "          await google.colab.output.renderOutput(dataTable, element);\n",
              "          const docLink = document.createElement('div');\n",
              "          docLink.innerHTML = docLinkHtml;\n",
              "          element.appendChild(docLink);\n",
              "        }\n",
              "      </script>\n",
              "    </div>\n",
              "  </div>\n",
              "  "
            ]
          },
          "metadata": {},
          "execution_count": 67
        }
      ]
    },
    {
      "cell_type": "code",
      "source": [
        "# první záznam o počasí\n",
        "dfw['datetime'].min()"
      ],
      "metadata": {
        "colab": {
          "base_uri": "https://localhost:8080/"
        },
        "id": "3SGHMrA-7Oyd",
        "outputId": "689ea46b-ef39-4f0c-fe5f-a0d1d7856216"
      },
      "execution_count": 68,
      "outputs": [
        {
          "output_type": "execute_result",
          "data": {
            "text/plain": [
              "Timestamp('2018-09-01 00:00:00')"
            ]
          },
          "metadata": {},
          "execution_count": 68
        }
      ]
    },
    {
      "cell_type": "code",
      "source": [
        "# # poslední záznam o počasí\n",
        "dfw['datetime'].max()"
      ],
      "metadata": {
        "colab": {
          "base_uri": "https://localhost:8080/"
        },
        "id": "9m0q22CN7T6N",
        "outputId": "c62075d7-106a-46b4-da08-683e530f8c00"
      },
      "execution_count": 69,
      "outputs": [
        {
          "output_type": "execute_result",
          "data": {
            "text/plain": [
              "Timestamp('2020-10-31 21:00:00')"
            ]
          },
          "metadata": {},
          "execution_count": 69
        }
      ]
    },
    {
      "cell_type": "code",
      "source": [
        "# Uložení upraveného dataframu do pickle.\n",
        "dfw.to_pickle(\"/content/bikes/Database/weather.pkl\")"
      ],
      "metadata": {
        "id": "AW4TFweV8wNz"
      },
      "execution_count": 70,
      "outputs": []
    },
    {
      "cell_type": "markdown",
      "source": [
        "Upravený dataframe obsahuje **6336** záznamů a 5 sloupců s informacemi od data **2018-09-01 00:00** do **2020-10-31 21:00**."
      ],
      "metadata": {
        "id": "FA7Kxor2z0WZ"
      }
    },
    {
      "cell_type": "markdown",
      "source": [
        "#### Stations <a name=\"**2.1.3**\"></a>"
      ],
      "metadata": {
        "id": "DLUHI7YTbmhc"
      }
    },
    {
      "cell_type": "markdown",
      "source": [
        "* Z upraveného dataframu **bikes.pkl** si vytvořím dataframe pouze s unikátními stanicemi bez časových záznamů. Tento dataframe budu využívat jako seznam všech stanic s informacemi o ních.  \n",
        "* K datasetu přidám sloupec s početem výpujček a vrácení kol v jednotlivých stanicích.\n",
        "* Stanice, které jsou k dispozici zjistíme ze **start_id** a **end_id**"
      ],
      "metadata": {
        "id": "Xsgkyz5pbovD"
      }
    },
    {
      "cell_type": "code",
      "source": [
        "# načtení pickle do dataframu\n",
        "url_bikes = \"/content/bikes/Database/bikes.pkl\"\n",
        "dfs = pd.read_pickle(url_bikes)"
      ],
      "metadata": {
        "id": "66xzhJMU9wsD"
      },
      "execution_count": 71,
      "outputs": []
    },
    {
      "cell_type": "code",
      "source": [
        "dfs"
      ],
      "metadata": {
        "id": "olkWQeQZ7MX0",
        "outputId": "3243dc6b-0813-4c0e-a744-62baffb3743f",
        "colab": {
          "base_uri": "https://localhost:8080/",
          "height": 852
        }
      },
      "execution_count": 72,
      "outputs": [
        {
          "output_type": "execute_result",
          "data": {
            "text/plain": [
              "                     start                 end  duration  start_id  \\\n",
              "0      2018-09-15 08:52:05 2018-09-15 09:11:48      1182       247   \n",
              "1      2018-09-15 09:24:33 2018-09-15 09:41:09       995       259   \n",
              "2      2018-09-15 09:48:54 2018-09-15 10:46:40      3466       262   \n",
              "3      2018-09-16 12:01:36 2018-09-16 12:25:26      1430       255   \n",
              "4      2018-09-16 12:03:43 2018-09-16 12:11:16       452       255   \n",
              "...                    ...                 ...       ...       ...   \n",
              "438254 2021-06-30 23:30:31 2021-07-01 00:06:10      2139      1090   \n",
              "438255 2021-06-30 23:36:16 2021-07-01 00:05:40      1763      1814   \n",
              "438256 2021-06-30 23:49:03 2021-07-01 00:11:25      1342       256   \n",
              "438257 2021-06-30 23:49:03 2021-07-01 00:11:52      1369       256   \n",
              "438258 2021-06-30 23:58:33 2021-07-01 00:07:15       522       247   \n",
              "\n",
              "               start_name                 start_description  start_latitude  \\\n",
              "0        Charlotte Square  North Corner of Charlotte Square       55.952335   \n",
              "1        St Andrew Square                 North East corner       55.954749   \n",
              "2              Canonmills                      near Tesco's       55.962804   \n",
              "3       Kings Buildings 4                          X-Y Cafe       55.922001   \n",
              "4       Kings Buildings 4                          X-Y Cafe       55.922001   \n",
              "...                   ...                               ...             ...   \n",
              "438254  Hillside Crescent     East end of Hillside Crescent       55.957872   \n",
              "438255          Abbeyhill                  Near Abbey Mount       55.955248   \n",
              "438256   St Andrews House              beside Jacobs ladder       55.953164   \n",
              "438257   St Andrews House              beside Jacobs ladder       55.953164   \n",
              "438258   Charlotte Square  North Corner of Charlotte Square       55.952335   \n",
              "\n",
              "        start_longitude  end_id                 end_name  \\\n",
              "0             -3.207101     259         St Andrew Square   \n",
              "1             -3.192774     262               Canonmills   \n",
              "2             -3.196284     250            Victoria Quay   \n",
              "3             -3.176902     254         Kings Building 3   \n",
              "4             -3.176902     253         Kings Building 2   \n",
              "...                 ...     ...                      ...   \n",
              "438254        -3.175888    1728  Portobello - Kings Road   \n",
              "438255        -3.172216    1728  Portobello - Kings Road   \n",
              "438256        -3.181682    1091            Holyrood Road   \n",
              "438257        -3.181682    1091            Holyrood Road   \n",
              "438258        -3.207101    1769          Brunswick Place   \n",
              "\n",
              "                                 end_description  end_latitude  end_longitude  \n",
              "0                              North East corner     55.954728      -3.192653  \n",
              "1                                   near Tesco's     55.962804      -3.196284  \n",
              "2         Entrance to Scottish Government Office     55.977638      -3.174116  \n",
              "3                           Kings Building House     55.923479      -3.175385  \n",
              "4                             Sanderson Building     55.923202      -3.171646  \n",
              "...                                          ...           ...            ...  \n",
              "438254  Foot of Kings Road next to the promenade     55.957915      -3.118332  \n",
              "438255  Foot of Kings Road next to the promenade     55.957915      -3.118332  \n",
              "438256                 Opposite St Leonards Land     55.949560      -3.180413  \n",
              "438257                 Opposite St Leonards Land     55.949560      -3.180413  \n",
              "438258        Corner of Elm Row/Brunswick Street     55.960852      -3.180986  \n",
              "\n",
              "[438259 rows x 13 columns]"
            ],
            "text/html": [
              "\n",
              "  <div id=\"df-b5cb0904-830b-44f2-9c72-472f553f71e2\">\n",
              "    <div class=\"colab-df-container\">\n",
              "      <div>\n",
              "<style scoped>\n",
              "    .dataframe tbody tr th:only-of-type {\n",
              "        vertical-align: middle;\n",
              "    }\n",
              "\n",
              "    .dataframe tbody tr th {\n",
              "        vertical-align: top;\n",
              "    }\n",
              "\n",
              "    .dataframe thead th {\n",
              "        text-align: right;\n",
              "    }\n",
              "</style>\n",
              "<table border=\"1\" class=\"dataframe\">\n",
              "  <thead>\n",
              "    <tr style=\"text-align: right;\">\n",
              "      <th></th>\n",
              "      <th>start</th>\n",
              "      <th>end</th>\n",
              "      <th>duration</th>\n",
              "      <th>start_id</th>\n",
              "      <th>start_name</th>\n",
              "      <th>start_description</th>\n",
              "      <th>start_latitude</th>\n",
              "      <th>start_longitude</th>\n",
              "      <th>end_id</th>\n",
              "      <th>end_name</th>\n",
              "      <th>end_description</th>\n",
              "      <th>end_latitude</th>\n",
              "      <th>end_longitude</th>\n",
              "    </tr>\n",
              "  </thead>\n",
              "  <tbody>\n",
              "    <tr>\n",
              "      <th>0</th>\n",
              "      <td>2018-09-15 08:52:05</td>\n",
              "      <td>2018-09-15 09:11:48</td>\n",
              "      <td>1182</td>\n",
              "      <td>247</td>\n",
              "      <td>Charlotte Square</td>\n",
              "      <td>North Corner of Charlotte Square</td>\n",
              "      <td>55.952335</td>\n",
              "      <td>-3.207101</td>\n",
              "      <td>259</td>\n",
              "      <td>St Andrew Square</td>\n",
              "      <td>North East corner</td>\n",
              "      <td>55.954728</td>\n",
              "      <td>-3.192653</td>\n",
              "    </tr>\n",
              "    <tr>\n",
              "      <th>1</th>\n",
              "      <td>2018-09-15 09:24:33</td>\n",
              "      <td>2018-09-15 09:41:09</td>\n",
              "      <td>995</td>\n",
              "      <td>259</td>\n",
              "      <td>St Andrew Square</td>\n",
              "      <td>North East corner</td>\n",
              "      <td>55.954749</td>\n",
              "      <td>-3.192774</td>\n",
              "      <td>262</td>\n",
              "      <td>Canonmills</td>\n",
              "      <td>near Tesco's</td>\n",
              "      <td>55.962804</td>\n",
              "      <td>-3.196284</td>\n",
              "    </tr>\n",
              "    <tr>\n",
              "      <th>2</th>\n",
              "      <td>2018-09-15 09:48:54</td>\n",
              "      <td>2018-09-15 10:46:40</td>\n",
              "      <td>3466</td>\n",
              "      <td>262</td>\n",
              "      <td>Canonmills</td>\n",
              "      <td>near Tesco's</td>\n",
              "      <td>55.962804</td>\n",
              "      <td>-3.196284</td>\n",
              "      <td>250</td>\n",
              "      <td>Victoria Quay</td>\n",
              "      <td>Entrance to Scottish Government Office</td>\n",
              "      <td>55.977638</td>\n",
              "      <td>-3.174116</td>\n",
              "    </tr>\n",
              "    <tr>\n",
              "      <th>3</th>\n",
              "      <td>2018-09-16 12:01:36</td>\n",
              "      <td>2018-09-16 12:25:26</td>\n",
              "      <td>1430</td>\n",
              "      <td>255</td>\n",
              "      <td>Kings Buildings 4</td>\n",
              "      <td>X-Y Cafe</td>\n",
              "      <td>55.922001</td>\n",
              "      <td>-3.176902</td>\n",
              "      <td>254</td>\n",
              "      <td>Kings Building 3</td>\n",
              "      <td>Kings Building House</td>\n",
              "      <td>55.923479</td>\n",
              "      <td>-3.175385</td>\n",
              "    </tr>\n",
              "    <tr>\n",
              "      <th>4</th>\n",
              "      <td>2018-09-16 12:03:43</td>\n",
              "      <td>2018-09-16 12:11:16</td>\n",
              "      <td>452</td>\n",
              "      <td>255</td>\n",
              "      <td>Kings Buildings 4</td>\n",
              "      <td>X-Y Cafe</td>\n",
              "      <td>55.922001</td>\n",
              "      <td>-3.176902</td>\n",
              "      <td>253</td>\n",
              "      <td>Kings Building 2</td>\n",
              "      <td>Sanderson Building</td>\n",
              "      <td>55.923202</td>\n",
              "      <td>-3.171646</td>\n",
              "    </tr>\n",
              "    <tr>\n",
              "      <th>...</th>\n",
              "      <td>...</td>\n",
              "      <td>...</td>\n",
              "      <td>...</td>\n",
              "      <td>...</td>\n",
              "      <td>...</td>\n",
              "      <td>...</td>\n",
              "      <td>...</td>\n",
              "      <td>...</td>\n",
              "      <td>...</td>\n",
              "      <td>...</td>\n",
              "      <td>...</td>\n",
              "      <td>...</td>\n",
              "      <td>...</td>\n",
              "    </tr>\n",
              "    <tr>\n",
              "      <th>438254</th>\n",
              "      <td>2021-06-30 23:30:31</td>\n",
              "      <td>2021-07-01 00:06:10</td>\n",
              "      <td>2139</td>\n",
              "      <td>1090</td>\n",
              "      <td>Hillside Crescent</td>\n",
              "      <td>East end of Hillside Crescent</td>\n",
              "      <td>55.957872</td>\n",
              "      <td>-3.175888</td>\n",
              "      <td>1728</td>\n",
              "      <td>Portobello - Kings Road</td>\n",
              "      <td>Foot of Kings Road next to the promenade</td>\n",
              "      <td>55.957915</td>\n",
              "      <td>-3.118332</td>\n",
              "    </tr>\n",
              "    <tr>\n",
              "      <th>438255</th>\n",
              "      <td>2021-06-30 23:36:16</td>\n",
              "      <td>2021-07-01 00:05:40</td>\n",
              "      <td>1763</td>\n",
              "      <td>1814</td>\n",
              "      <td>Abbeyhill</td>\n",
              "      <td>Near Abbey Mount</td>\n",
              "      <td>55.955248</td>\n",
              "      <td>-3.172216</td>\n",
              "      <td>1728</td>\n",
              "      <td>Portobello - Kings Road</td>\n",
              "      <td>Foot of Kings Road next to the promenade</td>\n",
              "      <td>55.957915</td>\n",
              "      <td>-3.118332</td>\n",
              "    </tr>\n",
              "    <tr>\n",
              "      <th>438256</th>\n",
              "      <td>2021-06-30 23:49:03</td>\n",
              "      <td>2021-07-01 00:11:25</td>\n",
              "      <td>1342</td>\n",
              "      <td>256</td>\n",
              "      <td>St Andrews House</td>\n",
              "      <td>beside Jacobs ladder</td>\n",
              "      <td>55.953164</td>\n",
              "      <td>-3.181682</td>\n",
              "      <td>1091</td>\n",
              "      <td>Holyrood Road</td>\n",
              "      <td>Opposite St Leonards Land</td>\n",
              "      <td>55.949560</td>\n",
              "      <td>-3.180413</td>\n",
              "    </tr>\n",
              "    <tr>\n",
              "      <th>438257</th>\n",
              "      <td>2021-06-30 23:49:03</td>\n",
              "      <td>2021-07-01 00:11:52</td>\n",
              "      <td>1369</td>\n",
              "      <td>256</td>\n",
              "      <td>St Andrews House</td>\n",
              "      <td>beside Jacobs ladder</td>\n",
              "      <td>55.953164</td>\n",
              "      <td>-3.181682</td>\n",
              "      <td>1091</td>\n",
              "      <td>Holyrood Road</td>\n",
              "      <td>Opposite St Leonards Land</td>\n",
              "      <td>55.949560</td>\n",
              "      <td>-3.180413</td>\n",
              "    </tr>\n",
              "    <tr>\n",
              "      <th>438258</th>\n",
              "      <td>2021-06-30 23:58:33</td>\n",
              "      <td>2021-07-01 00:07:15</td>\n",
              "      <td>522</td>\n",
              "      <td>247</td>\n",
              "      <td>Charlotte Square</td>\n",
              "      <td>North Corner of Charlotte Square</td>\n",
              "      <td>55.952335</td>\n",
              "      <td>-3.207101</td>\n",
              "      <td>1769</td>\n",
              "      <td>Brunswick Place</td>\n",
              "      <td>Corner of Elm Row/Brunswick Street</td>\n",
              "      <td>55.960852</td>\n",
              "      <td>-3.180986</td>\n",
              "    </tr>\n",
              "  </tbody>\n",
              "</table>\n",
              "<p>438259 rows × 13 columns</p>\n",
              "</div>\n",
              "      <button class=\"colab-df-convert\" onclick=\"convertToInteractive('df-b5cb0904-830b-44f2-9c72-472f553f71e2')\"\n",
              "              title=\"Convert this dataframe to an interactive table.\"\n",
              "              style=\"display:none;\">\n",
              "        \n",
              "  <svg xmlns=\"http://www.w3.org/2000/svg\" height=\"24px\"viewBox=\"0 0 24 24\"\n",
              "       width=\"24px\">\n",
              "    <path d=\"M0 0h24v24H0V0z\" fill=\"none\"/>\n",
              "    <path d=\"M18.56 5.44l.94 2.06.94-2.06 2.06-.94-2.06-.94-.94-2.06-.94 2.06-2.06.94zm-11 1L8.5 8.5l.94-2.06 2.06-.94-2.06-.94L8.5 2.5l-.94 2.06-2.06.94zm10 10l.94 2.06.94-2.06 2.06-.94-2.06-.94-.94-2.06-.94 2.06-2.06.94z\"/><path d=\"M17.41 7.96l-1.37-1.37c-.4-.4-.92-.59-1.43-.59-.52 0-1.04.2-1.43.59L10.3 9.45l-7.72 7.72c-.78.78-.78 2.05 0 2.83L4 21.41c.39.39.9.59 1.41.59.51 0 1.02-.2 1.41-.59l7.78-7.78 2.81-2.81c.8-.78.8-2.07 0-2.86zM5.41 20L4 18.59l7.72-7.72 1.47 1.35L5.41 20z\"/>\n",
              "  </svg>\n",
              "      </button>\n",
              "      \n",
              "  <style>\n",
              "    .colab-df-container {\n",
              "      display:flex;\n",
              "      flex-wrap:wrap;\n",
              "      gap: 12px;\n",
              "    }\n",
              "\n",
              "    .colab-df-convert {\n",
              "      background-color: #E8F0FE;\n",
              "      border: none;\n",
              "      border-radius: 50%;\n",
              "      cursor: pointer;\n",
              "      display: none;\n",
              "      fill: #1967D2;\n",
              "      height: 32px;\n",
              "      padding: 0 0 0 0;\n",
              "      width: 32px;\n",
              "    }\n",
              "\n",
              "    .colab-df-convert:hover {\n",
              "      background-color: #E2EBFA;\n",
              "      box-shadow: 0px 1px 2px rgba(60, 64, 67, 0.3), 0px 1px 3px 1px rgba(60, 64, 67, 0.15);\n",
              "      fill: #174EA6;\n",
              "    }\n",
              "\n",
              "    [theme=dark] .colab-df-convert {\n",
              "      background-color: #3B4455;\n",
              "      fill: #D2E3FC;\n",
              "    }\n",
              "\n",
              "    [theme=dark] .colab-df-convert:hover {\n",
              "      background-color: #434B5C;\n",
              "      box-shadow: 0px 1px 3px 1px rgba(0, 0, 0, 0.15);\n",
              "      filter: drop-shadow(0px 1px 2px rgba(0, 0, 0, 0.3));\n",
              "      fill: #FFFFFF;\n",
              "    }\n",
              "  </style>\n",
              "\n",
              "      <script>\n",
              "        const buttonEl =\n",
              "          document.querySelector('#df-b5cb0904-830b-44f2-9c72-472f553f71e2 button.colab-df-convert');\n",
              "        buttonEl.style.display =\n",
              "          google.colab.kernel.accessAllowed ? 'block' : 'none';\n",
              "\n",
              "        async function convertToInteractive(key) {\n",
              "          const element = document.querySelector('#df-b5cb0904-830b-44f2-9c72-472f553f71e2');\n",
              "          const dataTable =\n",
              "            await google.colab.kernel.invokeFunction('convertToInteractive',\n",
              "                                                     [key], {});\n",
              "          if (!dataTable) return;\n",
              "\n",
              "          const docLinkHtml = 'Like what you see? Visit the ' +\n",
              "            '<a target=\"_blank\" href=https://colab.research.google.com/notebooks/data_table.ipynb>data table notebook</a>'\n",
              "            + ' to learn more about interactive tables.';\n",
              "          element.innerHTML = '';\n",
              "          dataTable['output_type'] = 'display_data';\n",
              "          await google.colab.output.renderOutput(dataTable, element);\n",
              "          const docLink = document.createElement('div');\n",
              "          docLink.innerHTML = docLinkHtml;\n",
              "          element.appendChild(docLink);\n",
              "        }\n",
              "      </script>\n",
              "    </div>\n",
              "  </div>\n",
              "  "
            ]
          },
          "metadata": {},
          "execution_count": 72
        }
      ]
    },
    {
      "cell_type": "code",
      "source": [
        "# odstranění nepotřebných sloupců\n",
        "dfs_start = dfs.drop(columns=[\"start\",\"end\",\"duration\",\"end_id\",\"end_name\",\n",
        "                              \"end_description\",\"end_latitude\",\"end_longitude\"])"
      ],
      "metadata": {
        "id": "eK5ljoHuYl6-"
      },
      "execution_count": 73,
      "outputs": []
    },
    {
      "cell_type": "code",
      "source": [
        "# vytvoření unikátních záznamů\n",
        "dfs_start = dfs_start.drop_duplicates('start_id').reset_index(drop=True)"
      ],
      "metadata": {
        "id": "OeIAzfsHZGJd"
      },
      "execution_count": 74,
      "outputs": []
    },
    {
      "cell_type": "code",
      "source": [
        "# přejmenování sloupců\n",
        "dfs_start = dfs_start.rename(\n",
        "            columns={\"start_name\": \"name\",\n",
        "                     \"start_id\": \"id\",\n",
        "                 \"start_description\": \"description\",\n",
        "                 \"start_latitude\": \"lat\",\n",
        "                 \"start_longitude\": \"lon\"})"
      ],
      "metadata": {
        "id": "8bL8KE4UZQXa"
      },
      "execution_count": 75,
      "outputs": []
    },
    {
      "cell_type": "code",
      "source": [
        "# odstranění nepotřebných sloupců\n",
        "dfs_end = dfs.drop(columns=[\"start\",\"end\",\"duration\",\"start_id\",\"start_name\",\"start_description\",\"start_latitude\",\"start_longitude\"])"
      ],
      "metadata": {
        "id": "FhZ2w_KgYzGX"
      },
      "execution_count": 76,
      "outputs": []
    },
    {
      "cell_type": "code",
      "source": [
        "# vytvoření unikátních záznamů\n",
        "dfs_end = dfs_end.drop_duplicates('end_id').reset_index(drop=True)"
      ],
      "metadata": {
        "id": "sFEN6mYZY-Gw"
      },
      "execution_count": 77,
      "outputs": []
    },
    {
      "cell_type": "code",
      "source": [
        "# přejmenování sloupců\n",
        "dfs_end = dfs_end.rename(\n",
        "            columns={\"end_name\": \"name\",\n",
        "                     \"end_id\": \"id\",\n",
        "                 \"end_description\": \"description\",\n",
        "                 \"end_latitude\": \"lat\",\n",
        "                 \"end_longitude\": \"lon\"})"
      ],
      "metadata": {
        "id": "6hVXvTk5YeS1"
      },
      "execution_count": 78,
      "outputs": []
    },
    {
      "cell_type": "code",
      "source": [
        "# sloučení dataframů\n",
        "dfs_new = dfs_start.append(dfs_end, ignore_index = True)"
      ],
      "metadata": {
        "id": "zkMWim5cZXS2"
      },
      "execution_count": 79,
      "outputs": []
    },
    {
      "cell_type": "code",
      "source": [
        "# vytvoření unikátních záznamů\n",
        "dfs_new = dfs_new.drop_duplicates('id').reset_index(drop=True)"
      ],
      "metadata": {
        "id": "a_SRspGicJRp"
      },
      "execution_count": 80,
      "outputs": []
    },
    {
      "cell_type": "code",
      "source": [
        "# počet stanic\n",
        "dfs_new[\"id\"].count()"
      ],
      "metadata": {
        "colab": {
          "base_uri": "https://localhost:8080/"
        },
        "id": "vRWUIGhMcTby",
        "outputId": "0085ec26-c3d6-4920-9e16-2d785ea6f674"
      },
      "execution_count": 81,
      "outputs": [
        {
          "output_type": "execute_result",
          "data": {
            "text/plain": [
              "200"
            ]
          },
          "metadata": {},
          "execution_count": 81
        }
      ]
    },
    {
      "cell_type": "markdown",
      "source": [
        "Nový dataframe, který obsahuje všechny bikes stanice obsahuje **200 stanic**."
      ],
      "metadata": {
        "id": "FBkz_h2ucyMt"
      }
    },
    {
      "cell_type": "code",
      "source": [
        "# vytvoření nového sloupce s počtem vypůjčených kol ve stanici\n",
        "start_frequency = dfs[\"start_id\"].value_counts().rename_axis(\"id\").reset_index(name = \"start_frequency\")"
      ],
      "metadata": {
        "id": "ai2kug1QNyGy"
      },
      "execution_count": 82,
      "outputs": []
    },
    {
      "cell_type": "code",
      "source": [
        "# vytvoření nového sloupce s počtem vrácených kol ve stanici\n",
        "end_frequency = dfs[\"end_id\"].value_counts().rename_axis(\"id\").reset_index(name = \"end_frequency\")"
      ],
      "metadata": {
        "id": "p_UMcH5IN00O"
      },
      "execution_count": 83,
      "outputs": []
    },
    {
      "cell_type": "code",
      "source": [
        "# sjednocení dataframů\n",
        "dfs_final = dfs_new.merge(start_frequency, how=\"outer\", on = \"id\")\n",
        "dfs_final = dfs_final.merge(end_frequency, how= \"outer\", on= \"id\")"
      ],
      "metadata": {
        "id": "sxzAdR2uPsK8"
      },
      "execution_count": 84,
      "outputs": []
    },
    {
      "cell_type": "code",
      "source": [
        "dfs_final.head()"
      ],
      "metadata": {
        "colab": {
          "base_uri": "https://localhost:8080/",
          "height": 206
        },
        "id": "pIRc3EQWgENE",
        "outputId": "963c28f2-064b-4b1c-bfda-483a804ba789"
      },
      "execution_count": 86,
      "outputs": [
        {
          "output_type": "execute_result",
          "data": {
            "text/plain": [
              "    id               name                       description        lat  \\\n",
              "0  247   Charlotte Square  North Corner of Charlotte Square  55.952335   \n",
              "1  259   St Andrew Square                 North East corner  55.954749   \n",
              "2  262         Canonmills                      near Tesco's  55.962804   \n",
              "3  255  Kings Buildings 4                          X-Y Cafe  55.922001   \n",
              "4  253   Kings Building 2                Sanderson Building  55.923202   \n",
              "\n",
              "        lon  start_frequency  end_frequency  \n",
              "0 -3.207101           8134.0         4980.0  \n",
              "1 -3.192774          12218.0         8372.0  \n",
              "2 -3.196284           9551.0        11940.0  \n",
              "3 -3.176902            254.0          196.0  \n",
              "4 -3.171646           4096.0         4557.0  "
            ],
            "text/html": [
              "\n",
              "  <div id=\"df-3bb9e5e3-14b4-4d57-8cb1-aa363d026689\">\n",
              "    <div class=\"colab-df-container\">\n",
              "      <div>\n",
              "<style scoped>\n",
              "    .dataframe tbody tr th:only-of-type {\n",
              "        vertical-align: middle;\n",
              "    }\n",
              "\n",
              "    .dataframe tbody tr th {\n",
              "        vertical-align: top;\n",
              "    }\n",
              "\n",
              "    .dataframe thead th {\n",
              "        text-align: right;\n",
              "    }\n",
              "</style>\n",
              "<table border=\"1\" class=\"dataframe\">\n",
              "  <thead>\n",
              "    <tr style=\"text-align: right;\">\n",
              "      <th></th>\n",
              "      <th>id</th>\n",
              "      <th>name</th>\n",
              "      <th>description</th>\n",
              "      <th>lat</th>\n",
              "      <th>lon</th>\n",
              "      <th>start_frequency</th>\n",
              "      <th>end_frequency</th>\n",
              "    </tr>\n",
              "  </thead>\n",
              "  <tbody>\n",
              "    <tr>\n",
              "      <th>0</th>\n",
              "      <td>247</td>\n",
              "      <td>Charlotte Square</td>\n",
              "      <td>North Corner of Charlotte Square</td>\n",
              "      <td>55.952335</td>\n",
              "      <td>-3.207101</td>\n",
              "      <td>8134.0</td>\n",
              "      <td>4980.0</td>\n",
              "    </tr>\n",
              "    <tr>\n",
              "      <th>1</th>\n",
              "      <td>259</td>\n",
              "      <td>St Andrew Square</td>\n",
              "      <td>North East corner</td>\n",
              "      <td>55.954749</td>\n",
              "      <td>-3.192774</td>\n",
              "      <td>12218.0</td>\n",
              "      <td>8372.0</td>\n",
              "    </tr>\n",
              "    <tr>\n",
              "      <th>2</th>\n",
              "      <td>262</td>\n",
              "      <td>Canonmills</td>\n",
              "      <td>near Tesco's</td>\n",
              "      <td>55.962804</td>\n",
              "      <td>-3.196284</td>\n",
              "      <td>9551.0</td>\n",
              "      <td>11940.0</td>\n",
              "    </tr>\n",
              "    <tr>\n",
              "      <th>3</th>\n",
              "      <td>255</td>\n",
              "      <td>Kings Buildings 4</td>\n",
              "      <td>X-Y Cafe</td>\n",
              "      <td>55.922001</td>\n",
              "      <td>-3.176902</td>\n",
              "      <td>254.0</td>\n",
              "      <td>196.0</td>\n",
              "    </tr>\n",
              "    <tr>\n",
              "      <th>4</th>\n",
              "      <td>253</td>\n",
              "      <td>Kings Building 2</td>\n",
              "      <td>Sanderson Building</td>\n",
              "      <td>55.923202</td>\n",
              "      <td>-3.171646</td>\n",
              "      <td>4096.0</td>\n",
              "      <td>4557.0</td>\n",
              "    </tr>\n",
              "  </tbody>\n",
              "</table>\n",
              "</div>\n",
              "      <button class=\"colab-df-convert\" onclick=\"convertToInteractive('df-3bb9e5e3-14b4-4d57-8cb1-aa363d026689')\"\n",
              "              title=\"Convert this dataframe to an interactive table.\"\n",
              "              style=\"display:none;\">\n",
              "        \n",
              "  <svg xmlns=\"http://www.w3.org/2000/svg\" height=\"24px\"viewBox=\"0 0 24 24\"\n",
              "       width=\"24px\">\n",
              "    <path d=\"M0 0h24v24H0V0z\" fill=\"none\"/>\n",
              "    <path d=\"M18.56 5.44l.94 2.06.94-2.06 2.06-.94-2.06-.94-.94-2.06-.94 2.06-2.06.94zm-11 1L8.5 8.5l.94-2.06 2.06-.94-2.06-.94L8.5 2.5l-.94 2.06-2.06.94zm10 10l.94 2.06.94-2.06 2.06-.94-2.06-.94-.94-2.06-.94 2.06-2.06.94z\"/><path d=\"M17.41 7.96l-1.37-1.37c-.4-.4-.92-.59-1.43-.59-.52 0-1.04.2-1.43.59L10.3 9.45l-7.72 7.72c-.78.78-.78 2.05 0 2.83L4 21.41c.39.39.9.59 1.41.59.51 0 1.02-.2 1.41-.59l7.78-7.78 2.81-2.81c.8-.78.8-2.07 0-2.86zM5.41 20L4 18.59l7.72-7.72 1.47 1.35L5.41 20z\"/>\n",
              "  </svg>\n",
              "      </button>\n",
              "      \n",
              "  <style>\n",
              "    .colab-df-container {\n",
              "      display:flex;\n",
              "      flex-wrap:wrap;\n",
              "      gap: 12px;\n",
              "    }\n",
              "\n",
              "    .colab-df-convert {\n",
              "      background-color: #E8F0FE;\n",
              "      border: none;\n",
              "      border-radius: 50%;\n",
              "      cursor: pointer;\n",
              "      display: none;\n",
              "      fill: #1967D2;\n",
              "      height: 32px;\n",
              "      padding: 0 0 0 0;\n",
              "      width: 32px;\n",
              "    }\n",
              "\n",
              "    .colab-df-convert:hover {\n",
              "      background-color: #E2EBFA;\n",
              "      box-shadow: 0px 1px 2px rgba(60, 64, 67, 0.3), 0px 1px 3px 1px rgba(60, 64, 67, 0.15);\n",
              "      fill: #174EA6;\n",
              "    }\n",
              "\n",
              "    [theme=dark] .colab-df-convert {\n",
              "      background-color: #3B4455;\n",
              "      fill: #D2E3FC;\n",
              "    }\n",
              "\n",
              "    [theme=dark] .colab-df-convert:hover {\n",
              "      background-color: #434B5C;\n",
              "      box-shadow: 0px 1px 3px 1px rgba(0, 0, 0, 0.15);\n",
              "      filter: drop-shadow(0px 1px 2px rgba(0, 0, 0, 0.3));\n",
              "      fill: #FFFFFF;\n",
              "    }\n",
              "  </style>\n",
              "\n",
              "      <script>\n",
              "        const buttonEl =\n",
              "          document.querySelector('#df-3bb9e5e3-14b4-4d57-8cb1-aa363d026689 button.colab-df-convert');\n",
              "        buttonEl.style.display =\n",
              "          google.colab.kernel.accessAllowed ? 'block' : 'none';\n",
              "\n",
              "        async function convertToInteractive(key) {\n",
              "          const element = document.querySelector('#df-3bb9e5e3-14b4-4d57-8cb1-aa363d026689');\n",
              "          const dataTable =\n",
              "            await google.colab.kernel.invokeFunction('convertToInteractive',\n",
              "                                                     [key], {});\n",
              "          if (!dataTable) return;\n",
              "\n",
              "          const docLinkHtml = 'Like what you see? Visit the ' +\n",
              "            '<a target=\"_blank\" href=https://colab.research.google.com/notebooks/data_table.ipynb>data table notebook</a>'\n",
              "            + ' to learn more about interactive tables.';\n",
              "          element.innerHTML = '';\n",
              "          dataTable['output_type'] = 'display_data';\n",
              "          await google.colab.output.renderOutput(dataTable, element);\n",
              "          const docLink = document.createElement('div');\n",
              "          docLink.innerHTML = docLinkHtml;\n",
              "          element.appendChild(docLink);\n",
              "        }\n",
              "      </script>\n",
              "    </div>\n",
              "  </div>\n",
              "  "
            ]
          },
          "metadata": {},
          "execution_count": 86
        }
      ]
    },
    {
      "cell_type": "code",
      "source": [
        "# zjištění stanic, ve kterých nebylo nikdy zapůjčeno kolo\n",
        "dfs_final[dfs_final[\"start_frequency\"].isna()]"
      ],
      "metadata": {
        "colab": {
          "base_uri": "https://localhost:8080/",
          "height": 112
        },
        "id": "Rx9xpXAcWXzu",
        "outputId": "e96da705-58dd-4099-b566-80f2992bf52e"
      },
      "execution_count": 87,
      "outputs": [
        {
          "output_type": "execute_result",
          "data": {
            "text/plain": [
              "      id                    name    description        lat       lon  \\\n",
              "198  242           Virtual Depot  Virtual Depot  55.972402 -3.155794   \n",
              "199  280  Smarter Travel Station     The Street  53.395525 -2.990138   \n",
              "\n",
              "     start_frequency  end_frequency  \n",
              "198              NaN            2.0  \n",
              "199              NaN            3.0  "
            ],
            "text/html": [
              "\n",
              "  <div id=\"df-5d7c7a7f-16a4-4ddd-ac89-53c0033baa4c\">\n",
              "    <div class=\"colab-df-container\">\n",
              "      <div>\n",
              "<style scoped>\n",
              "    .dataframe tbody tr th:only-of-type {\n",
              "        vertical-align: middle;\n",
              "    }\n",
              "\n",
              "    .dataframe tbody tr th {\n",
              "        vertical-align: top;\n",
              "    }\n",
              "\n",
              "    .dataframe thead th {\n",
              "        text-align: right;\n",
              "    }\n",
              "</style>\n",
              "<table border=\"1\" class=\"dataframe\">\n",
              "  <thead>\n",
              "    <tr style=\"text-align: right;\">\n",
              "      <th></th>\n",
              "      <th>id</th>\n",
              "      <th>name</th>\n",
              "      <th>description</th>\n",
              "      <th>lat</th>\n",
              "      <th>lon</th>\n",
              "      <th>start_frequency</th>\n",
              "      <th>end_frequency</th>\n",
              "    </tr>\n",
              "  </thead>\n",
              "  <tbody>\n",
              "    <tr>\n",
              "      <th>198</th>\n",
              "      <td>242</td>\n",
              "      <td>Virtual Depot</td>\n",
              "      <td>Virtual Depot</td>\n",
              "      <td>55.972402</td>\n",
              "      <td>-3.155794</td>\n",
              "      <td>NaN</td>\n",
              "      <td>2.0</td>\n",
              "    </tr>\n",
              "    <tr>\n",
              "      <th>199</th>\n",
              "      <td>280</td>\n",
              "      <td>Smarter Travel Station</td>\n",
              "      <td>The Street</td>\n",
              "      <td>53.395525</td>\n",
              "      <td>-2.990138</td>\n",
              "      <td>NaN</td>\n",
              "      <td>3.0</td>\n",
              "    </tr>\n",
              "  </tbody>\n",
              "</table>\n",
              "</div>\n",
              "      <button class=\"colab-df-convert\" onclick=\"convertToInteractive('df-5d7c7a7f-16a4-4ddd-ac89-53c0033baa4c')\"\n",
              "              title=\"Convert this dataframe to an interactive table.\"\n",
              "              style=\"display:none;\">\n",
              "        \n",
              "  <svg xmlns=\"http://www.w3.org/2000/svg\" height=\"24px\"viewBox=\"0 0 24 24\"\n",
              "       width=\"24px\">\n",
              "    <path d=\"M0 0h24v24H0V0z\" fill=\"none\"/>\n",
              "    <path d=\"M18.56 5.44l.94 2.06.94-2.06 2.06-.94-2.06-.94-.94-2.06-.94 2.06-2.06.94zm-11 1L8.5 8.5l.94-2.06 2.06-.94-2.06-.94L8.5 2.5l-.94 2.06-2.06.94zm10 10l.94 2.06.94-2.06 2.06-.94-2.06-.94-.94-2.06-.94 2.06-2.06.94z\"/><path d=\"M17.41 7.96l-1.37-1.37c-.4-.4-.92-.59-1.43-.59-.52 0-1.04.2-1.43.59L10.3 9.45l-7.72 7.72c-.78.78-.78 2.05 0 2.83L4 21.41c.39.39.9.59 1.41.59.51 0 1.02-.2 1.41-.59l7.78-7.78 2.81-2.81c.8-.78.8-2.07 0-2.86zM5.41 20L4 18.59l7.72-7.72 1.47 1.35L5.41 20z\"/>\n",
              "  </svg>\n",
              "      </button>\n",
              "      \n",
              "  <style>\n",
              "    .colab-df-container {\n",
              "      display:flex;\n",
              "      flex-wrap:wrap;\n",
              "      gap: 12px;\n",
              "    }\n",
              "\n",
              "    .colab-df-convert {\n",
              "      background-color: #E8F0FE;\n",
              "      border: none;\n",
              "      border-radius: 50%;\n",
              "      cursor: pointer;\n",
              "      display: none;\n",
              "      fill: #1967D2;\n",
              "      height: 32px;\n",
              "      padding: 0 0 0 0;\n",
              "      width: 32px;\n",
              "    }\n",
              "\n",
              "    .colab-df-convert:hover {\n",
              "      background-color: #E2EBFA;\n",
              "      box-shadow: 0px 1px 2px rgba(60, 64, 67, 0.3), 0px 1px 3px 1px rgba(60, 64, 67, 0.15);\n",
              "      fill: #174EA6;\n",
              "    }\n",
              "\n",
              "    [theme=dark] .colab-df-convert {\n",
              "      background-color: #3B4455;\n",
              "      fill: #D2E3FC;\n",
              "    }\n",
              "\n",
              "    [theme=dark] .colab-df-convert:hover {\n",
              "      background-color: #434B5C;\n",
              "      box-shadow: 0px 1px 3px 1px rgba(0, 0, 0, 0.15);\n",
              "      filter: drop-shadow(0px 1px 2px rgba(0, 0, 0, 0.3));\n",
              "      fill: #FFFFFF;\n",
              "    }\n",
              "  </style>\n",
              "\n",
              "      <script>\n",
              "        const buttonEl =\n",
              "          document.querySelector('#df-5d7c7a7f-16a4-4ddd-ac89-53c0033baa4c button.colab-df-convert');\n",
              "        buttonEl.style.display =\n",
              "          google.colab.kernel.accessAllowed ? 'block' : 'none';\n",
              "\n",
              "        async function convertToInteractive(key) {\n",
              "          const element = document.querySelector('#df-5d7c7a7f-16a4-4ddd-ac89-53c0033baa4c');\n",
              "          const dataTable =\n",
              "            await google.colab.kernel.invokeFunction('convertToInteractive',\n",
              "                                                     [key], {});\n",
              "          if (!dataTable) return;\n",
              "\n",
              "          const docLinkHtml = 'Like what you see? Visit the ' +\n",
              "            '<a target=\"_blank\" href=https://colab.research.google.com/notebooks/data_table.ipynb>data table notebook</a>'\n",
              "            + ' to learn more about interactive tables.';\n",
              "          element.innerHTML = '';\n",
              "          dataTable['output_type'] = 'display_data';\n",
              "          await google.colab.output.renderOutput(dataTable, element);\n",
              "          const docLink = document.createElement('div');\n",
              "          docLink.innerHTML = docLinkHtml;\n",
              "          element.appendChild(docLink);\n",
              "        }\n",
              "      </script>\n",
              "    </div>\n",
              "  </div>\n",
              "  "
            ]
          },
          "metadata": {},
          "execution_count": 87
        }
      ]
    },
    {
      "cell_type": "code",
      "source": [
        "# zjištění stanic, ve kterých nebylo nikdy vráceno kolo\n",
        "dfs_final[dfs_final[\"end_frequency\"].isna()]"
      ],
      "metadata": {
        "colab": {
          "base_uri": "https://localhost:8080/",
          "height": 81
        },
        "id": "kEOIOOWpf6Y4",
        "outputId": "dfb2f6c3-7827-4616-fb08-d81c1394bf34"
      },
      "execution_count": 88,
      "outputs": [
        {
          "output_type": "execute_result",
          "data": {
            "text/plain": [
              "       id                          name                         description  \\\n",
              "182  1857  City Chambers Launch Station  Temporary station at City Chambers   \n",
              "\n",
              "           lat      lon  start_frequency  end_frequency  \n",
              "182  55.950222 -3.19027              1.0            NaN  "
            ],
            "text/html": [
              "\n",
              "  <div id=\"df-702cd757-a9f5-41d3-a3cb-8652cae9db82\">\n",
              "    <div class=\"colab-df-container\">\n",
              "      <div>\n",
              "<style scoped>\n",
              "    .dataframe tbody tr th:only-of-type {\n",
              "        vertical-align: middle;\n",
              "    }\n",
              "\n",
              "    .dataframe tbody tr th {\n",
              "        vertical-align: top;\n",
              "    }\n",
              "\n",
              "    .dataframe thead th {\n",
              "        text-align: right;\n",
              "    }\n",
              "</style>\n",
              "<table border=\"1\" class=\"dataframe\">\n",
              "  <thead>\n",
              "    <tr style=\"text-align: right;\">\n",
              "      <th></th>\n",
              "      <th>id</th>\n",
              "      <th>name</th>\n",
              "      <th>description</th>\n",
              "      <th>lat</th>\n",
              "      <th>lon</th>\n",
              "      <th>start_frequency</th>\n",
              "      <th>end_frequency</th>\n",
              "    </tr>\n",
              "  </thead>\n",
              "  <tbody>\n",
              "    <tr>\n",
              "      <th>182</th>\n",
              "      <td>1857</td>\n",
              "      <td>City Chambers Launch Station</td>\n",
              "      <td>Temporary station at City Chambers</td>\n",
              "      <td>55.950222</td>\n",
              "      <td>-3.19027</td>\n",
              "      <td>1.0</td>\n",
              "      <td>NaN</td>\n",
              "    </tr>\n",
              "  </tbody>\n",
              "</table>\n",
              "</div>\n",
              "      <button class=\"colab-df-convert\" onclick=\"convertToInteractive('df-702cd757-a9f5-41d3-a3cb-8652cae9db82')\"\n",
              "              title=\"Convert this dataframe to an interactive table.\"\n",
              "              style=\"display:none;\">\n",
              "        \n",
              "  <svg xmlns=\"http://www.w3.org/2000/svg\" height=\"24px\"viewBox=\"0 0 24 24\"\n",
              "       width=\"24px\">\n",
              "    <path d=\"M0 0h24v24H0V0z\" fill=\"none\"/>\n",
              "    <path d=\"M18.56 5.44l.94 2.06.94-2.06 2.06-.94-2.06-.94-.94-2.06-.94 2.06-2.06.94zm-11 1L8.5 8.5l.94-2.06 2.06-.94-2.06-.94L8.5 2.5l-.94 2.06-2.06.94zm10 10l.94 2.06.94-2.06 2.06-.94-2.06-.94-.94-2.06-.94 2.06-2.06.94z\"/><path d=\"M17.41 7.96l-1.37-1.37c-.4-.4-.92-.59-1.43-.59-.52 0-1.04.2-1.43.59L10.3 9.45l-7.72 7.72c-.78.78-.78 2.05 0 2.83L4 21.41c.39.39.9.59 1.41.59.51 0 1.02-.2 1.41-.59l7.78-7.78 2.81-2.81c.8-.78.8-2.07 0-2.86zM5.41 20L4 18.59l7.72-7.72 1.47 1.35L5.41 20z\"/>\n",
              "  </svg>\n",
              "      </button>\n",
              "      \n",
              "  <style>\n",
              "    .colab-df-container {\n",
              "      display:flex;\n",
              "      flex-wrap:wrap;\n",
              "      gap: 12px;\n",
              "    }\n",
              "\n",
              "    .colab-df-convert {\n",
              "      background-color: #E8F0FE;\n",
              "      border: none;\n",
              "      border-radius: 50%;\n",
              "      cursor: pointer;\n",
              "      display: none;\n",
              "      fill: #1967D2;\n",
              "      height: 32px;\n",
              "      padding: 0 0 0 0;\n",
              "      width: 32px;\n",
              "    }\n",
              "\n",
              "    .colab-df-convert:hover {\n",
              "      background-color: #E2EBFA;\n",
              "      box-shadow: 0px 1px 2px rgba(60, 64, 67, 0.3), 0px 1px 3px 1px rgba(60, 64, 67, 0.15);\n",
              "      fill: #174EA6;\n",
              "    }\n",
              "\n",
              "    [theme=dark] .colab-df-convert {\n",
              "      background-color: #3B4455;\n",
              "      fill: #D2E3FC;\n",
              "    }\n",
              "\n",
              "    [theme=dark] .colab-df-convert:hover {\n",
              "      background-color: #434B5C;\n",
              "      box-shadow: 0px 1px 3px 1px rgba(0, 0, 0, 0.15);\n",
              "      filter: drop-shadow(0px 1px 2px rgba(0, 0, 0, 0.3));\n",
              "      fill: #FFFFFF;\n",
              "    }\n",
              "  </style>\n",
              "\n",
              "      <script>\n",
              "        const buttonEl =\n",
              "          document.querySelector('#df-702cd757-a9f5-41d3-a3cb-8652cae9db82 button.colab-df-convert');\n",
              "        buttonEl.style.display =\n",
              "          google.colab.kernel.accessAllowed ? 'block' : 'none';\n",
              "\n",
              "        async function convertToInteractive(key) {\n",
              "          const element = document.querySelector('#df-702cd757-a9f5-41d3-a3cb-8652cae9db82');\n",
              "          const dataTable =\n",
              "            await google.colab.kernel.invokeFunction('convertToInteractive',\n",
              "                                                     [key], {});\n",
              "          if (!dataTable) return;\n",
              "\n",
              "          const docLinkHtml = 'Like what you see? Visit the ' +\n",
              "            '<a target=\"_blank\" href=https://colab.research.google.com/notebooks/data_table.ipynb>data table notebook</a>'\n",
              "            + ' to learn more about interactive tables.';\n",
              "          element.innerHTML = '';\n",
              "          dataTable['output_type'] = 'display_data';\n",
              "          await google.colab.output.renderOutput(dataTable, element);\n",
              "          const docLink = document.createElement('div');\n",
              "          docLink.innerHTML = docLinkHtml;\n",
              "          element.appendChild(docLink);\n",
              "        }\n",
              "      </script>\n",
              "    </div>\n",
              "  </div>\n",
              "  "
            ]
          },
          "metadata": {},
          "execution_count": 88
        }
      ]
    },
    {
      "cell_type": "code",
      "source": [
        "# uložení sjednoceného dataframu jako pickle\n",
        "dfs_final.to_pickle(\"/content/bikes/Database/stations.pkl\")"
      ],
      "metadata": {
        "id": "wq4gst6zgiaU"
      },
      "execution_count": 89,
      "outputs": []
    },
    {
      "cell_type": "markdown",
      "source": [
        "V Edinburghu se nachází **200** stanic pro půjčení kol."
      ],
      "metadata": {
        "id": "l3n15CfnJdna"
      }
    },
    {
      "cell_type": "markdown",
      "source": [
        "#### Sjednocený dataset <a name=\"2.2\"></a>"
      ],
      "metadata": {
        "id": "g4HNR1ojLsgb"
      }
    },
    {
      "cell_type": "markdown",
      "source": [
        "Vytvoření sjednoceného datasetu z upravených datasetů o počasí a výpujčkách kol."
      ],
      "metadata": {
        "id": "RkQNJGBjMRVL"
      }
    },
    {
      "cell_type": "code",
      "source": [
        "# Načtení dat\n",
        "dfb1 = pd.read_pickle(\"/content/bikes/Database/bikes.pkl\")\n",
        "dfw2 = pd.read_pickle(\"/content/bikes/Database/weather.pkl\")"
      ],
      "metadata": {
        "id": "2_ATQ4MleZbx"
      },
      "execution_count": 90,
      "outputs": []
    },
    {
      "cell_type": "code",
      "source": [
        "# sjednocení dat o výpujčkách kol s daty o počasí. \n",
        "# Dataframe bikes omezím pouze na dostupné údaje o počasí.\n",
        "last = str(dfw2.datetime.max())\n",
        "merged_df = pd.merge_asof(dfb1[dfb1[\"start\"] <= last], dfw2,\n",
        "                                 left_on=\"start\", right_on=\"datetime\", \n",
        "                                 direction='nearest',\n",
        "                                 allow_exact_matches=False).drop(\n",
        "                                     columns=\"datetime\")"
      ],
      "metadata": {
        "id": "RARLeg-otB1X"
      },
      "execution_count": 91,
      "outputs": []
    },
    {
      "cell_type": "code",
      "source": [
        "merged_df.head()"
      ],
      "metadata": {
        "colab": {
          "base_uri": "https://localhost:8080/",
          "height": 461
        },
        "id": "VICk59FWtZHb",
        "outputId": "412899cf-3896-4aea-d3cc-f95fb656510e"
      },
      "execution_count": 92,
      "outputs": [
        {
          "output_type": "execute_result",
          "data": {
            "text/plain": [
              "                start                 end  duration  start_id  \\\n",
              "0 2018-09-15 08:52:05 2018-09-15 09:11:48      1182       247   \n",
              "1 2018-09-15 09:24:33 2018-09-15 09:41:09       995       259   \n",
              "2 2018-09-15 09:48:54 2018-09-15 10:46:40      3466       262   \n",
              "3 2018-09-16 12:01:36 2018-09-16 12:25:26      1430       255   \n",
              "4 2018-09-16 12:03:43 2018-09-16 12:11:16       452       255   \n",
              "\n",
              "          start_name                 start_description  start_latitude  \\\n",
              "0   Charlotte Square  North Corner of Charlotte Square       55.952335   \n",
              "1   St Andrew Square                 North East corner       55.954749   \n",
              "2         Canonmills                      near Tesco's       55.962804   \n",
              "3  Kings Buildings 4                          X-Y Cafe       55.922001   \n",
              "4  Kings Buildings 4                          X-Y Cafe       55.922001   \n",
              "\n",
              "   start_longitude  end_id          end_name  \\\n",
              "0        -3.207101     259  St Andrew Square   \n",
              "1        -3.192774     262        Canonmills   \n",
              "2        -3.196284     250     Victoria Quay   \n",
              "3        -3.176902     254  Kings Building 3   \n",
              "4        -3.176902     253  Kings Building 2   \n",
              "\n",
              "                          end_description  end_latitude  end_longitude  \\\n",
              "0                       North East corner     55.954728      -3.192653   \n",
              "1                            near Tesco's     55.962804      -3.196284   \n",
              "2  Entrance to Scottish Government Office     55.977638      -3.174116   \n",
              "3                    Kings Building House     55.923479      -3.175385   \n",
              "4                      Sanderson Building     55.923202      -3.171646   \n",
              "\n",
              "   temp_c  wind_kmh  gust_kmh  rain_mm  \n",
              "0      10        16        23      0.0  \n",
              "1      10        16        23      0.0  \n",
              "2      10        16        23      0.0  \n",
              "3      14        32        47      0.0  \n",
              "4      14        32        47      0.0  "
            ],
            "text/html": [
              "\n",
              "  <div id=\"df-31922635-cd84-45fe-84c9-e548f1319a61\">\n",
              "    <div class=\"colab-df-container\">\n",
              "      <div>\n",
              "<style scoped>\n",
              "    .dataframe tbody tr th:only-of-type {\n",
              "        vertical-align: middle;\n",
              "    }\n",
              "\n",
              "    .dataframe tbody tr th {\n",
              "        vertical-align: top;\n",
              "    }\n",
              "\n",
              "    .dataframe thead th {\n",
              "        text-align: right;\n",
              "    }\n",
              "</style>\n",
              "<table border=\"1\" class=\"dataframe\">\n",
              "  <thead>\n",
              "    <tr style=\"text-align: right;\">\n",
              "      <th></th>\n",
              "      <th>start</th>\n",
              "      <th>end</th>\n",
              "      <th>duration</th>\n",
              "      <th>start_id</th>\n",
              "      <th>start_name</th>\n",
              "      <th>start_description</th>\n",
              "      <th>start_latitude</th>\n",
              "      <th>start_longitude</th>\n",
              "      <th>end_id</th>\n",
              "      <th>end_name</th>\n",
              "      <th>end_description</th>\n",
              "      <th>end_latitude</th>\n",
              "      <th>end_longitude</th>\n",
              "      <th>temp_c</th>\n",
              "      <th>wind_kmh</th>\n",
              "      <th>gust_kmh</th>\n",
              "      <th>rain_mm</th>\n",
              "    </tr>\n",
              "  </thead>\n",
              "  <tbody>\n",
              "    <tr>\n",
              "      <th>0</th>\n",
              "      <td>2018-09-15 08:52:05</td>\n",
              "      <td>2018-09-15 09:11:48</td>\n",
              "      <td>1182</td>\n",
              "      <td>247</td>\n",
              "      <td>Charlotte Square</td>\n",
              "      <td>North Corner of Charlotte Square</td>\n",
              "      <td>55.952335</td>\n",
              "      <td>-3.207101</td>\n",
              "      <td>259</td>\n",
              "      <td>St Andrew Square</td>\n",
              "      <td>North East corner</td>\n",
              "      <td>55.954728</td>\n",
              "      <td>-3.192653</td>\n",
              "      <td>10</td>\n",
              "      <td>16</td>\n",
              "      <td>23</td>\n",
              "      <td>0.0</td>\n",
              "    </tr>\n",
              "    <tr>\n",
              "      <th>1</th>\n",
              "      <td>2018-09-15 09:24:33</td>\n",
              "      <td>2018-09-15 09:41:09</td>\n",
              "      <td>995</td>\n",
              "      <td>259</td>\n",
              "      <td>St Andrew Square</td>\n",
              "      <td>North East corner</td>\n",
              "      <td>55.954749</td>\n",
              "      <td>-3.192774</td>\n",
              "      <td>262</td>\n",
              "      <td>Canonmills</td>\n",
              "      <td>near Tesco's</td>\n",
              "      <td>55.962804</td>\n",
              "      <td>-3.196284</td>\n",
              "      <td>10</td>\n",
              "      <td>16</td>\n",
              "      <td>23</td>\n",
              "      <td>0.0</td>\n",
              "    </tr>\n",
              "    <tr>\n",
              "      <th>2</th>\n",
              "      <td>2018-09-15 09:48:54</td>\n",
              "      <td>2018-09-15 10:46:40</td>\n",
              "      <td>3466</td>\n",
              "      <td>262</td>\n",
              "      <td>Canonmills</td>\n",
              "      <td>near Tesco's</td>\n",
              "      <td>55.962804</td>\n",
              "      <td>-3.196284</td>\n",
              "      <td>250</td>\n",
              "      <td>Victoria Quay</td>\n",
              "      <td>Entrance to Scottish Government Office</td>\n",
              "      <td>55.977638</td>\n",
              "      <td>-3.174116</td>\n",
              "      <td>10</td>\n",
              "      <td>16</td>\n",
              "      <td>23</td>\n",
              "      <td>0.0</td>\n",
              "    </tr>\n",
              "    <tr>\n",
              "      <th>3</th>\n",
              "      <td>2018-09-16 12:01:36</td>\n",
              "      <td>2018-09-16 12:25:26</td>\n",
              "      <td>1430</td>\n",
              "      <td>255</td>\n",
              "      <td>Kings Buildings 4</td>\n",
              "      <td>X-Y Cafe</td>\n",
              "      <td>55.922001</td>\n",
              "      <td>-3.176902</td>\n",
              "      <td>254</td>\n",
              "      <td>Kings Building 3</td>\n",
              "      <td>Kings Building House</td>\n",
              "      <td>55.923479</td>\n",
              "      <td>-3.175385</td>\n",
              "      <td>14</td>\n",
              "      <td>32</td>\n",
              "      <td>47</td>\n",
              "      <td>0.0</td>\n",
              "    </tr>\n",
              "    <tr>\n",
              "      <th>4</th>\n",
              "      <td>2018-09-16 12:03:43</td>\n",
              "      <td>2018-09-16 12:11:16</td>\n",
              "      <td>452</td>\n",
              "      <td>255</td>\n",
              "      <td>Kings Buildings 4</td>\n",
              "      <td>X-Y Cafe</td>\n",
              "      <td>55.922001</td>\n",
              "      <td>-3.176902</td>\n",
              "      <td>253</td>\n",
              "      <td>Kings Building 2</td>\n",
              "      <td>Sanderson Building</td>\n",
              "      <td>55.923202</td>\n",
              "      <td>-3.171646</td>\n",
              "      <td>14</td>\n",
              "      <td>32</td>\n",
              "      <td>47</td>\n",
              "      <td>0.0</td>\n",
              "    </tr>\n",
              "  </tbody>\n",
              "</table>\n",
              "</div>\n",
              "      <button class=\"colab-df-convert\" onclick=\"convertToInteractive('df-31922635-cd84-45fe-84c9-e548f1319a61')\"\n",
              "              title=\"Convert this dataframe to an interactive table.\"\n",
              "              style=\"display:none;\">\n",
              "        \n",
              "  <svg xmlns=\"http://www.w3.org/2000/svg\" height=\"24px\"viewBox=\"0 0 24 24\"\n",
              "       width=\"24px\">\n",
              "    <path d=\"M0 0h24v24H0V0z\" fill=\"none\"/>\n",
              "    <path d=\"M18.56 5.44l.94 2.06.94-2.06 2.06-.94-2.06-.94-.94-2.06-.94 2.06-2.06.94zm-11 1L8.5 8.5l.94-2.06 2.06-.94-2.06-.94L8.5 2.5l-.94 2.06-2.06.94zm10 10l.94 2.06.94-2.06 2.06-.94-2.06-.94-.94-2.06-.94 2.06-2.06.94z\"/><path d=\"M17.41 7.96l-1.37-1.37c-.4-.4-.92-.59-1.43-.59-.52 0-1.04.2-1.43.59L10.3 9.45l-7.72 7.72c-.78.78-.78 2.05 0 2.83L4 21.41c.39.39.9.59 1.41.59.51 0 1.02-.2 1.41-.59l7.78-7.78 2.81-2.81c.8-.78.8-2.07 0-2.86zM5.41 20L4 18.59l7.72-7.72 1.47 1.35L5.41 20z\"/>\n",
              "  </svg>\n",
              "      </button>\n",
              "      \n",
              "  <style>\n",
              "    .colab-df-container {\n",
              "      display:flex;\n",
              "      flex-wrap:wrap;\n",
              "      gap: 12px;\n",
              "    }\n",
              "\n",
              "    .colab-df-convert {\n",
              "      background-color: #E8F0FE;\n",
              "      border: none;\n",
              "      border-radius: 50%;\n",
              "      cursor: pointer;\n",
              "      display: none;\n",
              "      fill: #1967D2;\n",
              "      height: 32px;\n",
              "      padding: 0 0 0 0;\n",
              "      width: 32px;\n",
              "    }\n",
              "\n",
              "    .colab-df-convert:hover {\n",
              "      background-color: #E2EBFA;\n",
              "      box-shadow: 0px 1px 2px rgba(60, 64, 67, 0.3), 0px 1px 3px 1px rgba(60, 64, 67, 0.15);\n",
              "      fill: #174EA6;\n",
              "    }\n",
              "\n",
              "    [theme=dark] .colab-df-convert {\n",
              "      background-color: #3B4455;\n",
              "      fill: #D2E3FC;\n",
              "    }\n",
              "\n",
              "    [theme=dark] .colab-df-convert:hover {\n",
              "      background-color: #434B5C;\n",
              "      box-shadow: 0px 1px 3px 1px rgba(0, 0, 0, 0.15);\n",
              "      filter: drop-shadow(0px 1px 2px rgba(0, 0, 0, 0.3));\n",
              "      fill: #FFFFFF;\n",
              "    }\n",
              "  </style>\n",
              "\n",
              "      <script>\n",
              "        const buttonEl =\n",
              "          document.querySelector('#df-31922635-cd84-45fe-84c9-e548f1319a61 button.colab-df-convert');\n",
              "        buttonEl.style.display =\n",
              "          google.colab.kernel.accessAllowed ? 'block' : 'none';\n",
              "\n",
              "        async function convertToInteractive(key) {\n",
              "          const element = document.querySelector('#df-31922635-cd84-45fe-84c9-e548f1319a61');\n",
              "          const dataTable =\n",
              "            await google.colab.kernel.invokeFunction('convertToInteractive',\n",
              "                                                     [key], {});\n",
              "          if (!dataTable) return;\n",
              "\n",
              "          const docLinkHtml = 'Like what you see? Visit the ' +\n",
              "            '<a target=\"_blank\" href=https://colab.research.google.com/notebooks/data_table.ipynb>data table notebook</a>'\n",
              "            + ' to learn more about interactive tables.';\n",
              "          element.innerHTML = '';\n",
              "          dataTable['output_type'] = 'display_data';\n",
              "          await google.colab.output.renderOutput(dataTable, element);\n",
              "          const docLink = document.createElement('div');\n",
              "          docLink.innerHTML = docLinkHtml;\n",
              "          element.appendChild(docLink);\n",
              "        }\n",
              "      </script>\n",
              "    </div>\n",
              "  </div>\n",
              "  "
            ]
          },
          "metadata": {},
          "execution_count": 92
        }
      ]
    },
    {
      "cell_type": "code",
      "source": [
        "# uložení jako pickle\n",
        "merged_df.to_pickle(\"/content/bikes/Database/merged.pkl\")"
      ],
      "metadata": {
        "id": "AzcFEOEv6M_p"
      },
      "execution_count": 93,
      "outputs": []
    }
  ]
}