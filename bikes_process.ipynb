{
  "nbformat": 4,
  "nbformat_minor": 0,
  "metadata": {
    "colab": {
      "name": "bikes_process.ipynb",
      "provenance": [],
      "collapsed_sections": [],
      "toc_visible": true,
      "mount_file_id": "1qPHH4ucRDhH3cakdRiANFC8oMqPl7m4R",
      "authorship_tag": "ABX9TyNmHB4SWpMRHBZ2BQbvo9oQ"
    },
    "kernelspec": {
      "name": "python3",
      "display_name": "Python 3"
    },
    "language_info": {
      "name": "python"
    }
  },
  "cells": [
    {
      "cell_type": "code",
      "source": [
        "import pandas as pd\n",
        "import numpy as np"
      ],
      "metadata": {
        "id": "yWKzpblpdtNb"
      },
      "execution_count": 2,
      "outputs": []
    },
    {
      "cell_type": "markdown",
      "source": [
        "# BIKES IN EDINBURGH\n",
        "1. [Zadání](#1)\n",
        "2. [Úprava dat](#2)\n",
        "    1. [Jednotlivé datasety](#2.1)\n",
        "        1. [Bikes](#2.1.1)\n",
        "        2. [Weather](#2.1.2)\n",
        "        3. [Stations](#2.1.3)\n",
        "    2. [Sjednocený dataset](#2.2)\n",
        "3. [Analýza](#3)\n",
        "\n"
      ],
      "metadata": {
        "id": "R3_mPWybXAv-"
      }
    },
    {
      "cell_type": "markdown",
      "source": [
        "## Zadání <a name=\"1\"></a>\n",
        "\n"
      ],
      "metadata": {
        "id": "W0kbLpM3Z3Mo"
      }
    },
    {
      "cell_type": "markdown",
      "source": [
        "V Edinburghu, stejně jako v dalších městech, funguje systém \"bike sharing\" - ve městě jsou stanice s koly, člověk si může nějaké půjčit a potom ho vrátit v nějaké další stanici. Problém je, že v některých stanicích se kola pravidelně hromadí a jinde naopak chybí. Provozovatel kol, firma Just Eat Cycles, zadala projekt, jehož cílem je systém zefektivnit.\n",
        "\n",
        "Coby datový analytik jste součástí týmu, který na projektu pracuje. Vaším úkolem je zpracovat relevantní data a zjistit z nich informace užitečné pro zbytek týmu. Máte k dispozici data o všech výpůjčkách (na ENGETO databázi v tabulce edinburgh_bikes). Proveďte standardní deskriptivní statistiku dat. Také zjistěte minimálně následující informace:\n",
        "\n",
        "identifikujte aktivní a neaktivní stanice\n",
        "identifikujte nejfrekventovanější stanice\n",
        "identifikujte stanice, na kterých se kola hromadí a stanice, kde potenciálně chybí\n",
        "spočítejte vzdálenosti mezi jednotlivými stanicemi\n",
        "jak dlouho trvá jedna výpůjčka? Najděte odlehlé hodnoty, zobrazte histogram\n",
        "Analýza poptávky:\n",
        "\n",
        "zobrazte vývoj poptávky po půjčování kol v čase\n",
        "identifikujte příčiny výkyvů poptávky\n",
        "zjistěte vliv počasí na poptávku po kolech (údaje o počasí v Edinburghu jsou v tabulce edinburgh_weather)\n",
        "půjčují si lidé kola více o víkendu než během pracovního týdne?\n",
        "Výstupem analýzy bude ideálně jupyter notebook nebo colab notebook uložený na Vašem githubu. Výstupy Vaší analýzy musí být zřejmé i bez spouštění kódu. V textových buňkách popište, jak jste postupovali a napište své závěry. Pokud v zadání chybí nějaká informace, doplňte ji podle vlastního uvážení, své rozhodnutí uveďte a vysvětlete v notebooku."
      ],
      "metadata": {
        "id": "iQxT93xNaXCt"
      }
    },
    {
      "cell_type": "markdown",
      "source": [
        "## Úprava dat <a name=\"2\"></a>"
      ],
      "metadata": {
        "id": "eDTPR0YXaQ6p"
      }
    },
    {
      "cell_type": "markdown",
      "source": [
        "V první řadě je potřeba zkontrolovat dostupné datasety a provést základní analýzu a úpravu datových formátu pro lepší práci s daty. Databáze jsem si načetl do jednotlivých Pandas dataframů pomocí `data = pd.read_sql(sql=query, con=engine)` a uložil jako formát pickle `data.to_pickle(\"data_basic.pkl\")`, s kterým budu následně pracovat."
      ],
      "metadata": {
        "id": "h0eNidY0bGAd"
      }
    },
    {
      "cell_type": "markdown",
      "source": [
        "### Jednotlivé datasety <a name=\"2.1\"></a>"
      ],
      "metadata": {
        "id": "UDkxiyzLLdgT"
      }
    },
    {
      "cell_type": "markdown",
      "source": [
        "#### Bikes <a name=\"2.1.1\"></a>"
      ],
      "metadata": {
        "id": "VD37j5aJbe46"
      }
    },
    {
      "cell_type": "code",
      "source": [
        "dfb = pd.read_pickle(\"/content/drive/MyDrive/Colab Notebooks/bikes/bikes_first.pkl\")"
      ],
      "metadata": {
        "id": "_56gJNRWdsKT"
      },
      "execution_count": 3,
      "outputs": []
    },
    {
      "cell_type": "code",
      "source": [
        "dfb.head()"
      ],
      "metadata": {
        "colab": {
          "base_uri": "https://localhost:8080/",
          "height": 444
        },
        "id": "b1T5D0eIfLcL",
        "outputId": "af0d2bc8-9951-4468-b2f6-ef66d959a4b2"
      },
      "execution_count": 4,
      "outputs": [
        {
          "output_type": "execute_result",
          "data": {
            "text/plain": [
              "   index           started_at             ended_at  duration  \\\n",
              "0      0  2018-09-15 08:52:05  2018-09-15 09:11:48      1182   \n",
              "1      1  2018-09-15 09:24:33  2018-09-15 09:41:09       995   \n",
              "2      2  2018-09-15 09:48:54  2018-09-15 10:46:40      3466   \n",
              "3      3  2018-09-16 12:01:36  2018-09-16 12:25:26      1430   \n",
              "4      4  2018-09-16 12:03:43  2018-09-16 12:11:16       452   \n",
              "\n",
              "   start_station_id start_station_name         start_station_description  \\\n",
              "0               247   Charlotte Square  North Corner of Charlotte Square   \n",
              "1               259   St Andrew Square                 North East corner   \n",
              "2               262         Canonmills                      near Tesco's   \n",
              "3               255  Kings Buildings 4                          X-Y Cafe   \n",
              "4               255  Kings Buildings 4                          X-Y Cafe   \n",
              "\n",
              "   start_station_latitude  start_station_longitude  end_station_id  \\\n",
              "0               55.952335                -3.207101             259   \n",
              "1               55.954749                -3.192774             262   \n",
              "2               55.962804                -3.196284             250   \n",
              "3               55.922001                -3.176902             254   \n",
              "4               55.922001                -3.176902             253   \n",
              "\n",
              "   end_station_name                 end_station_description  \\\n",
              "0  St Andrew Square                       North East corner   \n",
              "1        Canonmills                            near Tesco's   \n",
              "2     Victoria Quay  Entrance to Scottish Government Office   \n",
              "3  Kings Building 3                    Kings Building House   \n",
              "4  Kings Building 2                      Sanderson Building   \n",
              "\n",
              "   end_station_latitude  end_station_longitude  \n",
              "0             55.954728              -3.192653  \n",
              "1             55.962804              -3.196284  \n",
              "2             55.977638              -3.174116  \n",
              "3             55.923479              -3.175385  \n",
              "4             55.923202              -3.171646  "
            ],
            "text/html": [
              "\n",
              "  <div id=\"df-cc4f0cad-5580-4499-ad8d-993ea0c6fc81\">\n",
              "    <div class=\"colab-df-container\">\n",
              "      <div>\n",
              "<style scoped>\n",
              "    .dataframe tbody tr th:only-of-type {\n",
              "        vertical-align: middle;\n",
              "    }\n",
              "\n",
              "    .dataframe tbody tr th {\n",
              "        vertical-align: top;\n",
              "    }\n",
              "\n",
              "    .dataframe thead th {\n",
              "        text-align: right;\n",
              "    }\n",
              "</style>\n",
              "<table border=\"1\" class=\"dataframe\">\n",
              "  <thead>\n",
              "    <tr style=\"text-align: right;\">\n",
              "      <th></th>\n",
              "      <th>index</th>\n",
              "      <th>started_at</th>\n",
              "      <th>ended_at</th>\n",
              "      <th>duration</th>\n",
              "      <th>start_station_id</th>\n",
              "      <th>start_station_name</th>\n",
              "      <th>start_station_description</th>\n",
              "      <th>start_station_latitude</th>\n",
              "      <th>start_station_longitude</th>\n",
              "      <th>end_station_id</th>\n",
              "      <th>end_station_name</th>\n",
              "      <th>end_station_description</th>\n",
              "      <th>end_station_latitude</th>\n",
              "      <th>end_station_longitude</th>\n",
              "    </tr>\n",
              "  </thead>\n",
              "  <tbody>\n",
              "    <tr>\n",
              "      <th>0</th>\n",
              "      <td>0</td>\n",
              "      <td>2018-09-15 08:52:05</td>\n",
              "      <td>2018-09-15 09:11:48</td>\n",
              "      <td>1182</td>\n",
              "      <td>247</td>\n",
              "      <td>Charlotte Square</td>\n",
              "      <td>North Corner of Charlotte Square</td>\n",
              "      <td>55.952335</td>\n",
              "      <td>-3.207101</td>\n",
              "      <td>259</td>\n",
              "      <td>St Andrew Square</td>\n",
              "      <td>North East corner</td>\n",
              "      <td>55.954728</td>\n",
              "      <td>-3.192653</td>\n",
              "    </tr>\n",
              "    <tr>\n",
              "      <th>1</th>\n",
              "      <td>1</td>\n",
              "      <td>2018-09-15 09:24:33</td>\n",
              "      <td>2018-09-15 09:41:09</td>\n",
              "      <td>995</td>\n",
              "      <td>259</td>\n",
              "      <td>St Andrew Square</td>\n",
              "      <td>North East corner</td>\n",
              "      <td>55.954749</td>\n",
              "      <td>-3.192774</td>\n",
              "      <td>262</td>\n",
              "      <td>Canonmills</td>\n",
              "      <td>near Tesco's</td>\n",
              "      <td>55.962804</td>\n",
              "      <td>-3.196284</td>\n",
              "    </tr>\n",
              "    <tr>\n",
              "      <th>2</th>\n",
              "      <td>2</td>\n",
              "      <td>2018-09-15 09:48:54</td>\n",
              "      <td>2018-09-15 10:46:40</td>\n",
              "      <td>3466</td>\n",
              "      <td>262</td>\n",
              "      <td>Canonmills</td>\n",
              "      <td>near Tesco's</td>\n",
              "      <td>55.962804</td>\n",
              "      <td>-3.196284</td>\n",
              "      <td>250</td>\n",
              "      <td>Victoria Quay</td>\n",
              "      <td>Entrance to Scottish Government Office</td>\n",
              "      <td>55.977638</td>\n",
              "      <td>-3.174116</td>\n",
              "    </tr>\n",
              "    <tr>\n",
              "      <th>3</th>\n",
              "      <td>3</td>\n",
              "      <td>2018-09-16 12:01:36</td>\n",
              "      <td>2018-09-16 12:25:26</td>\n",
              "      <td>1430</td>\n",
              "      <td>255</td>\n",
              "      <td>Kings Buildings 4</td>\n",
              "      <td>X-Y Cafe</td>\n",
              "      <td>55.922001</td>\n",
              "      <td>-3.176902</td>\n",
              "      <td>254</td>\n",
              "      <td>Kings Building 3</td>\n",
              "      <td>Kings Building House</td>\n",
              "      <td>55.923479</td>\n",
              "      <td>-3.175385</td>\n",
              "    </tr>\n",
              "    <tr>\n",
              "      <th>4</th>\n",
              "      <td>4</td>\n",
              "      <td>2018-09-16 12:03:43</td>\n",
              "      <td>2018-09-16 12:11:16</td>\n",
              "      <td>452</td>\n",
              "      <td>255</td>\n",
              "      <td>Kings Buildings 4</td>\n",
              "      <td>X-Y Cafe</td>\n",
              "      <td>55.922001</td>\n",
              "      <td>-3.176902</td>\n",
              "      <td>253</td>\n",
              "      <td>Kings Building 2</td>\n",
              "      <td>Sanderson Building</td>\n",
              "      <td>55.923202</td>\n",
              "      <td>-3.171646</td>\n",
              "    </tr>\n",
              "  </tbody>\n",
              "</table>\n",
              "</div>\n",
              "      <button class=\"colab-df-convert\" onclick=\"convertToInteractive('df-cc4f0cad-5580-4499-ad8d-993ea0c6fc81')\"\n",
              "              title=\"Convert this dataframe to an interactive table.\"\n",
              "              style=\"display:none;\">\n",
              "        \n",
              "  <svg xmlns=\"http://www.w3.org/2000/svg\" height=\"24px\"viewBox=\"0 0 24 24\"\n",
              "       width=\"24px\">\n",
              "    <path d=\"M0 0h24v24H0V0z\" fill=\"none\"/>\n",
              "    <path d=\"M18.56 5.44l.94 2.06.94-2.06 2.06-.94-2.06-.94-.94-2.06-.94 2.06-2.06.94zm-11 1L8.5 8.5l.94-2.06 2.06-.94-2.06-.94L8.5 2.5l-.94 2.06-2.06.94zm10 10l.94 2.06.94-2.06 2.06-.94-2.06-.94-.94-2.06-.94 2.06-2.06.94z\"/><path d=\"M17.41 7.96l-1.37-1.37c-.4-.4-.92-.59-1.43-.59-.52 0-1.04.2-1.43.59L10.3 9.45l-7.72 7.72c-.78.78-.78 2.05 0 2.83L4 21.41c.39.39.9.59 1.41.59.51 0 1.02-.2 1.41-.59l7.78-7.78 2.81-2.81c.8-.78.8-2.07 0-2.86zM5.41 20L4 18.59l7.72-7.72 1.47 1.35L5.41 20z\"/>\n",
              "  </svg>\n",
              "      </button>\n",
              "      \n",
              "  <style>\n",
              "    .colab-df-container {\n",
              "      display:flex;\n",
              "      flex-wrap:wrap;\n",
              "      gap: 12px;\n",
              "    }\n",
              "\n",
              "    .colab-df-convert {\n",
              "      background-color: #E8F0FE;\n",
              "      border: none;\n",
              "      border-radius: 50%;\n",
              "      cursor: pointer;\n",
              "      display: none;\n",
              "      fill: #1967D2;\n",
              "      height: 32px;\n",
              "      padding: 0 0 0 0;\n",
              "      width: 32px;\n",
              "    }\n",
              "\n",
              "    .colab-df-convert:hover {\n",
              "      background-color: #E2EBFA;\n",
              "      box-shadow: 0px 1px 2px rgba(60, 64, 67, 0.3), 0px 1px 3px 1px rgba(60, 64, 67, 0.15);\n",
              "      fill: #174EA6;\n",
              "    }\n",
              "\n",
              "    [theme=dark] .colab-df-convert {\n",
              "      background-color: #3B4455;\n",
              "      fill: #D2E3FC;\n",
              "    }\n",
              "\n",
              "    [theme=dark] .colab-df-convert:hover {\n",
              "      background-color: #434B5C;\n",
              "      box-shadow: 0px 1px 3px 1px rgba(0, 0, 0, 0.15);\n",
              "      filter: drop-shadow(0px 1px 2px rgba(0, 0, 0, 0.3));\n",
              "      fill: #FFFFFF;\n",
              "    }\n",
              "  </style>\n",
              "\n",
              "      <script>\n",
              "        const buttonEl =\n",
              "          document.querySelector('#df-cc4f0cad-5580-4499-ad8d-993ea0c6fc81 button.colab-df-convert');\n",
              "        buttonEl.style.display =\n",
              "          google.colab.kernel.accessAllowed ? 'block' : 'none';\n",
              "\n",
              "        async function convertToInteractive(key) {\n",
              "          const element = document.querySelector('#df-cc4f0cad-5580-4499-ad8d-993ea0c6fc81');\n",
              "          const dataTable =\n",
              "            await google.colab.kernel.invokeFunction('convertToInteractive',\n",
              "                                                     [key], {});\n",
              "          if (!dataTable) return;\n",
              "\n",
              "          const docLinkHtml = 'Like what you see? Visit the ' +\n",
              "            '<a target=\"_blank\" href=https://colab.research.google.com/notebooks/data_table.ipynb>data table notebook</a>'\n",
              "            + ' to learn more about interactive tables.';\n",
              "          element.innerHTML = '';\n",
              "          dataTable['output_type'] = 'display_data';\n",
              "          await google.colab.output.renderOutput(dataTable, element);\n",
              "          const docLink = document.createElement('div');\n",
              "          docLink.innerHTML = docLinkHtml;\n",
              "          element.appendChild(docLink);\n",
              "        }\n",
              "      </script>\n",
              "    </div>\n",
              "  </div>\n",
              "  "
            ]
          },
          "metadata": {},
          "execution_count": 4
        }
      ]
    },
    {
      "cell_type": "code",
      "source": [
        "dfb.info()"
      ],
      "metadata": {
        "colab": {
          "base_uri": "https://localhost:8080/"
        },
        "id": "GSFR7zIuidTK",
        "outputId": "c6b069ae-a7d4-4515-9de4-731bc9e2373b"
      },
      "execution_count": 5,
      "outputs": [
        {
          "output_type": "stream",
          "name": "stdout",
          "text": [
            "<class 'pandas.core.frame.DataFrame'>\n",
            "RangeIndex: 438259 entries, 0 to 438258\n",
            "Data columns (total 14 columns):\n",
            " #   Column                     Non-Null Count   Dtype  \n",
            "---  ------                     --------------   -----  \n",
            " 0   index                      438259 non-null  int64  \n",
            " 1   started_at                 438259 non-null  object \n",
            " 2   ended_at                   438259 non-null  object \n",
            " 3   duration                   438259 non-null  int64  \n",
            " 4   start_station_id           438259 non-null  int64  \n",
            " 5   start_station_name         438259 non-null  object \n",
            " 6   start_station_description  435549 non-null  object \n",
            " 7   start_station_latitude     438259 non-null  float64\n",
            " 8   start_station_longitude    438259 non-null  float64\n",
            " 9   end_station_id             438259 non-null  int64  \n",
            " 10  end_station_name           438259 non-null  object \n",
            " 11  end_station_description    435256 non-null  object \n",
            " 12  end_station_latitude       438259 non-null  float64\n",
            " 13  end_station_longitude      438259 non-null  float64\n",
            "dtypes: float64(4), int64(4), object(6)\n",
            "memory usage: 46.8+ MB\n"
          ]
        }
      ]
    },
    {
      "cell_type": "markdown",
      "source": [
        "V první řadě je vhodné upravit datový typ object u sloupců ***started_at*** a ***ended_at*** na formát datetime64 pro lepší práci s datem a časem."
      ],
      "metadata": {
        "id": "zbmdSJbGbi5P"
      }
    },
    {
      "cell_type": "code",
      "source": [
        "dfb['started_at'] = pd.to_datetime(dfb['started_at'], format=\"%Y-%m-%d %H:%M\" )\n",
        "dfb['ended_at'] = pd.to_datetime(dfb['ended_at'], format=\"%Y-%m-%d %H:%M\" )"
      ],
      "metadata": {
        "id": "GDRYoXUNgA0U"
      },
      "execution_count": 6,
      "outputs": []
    },
    {
      "cell_type": "markdown",
      "source": [
        "Pro lepší přehlednost přejmenuji sloupce na kratší názvy."
      ],
      "metadata": {
        "id": "2NFb3OemgzAl"
      }
    },
    {
      "cell_type": "code",
      "source": [
        "dfb = dfb.rename(columns={\"started_at\": \"start\", \"ended_at\": \"end\",\n",
        "        \"start_station_id\": \"start_id\", \"start_station_name\": \"start_name\",\n",
        "        \"start_station_description\": \"start_description\",\n",
        "        \"start_station_latitude\": \"start_latitude\",\n",
        "        \"start_station_longitude\": \"start_longitude\",\"end_station_id\": \"end_id\",\n",
        "        \"end_station_name\": \"end_name\", \n",
        "        \"end_station_description\": \"end_description\",\n",
        "        \"end_station_latitude\": \"end_latitude\",\n",
        "        \"end_station_longitude\": \"end_longitude\"\n",
        "        })"
      ],
      "metadata": {
        "id": "sAjbrgstg7cu"
      },
      "execution_count": 7,
      "outputs": []
    },
    {
      "cell_type": "code",
      "source": [
        "dfb = dfb.drop(columns= \"index\")"
      ],
      "metadata": {
        "id": "iT7iZjUL_dkw"
      },
      "execution_count": 8,
      "outputs": []
    },
    {
      "cell_type": "code",
      "source": [
        "dfb.info()"
      ],
      "metadata": {
        "colab": {
          "base_uri": "https://localhost:8080/"
        },
        "id": "LXnYbB0KiZra",
        "outputId": "7bb63ac9-94e0-4863-bdc1-3c948832bea5"
      },
      "execution_count": 9,
      "outputs": [
        {
          "output_type": "stream",
          "name": "stdout",
          "text": [
            "<class 'pandas.core.frame.DataFrame'>\n",
            "RangeIndex: 438259 entries, 0 to 438258\n",
            "Data columns (total 13 columns):\n",
            " #   Column             Non-Null Count   Dtype         \n",
            "---  ------             --------------   -----         \n",
            " 0   start              438259 non-null  datetime64[ns]\n",
            " 1   end                438259 non-null  datetime64[ns]\n",
            " 2   duration           438259 non-null  int64         \n",
            " 3   start_id           438259 non-null  int64         \n",
            " 4   start_name         438259 non-null  object        \n",
            " 5   start_description  435549 non-null  object        \n",
            " 6   start_latitude     438259 non-null  float64       \n",
            " 7   start_longitude    438259 non-null  float64       \n",
            " 8   end_id             438259 non-null  int64         \n",
            " 9   end_name           438259 non-null  object        \n",
            " 10  end_description    435256 non-null  object        \n",
            " 11  end_latitude       438259 non-null  float64       \n",
            " 12  end_longitude      438259 non-null  float64       \n",
            "dtypes: datetime64[ns](2), float64(4), int64(3), object(4)\n",
            "memory usage: 43.5+ MB\n"
          ]
        }
      ]
    },
    {
      "cell_type": "code",
      "source": [
        "dfb[\"start\"].min()"
      ],
      "metadata": {
        "colab": {
          "base_uri": "https://localhost:8080/"
        },
        "id": "jQ_3rrKH74U_",
        "outputId": "9a46b8c8-2e84-481a-bf6a-afba42abfdbd"
      },
      "execution_count": 11,
      "outputs": [
        {
          "output_type": "execute_result",
          "data": {
            "text/plain": [
              "Timestamp('2018-09-15 08:52:05')"
            ]
          },
          "metadata": {},
          "execution_count": 11
        }
      ]
    },
    {
      "cell_type": "code",
      "source": [
        "dfb[\"start\"].max()"
      ],
      "metadata": {
        "colab": {
          "base_uri": "https://localhost:8080/"
        },
        "id": "_2YBk8vK8OUu",
        "outputId": "995c6977-1c49-4483-8621-97a697ae3c1b"
      },
      "execution_count": 12,
      "outputs": [
        {
          "output_type": "execute_result",
          "data": {
            "text/plain": [
              "Timestamp('2021-06-30 23:58:33')"
            ]
          },
          "metadata": {},
          "execution_count": 12
        }
      ]
    },
    {
      "cell_type": "markdown",
      "source": [
        "Dataframe obsahuje **438 259** záznamů a **14** sloupců s informacemi od data **2018-09-15** do **2021-06-30**."
      ],
      "metadata": {
        "id": "ouJiNSDNirdH"
      }
    },
    {
      "cell_type": "markdown",
      "source": [
        "Upravený dataframe si uložím to_pickle a dále budu pracovat už jenom s upraveným picklem."
      ],
      "metadata": {
        "id": "FcDG9p4T9H4W"
      }
    },
    {
      "cell_type": "code",
      "source": [
        "dfb.to_pickle(\"/content/drive/MyDrive/Colab Notebooks/bikes/bikes.pkl\")"
      ],
      "metadata": {
        "id": "78DLUsh-9EpQ"
      },
      "execution_count": 13,
      "outputs": []
    },
    {
      "cell_type": "markdown",
      "source": [
        "#### Weather <a name=\"2.1.2\"></a>"
      ],
      "metadata": {
        "id": "9k-kWOeEbjXF"
      }
    },
    {
      "cell_type": "code",
      "source": [
        "# Načtení pickle do Dataframu.\n",
        "dfw = pd.read_pickle(\"/content/drive/MyDrive/Colab Notebooks/bikes/weather_first.pkl\")"
      ],
      "metadata": {
        "id": "BXqQNx6UuaZB"
      },
      "execution_count": 14,
      "outputs": []
    },
    {
      "cell_type": "code",
      "source": [
        "dfw.head()"
      ],
      "metadata": {
        "colab": {
          "base_uri": "https://localhost:8080/",
          "height": 206
        },
        "id": "qVgFhzGZuosa",
        "outputId": "032a08f9-f68f-4a24-da1b-8610376b17fd"
      },
      "execution_count": 15,
      "outputs": [
        {
          "output_type": "execute_result",
          "data": {
            "text/plain": [
              "    time   temp  feels              wind     gust    rain humidity cloud  \\\n",
              "0  00:00  11 °c  11 °c     9 km/h from S  19 km/h  0.0 mm      79%   13%   \n",
              "1  03:00  13 °c  12 °c  11 km/h from SSW  19 km/h  0.0 mm      76%   96%   \n",
              "2  06:00  14 °c  13 °c  11 km/h from SSW  19 km/h  0.0 mm      84%  100%   \n",
              "3  09:00  14 °c  13 °c  14 km/h from SSW  23 km/h  0.1 mm      88%   78%   \n",
              "4  12:00  16 °c  16 °c  15 km/h from SSW  22 km/h  0.0 mm      87%   87%   \n",
              "\n",
              "  pressure        vis        date  \n",
              "0  1020 mb  Excellent  2018-09-01  \n",
              "1  1020 mb  Excellent  2018-09-01  \n",
              "2  1020 mb  Excellent  2018-09-01  \n",
              "3  1021 mb  Excellent  2018-09-01  \n",
              "4  1021 mb  Excellent  2018-09-01  "
            ],
            "text/html": [
              "\n",
              "  <div id=\"df-974d53d3-f686-4daa-b89f-f886e40784d8\">\n",
              "    <div class=\"colab-df-container\">\n",
              "      <div>\n",
              "<style scoped>\n",
              "    .dataframe tbody tr th:only-of-type {\n",
              "        vertical-align: middle;\n",
              "    }\n",
              "\n",
              "    .dataframe tbody tr th {\n",
              "        vertical-align: top;\n",
              "    }\n",
              "\n",
              "    .dataframe thead th {\n",
              "        text-align: right;\n",
              "    }\n",
              "</style>\n",
              "<table border=\"1\" class=\"dataframe\">\n",
              "  <thead>\n",
              "    <tr style=\"text-align: right;\">\n",
              "      <th></th>\n",
              "      <th>time</th>\n",
              "      <th>temp</th>\n",
              "      <th>feels</th>\n",
              "      <th>wind</th>\n",
              "      <th>gust</th>\n",
              "      <th>rain</th>\n",
              "      <th>humidity</th>\n",
              "      <th>cloud</th>\n",
              "      <th>pressure</th>\n",
              "      <th>vis</th>\n",
              "      <th>date</th>\n",
              "    </tr>\n",
              "  </thead>\n",
              "  <tbody>\n",
              "    <tr>\n",
              "      <th>0</th>\n",
              "      <td>00:00</td>\n",
              "      <td>11 °c</td>\n",
              "      <td>11 °c</td>\n",
              "      <td>9 km/h from S</td>\n",
              "      <td>19 km/h</td>\n",
              "      <td>0.0 mm</td>\n",
              "      <td>79%</td>\n",
              "      <td>13%</td>\n",
              "      <td>1020 mb</td>\n",
              "      <td>Excellent</td>\n",
              "      <td>2018-09-01</td>\n",
              "    </tr>\n",
              "    <tr>\n",
              "      <th>1</th>\n",
              "      <td>03:00</td>\n",
              "      <td>13 °c</td>\n",
              "      <td>12 °c</td>\n",
              "      <td>11 km/h from SSW</td>\n",
              "      <td>19 km/h</td>\n",
              "      <td>0.0 mm</td>\n",
              "      <td>76%</td>\n",
              "      <td>96%</td>\n",
              "      <td>1020 mb</td>\n",
              "      <td>Excellent</td>\n",
              "      <td>2018-09-01</td>\n",
              "    </tr>\n",
              "    <tr>\n",
              "      <th>2</th>\n",
              "      <td>06:00</td>\n",
              "      <td>14 °c</td>\n",
              "      <td>13 °c</td>\n",
              "      <td>11 km/h from SSW</td>\n",
              "      <td>19 km/h</td>\n",
              "      <td>0.0 mm</td>\n",
              "      <td>84%</td>\n",
              "      <td>100%</td>\n",
              "      <td>1020 mb</td>\n",
              "      <td>Excellent</td>\n",
              "      <td>2018-09-01</td>\n",
              "    </tr>\n",
              "    <tr>\n",
              "      <th>3</th>\n",
              "      <td>09:00</td>\n",
              "      <td>14 °c</td>\n",
              "      <td>13 °c</td>\n",
              "      <td>14 km/h from SSW</td>\n",
              "      <td>23 km/h</td>\n",
              "      <td>0.1 mm</td>\n",
              "      <td>88%</td>\n",
              "      <td>78%</td>\n",
              "      <td>1021 mb</td>\n",
              "      <td>Excellent</td>\n",
              "      <td>2018-09-01</td>\n",
              "    </tr>\n",
              "    <tr>\n",
              "      <th>4</th>\n",
              "      <td>12:00</td>\n",
              "      <td>16 °c</td>\n",
              "      <td>16 °c</td>\n",
              "      <td>15 km/h from SSW</td>\n",
              "      <td>22 km/h</td>\n",
              "      <td>0.0 mm</td>\n",
              "      <td>87%</td>\n",
              "      <td>87%</td>\n",
              "      <td>1021 mb</td>\n",
              "      <td>Excellent</td>\n",
              "      <td>2018-09-01</td>\n",
              "    </tr>\n",
              "  </tbody>\n",
              "</table>\n",
              "</div>\n",
              "      <button class=\"colab-df-convert\" onclick=\"convertToInteractive('df-974d53d3-f686-4daa-b89f-f886e40784d8')\"\n",
              "              title=\"Convert this dataframe to an interactive table.\"\n",
              "              style=\"display:none;\">\n",
              "        \n",
              "  <svg xmlns=\"http://www.w3.org/2000/svg\" height=\"24px\"viewBox=\"0 0 24 24\"\n",
              "       width=\"24px\">\n",
              "    <path d=\"M0 0h24v24H0V0z\" fill=\"none\"/>\n",
              "    <path d=\"M18.56 5.44l.94 2.06.94-2.06 2.06-.94-2.06-.94-.94-2.06-.94 2.06-2.06.94zm-11 1L8.5 8.5l.94-2.06 2.06-.94-2.06-.94L8.5 2.5l-.94 2.06-2.06.94zm10 10l.94 2.06.94-2.06 2.06-.94-2.06-.94-.94-2.06-.94 2.06-2.06.94z\"/><path d=\"M17.41 7.96l-1.37-1.37c-.4-.4-.92-.59-1.43-.59-.52 0-1.04.2-1.43.59L10.3 9.45l-7.72 7.72c-.78.78-.78 2.05 0 2.83L4 21.41c.39.39.9.59 1.41.59.51 0 1.02-.2 1.41-.59l7.78-7.78 2.81-2.81c.8-.78.8-2.07 0-2.86zM5.41 20L4 18.59l7.72-7.72 1.47 1.35L5.41 20z\"/>\n",
              "  </svg>\n",
              "      </button>\n",
              "      \n",
              "  <style>\n",
              "    .colab-df-container {\n",
              "      display:flex;\n",
              "      flex-wrap:wrap;\n",
              "      gap: 12px;\n",
              "    }\n",
              "\n",
              "    .colab-df-convert {\n",
              "      background-color: #E8F0FE;\n",
              "      border: none;\n",
              "      border-radius: 50%;\n",
              "      cursor: pointer;\n",
              "      display: none;\n",
              "      fill: #1967D2;\n",
              "      height: 32px;\n",
              "      padding: 0 0 0 0;\n",
              "      width: 32px;\n",
              "    }\n",
              "\n",
              "    .colab-df-convert:hover {\n",
              "      background-color: #E2EBFA;\n",
              "      box-shadow: 0px 1px 2px rgba(60, 64, 67, 0.3), 0px 1px 3px 1px rgba(60, 64, 67, 0.15);\n",
              "      fill: #174EA6;\n",
              "    }\n",
              "\n",
              "    [theme=dark] .colab-df-convert {\n",
              "      background-color: #3B4455;\n",
              "      fill: #D2E3FC;\n",
              "    }\n",
              "\n",
              "    [theme=dark] .colab-df-convert:hover {\n",
              "      background-color: #434B5C;\n",
              "      box-shadow: 0px 1px 3px 1px rgba(0, 0, 0, 0.15);\n",
              "      filter: drop-shadow(0px 1px 2px rgba(0, 0, 0, 0.3));\n",
              "      fill: #FFFFFF;\n",
              "    }\n",
              "  </style>\n",
              "\n",
              "      <script>\n",
              "        const buttonEl =\n",
              "          document.querySelector('#df-974d53d3-f686-4daa-b89f-f886e40784d8 button.colab-df-convert');\n",
              "        buttonEl.style.display =\n",
              "          google.colab.kernel.accessAllowed ? 'block' : 'none';\n",
              "\n",
              "        async function convertToInteractive(key) {\n",
              "          const element = document.querySelector('#df-974d53d3-f686-4daa-b89f-f886e40784d8');\n",
              "          const dataTable =\n",
              "            await google.colab.kernel.invokeFunction('convertToInteractive',\n",
              "                                                     [key], {});\n",
              "          if (!dataTable) return;\n",
              "\n",
              "          const docLinkHtml = 'Like what you see? Visit the ' +\n",
              "            '<a target=\"_blank\" href=https://colab.research.google.com/notebooks/data_table.ipynb>data table notebook</a>'\n",
              "            + ' to learn more about interactive tables.';\n",
              "          element.innerHTML = '';\n",
              "          dataTable['output_type'] = 'display_data';\n",
              "          await google.colab.output.renderOutput(dataTable, element);\n",
              "          const docLink = document.createElement('div');\n",
              "          docLink.innerHTML = docLinkHtml;\n",
              "          element.appendChild(docLink);\n",
              "        }\n",
              "      </script>\n",
              "    </div>\n",
              "  </div>\n",
              "  "
            ]
          },
          "metadata": {},
          "execution_count": 15
        }
      ]
    },
    {
      "cell_type": "code",
      "source": [
        "dfw.info()"
      ],
      "metadata": {
        "colab": {
          "base_uri": "https://localhost:8080/"
        },
        "id": "svI7hXj4uqqE",
        "outputId": "02cd802b-47de-4887-990d-1a548e1aa3fd"
      },
      "execution_count": 16,
      "outputs": [
        {
          "output_type": "stream",
          "name": "stdout",
          "text": [
            "<class 'pandas.core.frame.DataFrame'>\n",
            "RangeIndex: 6336 entries, 0 to 6335\n",
            "Data columns (total 11 columns):\n",
            " #   Column    Non-Null Count  Dtype \n",
            "---  ------    --------------  ----- \n",
            " 0   time      6336 non-null   object\n",
            " 1   temp      6336 non-null   object\n",
            " 2   feels     6336 non-null   object\n",
            " 3   wind      6336 non-null   object\n",
            " 4   gust      6336 non-null   object\n",
            " 5   rain      6336 non-null   object\n",
            " 6   humidity  6336 non-null   object\n",
            " 7   cloud     6336 non-null   object\n",
            " 8   pressure  6336 non-null   object\n",
            " 9   vis       6336 non-null   object\n",
            " 10  date      6336 non-null   object\n",
            "dtypes: object(11)\n",
            "memory usage: 544.6+ KB\n"
          ]
        }
      ]
    },
    {
      "cell_type": "code",
      "source": [
        "# sjednocení datumu s časem a převedení na datetime64\n",
        "dfw['time'] = pd.to_datetime((dfw['date'] + ' ' + dfw['time']), format=\"%Y-%m-%d %H:%M\" )"
      ],
      "metadata": {
        "id": "N3QozdF6vJJS"
      },
      "execution_count": 17,
      "outputs": []
    },
    {
      "cell_type": "markdown",
      "source": [
        "Odstraním sloupce, které nebudu používat a přejmenuji názvy sloupců a nastavím datové formáty jednotlivých sloupců."
      ],
      "metadata": {
        "id": "ltn38ynTkalJ"
      }
    },
    {
      "cell_type": "code",
      "source": [
        "# vyjmutí jednotek ze sloupců a nastavení datového formátu\n",
        "dfw[\"temp\"] = dfw[\"temp\"].str.extract('(\\d+)').astype(int)\n",
        "dfw['wind'] = dfw['wind'].str.extract('(\\d+)').astype(int)\n",
        "dfw[\"gust\"] = dfw[\"gust\"].str.extract('(\\d+)').astype(int)\n",
        "dfw[\"rain\"] = dfw[\"rain\"].str.extract('(\\d+)').astype(float)"
      ],
      "metadata": {
        "id": "QoNeewoaw_Pv"
      },
      "execution_count": 18,
      "outputs": []
    },
    {
      "cell_type": "code",
      "source": [
        "# odebrání nepotřebných sloupců\n",
        "dfw = dfw.drop(columns=[\"feels\",\"humidity\",\"cloud\",\"pressure\",\"vis\", \"date\"])"
      ],
      "metadata": {
        "id": "nvjmfLA_yZdf"
      },
      "execution_count": 19,
      "outputs": []
    },
    {
      "cell_type": "code",
      "source": [
        "# přejmenování sloupců na název a jednotku\n",
        "dfw = dfw.rename(columns={\"time\":\"datetime\", \"temp\":\"temp_c\",\n",
        "                          \"wind\":\"wind_kmh\", \"gust\":\"gust_kmh\",\n",
        "                          \"rain\":\"rain_mm\"})"
      ],
      "metadata": {
        "id": "tCnRG-ORxH7o"
      },
      "execution_count": 20,
      "outputs": []
    },
    {
      "cell_type": "code",
      "source": [
        "dfw.head()"
      ],
      "metadata": {
        "colab": {
          "base_uri": "https://localhost:8080/",
          "height": 206
        },
        "id": "SztX4occ7X4H",
        "outputId": "27719f63-db31-4905-ed85-65577843d756"
      },
      "execution_count": 21,
      "outputs": [
        {
          "output_type": "execute_result",
          "data": {
            "text/plain": [
              "             datetime  temp_c  wind_kmh  gust_kmh  rain_mm\n",
              "0 2018-09-01 00:00:00      11         9        19      0.0\n",
              "1 2018-09-01 03:00:00      13        11        19      0.0\n",
              "2 2018-09-01 06:00:00      14        11        19      0.0\n",
              "3 2018-09-01 09:00:00      14        14        23      0.0\n",
              "4 2018-09-01 12:00:00      16        15        22      0.0"
            ],
            "text/html": [
              "\n",
              "  <div id=\"df-9ad33021-02df-445c-8bdd-2e4b192876b6\">\n",
              "    <div class=\"colab-df-container\">\n",
              "      <div>\n",
              "<style scoped>\n",
              "    .dataframe tbody tr th:only-of-type {\n",
              "        vertical-align: middle;\n",
              "    }\n",
              "\n",
              "    .dataframe tbody tr th {\n",
              "        vertical-align: top;\n",
              "    }\n",
              "\n",
              "    .dataframe thead th {\n",
              "        text-align: right;\n",
              "    }\n",
              "</style>\n",
              "<table border=\"1\" class=\"dataframe\">\n",
              "  <thead>\n",
              "    <tr style=\"text-align: right;\">\n",
              "      <th></th>\n",
              "      <th>datetime</th>\n",
              "      <th>temp_c</th>\n",
              "      <th>wind_kmh</th>\n",
              "      <th>gust_kmh</th>\n",
              "      <th>rain_mm</th>\n",
              "    </tr>\n",
              "  </thead>\n",
              "  <tbody>\n",
              "    <tr>\n",
              "      <th>0</th>\n",
              "      <td>2018-09-01 00:00:00</td>\n",
              "      <td>11</td>\n",
              "      <td>9</td>\n",
              "      <td>19</td>\n",
              "      <td>0.0</td>\n",
              "    </tr>\n",
              "    <tr>\n",
              "      <th>1</th>\n",
              "      <td>2018-09-01 03:00:00</td>\n",
              "      <td>13</td>\n",
              "      <td>11</td>\n",
              "      <td>19</td>\n",
              "      <td>0.0</td>\n",
              "    </tr>\n",
              "    <tr>\n",
              "      <th>2</th>\n",
              "      <td>2018-09-01 06:00:00</td>\n",
              "      <td>14</td>\n",
              "      <td>11</td>\n",
              "      <td>19</td>\n",
              "      <td>0.0</td>\n",
              "    </tr>\n",
              "    <tr>\n",
              "      <th>3</th>\n",
              "      <td>2018-09-01 09:00:00</td>\n",
              "      <td>14</td>\n",
              "      <td>14</td>\n",
              "      <td>23</td>\n",
              "      <td>0.0</td>\n",
              "    </tr>\n",
              "    <tr>\n",
              "      <th>4</th>\n",
              "      <td>2018-09-01 12:00:00</td>\n",
              "      <td>16</td>\n",
              "      <td>15</td>\n",
              "      <td>22</td>\n",
              "      <td>0.0</td>\n",
              "    </tr>\n",
              "  </tbody>\n",
              "</table>\n",
              "</div>\n",
              "      <button class=\"colab-df-convert\" onclick=\"convertToInteractive('df-9ad33021-02df-445c-8bdd-2e4b192876b6')\"\n",
              "              title=\"Convert this dataframe to an interactive table.\"\n",
              "              style=\"display:none;\">\n",
              "        \n",
              "  <svg xmlns=\"http://www.w3.org/2000/svg\" height=\"24px\"viewBox=\"0 0 24 24\"\n",
              "       width=\"24px\">\n",
              "    <path d=\"M0 0h24v24H0V0z\" fill=\"none\"/>\n",
              "    <path d=\"M18.56 5.44l.94 2.06.94-2.06 2.06-.94-2.06-.94-.94-2.06-.94 2.06-2.06.94zm-11 1L8.5 8.5l.94-2.06 2.06-.94-2.06-.94L8.5 2.5l-.94 2.06-2.06.94zm10 10l.94 2.06.94-2.06 2.06-.94-2.06-.94-.94-2.06-.94 2.06-2.06.94z\"/><path d=\"M17.41 7.96l-1.37-1.37c-.4-.4-.92-.59-1.43-.59-.52 0-1.04.2-1.43.59L10.3 9.45l-7.72 7.72c-.78.78-.78 2.05 0 2.83L4 21.41c.39.39.9.59 1.41.59.51 0 1.02-.2 1.41-.59l7.78-7.78 2.81-2.81c.8-.78.8-2.07 0-2.86zM5.41 20L4 18.59l7.72-7.72 1.47 1.35L5.41 20z\"/>\n",
              "  </svg>\n",
              "      </button>\n",
              "      \n",
              "  <style>\n",
              "    .colab-df-container {\n",
              "      display:flex;\n",
              "      flex-wrap:wrap;\n",
              "      gap: 12px;\n",
              "    }\n",
              "\n",
              "    .colab-df-convert {\n",
              "      background-color: #E8F0FE;\n",
              "      border: none;\n",
              "      border-radius: 50%;\n",
              "      cursor: pointer;\n",
              "      display: none;\n",
              "      fill: #1967D2;\n",
              "      height: 32px;\n",
              "      padding: 0 0 0 0;\n",
              "      width: 32px;\n",
              "    }\n",
              "\n",
              "    .colab-df-convert:hover {\n",
              "      background-color: #E2EBFA;\n",
              "      box-shadow: 0px 1px 2px rgba(60, 64, 67, 0.3), 0px 1px 3px 1px rgba(60, 64, 67, 0.15);\n",
              "      fill: #174EA6;\n",
              "    }\n",
              "\n",
              "    [theme=dark] .colab-df-convert {\n",
              "      background-color: #3B4455;\n",
              "      fill: #D2E3FC;\n",
              "    }\n",
              "\n",
              "    [theme=dark] .colab-df-convert:hover {\n",
              "      background-color: #434B5C;\n",
              "      box-shadow: 0px 1px 3px 1px rgba(0, 0, 0, 0.15);\n",
              "      filter: drop-shadow(0px 1px 2px rgba(0, 0, 0, 0.3));\n",
              "      fill: #FFFFFF;\n",
              "    }\n",
              "  </style>\n",
              "\n",
              "      <script>\n",
              "        const buttonEl =\n",
              "          document.querySelector('#df-9ad33021-02df-445c-8bdd-2e4b192876b6 button.colab-df-convert');\n",
              "        buttonEl.style.display =\n",
              "          google.colab.kernel.accessAllowed ? 'block' : 'none';\n",
              "\n",
              "        async function convertToInteractive(key) {\n",
              "          const element = document.querySelector('#df-9ad33021-02df-445c-8bdd-2e4b192876b6');\n",
              "          const dataTable =\n",
              "            await google.colab.kernel.invokeFunction('convertToInteractive',\n",
              "                                                     [key], {});\n",
              "          if (!dataTable) return;\n",
              "\n",
              "          const docLinkHtml = 'Like what you see? Visit the ' +\n",
              "            '<a target=\"_blank\" href=https://colab.research.google.com/notebooks/data_table.ipynb>data table notebook</a>'\n",
              "            + ' to learn more about interactive tables.';\n",
              "          element.innerHTML = '';\n",
              "          dataTable['output_type'] = 'display_data';\n",
              "          await google.colab.output.renderOutput(dataTable, element);\n",
              "          const docLink = document.createElement('div');\n",
              "          docLink.innerHTML = docLinkHtml;\n",
              "          element.appendChild(docLink);\n",
              "        }\n",
              "      </script>\n",
              "    </div>\n",
              "  </div>\n",
              "  "
            ]
          },
          "metadata": {},
          "execution_count": 21
        }
      ]
    },
    {
      "cell_type": "code",
      "source": [
        "dfw['datetime'].min()"
      ],
      "metadata": {
        "colab": {
          "base_uri": "https://localhost:8080/"
        },
        "id": "3SGHMrA-7Oyd",
        "outputId": "e13143bd-85dd-4f8e-c31e-d149a296b1e0"
      },
      "execution_count": 22,
      "outputs": [
        {
          "output_type": "execute_result",
          "data": {
            "text/plain": [
              "Timestamp('2018-09-01 00:00:00')"
            ]
          },
          "metadata": {},
          "execution_count": 22
        }
      ]
    },
    {
      "cell_type": "code",
      "source": [
        "dfw['datetime'].max()"
      ],
      "metadata": {
        "colab": {
          "base_uri": "https://localhost:8080/"
        },
        "id": "9m0q22CN7T6N",
        "outputId": "1a0fae93-dc38-47e9-a621-fcb6dd0c458a"
      },
      "execution_count": 23,
      "outputs": [
        {
          "output_type": "execute_result",
          "data": {
            "text/plain": [
              "Timestamp('2020-10-31 21:00:00')"
            ]
          },
          "metadata": {},
          "execution_count": 23
        }
      ]
    },
    {
      "cell_type": "code",
      "source": [
        "# uložení jako pickle pro pozdější práci\n",
        "dfw.to_pickle(\"/content/drive/MyDrive/Colab Notebooks/bikes/weather.pkl\")"
      ],
      "metadata": {
        "id": "AW4TFweV8wNz"
      },
      "execution_count": 24,
      "outputs": []
    },
    {
      "cell_type": "markdown",
      "source": [
        "Upravený dataframe obsahuje **6336** záznamů a 5 sloupců s informacemi od data **2018-09-01 00:00** do **2020-10-31 21:00**."
      ],
      "metadata": {
        "id": "FA7Kxor2z0WZ"
      }
    },
    {
      "cell_type": "markdown",
      "source": [
        "#### Stations <a name=\"**2.1.3**\"></a>"
      ],
      "metadata": {
        "id": "DLUHI7YTbmhc"
      }
    },
    {
      "cell_type": "markdown",
      "source": [
        "* Z upraveného dataframu **bikes.pkl** si vytvořím dataframe pouze s unikátními stanicemi bez časových záznamů. Tento dataframe budu využívat jako seznam všech stanic s informacemi o ních.  \n",
        "* K datasetu přidám sloupec s početem výpujček a vrácení kol v jednotlivých stanicích.\n",
        "* Stanice, které jsou k dispozici zjistíme ze **start_id** a **end_id**"
      ],
      "metadata": {
        "id": "Xsgkyz5pbovD"
      }
    },
    {
      "cell_type": "code",
      "source": [
        "dfs = pd.read_pickle(\"/content/drive/MyDrive/Colab Notebooks/bikes/bikes.pkl\")"
      ],
      "metadata": {
        "id": "66xzhJMU9wsD"
      },
      "execution_count": 25,
      "outputs": []
    },
    {
      "cell_type": "code",
      "source": [
        "dfs_start = dfs.drop(columns=[\"start\",\"end\",\"duration\",\"end_id\",\"end_name\",\"end_description\",\"end_latitude\",\"end_longitude\"])"
      ],
      "metadata": {
        "id": "eK5ljoHuYl6-"
      },
      "execution_count": 26,
      "outputs": []
    },
    {
      "cell_type": "code",
      "source": [
        "dfs_start = dfs_start.drop_duplicates('start_id').reset_index(drop=True)"
      ],
      "metadata": {
        "id": "OeIAzfsHZGJd"
      },
      "execution_count": 27,
      "outputs": []
    },
    {
      "cell_type": "code",
      "source": [
        "dfs_start = dfs_start.rename(\n",
        "            columns={\"start_name\": \"name\",\n",
        "                     \"start_id\": \"id\",\n",
        "                 \"start_description\": \"description\",\n",
        "                 \"start_latitude\": \"lat\",\n",
        "                 \"start_longitude\": \"lon\"})"
      ],
      "metadata": {
        "id": "8bL8KE4UZQXa"
      },
      "execution_count": 28,
      "outputs": []
    },
    {
      "cell_type": "code",
      "source": [
        "dfs_end = dfs.drop(columns=[\"start\",\"end\",\"duration\",\"start_id\",\"start_name\",\"start_description\",\"start_latitude\",\"start_longitude\"])"
      ],
      "metadata": {
        "id": "FhZ2w_KgYzGX"
      },
      "execution_count": 29,
      "outputs": []
    },
    {
      "cell_type": "code",
      "source": [
        "dfs_end = dfs_end.drop_duplicates('end_id').reset_index(drop=True)"
      ],
      "metadata": {
        "id": "sFEN6mYZY-Gw"
      },
      "execution_count": 30,
      "outputs": []
    },
    {
      "cell_type": "code",
      "source": [
        "dfs_end = dfs_end.rename(\n",
        "            columns={\"end_name\": \"name\",\n",
        "                     \"end_id\": \"id\",\n",
        "                 \"end_description\": \"description\",\n",
        "                 \"end_latitude\": \"lat\",\n",
        "                 \"end_longitude\": \"lon\"})"
      ],
      "metadata": {
        "id": "6hVXvTk5YeS1"
      },
      "execution_count": 31,
      "outputs": []
    },
    {
      "cell_type": "code",
      "source": [
        "dfs_new = dfs_start.append(dfs_end, ignore_index = True)"
      ],
      "metadata": {
        "id": "zkMWim5cZXS2"
      },
      "execution_count": 32,
      "outputs": []
    },
    {
      "cell_type": "code",
      "source": [
        "dfs_new = dfs_new.drop_duplicates('id').reset_index(drop=True)"
      ],
      "metadata": {
        "id": "a_SRspGicJRp"
      },
      "execution_count": 33,
      "outputs": []
    },
    {
      "cell_type": "markdown",
      "source": [
        "Nový dataframe, který obsahuje všechny bikes stanice. Dataset obsahuje **200 stanic**."
      ],
      "metadata": {
        "id": "FBkz_h2ucyMt"
      }
    },
    {
      "cell_type": "code",
      "source": [
        "dfs_new[\"id\"].count()"
      ],
      "metadata": {
        "colab": {
          "base_uri": "https://localhost:8080/"
        },
        "id": "vRWUIGhMcTby",
        "outputId": "7e48ca4f-2eba-49dc-89ee-e2520e0d0ee3"
      },
      "execution_count": 34,
      "outputs": [
        {
          "output_type": "execute_result",
          "data": {
            "text/plain": [
              "200"
            ]
          },
          "metadata": {},
          "execution_count": 34
        }
      ]
    },
    {
      "cell_type": "markdown",
      "source": [
        "Dále přidáme ke každé stanici sloupec s početem vypůjčených kol a vrácených kol."
      ],
      "metadata": {
        "id": "CgAfyRZFdDoH"
      }
    },
    {
      "cell_type": "code",
      "source": [
        "start_frequency = dfs[\"start_id\"].value_counts().rename_axis(\"id\").reset_index(name = \"start_frequency\")"
      ],
      "metadata": {
        "id": "ai2kug1QNyGy"
      },
      "execution_count": 35,
      "outputs": []
    },
    {
      "cell_type": "code",
      "source": [
        "end_frequency = dfs[\"end_id\"].value_counts().rename_axis(\"id\").reset_index(name = \"end_frequency\")"
      ],
      "metadata": {
        "id": "p_UMcH5IN00O"
      },
      "execution_count": 36,
      "outputs": []
    },
    {
      "cell_type": "code",
      "source": [
        "dfs_final = dfs_new.merge(start_frequency, how=\"outer\", on = \"id\")"
      ],
      "metadata": {
        "id": "sxzAdR2uPsK8"
      },
      "execution_count": 37,
      "outputs": []
    },
    {
      "cell_type": "code",
      "source": [
        "dfs_final = dfs_final.merge(end_frequency, how= \"outer\", on= \"id\")"
      ],
      "metadata": {
        "id": "WeGUp7g3WxJG"
      },
      "execution_count": 38,
      "outputs": []
    },
    {
      "cell_type": "code",
      "source": [
        "dfs_final.head()"
      ],
      "metadata": {
        "colab": {
          "base_uri": "https://localhost:8080/",
          "height": 206
        },
        "id": "pIRc3EQWgENE",
        "outputId": "3323df96-07be-4d8c-dff4-7cc70b053281"
      },
      "execution_count": 39,
      "outputs": [
        {
          "output_type": "execute_result",
          "data": {
            "text/plain": [
              "    id               name                       description        lat  \\\n",
              "0  247   Charlotte Square  North Corner of Charlotte Square  55.952335   \n",
              "1  259   St Andrew Square                 North East corner  55.954749   \n",
              "2  262         Canonmills                      near Tesco's  55.962804   \n",
              "3  255  Kings Buildings 4                          X-Y Cafe  55.922001   \n",
              "4  253   Kings Building 2                Sanderson Building  55.923202   \n",
              "\n",
              "        lon  start_frequency  end_frequency  \n",
              "0 -3.207101           8134.0         4980.0  \n",
              "1 -3.192774          12218.0         8372.0  \n",
              "2 -3.196284           9551.0        11940.0  \n",
              "3 -3.176902            254.0          196.0  \n",
              "4 -3.171646           4096.0         4557.0  "
            ],
            "text/html": [
              "\n",
              "  <div id=\"df-b0642068-b26f-4f6f-ae9c-314a10df2a6d\">\n",
              "    <div class=\"colab-df-container\">\n",
              "      <div>\n",
              "<style scoped>\n",
              "    .dataframe tbody tr th:only-of-type {\n",
              "        vertical-align: middle;\n",
              "    }\n",
              "\n",
              "    .dataframe tbody tr th {\n",
              "        vertical-align: top;\n",
              "    }\n",
              "\n",
              "    .dataframe thead th {\n",
              "        text-align: right;\n",
              "    }\n",
              "</style>\n",
              "<table border=\"1\" class=\"dataframe\">\n",
              "  <thead>\n",
              "    <tr style=\"text-align: right;\">\n",
              "      <th></th>\n",
              "      <th>id</th>\n",
              "      <th>name</th>\n",
              "      <th>description</th>\n",
              "      <th>lat</th>\n",
              "      <th>lon</th>\n",
              "      <th>start_frequency</th>\n",
              "      <th>end_frequency</th>\n",
              "    </tr>\n",
              "  </thead>\n",
              "  <tbody>\n",
              "    <tr>\n",
              "      <th>0</th>\n",
              "      <td>247</td>\n",
              "      <td>Charlotte Square</td>\n",
              "      <td>North Corner of Charlotte Square</td>\n",
              "      <td>55.952335</td>\n",
              "      <td>-3.207101</td>\n",
              "      <td>8134.0</td>\n",
              "      <td>4980.0</td>\n",
              "    </tr>\n",
              "    <tr>\n",
              "      <th>1</th>\n",
              "      <td>259</td>\n",
              "      <td>St Andrew Square</td>\n",
              "      <td>North East corner</td>\n",
              "      <td>55.954749</td>\n",
              "      <td>-3.192774</td>\n",
              "      <td>12218.0</td>\n",
              "      <td>8372.0</td>\n",
              "    </tr>\n",
              "    <tr>\n",
              "      <th>2</th>\n",
              "      <td>262</td>\n",
              "      <td>Canonmills</td>\n",
              "      <td>near Tesco's</td>\n",
              "      <td>55.962804</td>\n",
              "      <td>-3.196284</td>\n",
              "      <td>9551.0</td>\n",
              "      <td>11940.0</td>\n",
              "    </tr>\n",
              "    <tr>\n",
              "      <th>3</th>\n",
              "      <td>255</td>\n",
              "      <td>Kings Buildings 4</td>\n",
              "      <td>X-Y Cafe</td>\n",
              "      <td>55.922001</td>\n",
              "      <td>-3.176902</td>\n",
              "      <td>254.0</td>\n",
              "      <td>196.0</td>\n",
              "    </tr>\n",
              "    <tr>\n",
              "      <th>4</th>\n",
              "      <td>253</td>\n",
              "      <td>Kings Building 2</td>\n",
              "      <td>Sanderson Building</td>\n",
              "      <td>55.923202</td>\n",
              "      <td>-3.171646</td>\n",
              "      <td>4096.0</td>\n",
              "      <td>4557.0</td>\n",
              "    </tr>\n",
              "  </tbody>\n",
              "</table>\n",
              "</div>\n",
              "      <button class=\"colab-df-convert\" onclick=\"convertToInteractive('df-b0642068-b26f-4f6f-ae9c-314a10df2a6d')\"\n",
              "              title=\"Convert this dataframe to an interactive table.\"\n",
              "              style=\"display:none;\">\n",
              "        \n",
              "  <svg xmlns=\"http://www.w3.org/2000/svg\" height=\"24px\"viewBox=\"0 0 24 24\"\n",
              "       width=\"24px\">\n",
              "    <path d=\"M0 0h24v24H0V0z\" fill=\"none\"/>\n",
              "    <path d=\"M18.56 5.44l.94 2.06.94-2.06 2.06-.94-2.06-.94-.94-2.06-.94 2.06-2.06.94zm-11 1L8.5 8.5l.94-2.06 2.06-.94-2.06-.94L8.5 2.5l-.94 2.06-2.06.94zm10 10l.94 2.06.94-2.06 2.06-.94-2.06-.94-.94-2.06-.94 2.06-2.06.94z\"/><path d=\"M17.41 7.96l-1.37-1.37c-.4-.4-.92-.59-1.43-.59-.52 0-1.04.2-1.43.59L10.3 9.45l-7.72 7.72c-.78.78-.78 2.05 0 2.83L4 21.41c.39.39.9.59 1.41.59.51 0 1.02-.2 1.41-.59l7.78-7.78 2.81-2.81c.8-.78.8-2.07 0-2.86zM5.41 20L4 18.59l7.72-7.72 1.47 1.35L5.41 20z\"/>\n",
              "  </svg>\n",
              "      </button>\n",
              "      \n",
              "  <style>\n",
              "    .colab-df-container {\n",
              "      display:flex;\n",
              "      flex-wrap:wrap;\n",
              "      gap: 12px;\n",
              "    }\n",
              "\n",
              "    .colab-df-convert {\n",
              "      background-color: #E8F0FE;\n",
              "      border: none;\n",
              "      border-radius: 50%;\n",
              "      cursor: pointer;\n",
              "      display: none;\n",
              "      fill: #1967D2;\n",
              "      height: 32px;\n",
              "      padding: 0 0 0 0;\n",
              "      width: 32px;\n",
              "    }\n",
              "\n",
              "    .colab-df-convert:hover {\n",
              "      background-color: #E2EBFA;\n",
              "      box-shadow: 0px 1px 2px rgba(60, 64, 67, 0.3), 0px 1px 3px 1px rgba(60, 64, 67, 0.15);\n",
              "      fill: #174EA6;\n",
              "    }\n",
              "\n",
              "    [theme=dark] .colab-df-convert {\n",
              "      background-color: #3B4455;\n",
              "      fill: #D2E3FC;\n",
              "    }\n",
              "\n",
              "    [theme=dark] .colab-df-convert:hover {\n",
              "      background-color: #434B5C;\n",
              "      box-shadow: 0px 1px 3px 1px rgba(0, 0, 0, 0.15);\n",
              "      filter: drop-shadow(0px 1px 2px rgba(0, 0, 0, 0.3));\n",
              "      fill: #FFFFFF;\n",
              "    }\n",
              "  </style>\n",
              "\n",
              "      <script>\n",
              "        const buttonEl =\n",
              "          document.querySelector('#df-b0642068-b26f-4f6f-ae9c-314a10df2a6d button.colab-df-convert');\n",
              "        buttonEl.style.display =\n",
              "          google.colab.kernel.accessAllowed ? 'block' : 'none';\n",
              "\n",
              "        async function convertToInteractive(key) {\n",
              "          const element = document.querySelector('#df-b0642068-b26f-4f6f-ae9c-314a10df2a6d');\n",
              "          const dataTable =\n",
              "            await google.colab.kernel.invokeFunction('convertToInteractive',\n",
              "                                                     [key], {});\n",
              "          if (!dataTable) return;\n",
              "\n",
              "          const docLinkHtml = 'Like what you see? Visit the ' +\n",
              "            '<a target=\"_blank\" href=https://colab.research.google.com/notebooks/data_table.ipynb>data table notebook</a>'\n",
              "            + ' to learn more about interactive tables.';\n",
              "          element.innerHTML = '';\n",
              "          dataTable['output_type'] = 'display_data';\n",
              "          await google.colab.output.renderOutput(dataTable, element);\n",
              "          const docLink = document.createElement('div');\n",
              "          docLink.innerHTML = docLinkHtml;\n",
              "          element.appendChild(docLink);\n",
              "        }\n",
              "      </script>\n",
              "    </div>\n",
              "  </div>\n",
              "  "
            ]
          },
          "metadata": {},
          "execution_count": 39
        }
      ]
    },
    {
      "cell_type": "markdown",
      "source": [
        "Z dostupných stanic zjistíme, v kterých nebylo nikdy zapůjčeno kolo a nebylo nikdy vráceno kolo."
      ],
      "metadata": {
        "id": "J5LbK0mlgCDx"
      }
    },
    {
      "cell_type": "code",
      "source": [
        "dfs_final[dfs_final[\"start_frequency\"].isna()]"
      ],
      "metadata": {
        "colab": {
          "base_uri": "https://localhost:8080/",
          "height": 112
        },
        "id": "Rx9xpXAcWXzu",
        "outputId": "e54be7d7-40a2-414e-af2a-10353818d460"
      },
      "execution_count": 40,
      "outputs": [
        {
          "output_type": "execute_result",
          "data": {
            "text/plain": [
              "      id                    name    description        lat       lon  \\\n",
              "198  242           Virtual Depot  Virtual Depot  55.972402 -3.155794   \n",
              "199  280  Smarter Travel Station     The Street  53.395525 -2.990138   \n",
              "\n",
              "     start_frequency  end_frequency  \n",
              "198              NaN            2.0  \n",
              "199              NaN            3.0  "
            ],
            "text/html": [
              "\n",
              "  <div id=\"df-4470ccb3-098e-418b-9dc4-7cdaab3b993d\">\n",
              "    <div class=\"colab-df-container\">\n",
              "      <div>\n",
              "<style scoped>\n",
              "    .dataframe tbody tr th:only-of-type {\n",
              "        vertical-align: middle;\n",
              "    }\n",
              "\n",
              "    .dataframe tbody tr th {\n",
              "        vertical-align: top;\n",
              "    }\n",
              "\n",
              "    .dataframe thead th {\n",
              "        text-align: right;\n",
              "    }\n",
              "</style>\n",
              "<table border=\"1\" class=\"dataframe\">\n",
              "  <thead>\n",
              "    <tr style=\"text-align: right;\">\n",
              "      <th></th>\n",
              "      <th>id</th>\n",
              "      <th>name</th>\n",
              "      <th>description</th>\n",
              "      <th>lat</th>\n",
              "      <th>lon</th>\n",
              "      <th>start_frequency</th>\n",
              "      <th>end_frequency</th>\n",
              "    </tr>\n",
              "  </thead>\n",
              "  <tbody>\n",
              "    <tr>\n",
              "      <th>198</th>\n",
              "      <td>242</td>\n",
              "      <td>Virtual Depot</td>\n",
              "      <td>Virtual Depot</td>\n",
              "      <td>55.972402</td>\n",
              "      <td>-3.155794</td>\n",
              "      <td>NaN</td>\n",
              "      <td>2.0</td>\n",
              "    </tr>\n",
              "    <tr>\n",
              "      <th>199</th>\n",
              "      <td>280</td>\n",
              "      <td>Smarter Travel Station</td>\n",
              "      <td>The Street</td>\n",
              "      <td>53.395525</td>\n",
              "      <td>-2.990138</td>\n",
              "      <td>NaN</td>\n",
              "      <td>3.0</td>\n",
              "    </tr>\n",
              "  </tbody>\n",
              "</table>\n",
              "</div>\n",
              "      <button class=\"colab-df-convert\" onclick=\"convertToInteractive('df-4470ccb3-098e-418b-9dc4-7cdaab3b993d')\"\n",
              "              title=\"Convert this dataframe to an interactive table.\"\n",
              "              style=\"display:none;\">\n",
              "        \n",
              "  <svg xmlns=\"http://www.w3.org/2000/svg\" height=\"24px\"viewBox=\"0 0 24 24\"\n",
              "       width=\"24px\">\n",
              "    <path d=\"M0 0h24v24H0V0z\" fill=\"none\"/>\n",
              "    <path d=\"M18.56 5.44l.94 2.06.94-2.06 2.06-.94-2.06-.94-.94-2.06-.94 2.06-2.06.94zm-11 1L8.5 8.5l.94-2.06 2.06-.94-2.06-.94L8.5 2.5l-.94 2.06-2.06.94zm10 10l.94 2.06.94-2.06 2.06-.94-2.06-.94-.94-2.06-.94 2.06-2.06.94z\"/><path d=\"M17.41 7.96l-1.37-1.37c-.4-.4-.92-.59-1.43-.59-.52 0-1.04.2-1.43.59L10.3 9.45l-7.72 7.72c-.78.78-.78 2.05 0 2.83L4 21.41c.39.39.9.59 1.41.59.51 0 1.02-.2 1.41-.59l7.78-7.78 2.81-2.81c.8-.78.8-2.07 0-2.86zM5.41 20L4 18.59l7.72-7.72 1.47 1.35L5.41 20z\"/>\n",
              "  </svg>\n",
              "      </button>\n",
              "      \n",
              "  <style>\n",
              "    .colab-df-container {\n",
              "      display:flex;\n",
              "      flex-wrap:wrap;\n",
              "      gap: 12px;\n",
              "    }\n",
              "\n",
              "    .colab-df-convert {\n",
              "      background-color: #E8F0FE;\n",
              "      border: none;\n",
              "      border-radius: 50%;\n",
              "      cursor: pointer;\n",
              "      display: none;\n",
              "      fill: #1967D2;\n",
              "      height: 32px;\n",
              "      padding: 0 0 0 0;\n",
              "      width: 32px;\n",
              "    }\n",
              "\n",
              "    .colab-df-convert:hover {\n",
              "      background-color: #E2EBFA;\n",
              "      box-shadow: 0px 1px 2px rgba(60, 64, 67, 0.3), 0px 1px 3px 1px rgba(60, 64, 67, 0.15);\n",
              "      fill: #174EA6;\n",
              "    }\n",
              "\n",
              "    [theme=dark] .colab-df-convert {\n",
              "      background-color: #3B4455;\n",
              "      fill: #D2E3FC;\n",
              "    }\n",
              "\n",
              "    [theme=dark] .colab-df-convert:hover {\n",
              "      background-color: #434B5C;\n",
              "      box-shadow: 0px 1px 3px 1px rgba(0, 0, 0, 0.15);\n",
              "      filter: drop-shadow(0px 1px 2px rgba(0, 0, 0, 0.3));\n",
              "      fill: #FFFFFF;\n",
              "    }\n",
              "  </style>\n",
              "\n",
              "      <script>\n",
              "        const buttonEl =\n",
              "          document.querySelector('#df-4470ccb3-098e-418b-9dc4-7cdaab3b993d button.colab-df-convert');\n",
              "        buttonEl.style.display =\n",
              "          google.colab.kernel.accessAllowed ? 'block' : 'none';\n",
              "\n",
              "        async function convertToInteractive(key) {\n",
              "          const element = document.querySelector('#df-4470ccb3-098e-418b-9dc4-7cdaab3b993d');\n",
              "          const dataTable =\n",
              "            await google.colab.kernel.invokeFunction('convertToInteractive',\n",
              "                                                     [key], {});\n",
              "          if (!dataTable) return;\n",
              "\n",
              "          const docLinkHtml = 'Like what you see? Visit the ' +\n",
              "            '<a target=\"_blank\" href=https://colab.research.google.com/notebooks/data_table.ipynb>data table notebook</a>'\n",
              "            + ' to learn more about interactive tables.';\n",
              "          element.innerHTML = '';\n",
              "          dataTable['output_type'] = 'display_data';\n",
              "          await google.colab.output.renderOutput(dataTable, element);\n",
              "          const docLink = document.createElement('div');\n",
              "          docLink.innerHTML = docLinkHtml;\n",
              "          element.appendChild(docLink);\n",
              "        }\n",
              "      </script>\n",
              "    </div>\n",
              "  </div>\n",
              "  "
            ]
          },
          "metadata": {},
          "execution_count": 40
        }
      ]
    },
    {
      "cell_type": "code",
      "source": [
        "dfs_final[dfs_final[\"end_frequency\"].isna()]"
      ],
      "metadata": {
        "colab": {
          "base_uri": "https://localhost:8080/",
          "height": 81
        },
        "id": "kEOIOOWpf6Y4",
        "outputId": "742bf747-c591-465f-dd25-99edd347ecde"
      },
      "execution_count": 41,
      "outputs": [
        {
          "output_type": "execute_result",
          "data": {
            "text/plain": [
              "       id                          name                         description  \\\n",
              "182  1857  City Chambers Launch Station  Temporary station at City Chambers   \n",
              "\n",
              "           lat      lon  start_frequency  end_frequency  \n",
              "182  55.950222 -3.19027              1.0            NaN  "
            ],
            "text/html": [
              "\n",
              "  <div id=\"df-2abf336e-e3b9-4aad-ba7a-0aa28955a815\">\n",
              "    <div class=\"colab-df-container\">\n",
              "      <div>\n",
              "<style scoped>\n",
              "    .dataframe tbody tr th:only-of-type {\n",
              "        vertical-align: middle;\n",
              "    }\n",
              "\n",
              "    .dataframe tbody tr th {\n",
              "        vertical-align: top;\n",
              "    }\n",
              "\n",
              "    .dataframe thead th {\n",
              "        text-align: right;\n",
              "    }\n",
              "</style>\n",
              "<table border=\"1\" class=\"dataframe\">\n",
              "  <thead>\n",
              "    <tr style=\"text-align: right;\">\n",
              "      <th></th>\n",
              "      <th>id</th>\n",
              "      <th>name</th>\n",
              "      <th>description</th>\n",
              "      <th>lat</th>\n",
              "      <th>lon</th>\n",
              "      <th>start_frequency</th>\n",
              "      <th>end_frequency</th>\n",
              "    </tr>\n",
              "  </thead>\n",
              "  <tbody>\n",
              "    <tr>\n",
              "      <th>182</th>\n",
              "      <td>1857</td>\n",
              "      <td>City Chambers Launch Station</td>\n",
              "      <td>Temporary station at City Chambers</td>\n",
              "      <td>55.950222</td>\n",
              "      <td>-3.19027</td>\n",
              "      <td>1.0</td>\n",
              "      <td>NaN</td>\n",
              "    </tr>\n",
              "  </tbody>\n",
              "</table>\n",
              "</div>\n",
              "      <button class=\"colab-df-convert\" onclick=\"convertToInteractive('df-2abf336e-e3b9-4aad-ba7a-0aa28955a815')\"\n",
              "              title=\"Convert this dataframe to an interactive table.\"\n",
              "              style=\"display:none;\">\n",
              "        \n",
              "  <svg xmlns=\"http://www.w3.org/2000/svg\" height=\"24px\"viewBox=\"0 0 24 24\"\n",
              "       width=\"24px\">\n",
              "    <path d=\"M0 0h24v24H0V0z\" fill=\"none\"/>\n",
              "    <path d=\"M18.56 5.44l.94 2.06.94-2.06 2.06-.94-2.06-.94-.94-2.06-.94 2.06-2.06.94zm-11 1L8.5 8.5l.94-2.06 2.06-.94-2.06-.94L8.5 2.5l-.94 2.06-2.06.94zm10 10l.94 2.06.94-2.06 2.06-.94-2.06-.94-.94-2.06-.94 2.06-2.06.94z\"/><path d=\"M17.41 7.96l-1.37-1.37c-.4-.4-.92-.59-1.43-.59-.52 0-1.04.2-1.43.59L10.3 9.45l-7.72 7.72c-.78.78-.78 2.05 0 2.83L4 21.41c.39.39.9.59 1.41.59.51 0 1.02-.2 1.41-.59l7.78-7.78 2.81-2.81c.8-.78.8-2.07 0-2.86zM5.41 20L4 18.59l7.72-7.72 1.47 1.35L5.41 20z\"/>\n",
              "  </svg>\n",
              "      </button>\n",
              "      \n",
              "  <style>\n",
              "    .colab-df-container {\n",
              "      display:flex;\n",
              "      flex-wrap:wrap;\n",
              "      gap: 12px;\n",
              "    }\n",
              "\n",
              "    .colab-df-convert {\n",
              "      background-color: #E8F0FE;\n",
              "      border: none;\n",
              "      border-radius: 50%;\n",
              "      cursor: pointer;\n",
              "      display: none;\n",
              "      fill: #1967D2;\n",
              "      height: 32px;\n",
              "      padding: 0 0 0 0;\n",
              "      width: 32px;\n",
              "    }\n",
              "\n",
              "    .colab-df-convert:hover {\n",
              "      background-color: #E2EBFA;\n",
              "      box-shadow: 0px 1px 2px rgba(60, 64, 67, 0.3), 0px 1px 3px 1px rgba(60, 64, 67, 0.15);\n",
              "      fill: #174EA6;\n",
              "    }\n",
              "\n",
              "    [theme=dark] .colab-df-convert {\n",
              "      background-color: #3B4455;\n",
              "      fill: #D2E3FC;\n",
              "    }\n",
              "\n",
              "    [theme=dark] .colab-df-convert:hover {\n",
              "      background-color: #434B5C;\n",
              "      box-shadow: 0px 1px 3px 1px rgba(0, 0, 0, 0.15);\n",
              "      filter: drop-shadow(0px 1px 2px rgba(0, 0, 0, 0.3));\n",
              "      fill: #FFFFFF;\n",
              "    }\n",
              "  </style>\n",
              "\n",
              "      <script>\n",
              "        const buttonEl =\n",
              "          document.querySelector('#df-2abf336e-e3b9-4aad-ba7a-0aa28955a815 button.colab-df-convert');\n",
              "        buttonEl.style.display =\n",
              "          google.colab.kernel.accessAllowed ? 'block' : 'none';\n",
              "\n",
              "        async function convertToInteractive(key) {\n",
              "          const element = document.querySelector('#df-2abf336e-e3b9-4aad-ba7a-0aa28955a815');\n",
              "          const dataTable =\n",
              "            await google.colab.kernel.invokeFunction('convertToInteractive',\n",
              "                                                     [key], {});\n",
              "          if (!dataTable) return;\n",
              "\n",
              "          const docLinkHtml = 'Like what you see? Visit the ' +\n",
              "            '<a target=\"_blank\" href=https://colab.research.google.com/notebooks/data_table.ipynb>data table notebook</a>'\n",
              "            + ' to learn more about interactive tables.';\n",
              "          element.innerHTML = '';\n",
              "          dataTable['output_type'] = 'display_data';\n",
              "          await google.colab.output.renderOutput(dataTable, element);\n",
              "          const docLink = document.createElement('div');\n",
              "          docLink.innerHTML = docLinkHtml;\n",
              "          element.appendChild(docLink);\n",
              "        }\n",
              "      </script>\n",
              "    </div>\n",
              "  </div>\n",
              "  "
            ]
          },
          "metadata": {},
          "execution_count": 41
        }
      ]
    },
    {
      "cell_type": "code",
      "source": [
        "dfs_final.to_pickle(\"/content/drive/MyDrive/Colab Notebooks/bikes/stations.pkl\")"
      ],
      "metadata": {
        "id": "wq4gst6zgiaU"
      },
      "execution_count": 42,
      "outputs": []
    },
    {
      "cell_type": "markdown",
      "source": [
        "V Edinburghu se nachází **200** stanic.  \n",
        "Připravený dataframe uložím do **stations.pkl**, s kterým budu následně pracovat."
      ],
      "metadata": {
        "id": "l3n15CfnJdna"
      }
    },
    {
      "cell_type": "markdown",
      "source": [
        "#### Sjednocený dataset <a name=\"2.2\"></a>"
      ],
      "metadata": {
        "id": "g4HNR1ojLsgb"
      }
    },
    {
      "cell_type": "markdown",
      "source": [
        "Sjednocený dataset záznamů o vypůjčení kol s informacemi o počasí podle data."
      ],
      "metadata": {
        "id": "RkQNJGBjMRVL"
      }
    },
    {
      "cell_type": "code",
      "source": [
        "# Načtení dat\n",
        "dfb1 = pd.read_pickle(\"/content/drive/MyDrive/Colab Notebooks/bikes/bikes.pkl\")\n",
        "dfw2 = pd.read_pickle(\"/content/drive/MyDrive/Colab Notebooks/bikes/weather.pkl\")"
      ],
      "metadata": {
        "id": "2_ATQ4MleZbx"
      },
      "execution_count": 43,
      "outputs": []
    },
    {
      "cell_type": "code",
      "source": [
        "# sjednotím data o výpujčkách kol s daty o počasí. Dataframe bikes omezím pouze na dostupné údaje o počasí.\n",
        "last = str(dfw2.datetime.max())\n",
        "merged_df = pd.merge_asof(dfb1[dfb1[\"start\"] <= last], dfw2,\n",
        "                                 left_on=\"start\", right_on=\"datetime\", \n",
        "                                 direction='nearest',\n",
        "                                 allow_exact_matches=False).drop(columns=\"datetime\")"
      ],
      "metadata": {
        "id": "RARLeg-otB1X"
      },
      "execution_count": 44,
      "outputs": []
    },
    {
      "cell_type": "code",
      "source": [
        "merged_df.head()"
      ],
      "metadata": {
        "colab": {
          "base_uri": "https://localhost:8080/",
          "height": 461
        },
        "id": "VICk59FWtZHb",
        "outputId": "c409f4ac-0ab1-4b98-c9b5-b1f77b599e4d"
      },
      "execution_count": 45,
      "outputs": [
        {
          "output_type": "execute_result",
          "data": {
            "text/plain": [
              "                start                 end  duration  start_id  \\\n",
              "0 2018-09-15 08:52:05 2018-09-15 09:11:48      1182       247   \n",
              "1 2018-09-15 09:24:33 2018-09-15 09:41:09       995       259   \n",
              "2 2018-09-15 09:48:54 2018-09-15 10:46:40      3466       262   \n",
              "3 2018-09-16 12:01:36 2018-09-16 12:25:26      1430       255   \n",
              "4 2018-09-16 12:03:43 2018-09-16 12:11:16       452       255   \n",
              "\n",
              "          start_name                 start_description  start_latitude  \\\n",
              "0   Charlotte Square  North Corner of Charlotte Square       55.952335   \n",
              "1   St Andrew Square                 North East corner       55.954749   \n",
              "2         Canonmills                      near Tesco's       55.962804   \n",
              "3  Kings Buildings 4                          X-Y Cafe       55.922001   \n",
              "4  Kings Buildings 4                          X-Y Cafe       55.922001   \n",
              "\n",
              "   start_longitude  end_id          end_name  \\\n",
              "0        -3.207101     259  St Andrew Square   \n",
              "1        -3.192774     262        Canonmills   \n",
              "2        -3.196284     250     Victoria Quay   \n",
              "3        -3.176902     254  Kings Building 3   \n",
              "4        -3.176902     253  Kings Building 2   \n",
              "\n",
              "                          end_description  end_latitude  end_longitude  \\\n",
              "0                       North East corner     55.954728      -3.192653   \n",
              "1                            near Tesco's     55.962804      -3.196284   \n",
              "2  Entrance to Scottish Government Office     55.977638      -3.174116   \n",
              "3                    Kings Building House     55.923479      -3.175385   \n",
              "4                      Sanderson Building     55.923202      -3.171646   \n",
              "\n",
              "   temp_c  wind_kmh  gust_kmh  rain_mm  \n",
              "0      10        16        23      0.0  \n",
              "1      10        16        23      0.0  \n",
              "2      10        16        23      0.0  \n",
              "3      14        32        47      0.0  \n",
              "4      14        32        47      0.0  "
            ],
            "text/html": [
              "\n",
              "  <div id=\"df-81e5bc12-a1d6-48c4-8da1-9ff6b329d595\">\n",
              "    <div class=\"colab-df-container\">\n",
              "      <div>\n",
              "<style scoped>\n",
              "    .dataframe tbody tr th:only-of-type {\n",
              "        vertical-align: middle;\n",
              "    }\n",
              "\n",
              "    .dataframe tbody tr th {\n",
              "        vertical-align: top;\n",
              "    }\n",
              "\n",
              "    .dataframe thead th {\n",
              "        text-align: right;\n",
              "    }\n",
              "</style>\n",
              "<table border=\"1\" class=\"dataframe\">\n",
              "  <thead>\n",
              "    <tr style=\"text-align: right;\">\n",
              "      <th></th>\n",
              "      <th>start</th>\n",
              "      <th>end</th>\n",
              "      <th>duration</th>\n",
              "      <th>start_id</th>\n",
              "      <th>start_name</th>\n",
              "      <th>start_description</th>\n",
              "      <th>start_latitude</th>\n",
              "      <th>start_longitude</th>\n",
              "      <th>end_id</th>\n",
              "      <th>end_name</th>\n",
              "      <th>end_description</th>\n",
              "      <th>end_latitude</th>\n",
              "      <th>end_longitude</th>\n",
              "      <th>temp_c</th>\n",
              "      <th>wind_kmh</th>\n",
              "      <th>gust_kmh</th>\n",
              "      <th>rain_mm</th>\n",
              "    </tr>\n",
              "  </thead>\n",
              "  <tbody>\n",
              "    <tr>\n",
              "      <th>0</th>\n",
              "      <td>2018-09-15 08:52:05</td>\n",
              "      <td>2018-09-15 09:11:48</td>\n",
              "      <td>1182</td>\n",
              "      <td>247</td>\n",
              "      <td>Charlotte Square</td>\n",
              "      <td>North Corner of Charlotte Square</td>\n",
              "      <td>55.952335</td>\n",
              "      <td>-3.207101</td>\n",
              "      <td>259</td>\n",
              "      <td>St Andrew Square</td>\n",
              "      <td>North East corner</td>\n",
              "      <td>55.954728</td>\n",
              "      <td>-3.192653</td>\n",
              "      <td>10</td>\n",
              "      <td>16</td>\n",
              "      <td>23</td>\n",
              "      <td>0.0</td>\n",
              "    </tr>\n",
              "    <tr>\n",
              "      <th>1</th>\n",
              "      <td>2018-09-15 09:24:33</td>\n",
              "      <td>2018-09-15 09:41:09</td>\n",
              "      <td>995</td>\n",
              "      <td>259</td>\n",
              "      <td>St Andrew Square</td>\n",
              "      <td>North East corner</td>\n",
              "      <td>55.954749</td>\n",
              "      <td>-3.192774</td>\n",
              "      <td>262</td>\n",
              "      <td>Canonmills</td>\n",
              "      <td>near Tesco's</td>\n",
              "      <td>55.962804</td>\n",
              "      <td>-3.196284</td>\n",
              "      <td>10</td>\n",
              "      <td>16</td>\n",
              "      <td>23</td>\n",
              "      <td>0.0</td>\n",
              "    </tr>\n",
              "    <tr>\n",
              "      <th>2</th>\n",
              "      <td>2018-09-15 09:48:54</td>\n",
              "      <td>2018-09-15 10:46:40</td>\n",
              "      <td>3466</td>\n",
              "      <td>262</td>\n",
              "      <td>Canonmills</td>\n",
              "      <td>near Tesco's</td>\n",
              "      <td>55.962804</td>\n",
              "      <td>-3.196284</td>\n",
              "      <td>250</td>\n",
              "      <td>Victoria Quay</td>\n",
              "      <td>Entrance to Scottish Government Office</td>\n",
              "      <td>55.977638</td>\n",
              "      <td>-3.174116</td>\n",
              "      <td>10</td>\n",
              "      <td>16</td>\n",
              "      <td>23</td>\n",
              "      <td>0.0</td>\n",
              "    </tr>\n",
              "    <tr>\n",
              "      <th>3</th>\n",
              "      <td>2018-09-16 12:01:36</td>\n",
              "      <td>2018-09-16 12:25:26</td>\n",
              "      <td>1430</td>\n",
              "      <td>255</td>\n",
              "      <td>Kings Buildings 4</td>\n",
              "      <td>X-Y Cafe</td>\n",
              "      <td>55.922001</td>\n",
              "      <td>-3.176902</td>\n",
              "      <td>254</td>\n",
              "      <td>Kings Building 3</td>\n",
              "      <td>Kings Building House</td>\n",
              "      <td>55.923479</td>\n",
              "      <td>-3.175385</td>\n",
              "      <td>14</td>\n",
              "      <td>32</td>\n",
              "      <td>47</td>\n",
              "      <td>0.0</td>\n",
              "    </tr>\n",
              "    <tr>\n",
              "      <th>4</th>\n",
              "      <td>2018-09-16 12:03:43</td>\n",
              "      <td>2018-09-16 12:11:16</td>\n",
              "      <td>452</td>\n",
              "      <td>255</td>\n",
              "      <td>Kings Buildings 4</td>\n",
              "      <td>X-Y Cafe</td>\n",
              "      <td>55.922001</td>\n",
              "      <td>-3.176902</td>\n",
              "      <td>253</td>\n",
              "      <td>Kings Building 2</td>\n",
              "      <td>Sanderson Building</td>\n",
              "      <td>55.923202</td>\n",
              "      <td>-3.171646</td>\n",
              "      <td>14</td>\n",
              "      <td>32</td>\n",
              "      <td>47</td>\n",
              "      <td>0.0</td>\n",
              "    </tr>\n",
              "  </tbody>\n",
              "</table>\n",
              "</div>\n",
              "      <button class=\"colab-df-convert\" onclick=\"convertToInteractive('df-81e5bc12-a1d6-48c4-8da1-9ff6b329d595')\"\n",
              "              title=\"Convert this dataframe to an interactive table.\"\n",
              "              style=\"display:none;\">\n",
              "        \n",
              "  <svg xmlns=\"http://www.w3.org/2000/svg\" height=\"24px\"viewBox=\"0 0 24 24\"\n",
              "       width=\"24px\">\n",
              "    <path d=\"M0 0h24v24H0V0z\" fill=\"none\"/>\n",
              "    <path d=\"M18.56 5.44l.94 2.06.94-2.06 2.06-.94-2.06-.94-.94-2.06-.94 2.06-2.06.94zm-11 1L8.5 8.5l.94-2.06 2.06-.94-2.06-.94L8.5 2.5l-.94 2.06-2.06.94zm10 10l.94 2.06.94-2.06 2.06-.94-2.06-.94-.94-2.06-.94 2.06-2.06.94z\"/><path d=\"M17.41 7.96l-1.37-1.37c-.4-.4-.92-.59-1.43-.59-.52 0-1.04.2-1.43.59L10.3 9.45l-7.72 7.72c-.78.78-.78 2.05 0 2.83L4 21.41c.39.39.9.59 1.41.59.51 0 1.02-.2 1.41-.59l7.78-7.78 2.81-2.81c.8-.78.8-2.07 0-2.86zM5.41 20L4 18.59l7.72-7.72 1.47 1.35L5.41 20z\"/>\n",
              "  </svg>\n",
              "      </button>\n",
              "      \n",
              "  <style>\n",
              "    .colab-df-container {\n",
              "      display:flex;\n",
              "      flex-wrap:wrap;\n",
              "      gap: 12px;\n",
              "    }\n",
              "\n",
              "    .colab-df-convert {\n",
              "      background-color: #E8F0FE;\n",
              "      border: none;\n",
              "      border-radius: 50%;\n",
              "      cursor: pointer;\n",
              "      display: none;\n",
              "      fill: #1967D2;\n",
              "      height: 32px;\n",
              "      padding: 0 0 0 0;\n",
              "      width: 32px;\n",
              "    }\n",
              "\n",
              "    .colab-df-convert:hover {\n",
              "      background-color: #E2EBFA;\n",
              "      box-shadow: 0px 1px 2px rgba(60, 64, 67, 0.3), 0px 1px 3px 1px rgba(60, 64, 67, 0.15);\n",
              "      fill: #174EA6;\n",
              "    }\n",
              "\n",
              "    [theme=dark] .colab-df-convert {\n",
              "      background-color: #3B4455;\n",
              "      fill: #D2E3FC;\n",
              "    }\n",
              "\n",
              "    [theme=dark] .colab-df-convert:hover {\n",
              "      background-color: #434B5C;\n",
              "      box-shadow: 0px 1px 3px 1px rgba(0, 0, 0, 0.15);\n",
              "      filter: drop-shadow(0px 1px 2px rgba(0, 0, 0, 0.3));\n",
              "      fill: #FFFFFF;\n",
              "    }\n",
              "  </style>\n",
              "\n",
              "      <script>\n",
              "        const buttonEl =\n",
              "          document.querySelector('#df-81e5bc12-a1d6-48c4-8da1-9ff6b329d595 button.colab-df-convert');\n",
              "        buttonEl.style.display =\n",
              "          google.colab.kernel.accessAllowed ? 'block' : 'none';\n",
              "\n",
              "        async function convertToInteractive(key) {\n",
              "          const element = document.querySelector('#df-81e5bc12-a1d6-48c4-8da1-9ff6b329d595');\n",
              "          const dataTable =\n",
              "            await google.colab.kernel.invokeFunction('convertToInteractive',\n",
              "                                                     [key], {});\n",
              "          if (!dataTable) return;\n",
              "\n",
              "          const docLinkHtml = 'Like what you see? Visit the ' +\n",
              "            '<a target=\"_blank\" href=https://colab.research.google.com/notebooks/data_table.ipynb>data table notebook</a>'\n",
              "            + ' to learn more about interactive tables.';\n",
              "          element.innerHTML = '';\n",
              "          dataTable['output_type'] = 'display_data';\n",
              "          await google.colab.output.renderOutput(dataTable, element);\n",
              "          const docLink = document.createElement('div');\n",
              "          docLink.innerHTML = docLinkHtml;\n",
              "          element.appendChild(docLink);\n",
              "        }\n",
              "      </script>\n",
              "    </div>\n",
              "  </div>\n",
              "  "
            ]
          },
          "metadata": {},
          "execution_count": 45
        }
      ]
    },
    {
      "cell_type": "code",
      "source": [
        "# uložení jako pickle\n",
        "merged_df.to_pickle(\"/content/drive/MyDrive/Colab Notebooks/bikes/merged.pkl\")"
      ],
      "metadata": {
        "id": "AzcFEOEv6M_p"
      },
      "execution_count": 46,
      "outputs": []
    },
    {
      "cell_type": "markdown",
      "source": [
        "## Analýza<a name=\"3\"></a>"
      ],
      "metadata": {
        "id": "rZ7KKUSwK20f"
      }
    },
    {
      "cell_type": "markdown",
      "source": [
        "### Vzdálenosti stanic<a name=\"3.1\"></a>"
      ],
      "metadata": {
        "id": "pGxMHnqZ8UmN"
      }
    },
    {
      "cell_type": "code",
      "source": [
        "from sklearn.neighbors import DistanceMetric"
      ],
      "metadata": {
        "id": "wkR7JYx-HAUN"
      },
      "execution_count": 47,
      "outputs": []
    },
    {
      "cell_type": "code",
      "source": [
        "df = pd.read_pickle(\"/content/drive/MyDrive/Colab Notebooks/bikes/stations.pkl\")"
      ],
      "metadata": {
        "id": "fQHp8kZ-8tpz"
      },
      "execution_count": 48,
      "outputs": []
    },
    {
      "cell_type": "code",
      "source": [
        "df = df.sort_values(by=\"id\")"
      ],
      "metadata": {
        "id": "J5LR7MIL9pNh"
      },
      "execution_count": 49,
      "outputs": []
    },
    {
      "cell_type": "markdown",
      "source": [
        "https://medium.com/@danalindquist/finding-the-distance-between-two-lists-of-geographic-coordinates-9ace7e43bb2f"
      ],
      "metadata": {
        "id": "kbVVbL6VGu75"
      }
    },
    {
      "cell_type": "code",
      "source": [
        "# převedení na radiány\n",
        "df['lat'] = np.radians(df['lat'])\n",
        "df['lon'] = np.radians(df['lon'])"
      ],
      "metadata": {
        "id": "sUKL3M2CAj1L"
      },
      "execution_count": 50,
      "outputs": []
    },
    {
      "cell_type": "code",
      "source": [
        "# vytvoření matice pomocí knihovny\n",
        "dist = DistanceMetric.get_metric('haversine')"
      ],
      "metadata": {
        "colab": {
          "base_uri": "https://localhost:8080/"
        },
        "id": "XiHxpcHWAzpS",
        "outputId": "e76e5f42-18b6-4f1c-cd64-14477d4dfda7"
      },
      "execution_count": 51,
      "outputs": [
        {
          "output_type": "stream",
          "name": "stderr",
          "text": [
            "/usr/local/lib/python3.7/dist-packages/sklearn/neighbors/_distance_metric.py:14: FutureWarning: sklearn.neighbors.DistanceMetric has been moved to sklearn.metrics.DistanceMetric in 1.0. This import path will be removed in 1.3\n",
            "  category=FutureWarning,\n"
          ]
        }
      ]
    },
    {
      "cell_type": "code",
      "source": [
        "# radius země v km\n",
        "earth_radius = 6373\n",
        "distance = pd.DataFrame(dist.pairwise((df[['lat','lon']]) * earth_radius).round(2),  columns=df.id, index=df.id)"
      ],
      "metadata": {
        "id": "UHxl7c9iBKzG"
      },
      "execution_count": 52,
      "outputs": []
    },
    {
      "cell_type": "code",
      "source": [
        "distance"
      ],
      "metadata": {
        "colab": {
          "base_uri": "https://localhost:8080/",
          "height": 455
        },
        "id": "wFrAw8JdFNgZ",
        "outputId": "9454c91f-6878-4caf-8d83-696383fd8a6d"
      },
      "execution_count": 53,
      "outputs": [
        {
          "output_type": "execute_result",
          "data": {
            "text/plain": [
              "id    171   183   189   225   241   242   246   247   248   249   ...  1868  \\\n",
              "id                                                                ...         \n",
              "171   0.00  0.96  0.80  1.03  1.84  1.84  0.64  1.92  0.33  1.15  ...  1.07   \n",
              "183   0.96  0.00  0.19  0.81  1.13  1.13  1.59  1.75  0.66  1.78  ...  1.58   \n",
              "189   0.80  0.19  0.00  0.70  1.18  1.18  1.44  1.88  0.48  1.74  ...  1.56   \n",
              "225   1.03  0.81  0.70  0.00  0.83  0.83  1.51  2.54  0.79  2.18  ...  2.09   \n",
              "241   1.84  1.13  1.18  0.83  0.00  0.00  2.33  2.10  1.54  2.91  ...  2.69   \n",
              "...    ...   ...   ...   ...   ...   ...   ...   ...   ...   ...  ...   ...   \n",
              "1877  0.70  1.59  1.46  1.69  2.52  2.52  0.26  1.53  1.02  0.53  ...  0.59   \n",
              "2259  2.47  1.51  1.67  1.65  0.85  0.85  3.07  1.30  2.16  2.32  ...  2.23   \n",
              "2263  0.58  1.37  1.18  0.97  1.76  1.75  0.58  2.34  0.75  1.35  ...  1.39   \n",
              "2265  1.05  1.95  1.76  1.47  2.08  2.07  0.56  2.10  1.30  1.15  ...  1.32   \n",
              "2268  1.51  0.80  0.83  0.58  0.35  0.35  2.07  2.15  1.20  2.57  ...  2.37   \n",
              "\n",
              "id    1869  1870  1871  1874  1877  2259  2263  2265  2268  \n",
              "id                                                          \n",
              "171   0.89  0.23  1.09  1.30  0.70  2.47  0.58  1.05  1.51  \n",
              "183   1.60  1.18  0.57  1.36  1.59  1.51  1.37  1.95  0.80  \n",
              "189   1.53  1.02  0.69  1.43  1.46  1.67  1.18  1.76  0.83  \n",
              "225   1.92  1.22  1.37  2.11  1.69  1.65  0.97  1.47  0.58  \n",
              "241   2.70  2.04  1.54  2.28  2.52  0.85  1.76  2.08  0.35  \n",
              "...    ...   ...   ...   ...   ...   ...   ...   ...   ...  \n",
              "1877  0.32  0.49  1.42  1.05  0.00  2.81  0.82  0.78  2.21  \n",
              "2259  2.50  2.68  1.51  1.77  2.81  0.00  2.60  2.65  1.08  \n",
              "2263  1.13  0.54  1.66  1.78  0.82  2.60  0.00  0.59  1.55  \n",
              "2265  1.05  0.89  2.11  1.80  0.78  2.65  0.59  0.00  2.01  \n",
              "2268  2.35  1.73  1.28  2.08  2.21  1.08  1.55  2.01  0.00  \n",
              "\n",
              "[200 rows x 200 columns]"
            ],
            "text/html": [
              "\n",
              "  <div id=\"df-cd9dfe0f-9cdc-4685-b13d-79f9b2269c1d\">\n",
              "    <div class=\"colab-df-container\">\n",
              "      <div>\n",
              "<style scoped>\n",
              "    .dataframe tbody tr th:only-of-type {\n",
              "        vertical-align: middle;\n",
              "    }\n",
              "\n",
              "    .dataframe tbody tr th {\n",
              "        vertical-align: top;\n",
              "    }\n",
              "\n",
              "    .dataframe thead th {\n",
              "        text-align: right;\n",
              "    }\n",
              "</style>\n",
              "<table border=\"1\" class=\"dataframe\">\n",
              "  <thead>\n",
              "    <tr style=\"text-align: right;\">\n",
              "      <th>id</th>\n",
              "      <th>171</th>\n",
              "      <th>183</th>\n",
              "      <th>189</th>\n",
              "      <th>225</th>\n",
              "      <th>241</th>\n",
              "      <th>242</th>\n",
              "      <th>246</th>\n",
              "      <th>247</th>\n",
              "      <th>248</th>\n",
              "      <th>249</th>\n",
              "      <th>...</th>\n",
              "      <th>1868</th>\n",
              "      <th>1869</th>\n",
              "      <th>1870</th>\n",
              "      <th>1871</th>\n",
              "      <th>1874</th>\n",
              "      <th>1877</th>\n",
              "      <th>2259</th>\n",
              "      <th>2263</th>\n",
              "      <th>2265</th>\n",
              "      <th>2268</th>\n",
              "    </tr>\n",
              "    <tr>\n",
              "      <th>id</th>\n",
              "      <th></th>\n",
              "      <th></th>\n",
              "      <th></th>\n",
              "      <th></th>\n",
              "      <th></th>\n",
              "      <th></th>\n",
              "      <th></th>\n",
              "      <th></th>\n",
              "      <th></th>\n",
              "      <th></th>\n",
              "      <th></th>\n",
              "      <th></th>\n",
              "      <th></th>\n",
              "      <th></th>\n",
              "      <th></th>\n",
              "      <th></th>\n",
              "      <th></th>\n",
              "      <th></th>\n",
              "      <th></th>\n",
              "      <th></th>\n",
              "      <th></th>\n",
              "    </tr>\n",
              "  </thead>\n",
              "  <tbody>\n",
              "    <tr>\n",
              "      <th>171</th>\n",
              "      <td>0.00</td>\n",
              "      <td>0.96</td>\n",
              "      <td>0.80</td>\n",
              "      <td>1.03</td>\n",
              "      <td>1.84</td>\n",
              "      <td>1.84</td>\n",
              "      <td>0.64</td>\n",
              "      <td>1.92</td>\n",
              "      <td>0.33</td>\n",
              "      <td>1.15</td>\n",
              "      <td>...</td>\n",
              "      <td>1.07</td>\n",
              "      <td>0.89</td>\n",
              "      <td>0.23</td>\n",
              "      <td>1.09</td>\n",
              "      <td>1.30</td>\n",
              "      <td>0.70</td>\n",
              "      <td>2.47</td>\n",
              "      <td>0.58</td>\n",
              "      <td>1.05</td>\n",
              "      <td>1.51</td>\n",
              "    </tr>\n",
              "    <tr>\n",
              "      <th>183</th>\n",
              "      <td>0.96</td>\n",
              "      <td>0.00</td>\n",
              "      <td>0.19</td>\n",
              "      <td>0.81</td>\n",
              "      <td>1.13</td>\n",
              "      <td>1.13</td>\n",
              "      <td>1.59</td>\n",
              "      <td>1.75</td>\n",
              "      <td>0.66</td>\n",
              "      <td>1.78</td>\n",
              "      <td>...</td>\n",
              "      <td>1.58</td>\n",
              "      <td>1.60</td>\n",
              "      <td>1.18</td>\n",
              "      <td>0.57</td>\n",
              "      <td>1.36</td>\n",
              "      <td>1.59</td>\n",
              "      <td>1.51</td>\n",
              "      <td>1.37</td>\n",
              "      <td>1.95</td>\n",
              "      <td>0.80</td>\n",
              "    </tr>\n",
              "    <tr>\n",
              "      <th>189</th>\n",
              "      <td>0.80</td>\n",
              "      <td>0.19</td>\n",
              "      <td>0.00</td>\n",
              "      <td>0.70</td>\n",
              "      <td>1.18</td>\n",
              "      <td>1.18</td>\n",
              "      <td>1.44</td>\n",
              "      <td>1.88</td>\n",
              "      <td>0.48</td>\n",
              "      <td>1.74</td>\n",
              "      <td>...</td>\n",
              "      <td>1.56</td>\n",
              "      <td>1.53</td>\n",
              "      <td>1.02</td>\n",
              "      <td>0.69</td>\n",
              "      <td>1.43</td>\n",
              "      <td>1.46</td>\n",
              "      <td>1.67</td>\n",
              "      <td>1.18</td>\n",
              "      <td>1.76</td>\n",
              "      <td>0.83</td>\n",
              "    </tr>\n",
              "    <tr>\n",
              "      <th>225</th>\n",
              "      <td>1.03</td>\n",
              "      <td>0.81</td>\n",
              "      <td>0.70</td>\n",
              "      <td>0.00</td>\n",
              "      <td>0.83</td>\n",
              "      <td>0.83</td>\n",
              "      <td>1.51</td>\n",
              "      <td>2.54</td>\n",
              "      <td>0.79</td>\n",
              "      <td>2.18</td>\n",
              "      <td>...</td>\n",
              "      <td>2.09</td>\n",
              "      <td>1.92</td>\n",
              "      <td>1.22</td>\n",
              "      <td>1.37</td>\n",
              "      <td>2.11</td>\n",
              "      <td>1.69</td>\n",
              "      <td>1.65</td>\n",
              "      <td>0.97</td>\n",
              "      <td>1.47</td>\n",
              "      <td>0.58</td>\n",
              "    </tr>\n",
              "    <tr>\n",
              "      <th>241</th>\n",
              "      <td>1.84</td>\n",
              "      <td>1.13</td>\n",
              "      <td>1.18</td>\n",
              "      <td>0.83</td>\n",
              "      <td>0.00</td>\n",
              "      <td>0.00</td>\n",
              "      <td>2.33</td>\n",
              "      <td>2.10</td>\n",
              "      <td>1.54</td>\n",
              "      <td>2.91</td>\n",
              "      <td>...</td>\n",
              "      <td>2.69</td>\n",
              "      <td>2.70</td>\n",
              "      <td>2.04</td>\n",
              "      <td>1.54</td>\n",
              "      <td>2.28</td>\n",
              "      <td>2.52</td>\n",
              "      <td>0.85</td>\n",
              "      <td>1.76</td>\n",
              "      <td>2.08</td>\n",
              "      <td>0.35</td>\n",
              "    </tr>\n",
              "    <tr>\n",
              "      <th>...</th>\n",
              "      <td>...</td>\n",
              "      <td>...</td>\n",
              "      <td>...</td>\n",
              "      <td>...</td>\n",
              "      <td>...</td>\n",
              "      <td>...</td>\n",
              "      <td>...</td>\n",
              "      <td>...</td>\n",
              "      <td>...</td>\n",
              "      <td>...</td>\n",
              "      <td>...</td>\n",
              "      <td>...</td>\n",
              "      <td>...</td>\n",
              "      <td>...</td>\n",
              "      <td>...</td>\n",
              "      <td>...</td>\n",
              "      <td>...</td>\n",
              "      <td>...</td>\n",
              "      <td>...</td>\n",
              "      <td>...</td>\n",
              "      <td>...</td>\n",
              "    </tr>\n",
              "    <tr>\n",
              "      <th>1877</th>\n",
              "      <td>0.70</td>\n",
              "      <td>1.59</td>\n",
              "      <td>1.46</td>\n",
              "      <td>1.69</td>\n",
              "      <td>2.52</td>\n",
              "      <td>2.52</td>\n",
              "      <td>0.26</td>\n",
              "      <td>1.53</td>\n",
              "      <td>1.02</td>\n",
              "      <td>0.53</td>\n",
              "      <td>...</td>\n",
              "      <td>0.59</td>\n",
              "      <td>0.32</td>\n",
              "      <td>0.49</td>\n",
              "      <td>1.42</td>\n",
              "      <td>1.05</td>\n",
              "      <td>0.00</td>\n",
              "      <td>2.81</td>\n",
              "      <td>0.82</td>\n",
              "      <td>0.78</td>\n",
              "      <td>2.21</td>\n",
              "    </tr>\n",
              "    <tr>\n",
              "      <th>2259</th>\n",
              "      <td>2.47</td>\n",
              "      <td>1.51</td>\n",
              "      <td>1.67</td>\n",
              "      <td>1.65</td>\n",
              "      <td>0.85</td>\n",
              "      <td>0.85</td>\n",
              "      <td>3.07</td>\n",
              "      <td>1.30</td>\n",
              "      <td>2.16</td>\n",
              "      <td>2.32</td>\n",
              "      <td>...</td>\n",
              "      <td>2.23</td>\n",
              "      <td>2.50</td>\n",
              "      <td>2.68</td>\n",
              "      <td>1.51</td>\n",
              "      <td>1.77</td>\n",
              "      <td>2.81</td>\n",
              "      <td>0.00</td>\n",
              "      <td>2.60</td>\n",
              "      <td>2.65</td>\n",
              "      <td>1.08</td>\n",
              "    </tr>\n",
              "    <tr>\n",
              "      <th>2263</th>\n",
              "      <td>0.58</td>\n",
              "      <td>1.37</td>\n",
              "      <td>1.18</td>\n",
              "      <td>0.97</td>\n",
              "      <td>1.76</td>\n",
              "      <td>1.75</td>\n",
              "      <td>0.58</td>\n",
              "      <td>2.34</td>\n",
              "      <td>0.75</td>\n",
              "      <td>1.35</td>\n",
              "      <td>...</td>\n",
              "      <td>1.39</td>\n",
              "      <td>1.13</td>\n",
              "      <td>0.54</td>\n",
              "      <td>1.66</td>\n",
              "      <td>1.78</td>\n",
              "      <td>0.82</td>\n",
              "      <td>2.60</td>\n",
              "      <td>0.00</td>\n",
              "      <td>0.59</td>\n",
              "      <td>1.55</td>\n",
              "    </tr>\n",
              "    <tr>\n",
              "      <th>2265</th>\n",
              "      <td>1.05</td>\n",
              "      <td>1.95</td>\n",
              "      <td>1.76</td>\n",
              "      <td>1.47</td>\n",
              "      <td>2.08</td>\n",
              "      <td>2.07</td>\n",
              "      <td>0.56</td>\n",
              "      <td>2.10</td>\n",
              "      <td>1.30</td>\n",
              "      <td>1.15</td>\n",
              "      <td>...</td>\n",
              "      <td>1.32</td>\n",
              "      <td>1.05</td>\n",
              "      <td>0.89</td>\n",
              "      <td>2.11</td>\n",
              "      <td>1.80</td>\n",
              "      <td>0.78</td>\n",
              "      <td>2.65</td>\n",
              "      <td>0.59</td>\n",
              "      <td>0.00</td>\n",
              "      <td>2.01</td>\n",
              "    </tr>\n",
              "    <tr>\n",
              "      <th>2268</th>\n",
              "      <td>1.51</td>\n",
              "      <td>0.80</td>\n",
              "      <td>0.83</td>\n",
              "      <td>0.58</td>\n",
              "      <td>0.35</td>\n",
              "      <td>0.35</td>\n",
              "      <td>2.07</td>\n",
              "      <td>2.15</td>\n",
              "      <td>1.20</td>\n",
              "      <td>2.57</td>\n",
              "      <td>...</td>\n",
              "      <td>2.37</td>\n",
              "      <td>2.35</td>\n",
              "      <td>1.73</td>\n",
              "      <td>1.28</td>\n",
              "      <td>2.08</td>\n",
              "      <td>2.21</td>\n",
              "      <td>1.08</td>\n",
              "      <td>1.55</td>\n",
              "      <td>2.01</td>\n",
              "      <td>0.00</td>\n",
              "    </tr>\n",
              "  </tbody>\n",
              "</table>\n",
              "<p>200 rows × 200 columns</p>\n",
              "</div>\n",
              "      <button class=\"colab-df-convert\" onclick=\"convertToInteractive('df-cd9dfe0f-9cdc-4685-b13d-79f9b2269c1d')\"\n",
              "              title=\"Convert this dataframe to an interactive table.\"\n",
              "              style=\"display:none;\">\n",
              "        \n",
              "  <svg xmlns=\"http://www.w3.org/2000/svg\" height=\"24px\"viewBox=\"0 0 24 24\"\n",
              "       width=\"24px\">\n",
              "    <path d=\"M0 0h24v24H0V0z\" fill=\"none\"/>\n",
              "    <path d=\"M18.56 5.44l.94 2.06.94-2.06 2.06-.94-2.06-.94-.94-2.06-.94 2.06-2.06.94zm-11 1L8.5 8.5l.94-2.06 2.06-.94-2.06-.94L8.5 2.5l-.94 2.06-2.06.94zm10 10l.94 2.06.94-2.06 2.06-.94-2.06-.94-.94-2.06-.94 2.06-2.06.94z\"/><path d=\"M17.41 7.96l-1.37-1.37c-.4-.4-.92-.59-1.43-.59-.52 0-1.04.2-1.43.59L10.3 9.45l-7.72 7.72c-.78.78-.78 2.05 0 2.83L4 21.41c.39.39.9.59 1.41.59.51 0 1.02-.2 1.41-.59l7.78-7.78 2.81-2.81c.8-.78.8-2.07 0-2.86zM5.41 20L4 18.59l7.72-7.72 1.47 1.35L5.41 20z\"/>\n",
              "  </svg>\n",
              "      </button>\n",
              "      \n",
              "  <style>\n",
              "    .colab-df-container {\n",
              "      display:flex;\n",
              "      flex-wrap:wrap;\n",
              "      gap: 12px;\n",
              "    }\n",
              "\n",
              "    .colab-df-convert {\n",
              "      background-color: #E8F0FE;\n",
              "      border: none;\n",
              "      border-radius: 50%;\n",
              "      cursor: pointer;\n",
              "      display: none;\n",
              "      fill: #1967D2;\n",
              "      height: 32px;\n",
              "      padding: 0 0 0 0;\n",
              "      width: 32px;\n",
              "    }\n",
              "\n",
              "    .colab-df-convert:hover {\n",
              "      background-color: #E2EBFA;\n",
              "      box-shadow: 0px 1px 2px rgba(60, 64, 67, 0.3), 0px 1px 3px 1px rgba(60, 64, 67, 0.15);\n",
              "      fill: #174EA6;\n",
              "    }\n",
              "\n",
              "    [theme=dark] .colab-df-convert {\n",
              "      background-color: #3B4455;\n",
              "      fill: #D2E3FC;\n",
              "    }\n",
              "\n",
              "    [theme=dark] .colab-df-convert:hover {\n",
              "      background-color: #434B5C;\n",
              "      box-shadow: 0px 1px 3px 1px rgba(0, 0, 0, 0.15);\n",
              "      filter: drop-shadow(0px 1px 2px rgba(0, 0, 0, 0.3));\n",
              "      fill: #FFFFFF;\n",
              "    }\n",
              "  </style>\n",
              "\n",
              "      <script>\n",
              "        const buttonEl =\n",
              "          document.querySelector('#df-cd9dfe0f-9cdc-4685-b13d-79f9b2269c1d button.colab-df-convert');\n",
              "        buttonEl.style.display =\n",
              "          google.colab.kernel.accessAllowed ? 'block' : 'none';\n",
              "\n",
              "        async function convertToInteractive(key) {\n",
              "          const element = document.querySelector('#df-cd9dfe0f-9cdc-4685-b13d-79f9b2269c1d');\n",
              "          const dataTable =\n",
              "            await google.colab.kernel.invokeFunction('convertToInteractive',\n",
              "                                                     [key], {});\n",
              "          if (!dataTable) return;\n",
              "\n",
              "          const docLinkHtml = 'Like what you see? Visit the ' +\n",
              "            '<a target=\"_blank\" href=https://colab.research.google.com/notebooks/data_table.ipynb>data table notebook</a>'\n",
              "            + ' to learn more about interactive tables.';\n",
              "          element.innerHTML = '';\n",
              "          dataTable['output_type'] = 'display_data';\n",
              "          await google.colab.output.renderOutput(dataTable, element);\n",
              "          const docLink = document.createElement('div');\n",
              "          docLink.innerHTML = docLinkHtml;\n",
              "          element.appendChild(docLink);\n",
              "        }\n",
              "      </script>\n",
              "    </div>\n",
              "  </div>\n",
              "  "
            ]
          },
          "metadata": {},
          "execution_count": 53
        }
      ]
    },
    {
      "cell_type": "code",
      "source": [
        "distance.max().sort_values(ascending=False)"
      ],
      "metadata": {
        "colab": {
          "base_uri": "https://localhost:8080/"
        },
        "id": "mipHpN86J-Ef",
        "outputId": "e45dff67-bf79-49f5-af1e-952723f1aaed"
      },
      "execution_count": 54,
      "outputs": [
        {
          "output_type": "execute_result",
          "data": {
            "text/plain": [
              "id\n",
              "1723    3.13\n",
              "1767    3.13\n",
              "225     3.13\n",
              "1819    3.13\n",
              "290     3.13\n",
              "        ... \n",
              "1731    2.79\n",
              "2268    2.78\n",
              "965     2.77\n",
              "1057    2.73\n",
              "1027    2.71\n",
              "Length: 200, dtype: float64"
            ]
          },
          "metadata": {},
          "execution_count": 54
        }
      ]
    }
  ]
}