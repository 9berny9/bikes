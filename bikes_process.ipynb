{
  "nbformat": 4,
  "nbformat_minor": 0,
  "metadata": {
    "colab": {
      "name": "bikes_process.ipynb",
      "provenance": [],
      "collapsed_sections": [],
      "toc_visible": true,
      "mount_file_id": "1qPHH4ucRDhH3cakdRiANFC8oMqPl7m4R",
      "authorship_tag": "ABX9TyN1h4JRJ3h39Hfwtbp5+DDj",
      "include_colab_link": true
    },
    "kernelspec": {
      "name": "python3",
      "display_name": "Python 3"
    },
    "language_info": {
      "name": "python"
    }
  },
  "cells": [
    {
      "cell_type": "markdown",
      "metadata": {
        "id": "view-in-github",
        "colab_type": "text"
      },
      "source": [
        "<a href=\"https://colab.research.google.com/github/9berny9/bikes/blob/main/bikes_process.ipynb\" target=\"_parent\"><img src=\"https://colab.research.google.com/assets/colab-badge.svg\" alt=\"Open In Colab\"/></a>"
      ]
    },
    {
      "cell_type": "code",
      "source": [
        "import pandas as pd\n",
        "import numpy as np\n",
        "import geopy.distance\n",
        "from matplotlib import pyplot as plt\n",
        "import plotly.express as px\n",
        "from sklearn.metrics import DistanceMetric\n",
        "from scipy import stats\n",
        "import seaborn as sns\n",
        "import datetime as dt"
      ],
      "metadata": {
        "id": "yWKzpblpdtNb"
      },
      "execution_count": 305,
      "outputs": []
    },
    {
      "cell_type": "markdown",
      "source": [
        "# BIKES IN EDINBURGH\n",
        "1. [Zadání](#1)\n",
        "2. [Úprava dat](#2)\n",
        "3. [Analýza](#3)\n",
        "\n"
      ],
      "metadata": {
        "id": "R3_mPWybXAv-"
      }
    },
    {
      "cell_type": "markdown",
      "source": [
        "## Zadání <a name=\"1\"></a>\n",
        "\n"
      ],
      "metadata": {
        "id": "W0kbLpM3Z3Mo"
      }
    },
    {
      "cell_type": "markdown",
      "source": [
        "V Edinburghu, stejně jako v dalších městech, funguje systém \"bike sharing\" - ve městě jsou stanice s koly, člověk si může nějaké půjčit a potom ho vrátit v nějaké další stanici. Problém je, že v některých stanicích se kola pravidelně hromadí a jinde naopak chybí. Provozovatel kol, firma Just Eat Cycles, zadala projekt, jehož cílem je systém zefektivnit.\n",
        "\n",
        "Coby datový analytik jste součástí týmu, který na projektu pracuje. Vaším úkolem je zpracovat relevantní data a zjistit z nich informace užitečné pro zbytek týmu. Máte k dispozici data o všech výpůjčkách (na ENGETO databázi v tabulce edinburgh_bikes). Proveďte standardní deskriptivní statistiku dat. Také zjistěte minimálně následující informace:\n",
        "\n",
        "*   identifikujte aktivní a neaktivní stanice\n",
        "*   identifikujte nejfrekventovanější stanice\n",
        "*   identifikujte stanice, na kterých se kola hromadí a stanice, kde potenciálně chybí\n",
        "*   spočítejte vzdálenosti mezi jednotlivými stanicemi\n",
        "jak dlouho trvá jedna výpůjčka? Najděte odlehlé hodnoty, zobrazte histogram   \n",
        "Analýza poptávky:\n",
        "\n",
        "*   zobrazte vývoj poptávky po půjčování kol v čase\n",
        "*   identifikujte příčiny výkyvů poptávky\n",
        "*   zjistěte vliv počasí na poptávku po kolech (údaje o počasí v Edinburghu jsou v tabulce edinburgh_weather)\n",
        "*   půjčují si lidé kola více o víkendu než během pracovního týdne?\n",
        "\n",
        "Výstupem analýzy bude ideálně jupyter notebook nebo colab notebook uložený na Vašem githubu. Výstupy Vaší analýzy musí být zřejmé i bez spouštění kódu. V textových buňkách popište, jak jste postupovali a napište své závěry. Pokud v zadání chybí nějaká informace, doplňte ji podle vlastního uvážení, své rozhodnutí uveďte a vysvětlete v notebooku."
      ],
      "metadata": {
        "id": "iQxT93xNaXCt"
      }
    },
    {
      "cell_type": "markdown",
      "source": [
        "## Načtení databáze <a name=\"2\"></a>"
      ],
      "metadata": {
        "id": "klUsIe4ZaNxD"
      }
    },
    {
      "cell_type": "markdown",
      "source": [
        "Pro zjednodušení a prezentaci práce si vytvořím pickle databáze, s kterým budu pracovat. V reálném projektu bych pracoval přímo s databází.  \n",
        "\n",
        "Postup:\n",
        "1.   Načtení databáze do jednotlivých dataframů -> `data = pd.read_sql(sql=query, con=engine)`\n",
        "2.   Uložení dataframů jako pickle na github -> `data.to_pickle(\"data_basic.pkl\")`\n",
        "3.   Načtení pickle z repozitáře\n",
        "\n",
        "Z databáze jsme si vytvořili **bikes.pkl** a **weather.pkl**, s kterými budeme pracovat.\n",
        "\n",
        "\n",
        "Pro načtení souboru z repozitáře si naklonupujeme repozitář do colabu."
      ],
      "metadata": {
        "id": "xOL7NW23ahQj"
      }
    },
    {
      "cell_type": "code",
      "source": [
        "!git clone https://github.com/9berny9/bikes"
      ],
      "metadata": {
        "id": "Yfp6scXbbh-S"
      },
      "execution_count": null,
      "outputs": []
    },
    {
      "cell_type": "markdown",
      "source": [
        "### Bikes"
      ],
      "metadata": {
        "id": "CqZ7TC_Ra7pf"
      }
    },
    {
      "cell_type": "markdown",
      "source": [
        "Databáze bikes obsahuje informace o datumu a času vypůjčení kol s iformacemi o místě převzetí kola a jeho vrácení."
      ],
      "metadata": {
        "id": "JQ6h-Moab4OB"
      }
    },
    {
      "cell_type": "code",
      "source": [
        "# url github clonovaného repositáře v Colabu\n",
        "url_bikes_basic = \"/content/bikes/Database/downloaded_data/bikes_first.pkl\"\n",
        "# načtení do dataframu\n",
        "dfb = pd.read_pickle(url_bikes_basic)"
      ],
      "metadata": {
        "id": "Jigzh_MNayGe"
      },
      "execution_count": 307,
      "outputs": []
    },
    {
      "cell_type": "markdown",
      "source": [
        "### Weather <a name=\"2\"></a>"
      ],
      "metadata": {
        "id": "Lw465EmzaW0_"
      }
    },
    {
      "cell_type": "markdown",
      "source": [
        "Databáze Weather obsahuje informace o datumu a času měření údajů o počasí v městě Edinburgh. Měření jsou prováděny každé 3 hodiny."
      ],
      "metadata": {
        "id": "f62e2UOwcUU3"
      }
    },
    {
      "cell_type": "code",
      "source": [
        "# url github clonovaného repositáře v Colabu\n",
        "url_weather = \"/content/bikes/Database/downloaded_data/weather_first.pkl\"\n",
        "# načtení do dataframu\n",
        "dfw = pd.read_pickle(url_weather)"
      ],
      "metadata": {
        "id": "TnDzBRH2cWn9"
      },
      "execution_count": 308,
      "outputs": []
    },
    {
      "cell_type": "markdown",
      "source": [
        "## Úprava dat <a name=\"2\"></a>"
      ],
      "metadata": {
        "id": "eDTPR0YXaQ6p"
      }
    },
    {
      "cell_type": "markdown",
      "source": [
        "### Bikes"
      ],
      "metadata": {
        "id": "xgaQny4icvRp"
      }
    },
    {
      "cell_type": "code",
      "source": [
        "dfb.head()"
      ],
      "metadata": {
        "id": "Bc0zVCqGc5xh",
        "outputId": "b48ec20d-b047-4617-b65c-0feefd2516ec",
        "colab": {
          "base_uri": "https://localhost:8080/",
          "height": 444
        }
      },
      "execution_count": 309,
      "outputs": [
        {
          "output_type": "execute_result",
          "data": {
            "text/plain": [
              "   index           started_at             ended_at  duration  \\\n",
              "0      0  2018-09-15 08:52:05  2018-09-15 09:11:48      1182   \n",
              "1      1  2018-09-15 09:24:33  2018-09-15 09:41:09       995   \n",
              "2      2  2018-09-15 09:48:54  2018-09-15 10:46:40      3466   \n",
              "3      3  2018-09-16 12:01:36  2018-09-16 12:25:26      1430   \n",
              "4      4  2018-09-16 12:03:43  2018-09-16 12:11:16       452   \n",
              "\n",
              "   start_station_id start_station_name         start_station_description  \\\n",
              "0               247   Charlotte Square  North Corner of Charlotte Square   \n",
              "1               259   St Andrew Square                 North East corner   \n",
              "2               262         Canonmills                      near Tesco's   \n",
              "3               255  Kings Buildings 4                          X-Y Cafe   \n",
              "4               255  Kings Buildings 4                          X-Y Cafe   \n",
              "\n",
              "   start_station_latitude  start_station_longitude  end_station_id  \\\n",
              "0               55.952335                -3.207101             259   \n",
              "1               55.954749                -3.192774             262   \n",
              "2               55.962804                -3.196284             250   \n",
              "3               55.922001                -3.176902             254   \n",
              "4               55.922001                -3.176902             253   \n",
              "\n",
              "   end_station_name                 end_station_description  \\\n",
              "0  St Andrew Square                       North East corner   \n",
              "1        Canonmills                            near Tesco's   \n",
              "2     Victoria Quay  Entrance to Scottish Government Office   \n",
              "3  Kings Building 3                    Kings Building House   \n",
              "4  Kings Building 2                      Sanderson Building   \n",
              "\n",
              "   end_station_latitude  end_station_longitude  \n",
              "0             55.954728              -3.192653  \n",
              "1             55.962804              -3.196284  \n",
              "2             55.977638              -3.174116  \n",
              "3             55.923479              -3.175385  \n",
              "4             55.923202              -3.171646  "
            ],
            "text/html": [
              "\n",
              "  <div id=\"df-b3653435-52d4-4f67-92c7-12aeee13b390\">\n",
              "    <div class=\"colab-df-container\">\n",
              "      <div>\n",
              "<style scoped>\n",
              "    .dataframe tbody tr th:only-of-type {\n",
              "        vertical-align: middle;\n",
              "    }\n",
              "\n",
              "    .dataframe tbody tr th {\n",
              "        vertical-align: top;\n",
              "    }\n",
              "\n",
              "    .dataframe thead th {\n",
              "        text-align: right;\n",
              "    }\n",
              "</style>\n",
              "<table border=\"1\" class=\"dataframe\">\n",
              "  <thead>\n",
              "    <tr style=\"text-align: right;\">\n",
              "      <th></th>\n",
              "      <th>index</th>\n",
              "      <th>started_at</th>\n",
              "      <th>ended_at</th>\n",
              "      <th>duration</th>\n",
              "      <th>start_station_id</th>\n",
              "      <th>start_station_name</th>\n",
              "      <th>start_station_description</th>\n",
              "      <th>start_station_latitude</th>\n",
              "      <th>start_station_longitude</th>\n",
              "      <th>end_station_id</th>\n",
              "      <th>end_station_name</th>\n",
              "      <th>end_station_description</th>\n",
              "      <th>end_station_latitude</th>\n",
              "      <th>end_station_longitude</th>\n",
              "    </tr>\n",
              "  </thead>\n",
              "  <tbody>\n",
              "    <tr>\n",
              "      <th>0</th>\n",
              "      <td>0</td>\n",
              "      <td>2018-09-15 08:52:05</td>\n",
              "      <td>2018-09-15 09:11:48</td>\n",
              "      <td>1182</td>\n",
              "      <td>247</td>\n",
              "      <td>Charlotte Square</td>\n",
              "      <td>North Corner of Charlotte Square</td>\n",
              "      <td>55.952335</td>\n",
              "      <td>-3.207101</td>\n",
              "      <td>259</td>\n",
              "      <td>St Andrew Square</td>\n",
              "      <td>North East corner</td>\n",
              "      <td>55.954728</td>\n",
              "      <td>-3.192653</td>\n",
              "    </tr>\n",
              "    <tr>\n",
              "      <th>1</th>\n",
              "      <td>1</td>\n",
              "      <td>2018-09-15 09:24:33</td>\n",
              "      <td>2018-09-15 09:41:09</td>\n",
              "      <td>995</td>\n",
              "      <td>259</td>\n",
              "      <td>St Andrew Square</td>\n",
              "      <td>North East corner</td>\n",
              "      <td>55.954749</td>\n",
              "      <td>-3.192774</td>\n",
              "      <td>262</td>\n",
              "      <td>Canonmills</td>\n",
              "      <td>near Tesco's</td>\n",
              "      <td>55.962804</td>\n",
              "      <td>-3.196284</td>\n",
              "    </tr>\n",
              "    <tr>\n",
              "      <th>2</th>\n",
              "      <td>2</td>\n",
              "      <td>2018-09-15 09:48:54</td>\n",
              "      <td>2018-09-15 10:46:40</td>\n",
              "      <td>3466</td>\n",
              "      <td>262</td>\n",
              "      <td>Canonmills</td>\n",
              "      <td>near Tesco's</td>\n",
              "      <td>55.962804</td>\n",
              "      <td>-3.196284</td>\n",
              "      <td>250</td>\n",
              "      <td>Victoria Quay</td>\n",
              "      <td>Entrance to Scottish Government Office</td>\n",
              "      <td>55.977638</td>\n",
              "      <td>-3.174116</td>\n",
              "    </tr>\n",
              "    <tr>\n",
              "      <th>3</th>\n",
              "      <td>3</td>\n",
              "      <td>2018-09-16 12:01:36</td>\n",
              "      <td>2018-09-16 12:25:26</td>\n",
              "      <td>1430</td>\n",
              "      <td>255</td>\n",
              "      <td>Kings Buildings 4</td>\n",
              "      <td>X-Y Cafe</td>\n",
              "      <td>55.922001</td>\n",
              "      <td>-3.176902</td>\n",
              "      <td>254</td>\n",
              "      <td>Kings Building 3</td>\n",
              "      <td>Kings Building House</td>\n",
              "      <td>55.923479</td>\n",
              "      <td>-3.175385</td>\n",
              "    </tr>\n",
              "    <tr>\n",
              "      <th>4</th>\n",
              "      <td>4</td>\n",
              "      <td>2018-09-16 12:03:43</td>\n",
              "      <td>2018-09-16 12:11:16</td>\n",
              "      <td>452</td>\n",
              "      <td>255</td>\n",
              "      <td>Kings Buildings 4</td>\n",
              "      <td>X-Y Cafe</td>\n",
              "      <td>55.922001</td>\n",
              "      <td>-3.176902</td>\n",
              "      <td>253</td>\n",
              "      <td>Kings Building 2</td>\n",
              "      <td>Sanderson Building</td>\n",
              "      <td>55.923202</td>\n",
              "      <td>-3.171646</td>\n",
              "    </tr>\n",
              "  </tbody>\n",
              "</table>\n",
              "</div>\n",
              "      <button class=\"colab-df-convert\" onclick=\"convertToInteractive('df-b3653435-52d4-4f67-92c7-12aeee13b390')\"\n",
              "              title=\"Convert this dataframe to an interactive table.\"\n",
              "              style=\"display:none;\">\n",
              "        \n",
              "  <svg xmlns=\"http://www.w3.org/2000/svg\" height=\"24px\"viewBox=\"0 0 24 24\"\n",
              "       width=\"24px\">\n",
              "    <path d=\"M0 0h24v24H0V0z\" fill=\"none\"/>\n",
              "    <path d=\"M18.56 5.44l.94 2.06.94-2.06 2.06-.94-2.06-.94-.94-2.06-.94 2.06-2.06.94zm-11 1L8.5 8.5l.94-2.06 2.06-.94-2.06-.94L8.5 2.5l-.94 2.06-2.06.94zm10 10l.94 2.06.94-2.06 2.06-.94-2.06-.94-.94-2.06-.94 2.06-2.06.94z\"/><path d=\"M17.41 7.96l-1.37-1.37c-.4-.4-.92-.59-1.43-.59-.52 0-1.04.2-1.43.59L10.3 9.45l-7.72 7.72c-.78.78-.78 2.05 0 2.83L4 21.41c.39.39.9.59 1.41.59.51 0 1.02-.2 1.41-.59l7.78-7.78 2.81-2.81c.8-.78.8-2.07 0-2.86zM5.41 20L4 18.59l7.72-7.72 1.47 1.35L5.41 20z\"/>\n",
              "  </svg>\n",
              "      </button>\n",
              "      \n",
              "  <style>\n",
              "    .colab-df-container {\n",
              "      display:flex;\n",
              "      flex-wrap:wrap;\n",
              "      gap: 12px;\n",
              "    }\n",
              "\n",
              "    .colab-df-convert {\n",
              "      background-color: #E8F0FE;\n",
              "      border: none;\n",
              "      border-radius: 50%;\n",
              "      cursor: pointer;\n",
              "      display: none;\n",
              "      fill: #1967D2;\n",
              "      height: 32px;\n",
              "      padding: 0 0 0 0;\n",
              "      width: 32px;\n",
              "    }\n",
              "\n",
              "    .colab-df-convert:hover {\n",
              "      background-color: #E2EBFA;\n",
              "      box-shadow: 0px 1px 2px rgba(60, 64, 67, 0.3), 0px 1px 3px 1px rgba(60, 64, 67, 0.15);\n",
              "      fill: #174EA6;\n",
              "    }\n",
              "\n",
              "    [theme=dark] .colab-df-convert {\n",
              "      background-color: #3B4455;\n",
              "      fill: #D2E3FC;\n",
              "    }\n",
              "\n",
              "    [theme=dark] .colab-df-convert:hover {\n",
              "      background-color: #434B5C;\n",
              "      box-shadow: 0px 1px 3px 1px rgba(0, 0, 0, 0.15);\n",
              "      filter: drop-shadow(0px 1px 2px rgba(0, 0, 0, 0.3));\n",
              "      fill: #FFFFFF;\n",
              "    }\n",
              "  </style>\n",
              "\n",
              "      <script>\n",
              "        const buttonEl =\n",
              "          document.querySelector('#df-b3653435-52d4-4f67-92c7-12aeee13b390 button.colab-df-convert');\n",
              "        buttonEl.style.display =\n",
              "          google.colab.kernel.accessAllowed ? 'block' : 'none';\n",
              "\n",
              "        async function convertToInteractive(key) {\n",
              "          const element = document.querySelector('#df-b3653435-52d4-4f67-92c7-12aeee13b390');\n",
              "          const dataTable =\n",
              "            await google.colab.kernel.invokeFunction('convertToInteractive',\n",
              "                                                     [key], {});\n",
              "          if (!dataTable) return;\n",
              "\n",
              "          const docLinkHtml = 'Like what you see? Visit the ' +\n",
              "            '<a target=\"_blank\" href=https://colab.research.google.com/notebooks/data_table.ipynb>data table notebook</a>'\n",
              "            + ' to learn more about interactive tables.';\n",
              "          element.innerHTML = '';\n",
              "          dataTable['output_type'] = 'display_data';\n",
              "          await google.colab.output.renderOutput(dataTable, element);\n",
              "          const docLink = document.createElement('div');\n",
              "          docLink.innerHTML = docLinkHtml;\n",
              "          element.appendChild(docLink);\n",
              "        }\n",
              "      </script>\n",
              "    </div>\n",
              "  </div>\n",
              "  "
            ]
          },
          "metadata": {},
          "execution_count": 309
        }
      ]
    },
    {
      "cell_type": "code",
      "source": [
        "#zjištění NaN hodnot v datech\n",
        "dfb.isna().sum()"
      ],
      "metadata": {
        "colab": {
          "base_uri": "https://localhost:8080/"
        },
        "id": "a9hPO8WkpwvW",
        "outputId": "5b44b074-96eb-4057-e4e1-8a1ead32c1b2"
      },
      "execution_count": 310,
      "outputs": [
        {
          "output_type": "execute_result",
          "data": {
            "text/plain": [
              "index                           0\n",
              "started_at                      0\n",
              "ended_at                        0\n",
              "duration                        0\n",
              "start_station_id                0\n",
              "start_station_name              0\n",
              "start_station_description    2710\n",
              "start_station_latitude          0\n",
              "start_station_longitude         0\n",
              "end_station_id                  0\n",
              "end_station_name                0\n",
              "end_station_description      3003\n",
              "end_station_latitude            0\n",
              "end_station_longitude           0\n",
              "dtype: int64"
            ]
          },
          "metadata": {},
          "execution_count": 310
        }
      ]
    },
    {
      "cell_type": "markdown",
      "source": [
        "Nulové hodnoty se nachází pouze v popise stanic, což pro nás není důležité."
      ],
      "metadata": {
        "id": "k2ZjW7dWp3nf"
      }
    },
    {
      "cell_type": "code",
      "source": [
        "dfb.info()"
      ],
      "metadata": {
        "id": "Un_Z5q1Nc-y6",
        "outputId": "7532e313-3bae-4d2a-e35f-f650009ca7df",
        "colab": {
          "base_uri": "https://localhost:8080/"
        }
      },
      "execution_count": 311,
      "outputs": [
        {
          "output_type": "stream",
          "name": "stdout",
          "text": [
            "<class 'pandas.core.frame.DataFrame'>\n",
            "RangeIndex: 438259 entries, 0 to 438258\n",
            "Data columns (total 14 columns):\n",
            " #   Column                     Non-Null Count   Dtype  \n",
            "---  ------                     --------------   -----  \n",
            " 0   index                      438259 non-null  int64  \n",
            " 1   started_at                 438259 non-null  object \n",
            " 2   ended_at                   438259 non-null  object \n",
            " 3   duration                   438259 non-null  int64  \n",
            " 4   start_station_id           438259 non-null  int64  \n",
            " 5   start_station_name         438259 non-null  object \n",
            " 6   start_station_description  435549 non-null  object \n",
            " 7   start_station_latitude     438259 non-null  float64\n",
            " 8   start_station_longitude    438259 non-null  float64\n",
            " 9   end_station_id             438259 non-null  int64  \n",
            " 10  end_station_name           438259 non-null  object \n",
            " 11  end_station_description    435256 non-null  object \n",
            " 12  end_station_latitude       438259 non-null  float64\n",
            " 13  end_station_longitude      438259 non-null  float64\n",
            "dtypes: float64(4), int64(4), object(6)\n",
            "memory usage: 46.8+ MB\n"
          ]
        }
      ]
    },
    {
      "cell_type": "code",
      "source": [
        "# datový formát datetime64\n",
        "dfb['started_at'] = pd.to_datetime(dfb['started_at'], format=\"%Y-%m-%d %H:%M\")\n",
        "dfb['ended_at'] = pd.to_datetime(dfb['ended_at'], format=\"%Y-%m-%d %H:%M\")"
      ],
      "metadata": {
        "id": "Lxx6M0mCdAyS"
      },
      "execution_count": 312,
      "outputs": []
    },
    {
      "cell_type": "code",
      "source": [
        "# převedení sloupce duration z float na timedelta\n",
        "dfb['duration'] = pd.to_timedelta(dfb['duration'], unit=\"s\") "
      ],
      "metadata": {
        "id": "LudQifLodDSq"
      },
      "execution_count": 313,
      "outputs": []
    },
    {
      "cell_type": "code",
      "source": [
        "# přejmenování sloupců na kratší názvy\n",
        "dfb = dfb.rename(columns={\"started_at\": \"start\", \"ended_at\": \"end\",\n",
        "        \"start_station_id\": \"start_id\", \"start_station_name\": \"start_name\",\n",
        "        \"start_station_description\": \"start_description\",\n",
        "        \"start_station_latitude\": \"start_latitude\",\n",
        "        \"start_station_longitude\": \"start_longitude\",\"end_station_id\": \"end_id\",\n",
        "        \"end_station_name\": \"end_name\", \n",
        "        \"end_station_description\": \"end_description\",\n",
        "        \"end_station_latitude\": \"end_latitude\",\n",
        "        \"end_station_longitude\": \"end_longitude\"\n",
        "        })"
      ],
      "metadata": {
        "id": "wH_Q9MowdElw"
      },
      "execution_count": 314,
      "outputs": []
    },
    {
      "cell_type": "code",
      "source": [
        "# Vzdálenosti mezi stanicemi zapůjčení a vrácení\n",
        "def distance_calc(row):\n",
        "    start = (row['start_latitude'], row['start_longitude'])\n",
        "    end = (row['end_latitude'], row['end_longitude'])\n",
        "\n",
        "    return geopy.distance.great_circle(start, end).km\n",
        "\n",
        "dfb['distance'] = dfb.apply(lambda row: distance_calc(row), axis=1)"
      ],
      "metadata": {
        "id": "kDCW3LyrdJRJ"
      },
      "execution_count": 315,
      "outputs": []
    },
    {
      "cell_type": "code",
      "source": [
        "# odstranění sloupce\n",
        "dfb = dfb.drop(columns= \"index\")"
      ],
      "metadata": {
        "id": "Pxdi_NOvdFoE"
      },
      "execution_count": 316,
      "outputs": []
    },
    {
      "cell_type": "code",
      "source": [
        "dfb.head()"
      ],
      "metadata": {
        "id": "Jgpldm7idyUZ",
        "outputId": "b5d22909-5cf9-4c94-a172-812c3d511e90",
        "colab": {
          "base_uri": "https://localhost:8080/",
          "height": 461
        }
      },
      "execution_count": 317,
      "outputs": [
        {
          "output_type": "execute_result",
          "data": {
            "text/plain": [
              "                start                 end        duration  start_id  \\\n",
              "0 2018-09-15 08:52:05 2018-09-15 09:11:48 0 days 00:19:42       247   \n",
              "1 2018-09-15 09:24:33 2018-09-15 09:41:09 0 days 00:16:35       259   \n",
              "2 2018-09-15 09:48:54 2018-09-15 10:46:40 0 days 00:57:46       262   \n",
              "3 2018-09-16 12:01:36 2018-09-16 12:25:26 0 days 00:23:50       255   \n",
              "4 2018-09-16 12:03:43 2018-09-16 12:11:16 0 days 00:07:32       255   \n",
              "\n",
              "          start_name                 start_description  start_latitude  \\\n",
              "0   Charlotte Square  North Corner of Charlotte Square       55.952335   \n",
              "1   St Andrew Square                 North East corner       55.954749   \n",
              "2         Canonmills                      near Tesco's       55.962804   \n",
              "3  Kings Buildings 4                          X-Y Cafe       55.922001   \n",
              "4  Kings Buildings 4                          X-Y Cafe       55.922001   \n",
              "\n",
              "   start_longitude  end_id          end_name  \\\n",
              "0        -3.207101     259  St Andrew Square   \n",
              "1        -3.192774     262        Canonmills   \n",
              "2        -3.196284     250     Victoria Quay   \n",
              "3        -3.176902     254  Kings Building 3   \n",
              "4        -3.176902     253  Kings Building 2   \n",
              "\n",
              "                          end_description  end_latitude  end_longitude  \\\n",
              "0                       North East corner     55.954728      -3.192653   \n",
              "1                            near Tesco's     55.962804      -3.196284   \n",
              "2  Entrance to Scottish Government Office     55.977638      -3.174116   \n",
              "3                    Kings Building House     55.923479      -3.175385   \n",
              "4                      Sanderson Building     55.923202      -3.171646   \n",
              "\n",
              "   distance  \n",
              "0  0.937974  \n",
              "1  0.921967  \n",
              "2  2.150241  \n",
              "3  0.189587  \n",
              "4  0.353640  "
            ],
            "text/html": [
              "\n",
              "  <div id=\"df-015c9875-adea-48ac-9fb6-3a28fc88c76b\">\n",
              "    <div class=\"colab-df-container\">\n",
              "      <div>\n",
              "<style scoped>\n",
              "    .dataframe tbody tr th:only-of-type {\n",
              "        vertical-align: middle;\n",
              "    }\n",
              "\n",
              "    .dataframe tbody tr th {\n",
              "        vertical-align: top;\n",
              "    }\n",
              "\n",
              "    .dataframe thead th {\n",
              "        text-align: right;\n",
              "    }\n",
              "</style>\n",
              "<table border=\"1\" class=\"dataframe\">\n",
              "  <thead>\n",
              "    <tr style=\"text-align: right;\">\n",
              "      <th></th>\n",
              "      <th>start</th>\n",
              "      <th>end</th>\n",
              "      <th>duration</th>\n",
              "      <th>start_id</th>\n",
              "      <th>start_name</th>\n",
              "      <th>start_description</th>\n",
              "      <th>start_latitude</th>\n",
              "      <th>start_longitude</th>\n",
              "      <th>end_id</th>\n",
              "      <th>end_name</th>\n",
              "      <th>end_description</th>\n",
              "      <th>end_latitude</th>\n",
              "      <th>end_longitude</th>\n",
              "      <th>distance</th>\n",
              "    </tr>\n",
              "  </thead>\n",
              "  <tbody>\n",
              "    <tr>\n",
              "      <th>0</th>\n",
              "      <td>2018-09-15 08:52:05</td>\n",
              "      <td>2018-09-15 09:11:48</td>\n",
              "      <td>0 days 00:19:42</td>\n",
              "      <td>247</td>\n",
              "      <td>Charlotte Square</td>\n",
              "      <td>North Corner of Charlotte Square</td>\n",
              "      <td>55.952335</td>\n",
              "      <td>-3.207101</td>\n",
              "      <td>259</td>\n",
              "      <td>St Andrew Square</td>\n",
              "      <td>North East corner</td>\n",
              "      <td>55.954728</td>\n",
              "      <td>-3.192653</td>\n",
              "      <td>0.937974</td>\n",
              "    </tr>\n",
              "    <tr>\n",
              "      <th>1</th>\n",
              "      <td>2018-09-15 09:24:33</td>\n",
              "      <td>2018-09-15 09:41:09</td>\n",
              "      <td>0 days 00:16:35</td>\n",
              "      <td>259</td>\n",
              "      <td>St Andrew Square</td>\n",
              "      <td>North East corner</td>\n",
              "      <td>55.954749</td>\n",
              "      <td>-3.192774</td>\n",
              "      <td>262</td>\n",
              "      <td>Canonmills</td>\n",
              "      <td>near Tesco's</td>\n",
              "      <td>55.962804</td>\n",
              "      <td>-3.196284</td>\n",
              "      <td>0.921967</td>\n",
              "    </tr>\n",
              "    <tr>\n",
              "      <th>2</th>\n",
              "      <td>2018-09-15 09:48:54</td>\n",
              "      <td>2018-09-15 10:46:40</td>\n",
              "      <td>0 days 00:57:46</td>\n",
              "      <td>262</td>\n",
              "      <td>Canonmills</td>\n",
              "      <td>near Tesco's</td>\n",
              "      <td>55.962804</td>\n",
              "      <td>-3.196284</td>\n",
              "      <td>250</td>\n",
              "      <td>Victoria Quay</td>\n",
              "      <td>Entrance to Scottish Government Office</td>\n",
              "      <td>55.977638</td>\n",
              "      <td>-3.174116</td>\n",
              "      <td>2.150241</td>\n",
              "    </tr>\n",
              "    <tr>\n",
              "      <th>3</th>\n",
              "      <td>2018-09-16 12:01:36</td>\n",
              "      <td>2018-09-16 12:25:26</td>\n",
              "      <td>0 days 00:23:50</td>\n",
              "      <td>255</td>\n",
              "      <td>Kings Buildings 4</td>\n",
              "      <td>X-Y Cafe</td>\n",
              "      <td>55.922001</td>\n",
              "      <td>-3.176902</td>\n",
              "      <td>254</td>\n",
              "      <td>Kings Building 3</td>\n",
              "      <td>Kings Building House</td>\n",
              "      <td>55.923479</td>\n",
              "      <td>-3.175385</td>\n",
              "      <td>0.189587</td>\n",
              "    </tr>\n",
              "    <tr>\n",
              "      <th>4</th>\n",
              "      <td>2018-09-16 12:03:43</td>\n",
              "      <td>2018-09-16 12:11:16</td>\n",
              "      <td>0 days 00:07:32</td>\n",
              "      <td>255</td>\n",
              "      <td>Kings Buildings 4</td>\n",
              "      <td>X-Y Cafe</td>\n",
              "      <td>55.922001</td>\n",
              "      <td>-3.176902</td>\n",
              "      <td>253</td>\n",
              "      <td>Kings Building 2</td>\n",
              "      <td>Sanderson Building</td>\n",
              "      <td>55.923202</td>\n",
              "      <td>-3.171646</td>\n",
              "      <td>0.353640</td>\n",
              "    </tr>\n",
              "  </tbody>\n",
              "</table>\n",
              "</div>\n",
              "      <button class=\"colab-df-convert\" onclick=\"convertToInteractive('df-015c9875-adea-48ac-9fb6-3a28fc88c76b')\"\n",
              "              title=\"Convert this dataframe to an interactive table.\"\n",
              "              style=\"display:none;\">\n",
              "        \n",
              "  <svg xmlns=\"http://www.w3.org/2000/svg\" height=\"24px\"viewBox=\"0 0 24 24\"\n",
              "       width=\"24px\">\n",
              "    <path d=\"M0 0h24v24H0V0z\" fill=\"none\"/>\n",
              "    <path d=\"M18.56 5.44l.94 2.06.94-2.06 2.06-.94-2.06-.94-.94-2.06-.94 2.06-2.06.94zm-11 1L8.5 8.5l.94-2.06 2.06-.94-2.06-.94L8.5 2.5l-.94 2.06-2.06.94zm10 10l.94 2.06.94-2.06 2.06-.94-2.06-.94-.94-2.06-.94 2.06-2.06.94z\"/><path d=\"M17.41 7.96l-1.37-1.37c-.4-.4-.92-.59-1.43-.59-.52 0-1.04.2-1.43.59L10.3 9.45l-7.72 7.72c-.78.78-.78 2.05 0 2.83L4 21.41c.39.39.9.59 1.41.59.51 0 1.02-.2 1.41-.59l7.78-7.78 2.81-2.81c.8-.78.8-2.07 0-2.86zM5.41 20L4 18.59l7.72-7.72 1.47 1.35L5.41 20z\"/>\n",
              "  </svg>\n",
              "      </button>\n",
              "      \n",
              "  <style>\n",
              "    .colab-df-container {\n",
              "      display:flex;\n",
              "      flex-wrap:wrap;\n",
              "      gap: 12px;\n",
              "    }\n",
              "\n",
              "    .colab-df-convert {\n",
              "      background-color: #E8F0FE;\n",
              "      border: none;\n",
              "      border-radius: 50%;\n",
              "      cursor: pointer;\n",
              "      display: none;\n",
              "      fill: #1967D2;\n",
              "      height: 32px;\n",
              "      padding: 0 0 0 0;\n",
              "      width: 32px;\n",
              "    }\n",
              "\n",
              "    .colab-df-convert:hover {\n",
              "      background-color: #E2EBFA;\n",
              "      box-shadow: 0px 1px 2px rgba(60, 64, 67, 0.3), 0px 1px 3px 1px rgba(60, 64, 67, 0.15);\n",
              "      fill: #174EA6;\n",
              "    }\n",
              "\n",
              "    [theme=dark] .colab-df-convert {\n",
              "      background-color: #3B4455;\n",
              "      fill: #D2E3FC;\n",
              "    }\n",
              "\n",
              "    [theme=dark] .colab-df-convert:hover {\n",
              "      background-color: #434B5C;\n",
              "      box-shadow: 0px 1px 3px 1px rgba(0, 0, 0, 0.15);\n",
              "      filter: drop-shadow(0px 1px 2px rgba(0, 0, 0, 0.3));\n",
              "      fill: #FFFFFF;\n",
              "    }\n",
              "  </style>\n",
              "\n",
              "      <script>\n",
              "        const buttonEl =\n",
              "          document.querySelector('#df-015c9875-adea-48ac-9fb6-3a28fc88c76b button.colab-df-convert');\n",
              "        buttonEl.style.display =\n",
              "          google.colab.kernel.accessAllowed ? 'block' : 'none';\n",
              "\n",
              "        async function convertToInteractive(key) {\n",
              "          const element = document.querySelector('#df-015c9875-adea-48ac-9fb6-3a28fc88c76b');\n",
              "          const dataTable =\n",
              "            await google.colab.kernel.invokeFunction('convertToInteractive',\n",
              "                                                     [key], {});\n",
              "          if (!dataTable) return;\n",
              "\n",
              "          const docLinkHtml = 'Like what you see? Visit the ' +\n",
              "            '<a target=\"_blank\" href=https://colab.research.google.com/notebooks/data_table.ipynb>data table notebook</a>'\n",
              "            + ' to learn more about interactive tables.';\n",
              "          element.innerHTML = '';\n",
              "          dataTable['output_type'] = 'display_data';\n",
              "          await google.colab.output.renderOutput(dataTable, element);\n",
              "          const docLink = document.createElement('div');\n",
              "          docLink.innerHTML = docLinkHtml;\n",
              "          element.appendChild(docLink);\n",
              "        }\n",
              "      </script>\n",
              "    </div>\n",
              "  </div>\n",
              "  "
            ]
          },
          "metadata": {},
          "execution_count": 317
        }
      ]
    },
    {
      "cell_type": "code",
      "source": [
        "dfb.info()"
      ],
      "metadata": {
        "id": "cLDTh0afdVvO",
        "outputId": "5f932a0b-ce9f-4bfd-b90d-61142b8a08be",
        "colab": {
          "base_uri": "https://localhost:8080/"
        }
      },
      "execution_count": 318,
      "outputs": [
        {
          "output_type": "stream",
          "name": "stdout",
          "text": [
            "<class 'pandas.core.frame.DataFrame'>\n",
            "RangeIndex: 438259 entries, 0 to 438258\n",
            "Data columns (total 14 columns):\n",
            " #   Column             Non-Null Count   Dtype          \n",
            "---  ------             --------------   -----          \n",
            " 0   start              438259 non-null  datetime64[ns] \n",
            " 1   end                438259 non-null  datetime64[ns] \n",
            " 2   duration           438259 non-null  timedelta64[ns]\n",
            " 3   start_id           438259 non-null  int64          \n",
            " 4   start_name         438259 non-null  object         \n",
            " 5   start_description  435549 non-null  object         \n",
            " 6   start_latitude     438259 non-null  float64        \n",
            " 7   start_longitude    438259 non-null  float64        \n",
            " 8   end_id             438259 non-null  int64          \n",
            " 9   end_name           438259 non-null  object         \n",
            " 10  end_description    435256 non-null  object         \n",
            " 11  end_latitude       438259 non-null  float64        \n",
            " 12  end_longitude      438259 non-null  float64        \n",
            " 13  distance           438259 non-null  float64        \n",
            "dtypes: datetime64[ns](2), float64(5), int64(2), object(4), timedelta64[ns](1)\n",
            "memory usage: 46.8+ MB\n"
          ]
        }
      ]
    },
    {
      "cell_type": "code",
      "source": [
        "# zjištění prvnícho záznamu\n",
        "dfb[\"start\"].min()"
      ],
      "metadata": {
        "id": "KbM_Ozvgdeo8",
        "outputId": "3ff04b16-7b3f-4e78-db04-256cb0e855e4",
        "colab": {
          "base_uri": "https://localhost:8080/"
        }
      },
      "execution_count": 319,
      "outputs": [
        {
          "output_type": "execute_result",
          "data": {
            "text/plain": [
              "Timestamp('2018-09-15 08:52:05')"
            ]
          },
          "metadata": {},
          "execution_count": 319
        }
      ]
    },
    {
      "cell_type": "code",
      "source": [
        "# zjištění posledního záznamu\n",
        "dfb[\"start\"].max()"
      ],
      "metadata": {
        "id": "mBZBEUKpdfXM",
        "outputId": "56418cfc-30e7-49f3-f291-222ee80a0e65",
        "colab": {
          "base_uri": "https://localhost:8080/"
        }
      },
      "execution_count": 320,
      "outputs": [
        {
          "output_type": "execute_result",
          "data": {
            "text/plain": [
              "Timestamp('2021-06-30 23:58:33')"
            ]
          },
          "metadata": {},
          "execution_count": 320
        }
      ]
    },
    {
      "cell_type": "markdown",
      "source": [
        "Dataframe obsahuje **438 259** záznamů a **14** sloupců s informacemi od data **2018-09-15** do **2021-06-30**."
      ],
      "metadata": {
        "id": "4x0Pv0g_dcQH"
      }
    },
    {
      "cell_type": "code",
      "source": [
        "# připravený dataset\n",
        "dfb1 = dfb.copy()"
      ],
      "metadata": {
        "id": "BOy6BMgkgWXx"
      },
      "execution_count": 321,
      "outputs": []
    },
    {
      "cell_type": "markdown",
      "source": [
        "### Weather"
      ],
      "metadata": {
        "id": "W9y0jFh4cw0F"
      }
    },
    {
      "cell_type": "markdown",
      "source": [
        "Databáze Weather obsahuje informace o datumu a času měření údajů o počasí v městě Edinburgh. Měření jsou prováděny každé 3 hodiny."
      ],
      "metadata": {
        "id": "QqrVNRZWdmVu"
      }
    },
    {
      "cell_type": "code",
      "source": [
        "dfw.head()"
      ],
      "metadata": {
        "id": "wiS50A37dahO",
        "outputId": "bd30648b-00a8-42dc-a058-f11d9c8668be",
        "colab": {
          "base_uri": "https://localhost:8080/",
          "height": 206
        }
      },
      "execution_count": 322,
      "outputs": [
        {
          "output_type": "execute_result",
          "data": {
            "text/plain": [
              "    time   temp  feels              wind     gust    rain humidity cloud  \\\n",
              "0  00:00  11 °c  11 °c     9 km/h from S  19 km/h  0.0 mm      79%   13%   \n",
              "1  03:00  13 °c  12 °c  11 km/h from SSW  19 km/h  0.0 mm      76%   96%   \n",
              "2  06:00  14 °c  13 °c  11 km/h from SSW  19 km/h  0.0 mm      84%  100%   \n",
              "3  09:00  14 °c  13 °c  14 km/h from SSW  23 km/h  0.1 mm      88%   78%   \n",
              "4  12:00  16 °c  16 °c  15 km/h from SSW  22 km/h  0.0 mm      87%   87%   \n",
              "\n",
              "  pressure        vis        date  \n",
              "0  1020 mb  Excellent  2018-09-01  \n",
              "1  1020 mb  Excellent  2018-09-01  \n",
              "2  1020 mb  Excellent  2018-09-01  \n",
              "3  1021 mb  Excellent  2018-09-01  \n",
              "4  1021 mb  Excellent  2018-09-01  "
            ],
            "text/html": [
              "\n",
              "  <div id=\"df-01d670c9-f27a-47fc-8cdb-253142d9928d\">\n",
              "    <div class=\"colab-df-container\">\n",
              "      <div>\n",
              "<style scoped>\n",
              "    .dataframe tbody tr th:only-of-type {\n",
              "        vertical-align: middle;\n",
              "    }\n",
              "\n",
              "    .dataframe tbody tr th {\n",
              "        vertical-align: top;\n",
              "    }\n",
              "\n",
              "    .dataframe thead th {\n",
              "        text-align: right;\n",
              "    }\n",
              "</style>\n",
              "<table border=\"1\" class=\"dataframe\">\n",
              "  <thead>\n",
              "    <tr style=\"text-align: right;\">\n",
              "      <th></th>\n",
              "      <th>time</th>\n",
              "      <th>temp</th>\n",
              "      <th>feels</th>\n",
              "      <th>wind</th>\n",
              "      <th>gust</th>\n",
              "      <th>rain</th>\n",
              "      <th>humidity</th>\n",
              "      <th>cloud</th>\n",
              "      <th>pressure</th>\n",
              "      <th>vis</th>\n",
              "      <th>date</th>\n",
              "    </tr>\n",
              "  </thead>\n",
              "  <tbody>\n",
              "    <tr>\n",
              "      <th>0</th>\n",
              "      <td>00:00</td>\n",
              "      <td>11 °c</td>\n",
              "      <td>11 °c</td>\n",
              "      <td>9 km/h from S</td>\n",
              "      <td>19 km/h</td>\n",
              "      <td>0.0 mm</td>\n",
              "      <td>79%</td>\n",
              "      <td>13%</td>\n",
              "      <td>1020 mb</td>\n",
              "      <td>Excellent</td>\n",
              "      <td>2018-09-01</td>\n",
              "    </tr>\n",
              "    <tr>\n",
              "      <th>1</th>\n",
              "      <td>03:00</td>\n",
              "      <td>13 °c</td>\n",
              "      <td>12 °c</td>\n",
              "      <td>11 km/h from SSW</td>\n",
              "      <td>19 km/h</td>\n",
              "      <td>0.0 mm</td>\n",
              "      <td>76%</td>\n",
              "      <td>96%</td>\n",
              "      <td>1020 mb</td>\n",
              "      <td>Excellent</td>\n",
              "      <td>2018-09-01</td>\n",
              "    </tr>\n",
              "    <tr>\n",
              "      <th>2</th>\n",
              "      <td>06:00</td>\n",
              "      <td>14 °c</td>\n",
              "      <td>13 °c</td>\n",
              "      <td>11 km/h from SSW</td>\n",
              "      <td>19 km/h</td>\n",
              "      <td>0.0 mm</td>\n",
              "      <td>84%</td>\n",
              "      <td>100%</td>\n",
              "      <td>1020 mb</td>\n",
              "      <td>Excellent</td>\n",
              "      <td>2018-09-01</td>\n",
              "    </tr>\n",
              "    <tr>\n",
              "      <th>3</th>\n",
              "      <td>09:00</td>\n",
              "      <td>14 °c</td>\n",
              "      <td>13 °c</td>\n",
              "      <td>14 km/h from SSW</td>\n",
              "      <td>23 km/h</td>\n",
              "      <td>0.1 mm</td>\n",
              "      <td>88%</td>\n",
              "      <td>78%</td>\n",
              "      <td>1021 mb</td>\n",
              "      <td>Excellent</td>\n",
              "      <td>2018-09-01</td>\n",
              "    </tr>\n",
              "    <tr>\n",
              "      <th>4</th>\n",
              "      <td>12:00</td>\n",
              "      <td>16 °c</td>\n",
              "      <td>16 °c</td>\n",
              "      <td>15 km/h from SSW</td>\n",
              "      <td>22 km/h</td>\n",
              "      <td>0.0 mm</td>\n",
              "      <td>87%</td>\n",
              "      <td>87%</td>\n",
              "      <td>1021 mb</td>\n",
              "      <td>Excellent</td>\n",
              "      <td>2018-09-01</td>\n",
              "    </tr>\n",
              "  </tbody>\n",
              "</table>\n",
              "</div>\n",
              "      <button class=\"colab-df-convert\" onclick=\"convertToInteractive('df-01d670c9-f27a-47fc-8cdb-253142d9928d')\"\n",
              "              title=\"Convert this dataframe to an interactive table.\"\n",
              "              style=\"display:none;\">\n",
              "        \n",
              "  <svg xmlns=\"http://www.w3.org/2000/svg\" height=\"24px\"viewBox=\"0 0 24 24\"\n",
              "       width=\"24px\">\n",
              "    <path d=\"M0 0h24v24H0V0z\" fill=\"none\"/>\n",
              "    <path d=\"M18.56 5.44l.94 2.06.94-2.06 2.06-.94-2.06-.94-.94-2.06-.94 2.06-2.06.94zm-11 1L8.5 8.5l.94-2.06 2.06-.94-2.06-.94L8.5 2.5l-.94 2.06-2.06.94zm10 10l.94 2.06.94-2.06 2.06-.94-2.06-.94-.94-2.06-.94 2.06-2.06.94z\"/><path d=\"M17.41 7.96l-1.37-1.37c-.4-.4-.92-.59-1.43-.59-.52 0-1.04.2-1.43.59L10.3 9.45l-7.72 7.72c-.78.78-.78 2.05 0 2.83L4 21.41c.39.39.9.59 1.41.59.51 0 1.02-.2 1.41-.59l7.78-7.78 2.81-2.81c.8-.78.8-2.07 0-2.86zM5.41 20L4 18.59l7.72-7.72 1.47 1.35L5.41 20z\"/>\n",
              "  </svg>\n",
              "      </button>\n",
              "      \n",
              "  <style>\n",
              "    .colab-df-container {\n",
              "      display:flex;\n",
              "      flex-wrap:wrap;\n",
              "      gap: 12px;\n",
              "    }\n",
              "\n",
              "    .colab-df-convert {\n",
              "      background-color: #E8F0FE;\n",
              "      border: none;\n",
              "      border-radius: 50%;\n",
              "      cursor: pointer;\n",
              "      display: none;\n",
              "      fill: #1967D2;\n",
              "      height: 32px;\n",
              "      padding: 0 0 0 0;\n",
              "      width: 32px;\n",
              "    }\n",
              "\n",
              "    .colab-df-convert:hover {\n",
              "      background-color: #E2EBFA;\n",
              "      box-shadow: 0px 1px 2px rgba(60, 64, 67, 0.3), 0px 1px 3px 1px rgba(60, 64, 67, 0.15);\n",
              "      fill: #174EA6;\n",
              "    }\n",
              "\n",
              "    [theme=dark] .colab-df-convert {\n",
              "      background-color: #3B4455;\n",
              "      fill: #D2E3FC;\n",
              "    }\n",
              "\n",
              "    [theme=dark] .colab-df-convert:hover {\n",
              "      background-color: #434B5C;\n",
              "      box-shadow: 0px 1px 3px 1px rgba(0, 0, 0, 0.15);\n",
              "      filter: drop-shadow(0px 1px 2px rgba(0, 0, 0, 0.3));\n",
              "      fill: #FFFFFF;\n",
              "    }\n",
              "  </style>\n",
              "\n",
              "      <script>\n",
              "        const buttonEl =\n",
              "          document.querySelector('#df-01d670c9-f27a-47fc-8cdb-253142d9928d button.colab-df-convert');\n",
              "        buttonEl.style.display =\n",
              "          google.colab.kernel.accessAllowed ? 'block' : 'none';\n",
              "\n",
              "        async function convertToInteractive(key) {\n",
              "          const element = document.querySelector('#df-01d670c9-f27a-47fc-8cdb-253142d9928d');\n",
              "          const dataTable =\n",
              "            await google.colab.kernel.invokeFunction('convertToInteractive',\n",
              "                                                     [key], {});\n",
              "          if (!dataTable) return;\n",
              "\n",
              "          const docLinkHtml = 'Like what you see? Visit the ' +\n",
              "            '<a target=\"_blank\" href=https://colab.research.google.com/notebooks/data_table.ipynb>data table notebook</a>'\n",
              "            + ' to learn more about interactive tables.';\n",
              "          element.innerHTML = '';\n",
              "          dataTable['output_type'] = 'display_data';\n",
              "          await google.colab.output.renderOutput(dataTable, element);\n",
              "          const docLink = document.createElement('div');\n",
              "          docLink.innerHTML = docLinkHtml;\n",
              "          element.appendChild(docLink);\n",
              "        }\n",
              "      </script>\n",
              "    </div>\n",
              "  </div>\n",
              "  "
            ]
          },
          "metadata": {},
          "execution_count": 322
        }
      ]
    },
    {
      "cell_type": "code",
      "source": [
        "dfw.info()"
      ],
      "metadata": {
        "id": "XPevNuNSdox5",
        "outputId": "106b2de4-fb10-4ab2-a6cb-09aa941e5d92",
        "colab": {
          "base_uri": "https://localhost:8080/"
        }
      },
      "execution_count": 323,
      "outputs": [
        {
          "output_type": "stream",
          "name": "stdout",
          "text": [
            "<class 'pandas.core.frame.DataFrame'>\n",
            "RangeIndex: 6336 entries, 0 to 6335\n",
            "Data columns (total 11 columns):\n",
            " #   Column    Non-Null Count  Dtype \n",
            "---  ------    --------------  ----- \n",
            " 0   time      6336 non-null   object\n",
            " 1   temp      6336 non-null   object\n",
            " 2   feels     6336 non-null   object\n",
            " 3   wind      6336 non-null   object\n",
            " 4   gust      6336 non-null   object\n",
            " 5   rain      6336 non-null   object\n",
            " 6   humidity  6336 non-null   object\n",
            " 7   cloud     6336 non-null   object\n",
            " 8   pressure  6336 non-null   object\n",
            " 9   vis       6336 non-null   object\n",
            " 10  date      6336 non-null   object\n",
            "dtypes: object(11)\n",
            "memory usage: 544.6+ KB\n"
          ]
        }
      ]
    },
    {
      "cell_type": "code",
      "source": [
        "# sjednocení datumu s časem a převedení na datetime64\n",
        "dfw['time'] = pd.to_datetime((dfw['date'] + ' ' + dfw['time']),\n",
        "                             format=\"%Y-%m-%d %H:%M\" )"
      ],
      "metadata": {
        "id": "0HCfmCKjdpvy"
      },
      "execution_count": 324,
      "outputs": []
    },
    {
      "cell_type": "code",
      "source": [
        "# vyjmutí jednotek ze sloupců a nastavení datového formátu\n",
        "dfw[\"temp\"] = dfw[\"temp\"].str.extract('(\\d+)').astype(int)\n",
        "dfw[\"feels\"] = dfw[\"feels\"].str.extract('(\\d+)').astype(int)\n",
        "dfw['wind'] = dfw['wind'].str.extract('(\\d+)').astype(int)\n",
        "dfw[\"gust\"] = dfw[\"gust\"].str.extract('(\\d+)').astype(int)\n",
        "dfw[\"rain\"] = dfw[\"rain\"].str.extract('(\\d+)').astype(float)"
      ],
      "metadata": {
        "id": "hjfsZ2K9dq17"
      },
      "execution_count": 325,
      "outputs": []
    },
    {
      "cell_type": "code",
      "source": [
        "# odebrání nepotřebných sloupců\n",
        "dfw = dfw.drop(columns=[\"humidity\",\"cloud\",\"pressure\",\"vis\", \"date\"])"
      ],
      "metadata": {
        "id": "xv_-fVOCdr4o"
      },
      "execution_count": 326,
      "outputs": []
    },
    {
      "cell_type": "code",
      "source": [
        "# přejmenování sloupců na název a jednotku\n",
        "dfw = dfw.rename(columns={\"time\":\"datetime\", \"temp\":\"temp_c\",\n",
        "                          \"wind\":\"wind_kmh\", \"gust\":\"gust_kmh\",\n",
        "                          \"rain\":\"rain_mm\", \"feels\":\"feels_c\"})"
      ],
      "metadata": {
        "id": "ARWAeEH4dtGZ"
      },
      "execution_count": 327,
      "outputs": []
    },
    {
      "cell_type": "code",
      "source": [
        "dfw.head()"
      ],
      "metadata": {
        "id": "cXmUDXswdv8Z",
        "outputId": "30d1588b-5417-417f-ad0c-b0c74e5fccc0",
        "colab": {
          "base_uri": "https://localhost:8080/",
          "height": 206
        }
      },
      "execution_count": 328,
      "outputs": [
        {
          "output_type": "execute_result",
          "data": {
            "text/plain": [
              "             datetime  temp_c  feels_c  wind_kmh  gust_kmh  rain_mm\n",
              "0 2018-09-01 00:00:00      11       11         9        19      0.0\n",
              "1 2018-09-01 03:00:00      13       12        11        19      0.0\n",
              "2 2018-09-01 06:00:00      14       13        11        19      0.0\n",
              "3 2018-09-01 09:00:00      14       13        14        23      0.0\n",
              "4 2018-09-01 12:00:00      16       16        15        22      0.0"
            ],
            "text/html": [
              "\n",
              "  <div id=\"df-12a91994-17f5-4bdb-b266-204551b183fb\">\n",
              "    <div class=\"colab-df-container\">\n",
              "      <div>\n",
              "<style scoped>\n",
              "    .dataframe tbody tr th:only-of-type {\n",
              "        vertical-align: middle;\n",
              "    }\n",
              "\n",
              "    .dataframe tbody tr th {\n",
              "        vertical-align: top;\n",
              "    }\n",
              "\n",
              "    .dataframe thead th {\n",
              "        text-align: right;\n",
              "    }\n",
              "</style>\n",
              "<table border=\"1\" class=\"dataframe\">\n",
              "  <thead>\n",
              "    <tr style=\"text-align: right;\">\n",
              "      <th></th>\n",
              "      <th>datetime</th>\n",
              "      <th>temp_c</th>\n",
              "      <th>feels_c</th>\n",
              "      <th>wind_kmh</th>\n",
              "      <th>gust_kmh</th>\n",
              "      <th>rain_mm</th>\n",
              "    </tr>\n",
              "  </thead>\n",
              "  <tbody>\n",
              "    <tr>\n",
              "      <th>0</th>\n",
              "      <td>2018-09-01 00:00:00</td>\n",
              "      <td>11</td>\n",
              "      <td>11</td>\n",
              "      <td>9</td>\n",
              "      <td>19</td>\n",
              "      <td>0.0</td>\n",
              "    </tr>\n",
              "    <tr>\n",
              "      <th>1</th>\n",
              "      <td>2018-09-01 03:00:00</td>\n",
              "      <td>13</td>\n",
              "      <td>12</td>\n",
              "      <td>11</td>\n",
              "      <td>19</td>\n",
              "      <td>0.0</td>\n",
              "    </tr>\n",
              "    <tr>\n",
              "      <th>2</th>\n",
              "      <td>2018-09-01 06:00:00</td>\n",
              "      <td>14</td>\n",
              "      <td>13</td>\n",
              "      <td>11</td>\n",
              "      <td>19</td>\n",
              "      <td>0.0</td>\n",
              "    </tr>\n",
              "    <tr>\n",
              "      <th>3</th>\n",
              "      <td>2018-09-01 09:00:00</td>\n",
              "      <td>14</td>\n",
              "      <td>13</td>\n",
              "      <td>14</td>\n",
              "      <td>23</td>\n",
              "      <td>0.0</td>\n",
              "    </tr>\n",
              "    <tr>\n",
              "      <th>4</th>\n",
              "      <td>2018-09-01 12:00:00</td>\n",
              "      <td>16</td>\n",
              "      <td>16</td>\n",
              "      <td>15</td>\n",
              "      <td>22</td>\n",
              "      <td>0.0</td>\n",
              "    </tr>\n",
              "  </tbody>\n",
              "</table>\n",
              "</div>\n",
              "      <button class=\"colab-df-convert\" onclick=\"convertToInteractive('df-12a91994-17f5-4bdb-b266-204551b183fb')\"\n",
              "              title=\"Convert this dataframe to an interactive table.\"\n",
              "              style=\"display:none;\">\n",
              "        \n",
              "  <svg xmlns=\"http://www.w3.org/2000/svg\" height=\"24px\"viewBox=\"0 0 24 24\"\n",
              "       width=\"24px\">\n",
              "    <path d=\"M0 0h24v24H0V0z\" fill=\"none\"/>\n",
              "    <path d=\"M18.56 5.44l.94 2.06.94-2.06 2.06-.94-2.06-.94-.94-2.06-.94 2.06-2.06.94zm-11 1L8.5 8.5l.94-2.06 2.06-.94-2.06-.94L8.5 2.5l-.94 2.06-2.06.94zm10 10l.94 2.06.94-2.06 2.06-.94-2.06-.94-.94-2.06-.94 2.06-2.06.94z\"/><path d=\"M17.41 7.96l-1.37-1.37c-.4-.4-.92-.59-1.43-.59-.52 0-1.04.2-1.43.59L10.3 9.45l-7.72 7.72c-.78.78-.78 2.05 0 2.83L4 21.41c.39.39.9.59 1.41.59.51 0 1.02-.2 1.41-.59l7.78-7.78 2.81-2.81c.8-.78.8-2.07 0-2.86zM5.41 20L4 18.59l7.72-7.72 1.47 1.35L5.41 20z\"/>\n",
              "  </svg>\n",
              "      </button>\n",
              "      \n",
              "  <style>\n",
              "    .colab-df-container {\n",
              "      display:flex;\n",
              "      flex-wrap:wrap;\n",
              "      gap: 12px;\n",
              "    }\n",
              "\n",
              "    .colab-df-convert {\n",
              "      background-color: #E8F0FE;\n",
              "      border: none;\n",
              "      border-radius: 50%;\n",
              "      cursor: pointer;\n",
              "      display: none;\n",
              "      fill: #1967D2;\n",
              "      height: 32px;\n",
              "      padding: 0 0 0 0;\n",
              "      width: 32px;\n",
              "    }\n",
              "\n",
              "    .colab-df-convert:hover {\n",
              "      background-color: #E2EBFA;\n",
              "      box-shadow: 0px 1px 2px rgba(60, 64, 67, 0.3), 0px 1px 3px 1px rgba(60, 64, 67, 0.15);\n",
              "      fill: #174EA6;\n",
              "    }\n",
              "\n",
              "    [theme=dark] .colab-df-convert {\n",
              "      background-color: #3B4455;\n",
              "      fill: #D2E3FC;\n",
              "    }\n",
              "\n",
              "    [theme=dark] .colab-df-convert:hover {\n",
              "      background-color: #434B5C;\n",
              "      box-shadow: 0px 1px 3px 1px rgba(0, 0, 0, 0.15);\n",
              "      filter: drop-shadow(0px 1px 2px rgba(0, 0, 0, 0.3));\n",
              "      fill: #FFFFFF;\n",
              "    }\n",
              "  </style>\n",
              "\n",
              "      <script>\n",
              "        const buttonEl =\n",
              "          document.querySelector('#df-12a91994-17f5-4bdb-b266-204551b183fb button.colab-df-convert');\n",
              "        buttonEl.style.display =\n",
              "          google.colab.kernel.accessAllowed ? 'block' : 'none';\n",
              "\n",
              "        async function convertToInteractive(key) {\n",
              "          const element = document.querySelector('#df-12a91994-17f5-4bdb-b266-204551b183fb');\n",
              "          const dataTable =\n",
              "            await google.colab.kernel.invokeFunction('convertToInteractive',\n",
              "                                                     [key], {});\n",
              "          if (!dataTable) return;\n",
              "\n",
              "          const docLinkHtml = 'Like what you see? Visit the ' +\n",
              "            '<a target=\"_blank\" href=https://colab.research.google.com/notebooks/data_table.ipynb>data table notebook</a>'\n",
              "            + ' to learn more about interactive tables.';\n",
              "          element.innerHTML = '';\n",
              "          dataTable['output_type'] = 'display_data';\n",
              "          await google.colab.output.renderOutput(dataTable, element);\n",
              "          const docLink = document.createElement('div');\n",
              "          docLink.innerHTML = docLinkHtml;\n",
              "          element.appendChild(docLink);\n",
              "        }\n",
              "      </script>\n",
              "    </div>\n",
              "  </div>\n",
              "  "
            ]
          },
          "metadata": {},
          "execution_count": 328
        }
      ]
    },
    {
      "cell_type": "code",
      "source": [
        "# první záznam o počasí\n",
        "dfw['datetime'].min()"
      ],
      "metadata": {
        "id": "sjBATDjzdxZc",
        "outputId": "0ec89f01-6c59-48d5-f45c-32cb4f6d538d",
        "colab": {
          "base_uri": "https://localhost:8080/"
        }
      },
      "execution_count": 329,
      "outputs": [
        {
          "output_type": "execute_result",
          "data": {
            "text/plain": [
              "Timestamp('2018-09-01 00:00:00')"
            ]
          },
          "metadata": {},
          "execution_count": 329
        }
      ]
    },
    {
      "cell_type": "code",
      "source": [
        "# poslední záznam o počasí\n",
        "dfw['datetime'].max()"
      ],
      "metadata": {
        "id": "gVpbDzYGd0_I",
        "outputId": "953af303-4a75-4abd-e8e5-7e500cbcf2d4",
        "colab": {
          "base_uri": "https://localhost:8080/"
        }
      },
      "execution_count": 330,
      "outputs": [
        {
          "output_type": "execute_result",
          "data": {
            "text/plain": [
              "Timestamp('2020-10-31 21:00:00')"
            ]
          },
          "metadata": {},
          "execution_count": 330
        }
      ]
    },
    {
      "cell_type": "code",
      "source": [
        "# připravený dataset\n",
        "dfw1 = dfw.copy()"
      ],
      "metadata": {
        "id": "6EcAdhtXgJ8T"
      },
      "execution_count": 331,
      "outputs": []
    },
    {
      "cell_type": "markdown",
      "source": [
        "Upravený dataframe obsahuje **6336** záznamů a 5 sloupců s informacemi od data **2018-09-01 00:00** do **2020-10-31 21:00**."
      ],
      "metadata": {
        "id": "bVO7fdS0d2mV"
      }
    },
    {
      "cell_type": "markdown",
      "source": [
        "### Stations"
      ],
      "metadata": {
        "id": "mRbbtGTLcy9_"
      }
    },
    {
      "cell_type": "markdown",
      "source": [
        "* Z upraveného dataframu **dfb** si vytvořím dataframe pouze s unikátními stanicemi bez časových záznamů. Tento dataframe budu využívat jako seznam všech stanic s informacemi o ních.  \n",
        "* K datasetu přidám sloupec s početem výpujček a vrácení kol v jednotlivých stanicích.\n",
        "* Stanice, které jsou k dispozici zjistíme ze **start_id** a **end_id**"
      ],
      "metadata": {
        "id": "yJy_TKYid4bW"
      }
    },
    {
      "cell_type": "code",
      "source": [
        "# kopie dataframu pro vytvoření unikátních stanic\n",
        "dfs = dfb.copy()"
      ],
      "metadata": {
        "id": "JOTJBcdieMpm"
      },
      "execution_count": 332,
      "outputs": []
    },
    {
      "cell_type": "code",
      "source": [
        "dfs.head()"
      ],
      "metadata": {
        "id": "ttGPAWDvd-ye",
        "outputId": "089e725a-4347-494d-8315-94a16094ad9a",
        "colab": {
          "base_uri": "https://localhost:8080/",
          "height": 461
        }
      },
      "execution_count": 333,
      "outputs": [
        {
          "output_type": "execute_result",
          "data": {
            "text/plain": [
              "                start                 end        duration  start_id  \\\n",
              "0 2018-09-15 08:52:05 2018-09-15 09:11:48 0 days 00:19:42       247   \n",
              "1 2018-09-15 09:24:33 2018-09-15 09:41:09 0 days 00:16:35       259   \n",
              "2 2018-09-15 09:48:54 2018-09-15 10:46:40 0 days 00:57:46       262   \n",
              "3 2018-09-16 12:01:36 2018-09-16 12:25:26 0 days 00:23:50       255   \n",
              "4 2018-09-16 12:03:43 2018-09-16 12:11:16 0 days 00:07:32       255   \n",
              "\n",
              "          start_name                 start_description  start_latitude  \\\n",
              "0   Charlotte Square  North Corner of Charlotte Square       55.952335   \n",
              "1   St Andrew Square                 North East corner       55.954749   \n",
              "2         Canonmills                      near Tesco's       55.962804   \n",
              "3  Kings Buildings 4                          X-Y Cafe       55.922001   \n",
              "4  Kings Buildings 4                          X-Y Cafe       55.922001   \n",
              "\n",
              "   start_longitude  end_id          end_name  \\\n",
              "0        -3.207101     259  St Andrew Square   \n",
              "1        -3.192774     262        Canonmills   \n",
              "2        -3.196284     250     Victoria Quay   \n",
              "3        -3.176902     254  Kings Building 3   \n",
              "4        -3.176902     253  Kings Building 2   \n",
              "\n",
              "                          end_description  end_latitude  end_longitude  \\\n",
              "0                       North East corner     55.954728      -3.192653   \n",
              "1                            near Tesco's     55.962804      -3.196284   \n",
              "2  Entrance to Scottish Government Office     55.977638      -3.174116   \n",
              "3                    Kings Building House     55.923479      -3.175385   \n",
              "4                      Sanderson Building     55.923202      -3.171646   \n",
              "\n",
              "   distance  \n",
              "0  0.937974  \n",
              "1  0.921967  \n",
              "2  2.150241  \n",
              "3  0.189587  \n",
              "4  0.353640  "
            ],
            "text/html": [
              "\n",
              "  <div id=\"df-b709d115-c853-435a-a60f-084fb54a05b0\">\n",
              "    <div class=\"colab-df-container\">\n",
              "      <div>\n",
              "<style scoped>\n",
              "    .dataframe tbody tr th:only-of-type {\n",
              "        vertical-align: middle;\n",
              "    }\n",
              "\n",
              "    .dataframe tbody tr th {\n",
              "        vertical-align: top;\n",
              "    }\n",
              "\n",
              "    .dataframe thead th {\n",
              "        text-align: right;\n",
              "    }\n",
              "</style>\n",
              "<table border=\"1\" class=\"dataframe\">\n",
              "  <thead>\n",
              "    <tr style=\"text-align: right;\">\n",
              "      <th></th>\n",
              "      <th>start</th>\n",
              "      <th>end</th>\n",
              "      <th>duration</th>\n",
              "      <th>start_id</th>\n",
              "      <th>start_name</th>\n",
              "      <th>start_description</th>\n",
              "      <th>start_latitude</th>\n",
              "      <th>start_longitude</th>\n",
              "      <th>end_id</th>\n",
              "      <th>end_name</th>\n",
              "      <th>end_description</th>\n",
              "      <th>end_latitude</th>\n",
              "      <th>end_longitude</th>\n",
              "      <th>distance</th>\n",
              "    </tr>\n",
              "  </thead>\n",
              "  <tbody>\n",
              "    <tr>\n",
              "      <th>0</th>\n",
              "      <td>2018-09-15 08:52:05</td>\n",
              "      <td>2018-09-15 09:11:48</td>\n",
              "      <td>0 days 00:19:42</td>\n",
              "      <td>247</td>\n",
              "      <td>Charlotte Square</td>\n",
              "      <td>North Corner of Charlotte Square</td>\n",
              "      <td>55.952335</td>\n",
              "      <td>-3.207101</td>\n",
              "      <td>259</td>\n",
              "      <td>St Andrew Square</td>\n",
              "      <td>North East corner</td>\n",
              "      <td>55.954728</td>\n",
              "      <td>-3.192653</td>\n",
              "      <td>0.937974</td>\n",
              "    </tr>\n",
              "    <tr>\n",
              "      <th>1</th>\n",
              "      <td>2018-09-15 09:24:33</td>\n",
              "      <td>2018-09-15 09:41:09</td>\n",
              "      <td>0 days 00:16:35</td>\n",
              "      <td>259</td>\n",
              "      <td>St Andrew Square</td>\n",
              "      <td>North East corner</td>\n",
              "      <td>55.954749</td>\n",
              "      <td>-3.192774</td>\n",
              "      <td>262</td>\n",
              "      <td>Canonmills</td>\n",
              "      <td>near Tesco's</td>\n",
              "      <td>55.962804</td>\n",
              "      <td>-3.196284</td>\n",
              "      <td>0.921967</td>\n",
              "    </tr>\n",
              "    <tr>\n",
              "      <th>2</th>\n",
              "      <td>2018-09-15 09:48:54</td>\n",
              "      <td>2018-09-15 10:46:40</td>\n",
              "      <td>0 days 00:57:46</td>\n",
              "      <td>262</td>\n",
              "      <td>Canonmills</td>\n",
              "      <td>near Tesco's</td>\n",
              "      <td>55.962804</td>\n",
              "      <td>-3.196284</td>\n",
              "      <td>250</td>\n",
              "      <td>Victoria Quay</td>\n",
              "      <td>Entrance to Scottish Government Office</td>\n",
              "      <td>55.977638</td>\n",
              "      <td>-3.174116</td>\n",
              "      <td>2.150241</td>\n",
              "    </tr>\n",
              "    <tr>\n",
              "      <th>3</th>\n",
              "      <td>2018-09-16 12:01:36</td>\n",
              "      <td>2018-09-16 12:25:26</td>\n",
              "      <td>0 days 00:23:50</td>\n",
              "      <td>255</td>\n",
              "      <td>Kings Buildings 4</td>\n",
              "      <td>X-Y Cafe</td>\n",
              "      <td>55.922001</td>\n",
              "      <td>-3.176902</td>\n",
              "      <td>254</td>\n",
              "      <td>Kings Building 3</td>\n",
              "      <td>Kings Building House</td>\n",
              "      <td>55.923479</td>\n",
              "      <td>-3.175385</td>\n",
              "      <td>0.189587</td>\n",
              "    </tr>\n",
              "    <tr>\n",
              "      <th>4</th>\n",
              "      <td>2018-09-16 12:03:43</td>\n",
              "      <td>2018-09-16 12:11:16</td>\n",
              "      <td>0 days 00:07:32</td>\n",
              "      <td>255</td>\n",
              "      <td>Kings Buildings 4</td>\n",
              "      <td>X-Y Cafe</td>\n",
              "      <td>55.922001</td>\n",
              "      <td>-3.176902</td>\n",
              "      <td>253</td>\n",
              "      <td>Kings Building 2</td>\n",
              "      <td>Sanderson Building</td>\n",
              "      <td>55.923202</td>\n",
              "      <td>-3.171646</td>\n",
              "      <td>0.353640</td>\n",
              "    </tr>\n",
              "  </tbody>\n",
              "</table>\n",
              "</div>\n",
              "      <button class=\"colab-df-convert\" onclick=\"convertToInteractive('df-b709d115-c853-435a-a60f-084fb54a05b0')\"\n",
              "              title=\"Convert this dataframe to an interactive table.\"\n",
              "              style=\"display:none;\">\n",
              "        \n",
              "  <svg xmlns=\"http://www.w3.org/2000/svg\" height=\"24px\"viewBox=\"0 0 24 24\"\n",
              "       width=\"24px\">\n",
              "    <path d=\"M0 0h24v24H0V0z\" fill=\"none\"/>\n",
              "    <path d=\"M18.56 5.44l.94 2.06.94-2.06 2.06-.94-2.06-.94-.94-2.06-.94 2.06-2.06.94zm-11 1L8.5 8.5l.94-2.06 2.06-.94-2.06-.94L8.5 2.5l-.94 2.06-2.06.94zm10 10l.94 2.06.94-2.06 2.06-.94-2.06-.94-.94-2.06-.94 2.06-2.06.94z\"/><path d=\"M17.41 7.96l-1.37-1.37c-.4-.4-.92-.59-1.43-.59-.52 0-1.04.2-1.43.59L10.3 9.45l-7.72 7.72c-.78.78-.78 2.05 0 2.83L4 21.41c.39.39.9.59 1.41.59.51 0 1.02-.2 1.41-.59l7.78-7.78 2.81-2.81c.8-.78.8-2.07 0-2.86zM5.41 20L4 18.59l7.72-7.72 1.47 1.35L5.41 20z\"/>\n",
              "  </svg>\n",
              "      </button>\n",
              "      \n",
              "  <style>\n",
              "    .colab-df-container {\n",
              "      display:flex;\n",
              "      flex-wrap:wrap;\n",
              "      gap: 12px;\n",
              "    }\n",
              "\n",
              "    .colab-df-convert {\n",
              "      background-color: #E8F0FE;\n",
              "      border: none;\n",
              "      border-radius: 50%;\n",
              "      cursor: pointer;\n",
              "      display: none;\n",
              "      fill: #1967D2;\n",
              "      height: 32px;\n",
              "      padding: 0 0 0 0;\n",
              "      width: 32px;\n",
              "    }\n",
              "\n",
              "    .colab-df-convert:hover {\n",
              "      background-color: #E2EBFA;\n",
              "      box-shadow: 0px 1px 2px rgba(60, 64, 67, 0.3), 0px 1px 3px 1px rgba(60, 64, 67, 0.15);\n",
              "      fill: #174EA6;\n",
              "    }\n",
              "\n",
              "    [theme=dark] .colab-df-convert {\n",
              "      background-color: #3B4455;\n",
              "      fill: #D2E3FC;\n",
              "    }\n",
              "\n",
              "    [theme=dark] .colab-df-convert:hover {\n",
              "      background-color: #434B5C;\n",
              "      box-shadow: 0px 1px 3px 1px rgba(0, 0, 0, 0.15);\n",
              "      filter: drop-shadow(0px 1px 2px rgba(0, 0, 0, 0.3));\n",
              "      fill: #FFFFFF;\n",
              "    }\n",
              "  </style>\n",
              "\n",
              "      <script>\n",
              "        const buttonEl =\n",
              "          document.querySelector('#df-b709d115-c853-435a-a60f-084fb54a05b0 button.colab-df-convert');\n",
              "        buttonEl.style.display =\n",
              "          google.colab.kernel.accessAllowed ? 'block' : 'none';\n",
              "\n",
              "        async function convertToInteractive(key) {\n",
              "          const element = document.querySelector('#df-b709d115-c853-435a-a60f-084fb54a05b0');\n",
              "          const dataTable =\n",
              "            await google.colab.kernel.invokeFunction('convertToInteractive',\n",
              "                                                     [key], {});\n",
              "          if (!dataTable) return;\n",
              "\n",
              "          const docLinkHtml = 'Like what you see? Visit the ' +\n",
              "            '<a target=\"_blank\" href=https://colab.research.google.com/notebooks/data_table.ipynb>data table notebook</a>'\n",
              "            + ' to learn more about interactive tables.';\n",
              "          element.innerHTML = '';\n",
              "          dataTable['output_type'] = 'display_data';\n",
              "          await google.colab.output.renderOutput(dataTable, element);\n",
              "          const docLink = document.createElement('div');\n",
              "          docLink.innerHTML = docLinkHtml;\n",
              "          element.appendChild(docLink);\n",
              "        }\n",
              "      </script>\n",
              "    </div>\n",
              "  </div>\n",
              "  "
            ]
          },
          "metadata": {},
          "execution_count": 333
        }
      ]
    },
    {
      "cell_type": "code",
      "source": [
        "# odstranění nepotřebných sloupců\n",
        "dfs_start = dfs.drop(\n",
        "    columns=[\"start\",\"end\",\"duration\",\"end_id\",\"end_name\",\n",
        "             \"end_description\",\"end_latitude\",\"end_longitude\"])"
      ],
      "metadata": {
        "id": "CbMNZkQXeBRm"
      },
      "execution_count": 334,
      "outputs": []
    },
    {
      "cell_type": "code",
      "source": [
        "# vytvoření unikátních záznamů\n",
        "dfs_start = dfs_start.drop_duplicates('start_id').reset_index(drop=True)"
      ],
      "metadata": {
        "id": "IGndU4TSeCYD"
      },
      "execution_count": 335,
      "outputs": []
    },
    {
      "cell_type": "code",
      "source": [
        "# přejmenování sloupců\n",
        "dfs_start = dfs_start.rename(\n",
        "            columns={\"start_name\": \"name\",\n",
        "                     \"start_id\": \"id\",\n",
        "                 \"start_description\": \"description\",\n",
        "                 \"start_latitude\": \"lat\",\n",
        "                 \"start_longitude\": \"lon\"})"
      ],
      "metadata": {
        "id": "1DnBct7QeEe1"
      },
      "execution_count": 336,
      "outputs": []
    },
    {
      "cell_type": "code",
      "source": [
        "# odstranění nepotřebných sloupců\n",
        "dfs_end = dfs.drop(\n",
        "    columns=[\"start\",\"end\", \"duration\",\"start_id\",\"start_name\",\n",
        "             \"start_description\",\"start_latitude\",\"start_longitude\"])"
      ],
      "metadata": {
        "id": "tJPRovP2eGDR"
      },
      "execution_count": 337,
      "outputs": []
    },
    {
      "cell_type": "code",
      "source": [
        "# vytvoření unikátních záznamů\n",
        "dfs_end = dfs_end.drop_duplicates('end_id').reset_index(drop=True)"
      ],
      "metadata": {
        "id": "kP9Ag33Le-jn"
      },
      "execution_count": 338,
      "outputs": []
    },
    {
      "cell_type": "code",
      "source": [
        "# přejmenování sloupců\n",
        "dfs_end = dfs_end.rename(\n",
        "            columns={\"end_name\": \"name\",\n",
        "                     \"end_id\": \"id\",\n",
        "                 \"end_description\": \"description\",\n",
        "                 \"end_latitude\": \"lat\",\n",
        "                 \"end_longitude\": \"lon\"})"
      ],
      "metadata": {
        "id": "QEqY8y82fB42"
      },
      "execution_count": 339,
      "outputs": []
    },
    {
      "cell_type": "code",
      "source": [
        "# sloučení dataframů\n",
        "dfs_new = dfs_start.append(dfs_end, ignore_index = True)"
      ],
      "metadata": {
        "id": "rffim7wjfC6_"
      },
      "execution_count": 340,
      "outputs": []
    },
    {
      "cell_type": "code",
      "source": [
        "# vytvoření unikátních záznamů\n",
        "dfs_new = dfs_new.drop_duplicates('id').reset_index(drop=True)"
      ],
      "metadata": {
        "id": "49Sk26K8fD_a"
      },
      "execution_count": 341,
      "outputs": []
    },
    {
      "cell_type": "code",
      "source": [
        "# počet stanic\n",
        "dfs_new[\"id\"].count()"
      ],
      "metadata": {
        "id": "m65CY7SPfE0U",
        "outputId": "0258d111-fbe6-40c1-beb0-7a3936a25359",
        "colab": {
          "base_uri": "https://localhost:8080/"
        }
      },
      "execution_count": 342,
      "outputs": [
        {
          "output_type": "execute_result",
          "data": {
            "text/plain": [
              "200"
            ]
          },
          "metadata": {},
          "execution_count": 342
        }
      ]
    },
    {
      "cell_type": "markdown",
      "source": [
        "Nový dataframe, který obsahuje všechny bikes stanice, kterých je **200 stanic**."
      ],
      "metadata": {
        "id": "OvFRfv-ufF3a"
      }
    },
    {
      "cell_type": "code",
      "source": [
        "# vytvoření nového sloupce s počtem vypůjčených kol ve stanici\n",
        "start_frequency = dfs[\"start_id\"].value_counts().rename_axis(\"id\").reset_index(\n",
        "    name = \"start_frequency\")"
      ],
      "metadata": {
        "id": "NDjZqKwHfNYG"
      },
      "execution_count": 343,
      "outputs": []
    },
    {
      "cell_type": "code",
      "source": [
        "# vytvoření nového sloupce s počtem vrácených kol ve stanici\n",
        "end_frequency = dfs[\"end_id\"].value_counts().rename_axis(\"id\").reset_index(\n",
        "    name = \"end_frequency\")"
      ],
      "metadata": {
        "id": "JxSQJ_28fSFS"
      },
      "execution_count": 344,
      "outputs": []
    },
    {
      "cell_type": "code",
      "source": [
        "# sjednocení dataframů\n",
        "dfs_final = dfs_new.merge(start_frequency, how=\"outer\", on = \"id\")\n",
        "dfs_final = dfs_final.merge(end_frequency, how= \"outer\", on= \"id\")"
      ],
      "metadata": {
        "id": "ftZt_VYvfUhp"
      },
      "execution_count": 345,
      "outputs": []
    },
    {
      "cell_type": "code",
      "source": [
        "dfs_final.head()"
      ],
      "metadata": {
        "id": "c3bX0wSRfVo4",
        "outputId": "809cc23c-1e06-488e-9f0e-55bd7ae06ca0",
        "colab": {
          "base_uri": "https://localhost:8080/",
          "height": 206
        }
      },
      "execution_count": 346,
      "outputs": [
        {
          "output_type": "execute_result",
          "data": {
            "text/plain": [
              "    id               name                       description        lat  \\\n",
              "0  247   Charlotte Square  North Corner of Charlotte Square  55.952335   \n",
              "1  259   St Andrew Square                 North East corner  55.954749   \n",
              "2  262         Canonmills                      near Tesco's  55.962804   \n",
              "3  255  Kings Buildings 4                          X-Y Cafe  55.922001   \n",
              "4  253   Kings Building 2                Sanderson Building  55.923202   \n",
              "\n",
              "        lon  distance  start_frequency  end_frequency  \n",
              "0 -3.207101  0.937974           8134.0         4980.0  \n",
              "1 -3.192774  0.921967          12218.0         8372.0  \n",
              "2 -3.196284  2.150241           9551.0        11940.0  \n",
              "3 -3.176902  0.189587            254.0          196.0  \n",
              "4 -3.171646  0.174580           4096.0         4557.0  "
            ],
            "text/html": [
              "\n",
              "  <div id=\"df-30dd012f-fffd-43db-b216-33ceace0202c\">\n",
              "    <div class=\"colab-df-container\">\n",
              "      <div>\n",
              "<style scoped>\n",
              "    .dataframe tbody tr th:only-of-type {\n",
              "        vertical-align: middle;\n",
              "    }\n",
              "\n",
              "    .dataframe tbody tr th {\n",
              "        vertical-align: top;\n",
              "    }\n",
              "\n",
              "    .dataframe thead th {\n",
              "        text-align: right;\n",
              "    }\n",
              "</style>\n",
              "<table border=\"1\" class=\"dataframe\">\n",
              "  <thead>\n",
              "    <tr style=\"text-align: right;\">\n",
              "      <th></th>\n",
              "      <th>id</th>\n",
              "      <th>name</th>\n",
              "      <th>description</th>\n",
              "      <th>lat</th>\n",
              "      <th>lon</th>\n",
              "      <th>distance</th>\n",
              "      <th>start_frequency</th>\n",
              "      <th>end_frequency</th>\n",
              "    </tr>\n",
              "  </thead>\n",
              "  <tbody>\n",
              "    <tr>\n",
              "      <th>0</th>\n",
              "      <td>247</td>\n",
              "      <td>Charlotte Square</td>\n",
              "      <td>North Corner of Charlotte Square</td>\n",
              "      <td>55.952335</td>\n",
              "      <td>-3.207101</td>\n",
              "      <td>0.937974</td>\n",
              "      <td>8134.0</td>\n",
              "      <td>4980.0</td>\n",
              "    </tr>\n",
              "    <tr>\n",
              "      <th>1</th>\n",
              "      <td>259</td>\n",
              "      <td>St Andrew Square</td>\n",
              "      <td>North East corner</td>\n",
              "      <td>55.954749</td>\n",
              "      <td>-3.192774</td>\n",
              "      <td>0.921967</td>\n",
              "      <td>12218.0</td>\n",
              "      <td>8372.0</td>\n",
              "    </tr>\n",
              "    <tr>\n",
              "      <th>2</th>\n",
              "      <td>262</td>\n",
              "      <td>Canonmills</td>\n",
              "      <td>near Tesco's</td>\n",
              "      <td>55.962804</td>\n",
              "      <td>-3.196284</td>\n",
              "      <td>2.150241</td>\n",
              "      <td>9551.0</td>\n",
              "      <td>11940.0</td>\n",
              "    </tr>\n",
              "    <tr>\n",
              "      <th>3</th>\n",
              "      <td>255</td>\n",
              "      <td>Kings Buildings 4</td>\n",
              "      <td>X-Y Cafe</td>\n",
              "      <td>55.922001</td>\n",
              "      <td>-3.176902</td>\n",
              "      <td>0.189587</td>\n",
              "      <td>254.0</td>\n",
              "      <td>196.0</td>\n",
              "    </tr>\n",
              "    <tr>\n",
              "      <th>4</th>\n",
              "      <td>253</td>\n",
              "      <td>Kings Building 2</td>\n",
              "      <td>Sanderson Building</td>\n",
              "      <td>55.923202</td>\n",
              "      <td>-3.171646</td>\n",
              "      <td>0.174580</td>\n",
              "      <td>4096.0</td>\n",
              "      <td>4557.0</td>\n",
              "    </tr>\n",
              "  </tbody>\n",
              "</table>\n",
              "</div>\n",
              "      <button class=\"colab-df-convert\" onclick=\"convertToInteractive('df-30dd012f-fffd-43db-b216-33ceace0202c')\"\n",
              "              title=\"Convert this dataframe to an interactive table.\"\n",
              "              style=\"display:none;\">\n",
              "        \n",
              "  <svg xmlns=\"http://www.w3.org/2000/svg\" height=\"24px\"viewBox=\"0 0 24 24\"\n",
              "       width=\"24px\">\n",
              "    <path d=\"M0 0h24v24H0V0z\" fill=\"none\"/>\n",
              "    <path d=\"M18.56 5.44l.94 2.06.94-2.06 2.06-.94-2.06-.94-.94-2.06-.94 2.06-2.06.94zm-11 1L8.5 8.5l.94-2.06 2.06-.94-2.06-.94L8.5 2.5l-.94 2.06-2.06.94zm10 10l.94 2.06.94-2.06 2.06-.94-2.06-.94-.94-2.06-.94 2.06-2.06.94z\"/><path d=\"M17.41 7.96l-1.37-1.37c-.4-.4-.92-.59-1.43-.59-.52 0-1.04.2-1.43.59L10.3 9.45l-7.72 7.72c-.78.78-.78 2.05 0 2.83L4 21.41c.39.39.9.59 1.41.59.51 0 1.02-.2 1.41-.59l7.78-7.78 2.81-2.81c.8-.78.8-2.07 0-2.86zM5.41 20L4 18.59l7.72-7.72 1.47 1.35L5.41 20z\"/>\n",
              "  </svg>\n",
              "      </button>\n",
              "      \n",
              "  <style>\n",
              "    .colab-df-container {\n",
              "      display:flex;\n",
              "      flex-wrap:wrap;\n",
              "      gap: 12px;\n",
              "    }\n",
              "\n",
              "    .colab-df-convert {\n",
              "      background-color: #E8F0FE;\n",
              "      border: none;\n",
              "      border-radius: 50%;\n",
              "      cursor: pointer;\n",
              "      display: none;\n",
              "      fill: #1967D2;\n",
              "      height: 32px;\n",
              "      padding: 0 0 0 0;\n",
              "      width: 32px;\n",
              "    }\n",
              "\n",
              "    .colab-df-convert:hover {\n",
              "      background-color: #E2EBFA;\n",
              "      box-shadow: 0px 1px 2px rgba(60, 64, 67, 0.3), 0px 1px 3px 1px rgba(60, 64, 67, 0.15);\n",
              "      fill: #174EA6;\n",
              "    }\n",
              "\n",
              "    [theme=dark] .colab-df-convert {\n",
              "      background-color: #3B4455;\n",
              "      fill: #D2E3FC;\n",
              "    }\n",
              "\n",
              "    [theme=dark] .colab-df-convert:hover {\n",
              "      background-color: #434B5C;\n",
              "      box-shadow: 0px 1px 3px 1px rgba(0, 0, 0, 0.15);\n",
              "      filter: drop-shadow(0px 1px 2px rgba(0, 0, 0, 0.3));\n",
              "      fill: #FFFFFF;\n",
              "    }\n",
              "  </style>\n",
              "\n",
              "      <script>\n",
              "        const buttonEl =\n",
              "          document.querySelector('#df-30dd012f-fffd-43db-b216-33ceace0202c button.colab-df-convert');\n",
              "        buttonEl.style.display =\n",
              "          google.colab.kernel.accessAllowed ? 'block' : 'none';\n",
              "\n",
              "        async function convertToInteractive(key) {\n",
              "          const element = document.querySelector('#df-30dd012f-fffd-43db-b216-33ceace0202c');\n",
              "          const dataTable =\n",
              "            await google.colab.kernel.invokeFunction('convertToInteractive',\n",
              "                                                     [key], {});\n",
              "          if (!dataTable) return;\n",
              "\n",
              "          const docLinkHtml = 'Like what you see? Visit the ' +\n",
              "            '<a target=\"_blank\" href=https://colab.research.google.com/notebooks/data_table.ipynb>data table notebook</a>'\n",
              "            + ' to learn more about interactive tables.';\n",
              "          element.innerHTML = '';\n",
              "          dataTable['output_type'] = 'display_data';\n",
              "          await google.colab.output.renderOutput(dataTable, element);\n",
              "          const docLink = document.createElement('div');\n",
              "          docLink.innerHTML = docLinkHtml;\n",
              "          element.appendChild(docLink);\n",
              "        }\n",
              "      </script>\n",
              "    </div>\n",
              "  </div>\n",
              "  "
            ]
          },
          "metadata": {},
          "execution_count": 346
        }
      ]
    },
    {
      "cell_type": "code",
      "source": [
        "# zjištění stanic, ve kterých nebylo nikdy zapůjčeno kolo\n",
        "dfs_final[dfs_final[\"start_frequency\"].isna()]"
      ],
      "metadata": {
        "id": "af7xuSyOfXzx",
        "outputId": "2dea05e7-a162-470a-a76b-46960fc1deeb",
        "colab": {
          "base_uri": "https://localhost:8080/",
          "height": 112
        }
      },
      "execution_count": 347,
      "outputs": [
        {
          "output_type": "execute_result",
          "data": {
            "text/plain": [
              "      id                    name    description        lat       lon  \\\n",
              "198  242           Virtual Depot  Virtual Depot  55.972402 -3.155794   \n",
              "199  280  Smarter Travel Station     The Street  53.395525 -2.990138   \n",
              "\n",
              "       distance  start_frequency  end_frequency  \n",
              "198    3.224857              NaN            2.0  \n",
              "199  285.005387              NaN            3.0  "
            ],
            "text/html": [
              "\n",
              "  <div id=\"df-1dd056c1-911e-4d83-bdea-9d9fd8c86020\">\n",
              "    <div class=\"colab-df-container\">\n",
              "      <div>\n",
              "<style scoped>\n",
              "    .dataframe tbody tr th:only-of-type {\n",
              "        vertical-align: middle;\n",
              "    }\n",
              "\n",
              "    .dataframe tbody tr th {\n",
              "        vertical-align: top;\n",
              "    }\n",
              "\n",
              "    .dataframe thead th {\n",
              "        text-align: right;\n",
              "    }\n",
              "</style>\n",
              "<table border=\"1\" class=\"dataframe\">\n",
              "  <thead>\n",
              "    <tr style=\"text-align: right;\">\n",
              "      <th></th>\n",
              "      <th>id</th>\n",
              "      <th>name</th>\n",
              "      <th>description</th>\n",
              "      <th>lat</th>\n",
              "      <th>lon</th>\n",
              "      <th>distance</th>\n",
              "      <th>start_frequency</th>\n",
              "      <th>end_frequency</th>\n",
              "    </tr>\n",
              "  </thead>\n",
              "  <tbody>\n",
              "    <tr>\n",
              "      <th>198</th>\n",
              "      <td>242</td>\n",
              "      <td>Virtual Depot</td>\n",
              "      <td>Virtual Depot</td>\n",
              "      <td>55.972402</td>\n",
              "      <td>-3.155794</td>\n",
              "      <td>3.224857</td>\n",
              "      <td>NaN</td>\n",
              "      <td>2.0</td>\n",
              "    </tr>\n",
              "    <tr>\n",
              "      <th>199</th>\n",
              "      <td>280</td>\n",
              "      <td>Smarter Travel Station</td>\n",
              "      <td>The Street</td>\n",
              "      <td>53.395525</td>\n",
              "      <td>-2.990138</td>\n",
              "      <td>285.005387</td>\n",
              "      <td>NaN</td>\n",
              "      <td>3.0</td>\n",
              "    </tr>\n",
              "  </tbody>\n",
              "</table>\n",
              "</div>\n",
              "      <button class=\"colab-df-convert\" onclick=\"convertToInteractive('df-1dd056c1-911e-4d83-bdea-9d9fd8c86020')\"\n",
              "              title=\"Convert this dataframe to an interactive table.\"\n",
              "              style=\"display:none;\">\n",
              "        \n",
              "  <svg xmlns=\"http://www.w3.org/2000/svg\" height=\"24px\"viewBox=\"0 0 24 24\"\n",
              "       width=\"24px\">\n",
              "    <path d=\"M0 0h24v24H0V0z\" fill=\"none\"/>\n",
              "    <path d=\"M18.56 5.44l.94 2.06.94-2.06 2.06-.94-2.06-.94-.94-2.06-.94 2.06-2.06.94zm-11 1L8.5 8.5l.94-2.06 2.06-.94-2.06-.94L8.5 2.5l-.94 2.06-2.06.94zm10 10l.94 2.06.94-2.06 2.06-.94-2.06-.94-.94-2.06-.94 2.06-2.06.94z\"/><path d=\"M17.41 7.96l-1.37-1.37c-.4-.4-.92-.59-1.43-.59-.52 0-1.04.2-1.43.59L10.3 9.45l-7.72 7.72c-.78.78-.78 2.05 0 2.83L4 21.41c.39.39.9.59 1.41.59.51 0 1.02-.2 1.41-.59l7.78-7.78 2.81-2.81c.8-.78.8-2.07 0-2.86zM5.41 20L4 18.59l7.72-7.72 1.47 1.35L5.41 20z\"/>\n",
              "  </svg>\n",
              "      </button>\n",
              "      \n",
              "  <style>\n",
              "    .colab-df-container {\n",
              "      display:flex;\n",
              "      flex-wrap:wrap;\n",
              "      gap: 12px;\n",
              "    }\n",
              "\n",
              "    .colab-df-convert {\n",
              "      background-color: #E8F0FE;\n",
              "      border: none;\n",
              "      border-radius: 50%;\n",
              "      cursor: pointer;\n",
              "      display: none;\n",
              "      fill: #1967D2;\n",
              "      height: 32px;\n",
              "      padding: 0 0 0 0;\n",
              "      width: 32px;\n",
              "    }\n",
              "\n",
              "    .colab-df-convert:hover {\n",
              "      background-color: #E2EBFA;\n",
              "      box-shadow: 0px 1px 2px rgba(60, 64, 67, 0.3), 0px 1px 3px 1px rgba(60, 64, 67, 0.15);\n",
              "      fill: #174EA6;\n",
              "    }\n",
              "\n",
              "    [theme=dark] .colab-df-convert {\n",
              "      background-color: #3B4455;\n",
              "      fill: #D2E3FC;\n",
              "    }\n",
              "\n",
              "    [theme=dark] .colab-df-convert:hover {\n",
              "      background-color: #434B5C;\n",
              "      box-shadow: 0px 1px 3px 1px rgba(0, 0, 0, 0.15);\n",
              "      filter: drop-shadow(0px 1px 2px rgba(0, 0, 0, 0.3));\n",
              "      fill: #FFFFFF;\n",
              "    }\n",
              "  </style>\n",
              "\n",
              "      <script>\n",
              "        const buttonEl =\n",
              "          document.querySelector('#df-1dd056c1-911e-4d83-bdea-9d9fd8c86020 button.colab-df-convert');\n",
              "        buttonEl.style.display =\n",
              "          google.colab.kernel.accessAllowed ? 'block' : 'none';\n",
              "\n",
              "        async function convertToInteractive(key) {\n",
              "          const element = document.querySelector('#df-1dd056c1-911e-4d83-bdea-9d9fd8c86020');\n",
              "          const dataTable =\n",
              "            await google.colab.kernel.invokeFunction('convertToInteractive',\n",
              "                                                     [key], {});\n",
              "          if (!dataTable) return;\n",
              "\n",
              "          const docLinkHtml = 'Like what you see? Visit the ' +\n",
              "            '<a target=\"_blank\" href=https://colab.research.google.com/notebooks/data_table.ipynb>data table notebook</a>'\n",
              "            + ' to learn more about interactive tables.';\n",
              "          element.innerHTML = '';\n",
              "          dataTable['output_type'] = 'display_data';\n",
              "          await google.colab.output.renderOutput(dataTable, element);\n",
              "          const docLink = document.createElement('div');\n",
              "          docLink.innerHTML = docLinkHtml;\n",
              "          element.appendChild(docLink);\n",
              "        }\n",
              "      </script>\n",
              "    </div>\n",
              "  </div>\n",
              "  "
            ]
          },
          "metadata": {},
          "execution_count": 347
        }
      ]
    },
    {
      "cell_type": "code",
      "source": [
        "# zjištění stanic, ve kterých nebylo nikdy vráceno kolo\n",
        "dfs_final[dfs_final[\"end_frequency\"].isna()]"
      ],
      "metadata": {
        "id": "CLLrCQqCfYx_",
        "outputId": "8f7c78cd-fed2-40f0-c375-6555825ea218",
        "colab": {
          "base_uri": "https://localhost:8080/",
          "height": 81
        }
      },
      "execution_count": 348,
      "outputs": [
        {
          "output_type": "execute_result",
          "data": {
            "text/plain": [
              "       id                          name                         description  \\\n",
              "182  1857  City Chambers Launch Station  Temporary station at City Chambers   \n",
              "\n",
              "           lat      lon  distance  start_frequency  end_frequency  \n",
              "182  55.950222 -3.19027  0.827345              1.0            NaN  "
            ],
            "text/html": [
              "\n",
              "  <div id=\"df-99201b70-c9d6-4e9b-8f19-cfb6cf8a49d4\">\n",
              "    <div class=\"colab-df-container\">\n",
              "      <div>\n",
              "<style scoped>\n",
              "    .dataframe tbody tr th:only-of-type {\n",
              "        vertical-align: middle;\n",
              "    }\n",
              "\n",
              "    .dataframe tbody tr th {\n",
              "        vertical-align: top;\n",
              "    }\n",
              "\n",
              "    .dataframe thead th {\n",
              "        text-align: right;\n",
              "    }\n",
              "</style>\n",
              "<table border=\"1\" class=\"dataframe\">\n",
              "  <thead>\n",
              "    <tr style=\"text-align: right;\">\n",
              "      <th></th>\n",
              "      <th>id</th>\n",
              "      <th>name</th>\n",
              "      <th>description</th>\n",
              "      <th>lat</th>\n",
              "      <th>lon</th>\n",
              "      <th>distance</th>\n",
              "      <th>start_frequency</th>\n",
              "      <th>end_frequency</th>\n",
              "    </tr>\n",
              "  </thead>\n",
              "  <tbody>\n",
              "    <tr>\n",
              "      <th>182</th>\n",
              "      <td>1857</td>\n",
              "      <td>City Chambers Launch Station</td>\n",
              "      <td>Temporary station at City Chambers</td>\n",
              "      <td>55.950222</td>\n",
              "      <td>-3.19027</td>\n",
              "      <td>0.827345</td>\n",
              "      <td>1.0</td>\n",
              "      <td>NaN</td>\n",
              "    </tr>\n",
              "  </tbody>\n",
              "</table>\n",
              "</div>\n",
              "      <button class=\"colab-df-convert\" onclick=\"convertToInteractive('df-99201b70-c9d6-4e9b-8f19-cfb6cf8a49d4')\"\n",
              "              title=\"Convert this dataframe to an interactive table.\"\n",
              "              style=\"display:none;\">\n",
              "        \n",
              "  <svg xmlns=\"http://www.w3.org/2000/svg\" height=\"24px\"viewBox=\"0 0 24 24\"\n",
              "       width=\"24px\">\n",
              "    <path d=\"M0 0h24v24H0V0z\" fill=\"none\"/>\n",
              "    <path d=\"M18.56 5.44l.94 2.06.94-2.06 2.06-.94-2.06-.94-.94-2.06-.94 2.06-2.06.94zm-11 1L8.5 8.5l.94-2.06 2.06-.94-2.06-.94L8.5 2.5l-.94 2.06-2.06.94zm10 10l.94 2.06.94-2.06 2.06-.94-2.06-.94-.94-2.06-.94 2.06-2.06.94z\"/><path d=\"M17.41 7.96l-1.37-1.37c-.4-.4-.92-.59-1.43-.59-.52 0-1.04.2-1.43.59L10.3 9.45l-7.72 7.72c-.78.78-.78 2.05 0 2.83L4 21.41c.39.39.9.59 1.41.59.51 0 1.02-.2 1.41-.59l7.78-7.78 2.81-2.81c.8-.78.8-2.07 0-2.86zM5.41 20L4 18.59l7.72-7.72 1.47 1.35L5.41 20z\"/>\n",
              "  </svg>\n",
              "      </button>\n",
              "      \n",
              "  <style>\n",
              "    .colab-df-container {\n",
              "      display:flex;\n",
              "      flex-wrap:wrap;\n",
              "      gap: 12px;\n",
              "    }\n",
              "\n",
              "    .colab-df-convert {\n",
              "      background-color: #E8F0FE;\n",
              "      border: none;\n",
              "      border-radius: 50%;\n",
              "      cursor: pointer;\n",
              "      display: none;\n",
              "      fill: #1967D2;\n",
              "      height: 32px;\n",
              "      padding: 0 0 0 0;\n",
              "      width: 32px;\n",
              "    }\n",
              "\n",
              "    .colab-df-convert:hover {\n",
              "      background-color: #E2EBFA;\n",
              "      box-shadow: 0px 1px 2px rgba(60, 64, 67, 0.3), 0px 1px 3px 1px rgba(60, 64, 67, 0.15);\n",
              "      fill: #174EA6;\n",
              "    }\n",
              "\n",
              "    [theme=dark] .colab-df-convert {\n",
              "      background-color: #3B4455;\n",
              "      fill: #D2E3FC;\n",
              "    }\n",
              "\n",
              "    [theme=dark] .colab-df-convert:hover {\n",
              "      background-color: #434B5C;\n",
              "      box-shadow: 0px 1px 3px 1px rgba(0, 0, 0, 0.15);\n",
              "      filter: drop-shadow(0px 1px 2px rgba(0, 0, 0, 0.3));\n",
              "      fill: #FFFFFF;\n",
              "    }\n",
              "  </style>\n",
              "\n",
              "      <script>\n",
              "        const buttonEl =\n",
              "          document.querySelector('#df-99201b70-c9d6-4e9b-8f19-cfb6cf8a49d4 button.colab-df-convert');\n",
              "        buttonEl.style.display =\n",
              "          google.colab.kernel.accessAllowed ? 'block' : 'none';\n",
              "\n",
              "        async function convertToInteractive(key) {\n",
              "          const element = document.querySelector('#df-99201b70-c9d6-4e9b-8f19-cfb6cf8a49d4');\n",
              "          const dataTable =\n",
              "            await google.colab.kernel.invokeFunction('convertToInteractive',\n",
              "                                                     [key], {});\n",
              "          if (!dataTable) return;\n",
              "\n",
              "          const docLinkHtml = 'Like what you see? Visit the ' +\n",
              "            '<a target=\"_blank\" href=https://colab.research.google.com/notebooks/data_table.ipynb>data table notebook</a>'\n",
              "            + ' to learn more about interactive tables.';\n",
              "          element.innerHTML = '';\n",
              "          dataTable['output_type'] = 'display_data';\n",
              "          await google.colab.output.renderOutput(dataTable, element);\n",
              "          const docLink = document.createElement('div');\n",
              "          docLink.innerHTML = docLinkHtml;\n",
              "          element.appendChild(docLink);\n",
              "        }\n",
              "      </script>\n",
              "    </div>\n",
              "  </div>\n",
              "  "
            ]
          },
          "metadata": {},
          "execution_count": 348
        }
      ]
    },
    {
      "cell_type": "code",
      "source": [
        "# připravený dataset\n",
        "dfs1 = dfs_final.copy()"
      ],
      "metadata": {
        "id": "eM7qKar9f4nB"
      },
      "execution_count": 349,
      "outputs": []
    },
    {
      "cell_type": "markdown",
      "source": [
        "V Edinburghu se nachází **200** stanic pro půjčení kol od data **2018-09-15** do **2021-06-30**, což je **1019** dnů"
      ],
      "metadata": {
        "id": "5O72pffWfbX8"
      }
    },
    {
      "cell_type": "markdown",
      "source": [
        "### Merged dataset"
      ],
      "metadata": {
        "id": "-mPFpuOOc0bv"
      }
    },
    {
      "cell_type": "markdown",
      "source": [
        "Vytvoření sjednoceného datasetu z upravených datasetů o počasí a výpujčkách kol."
      ],
      "metadata": {
        "id": "IKQTKORAffpI"
      }
    },
    {
      "cell_type": "code",
      "source": [
        "# sjednocení dat o výpujčkách kol s daty o počasí. \n",
        "# Dataframe bikes omezím pouze na dostupné údaje o počasí.\n",
        "last = str(dfw1.datetime.max())\n",
        "merged_df = pd.merge_asof(dfb1[dfb1[\"start\"] <= last], dfw1,\n",
        "                                 left_on=\"start\", right_on=\"datetime\", \n",
        "                                 direction='nearest',\n",
        "                                 allow_exact_matches=False).drop(\n",
        "                                     columns=\"datetime\")"
      ],
      "metadata": {
        "id": "Gf7qVQq0gliH"
      },
      "execution_count": 350,
      "outputs": []
    },
    {
      "cell_type": "code",
      "source": [
        "merged_df.head()"
      ],
      "metadata": {
        "id": "b2fcRUQggogL",
        "outputId": "0ab9b283-e302-4796-da04-deeb86933646",
        "colab": {
          "base_uri": "https://localhost:8080/",
          "height": 461
        }
      },
      "execution_count": 351,
      "outputs": [
        {
          "output_type": "execute_result",
          "data": {
            "text/plain": [
              "                start                 end        duration  start_id  \\\n",
              "0 2018-09-15 08:52:05 2018-09-15 09:11:48 0 days 00:19:42       247   \n",
              "1 2018-09-15 09:24:33 2018-09-15 09:41:09 0 days 00:16:35       259   \n",
              "2 2018-09-15 09:48:54 2018-09-15 10:46:40 0 days 00:57:46       262   \n",
              "3 2018-09-16 12:01:36 2018-09-16 12:25:26 0 days 00:23:50       255   \n",
              "4 2018-09-16 12:03:43 2018-09-16 12:11:16 0 days 00:07:32       255   \n",
              "\n",
              "          start_name                 start_description  start_latitude  \\\n",
              "0   Charlotte Square  North Corner of Charlotte Square       55.952335   \n",
              "1   St Andrew Square                 North East corner       55.954749   \n",
              "2         Canonmills                      near Tesco's       55.962804   \n",
              "3  Kings Buildings 4                          X-Y Cafe       55.922001   \n",
              "4  Kings Buildings 4                          X-Y Cafe       55.922001   \n",
              "\n",
              "   start_longitude  end_id          end_name  \\\n",
              "0        -3.207101     259  St Andrew Square   \n",
              "1        -3.192774     262        Canonmills   \n",
              "2        -3.196284     250     Victoria Quay   \n",
              "3        -3.176902     254  Kings Building 3   \n",
              "4        -3.176902     253  Kings Building 2   \n",
              "\n",
              "                          end_description  end_latitude  end_longitude  \\\n",
              "0                       North East corner     55.954728      -3.192653   \n",
              "1                            near Tesco's     55.962804      -3.196284   \n",
              "2  Entrance to Scottish Government Office     55.977638      -3.174116   \n",
              "3                    Kings Building House     55.923479      -3.175385   \n",
              "4                      Sanderson Building     55.923202      -3.171646   \n",
              "\n",
              "   distance  temp_c  feels_c  wind_kmh  gust_kmh  rain_mm  \n",
              "0  0.937974      10        8        16        23      0.0  \n",
              "1  0.921967      10        8        16        23      0.0  \n",
              "2  2.150241      10        8        16        23      0.0  \n",
              "3  0.189587      14       11        32        47      0.0  \n",
              "4  0.353640      14       11        32        47      0.0  "
            ],
            "text/html": [
              "\n",
              "  <div id=\"df-1c4b2260-ed72-4b7e-9411-864549b999d0\">\n",
              "    <div class=\"colab-df-container\">\n",
              "      <div>\n",
              "<style scoped>\n",
              "    .dataframe tbody tr th:only-of-type {\n",
              "        vertical-align: middle;\n",
              "    }\n",
              "\n",
              "    .dataframe tbody tr th {\n",
              "        vertical-align: top;\n",
              "    }\n",
              "\n",
              "    .dataframe thead th {\n",
              "        text-align: right;\n",
              "    }\n",
              "</style>\n",
              "<table border=\"1\" class=\"dataframe\">\n",
              "  <thead>\n",
              "    <tr style=\"text-align: right;\">\n",
              "      <th></th>\n",
              "      <th>start</th>\n",
              "      <th>end</th>\n",
              "      <th>duration</th>\n",
              "      <th>start_id</th>\n",
              "      <th>start_name</th>\n",
              "      <th>start_description</th>\n",
              "      <th>start_latitude</th>\n",
              "      <th>start_longitude</th>\n",
              "      <th>end_id</th>\n",
              "      <th>end_name</th>\n",
              "      <th>end_description</th>\n",
              "      <th>end_latitude</th>\n",
              "      <th>end_longitude</th>\n",
              "      <th>distance</th>\n",
              "      <th>temp_c</th>\n",
              "      <th>feels_c</th>\n",
              "      <th>wind_kmh</th>\n",
              "      <th>gust_kmh</th>\n",
              "      <th>rain_mm</th>\n",
              "    </tr>\n",
              "  </thead>\n",
              "  <tbody>\n",
              "    <tr>\n",
              "      <th>0</th>\n",
              "      <td>2018-09-15 08:52:05</td>\n",
              "      <td>2018-09-15 09:11:48</td>\n",
              "      <td>0 days 00:19:42</td>\n",
              "      <td>247</td>\n",
              "      <td>Charlotte Square</td>\n",
              "      <td>North Corner of Charlotte Square</td>\n",
              "      <td>55.952335</td>\n",
              "      <td>-3.207101</td>\n",
              "      <td>259</td>\n",
              "      <td>St Andrew Square</td>\n",
              "      <td>North East corner</td>\n",
              "      <td>55.954728</td>\n",
              "      <td>-3.192653</td>\n",
              "      <td>0.937974</td>\n",
              "      <td>10</td>\n",
              "      <td>8</td>\n",
              "      <td>16</td>\n",
              "      <td>23</td>\n",
              "      <td>0.0</td>\n",
              "    </tr>\n",
              "    <tr>\n",
              "      <th>1</th>\n",
              "      <td>2018-09-15 09:24:33</td>\n",
              "      <td>2018-09-15 09:41:09</td>\n",
              "      <td>0 days 00:16:35</td>\n",
              "      <td>259</td>\n",
              "      <td>St Andrew Square</td>\n",
              "      <td>North East corner</td>\n",
              "      <td>55.954749</td>\n",
              "      <td>-3.192774</td>\n",
              "      <td>262</td>\n",
              "      <td>Canonmills</td>\n",
              "      <td>near Tesco's</td>\n",
              "      <td>55.962804</td>\n",
              "      <td>-3.196284</td>\n",
              "      <td>0.921967</td>\n",
              "      <td>10</td>\n",
              "      <td>8</td>\n",
              "      <td>16</td>\n",
              "      <td>23</td>\n",
              "      <td>0.0</td>\n",
              "    </tr>\n",
              "    <tr>\n",
              "      <th>2</th>\n",
              "      <td>2018-09-15 09:48:54</td>\n",
              "      <td>2018-09-15 10:46:40</td>\n",
              "      <td>0 days 00:57:46</td>\n",
              "      <td>262</td>\n",
              "      <td>Canonmills</td>\n",
              "      <td>near Tesco's</td>\n",
              "      <td>55.962804</td>\n",
              "      <td>-3.196284</td>\n",
              "      <td>250</td>\n",
              "      <td>Victoria Quay</td>\n",
              "      <td>Entrance to Scottish Government Office</td>\n",
              "      <td>55.977638</td>\n",
              "      <td>-3.174116</td>\n",
              "      <td>2.150241</td>\n",
              "      <td>10</td>\n",
              "      <td>8</td>\n",
              "      <td>16</td>\n",
              "      <td>23</td>\n",
              "      <td>0.0</td>\n",
              "    </tr>\n",
              "    <tr>\n",
              "      <th>3</th>\n",
              "      <td>2018-09-16 12:01:36</td>\n",
              "      <td>2018-09-16 12:25:26</td>\n",
              "      <td>0 days 00:23:50</td>\n",
              "      <td>255</td>\n",
              "      <td>Kings Buildings 4</td>\n",
              "      <td>X-Y Cafe</td>\n",
              "      <td>55.922001</td>\n",
              "      <td>-3.176902</td>\n",
              "      <td>254</td>\n",
              "      <td>Kings Building 3</td>\n",
              "      <td>Kings Building House</td>\n",
              "      <td>55.923479</td>\n",
              "      <td>-3.175385</td>\n",
              "      <td>0.189587</td>\n",
              "      <td>14</td>\n",
              "      <td>11</td>\n",
              "      <td>32</td>\n",
              "      <td>47</td>\n",
              "      <td>0.0</td>\n",
              "    </tr>\n",
              "    <tr>\n",
              "      <th>4</th>\n",
              "      <td>2018-09-16 12:03:43</td>\n",
              "      <td>2018-09-16 12:11:16</td>\n",
              "      <td>0 days 00:07:32</td>\n",
              "      <td>255</td>\n",
              "      <td>Kings Buildings 4</td>\n",
              "      <td>X-Y Cafe</td>\n",
              "      <td>55.922001</td>\n",
              "      <td>-3.176902</td>\n",
              "      <td>253</td>\n",
              "      <td>Kings Building 2</td>\n",
              "      <td>Sanderson Building</td>\n",
              "      <td>55.923202</td>\n",
              "      <td>-3.171646</td>\n",
              "      <td>0.353640</td>\n",
              "      <td>14</td>\n",
              "      <td>11</td>\n",
              "      <td>32</td>\n",
              "      <td>47</td>\n",
              "      <td>0.0</td>\n",
              "    </tr>\n",
              "  </tbody>\n",
              "</table>\n",
              "</div>\n",
              "      <button class=\"colab-df-convert\" onclick=\"convertToInteractive('df-1c4b2260-ed72-4b7e-9411-864549b999d0')\"\n",
              "              title=\"Convert this dataframe to an interactive table.\"\n",
              "              style=\"display:none;\">\n",
              "        \n",
              "  <svg xmlns=\"http://www.w3.org/2000/svg\" height=\"24px\"viewBox=\"0 0 24 24\"\n",
              "       width=\"24px\">\n",
              "    <path d=\"M0 0h24v24H0V0z\" fill=\"none\"/>\n",
              "    <path d=\"M18.56 5.44l.94 2.06.94-2.06 2.06-.94-2.06-.94-.94-2.06-.94 2.06-2.06.94zm-11 1L8.5 8.5l.94-2.06 2.06-.94-2.06-.94L8.5 2.5l-.94 2.06-2.06.94zm10 10l.94 2.06.94-2.06 2.06-.94-2.06-.94-.94-2.06-.94 2.06-2.06.94z\"/><path d=\"M17.41 7.96l-1.37-1.37c-.4-.4-.92-.59-1.43-.59-.52 0-1.04.2-1.43.59L10.3 9.45l-7.72 7.72c-.78.78-.78 2.05 0 2.83L4 21.41c.39.39.9.59 1.41.59.51 0 1.02-.2 1.41-.59l7.78-7.78 2.81-2.81c.8-.78.8-2.07 0-2.86zM5.41 20L4 18.59l7.72-7.72 1.47 1.35L5.41 20z\"/>\n",
              "  </svg>\n",
              "      </button>\n",
              "      \n",
              "  <style>\n",
              "    .colab-df-container {\n",
              "      display:flex;\n",
              "      flex-wrap:wrap;\n",
              "      gap: 12px;\n",
              "    }\n",
              "\n",
              "    .colab-df-convert {\n",
              "      background-color: #E8F0FE;\n",
              "      border: none;\n",
              "      border-radius: 50%;\n",
              "      cursor: pointer;\n",
              "      display: none;\n",
              "      fill: #1967D2;\n",
              "      height: 32px;\n",
              "      padding: 0 0 0 0;\n",
              "      width: 32px;\n",
              "    }\n",
              "\n",
              "    .colab-df-convert:hover {\n",
              "      background-color: #E2EBFA;\n",
              "      box-shadow: 0px 1px 2px rgba(60, 64, 67, 0.3), 0px 1px 3px 1px rgba(60, 64, 67, 0.15);\n",
              "      fill: #174EA6;\n",
              "    }\n",
              "\n",
              "    [theme=dark] .colab-df-convert {\n",
              "      background-color: #3B4455;\n",
              "      fill: #D2E3FC;\n",
              "    }\n",
              "\n",
              "    [theme=dark] .colab-df-convert:hover {\n",
              "      background-color: #434B5C;\n",
              "      box-shadow: 0px 1px 3px 1px rgba(0, 0, 0, 0.15);\n",
              "      filter: drop-shadow(0px 1px 2px rgba(0, 0, 0, 0.3));\n",
              "      fill: #FFFFFF;\n",
              "    }\n",
              "  </style>\n",
              "\n",
              "      <script>\n",
              "        const buttonEl =\n",
              "          document.querySelector('#df-1c4b2260-ed72-4b7e-9411-864549b999d0 button.colab-df-convert');\n",
              "        buttonEl.style.display =\n",
              "          google.colab.kernel.accessAllowed ? 'block' : 'none';\n",
              "\n",
              "        async function convertToInteractive(key) {\n",
              "          const element = document.querySelector('#df-1c4b2260-ed72-4b7e-9411-864549b999d0');\n",
              "          const dataTable =\n",
              "            await google.colab.kernel.invokeFunction('convertToInteractive',\n",
              "                                                     [key], {});\n",
              "          if (!dataTable) return;\n",
              "\n",
              "          const docLinkHtml = 'Like what you see? Visit the ' +\n",
              "            '<a target=\"_blank\" href=https://colab.research.google.com/notebooks/data_table.ipynb>data table notebook</a>'\n",
              "            + ' to learn more about interactive tables.';\n",
              "          element.innerHTML = '';\n",
              "          dataTable['output_type'] = 'display_data';\n",
              "          await google.colab.output.renderOutput(dataTable, element);\n",
              "          const docLink = document.createElement('div');\n",
              "          docLink.innerHTML = docLinkHtml;\n",
              "          element.appendChild(docLink);\n",
              "        }\n",
              "      </script>\n",
              "    </div>\n",
              "  </div>\n",
              "  "
            ]
          },
          "metadata": {},
          "execution_count": 351
        }
      ]
    },
    {
      "cell_type": "code",
      "source": [
        "# připravený dataset\n",
        "dfm1 = merged_df.copy()"
      ],
      "metadata": {
        "id": "vAmC05wagtVe"
      },
      "execution_count": 352,
      "outputs": []
    },
    {
      "cell_type": "markdown",
      "source": [
        "## Proměnné<a name=\"3.2\"></a>"
      ],
      "metadata": {
        "id": "kFVLsGErBE63"
      }
    },
    {
      "cell_type": "markdown",
      "source": [
        "Pro analýzu využívám proměnné, které si definuji níže."
      ],
      "metadata": {
        "id": "CMqozW0BBOIQ"
      }
    },
    {
      "cell_type": "code",
      "source": [
        "# rozsah dní datasetu bikes\n",
        "date_first = dfb1.start.dt.date.min()\n",
        "date_last = dfb1.start.dt.date.max()\n",
        "date_range = (date_last - date_first).days\n",
        "print(f\"Rozsah dní datasetu: {date_range} dní\")"
      ],
      "metadata": {
        "colab": {
          "base_uri": "https://localhost:8080/"
        },
        "id": "XF-1jL3DCJjR",
        "outputId": "50f370ec-1df2-455c-bd90-dc7745e18617"
      },
      "execution_count": 353,
      "outputs": [
        {
          "output_type": "stream",
          "name": "stdout",
          "text": [
            "Rozsah dní datasetu: 1019 dní\n"
          ]
        }
      ]
    },
    {
      "cell_type": "markdown",
      "source": [
        "## Analýza<a name=\"3\"></a>"
      ],
      "metadata": {
        "id": "rZ7KKUSwK20f"
      }
    },
    {
      "cell_type": "markdown",
      "source": [
        "### Stanice<a name=\"3.3\"></a>"
      ],
      "metadata": {
        "id": "Ve2Xo4UTZT-F"
      }
    },
    {
      "cell_type": "markdown",
      "source": [
        "#### Deskriptivní statistika<a name=\"3.1.1\"></a>"
      ],
      "metadata": {
        "id": "a8z16mSfcB95"
      }
    },
    {
      "cell_type": "code",
      "source": [
        "# deskriptivní statistika\n",
        "dfs1[[\"start_frequency\", \"end_frequency\"]].describe()"
      ],
      "metadata": {
        "id": "sAOG8g8udAfW",
        "outputId": "7c44d07f-8071-4217-d2f2-b3d694f8b48b",
        "colab": {
          "base_uri": "https://localhost:8080/",
          "height": 300
        }
      },
      "execution_count": 354,
      "outputs": [
        {
          "output_type": "execute_result",
          "data": {
            "text/plain": [
              "       start_frequency  end_frequency\n",
              "count       198.000000     199.000000\n",
              "mean       2213.429293    2202.306533\n",
              "std        2884.099842    2898.879223\n",
              "min           1.000000       2.000000\n",
              "25%         257.000000     236.000000\n",
              "50%        1064.500000    1231.000000\n",
              "75%        3154.500000    2892.000000\n",
              "max       17390.000000   16656.000000"
            ],
            "text/html": [
              "\n",
              "  <div id=\"df-bb59a044-119b-4a5d-a92a-299be6d2b174\">\n",
              "    <div class=\"colab-df-container\">\n",
              "      <div>\n",
              "<style scoped>\n",
              "    .dataframe tbody tr th:only-of-type {\n",
              "        vertical-align: middle;\n",
              "    }\n",
              "\n",
              "    .dataframe tbody tr th {\n",
              "        vertical-align: top;\n",
              "    }\n",
              "\n",
              "    .dataframe thead th {\n",
              "        text-align: right;\n",
              "    }\n",
              "</style>\n",
              "<table border=\"1\" class=\"dataframe\">\n",
              "  <thead>\n",
              "    <tr style=\"text-align: right;\">\n",
              "      <th></th>\n",
              "      <th>start_frequency</th>\n",
              "      <th>end_frequency</th>\n",
              "    </tr>\n",
              "  </thead>\n",
              "  <tbody>\n",
              "    <tr>\n",
              "      <th>count</th>\n",
              "      <td>198.000000</td>\n",
              "      <td>199.000000</td>\n",
              "    </tr>\n",
              "    <tr>\n",
              "      <th>mean</th>\n",
              "      <td>2213.429293</td>\n",
              "      <td>2202.306533</td>\n",
              "    </tr>\n",
              "    <tr>\n",
              "      <th>std</th>\n",
              "      <td>2884.099842</td>\n",
              "      <td>2898.879223</td>\n",
              "    </tr>\n",
              "    <tr>\n",
              "      <th>min</th>\n",
              "      <td>1.000000</td>\n",
              "      <td>2.000000</td>\n",
              "    </tr>\n",
              "    <tr>\n",
              "      <th>25%</th>\n",
              "      <td>257.000000</td>\n",
              "      <td>236.000000</td>\n",
              "    </tr>\n",
              "    <tr>\n",
              "      <th>50%</th>\n",
              "      <td>1064.500000</td>\n",
              "      <td>1231.000000</td>\n",
              "    </tr>\n",
              "    <tr>\n",
              "      <th>75%</th>\n",
              "      <td>3154.500000</td>\n",
              "      <td>2892.000000</td>\n",
              "    </tr>\n",
              "    <tr>\n",
              "      <th>max</th>\n",
              "      <td>17390.000000</td>\n",
              "      <td>16656.000000</td>\n",
              "    </tr>\n",
              "  </tbody>\n",
              "</table>\n",
              "</div>\n",
              "      <button class=\"colab-df-convert\" onclick=\"convertToInteractive('df-bb59a044-119b-4a5d-a92a-299be6d2b174')\"\n",
              "              title=\"Convert this dataframe to an interactive table.\"\n",
              "              style=\"display:none;\">\n",
              "        \n",
              "  <svg xmlns=\"http://www.w3.org/2000/svg\" height=\"24px\"viewBox=\"0 0 24 24\"\n",
              "       width=\"24px\">\n",
              "    <path d=\"M0 0h24v24H0V0z\" fill=\"none\"/>\n",
              "    <path d=\"M18.56 5.44l.94 2.06.94-2.06 2.06-.94-2.06-.94-.94-2.06-.94 2.06-2.06.94zm-11 1L8.5 8.5l.94-2.06 2.06-.94-2.06-.94L8.5 2.5l-.94 2.06-2.06.94zm10 10l.94 2.06.94-2.06 2.06-.94-2.06-.94-.94-2.06-.94 2.06-2.06.94z\"/><path d=\"M17.41 7.96l-1.37-1.37c-.4-.4-.92-.59-1.43-.59-.52 0-1.04.2-1.43.59L10.3 9.45l-7.72 7.72c-.78.78-.78 2.05 0 2.83L4 21.41c.39.39.9.59 1.41.59.51 0 1.02-.2 1.41-.59l7.78-7.78 2.81-2.81c.8-.78.8-2.07 0-2.86zM5.41 20L4 18.59l7.72-7.72 1.47 1.35L5.41 20z\"/>\n",
              "  </svg>\n",
              "      </button>\n",
              "      \n",
              "  <style>\n",
              "    .colab-df-container {\n",
              "      display:flex;\n",
              "      flex-wrap:wrap;\n",
              "      gap: 12px;\n",
              "    }\n",
              "\n",
              "    .colab-df-convert {\n",
              "      background-color: #E8F0FE;\n",
              "      border: none;\n",
              "      border-radius: 50%;\n",
              "      cursor: pointer;\n",
              "      display: none;\n",
              "      fill: #1967D2;\n",
              "      height: 32px;\n",
              "      padding: 0 0 0 0;\n",
              "      width: 32px;\n",
              "    }\n",
              "\n",
              "    .colab-df-convert:hover {\n",
              "      background-color: #E2EBFA;\n",
              "      box-shadow: 0px 1px 2px rgba(60, 64, 67, 0.3), 0px 1px 3px 1px rgba(60, 64, 67, 0.15);\n",
              "      fill: #174EA6;\n",
              "    }\n",
              "\n",
              "    [theme=dark] .colab-df-convert {\n",
              "      background-color: #3B4455;\n",
              "      fill: #D2E3FC;\n",
              "    }\n",
              "\n",
              "    [theme=dark] .colab-df-convert:hover {\n",
              "      background-color: #434B5C;\n",
              "      box-shadow: 0px 1px 3px 1px rgba(0, 0, 0, 0.15);\n",
              "      filter: drop-shadow(0px 1px 2px rgba(0, 0, 0, 0.3));\n",
              "      fill: #FFFFFF;\n",
              "    }\n",
              "  </style>\n",
              "\n",
              "      <script>\n",
              "        const buttonEl =\n",
              "          document.querySelector('#df-bb59a044-119b-4a5d-a92a-299be6d2b174 button.colab-df-convert');\n",
              "        buttonEl.style.display =\n",
              "          google.colab.kernel.accessAllowed ? 'block' : 'none';\n",
              "\n",
              "        async function convertToInteractive(key) {\n",
              "          const element = document.querySelector('#df-bb59a044-119b-4a5d-a92a-299be6d2b174');\n",
              "          const dataTable =\n",
              "            await google.colab.kernel.invokeFunction('convertToInteractive',\n",
              "                                                     [key], {});\n",
              "          if (!dataTable) return;\n",
              "\n",
              "          const docLinkHtml = 'Like what you see? Visit the ' +\n",
              "            '<a target=\"_blank\" href=https://colab.research.google.com/notebooks/data_table.ipynb>data table notebook</a>'\n",
              "            + ' to learn more about interactive tables.';\n",
              "          element.innerHTML = '';\n",
              "          dataTable['output_type'] = 'display_data';\n",
              "          await google.colab.output.renderOutput(dataTable, element);\n",
              "          const docLink = document.createElement('div');\n",
              "          docLink.innerHTML = docLinkHtml;\n",
              "          element.appendChild(docLink);\n",
              "        }\n",
              "      </script>\n",
              "    </div>\n",
              "  </div>\n",
              "  "
            ]
          },
          "metadata": {},
          "execution_count": 354
        }
      ]
    },
    {
      "cell_type": "markdown",
      "source": [
        "*   Průměrný počet půjčených kol na stanici je **2213 výpujček kol**, což je **2,17** výpujček za den.\n",
        "*   Medián počtu půjčených kol na stanici je **1064 výpujček kol**, což je **1,04** výpujček za den.\n",
        "*   Průměrný počet vrácených kola na stanici je **2202 vrácení kol**, což je **2,16** výpujček za den.\n",
        "*   Medián počtu vrácených kol na stanici je **1231 vrácení kol**, což je **1,21** výpujček za den.\n",
        "*   Minimální hodnota počtu výpujček ve stanicích je **0** a počtu vrácení je **0** za celé období.   Tyto stanice můžeme označit jako neaktivní a budou řešeny v pozdější analýze).\n",
        "*   Maximální hodnota počtu výpujček je **17390**, což je **17,07** výpujček za den a maximální hodnota počtu vratek je **16656**, což je **16,35** vratek za den.\n"
      ],
      "metadata": {
        "id": "JmrLFM1ddVFv"
      }
    },
    {
      "cell_type": "markdown",
      "source": [
        "V Edinburghu se nachází **200** stanic pro půjčení kol a data jsou sbírány od **2018-09-15** do **2021-06-30**, což je **1019** dní."
      ],
      "metadata": {
        "id": "DlwxHBDwhttI"
      }
    },
    {
      "cell_type": "code",
      "source": [
        "# zobrazení grafů přímo v notebooku\n",
        "%matplotlib inline"
      ],
      "metadata": {
        "id": "_QtI74fh_Jgt"
      },
      "execution_count": 355,
      "outputs": []
    },
    {
      "cell_type": "code",
      "source": [
        "# histogram počtu půjčení a vrácení kol\n",
        "fig = plt.figure(figsize=(10, 5))\n",
        "ax1 = fig.add_subplot(1, 2, 1)  # Jeden řádek, dva sloupce, první graf\n",
        "ax2 = fig.add_subplot(1, 2, 2, sharey=ax1)  # Druhý graf, sdílená osa Y\n",
        "dfs1.start_frequency.plot.hist(ax=ax1, bins=30, edgecolor='black');\n",
        "dfs1.end_frequency.plot.hist(ax=ax2, bins=30, color=\"y\", edgecolor='black');\n",
        "fig.suptitle(\"Histogram počtu půjčení a vrácení kol\");\n",
        "ax1.set_xlabel(\"Počet půjčení kol\");\n",
        "ax2.set_xlabel(\"Počet vrácení kol\");\n"
      ],
      "metadata": {
        "colab": {
          "base_uri": "https://localhost:8080/",
          "height": 371
        },
        "id": "-uvXX4Re_M4a",
        "outputId": "21baf252-0f90-48d1-969b-8e7d2d3befb7"
      },
      "execution_count": 356,
      "outputs": [
        {
          "output_type": "display_data",
          "data": {
            "text/plain": [
              "<Figure size 720x360 with 2 Axes>"
            ],
            "image/png": "[encoded data removed]"
          },
          "metadata": {
            "needs_background": "light"
          }
        }
      ]
    },
    {
      "cell_type": "markdown",
      "source": [
        "Z histogramu vidíme, že se nejedná o normální rozdělení pravděpodobnosti, ale šikmé rozdělení, takže v datech se vyskytují odlehlé hodnoty.   \n",
        "Tyto hodnoty představují málo využívané stanice, u kterých by bylo potřeba vyhodnotit jestli je není vhodné zrušit."
      ],
      "metadata": {
        "id": "PCPE8HKlgFaJ"
      }
    },
    {
      "cell_type": "code",
      "source": [
        "#  inter-quartile range\n",
        "dfs1.boxplot(column=\"start_frequency\", figsize=(5, 6));"
      ],
      "metadata": {
        "id": "9_WUKjfszbLm",
        "outputId": "664c8754-b3b8-4991-cf17-052aabb79220",
        "colab": {
          "base_uri": "https://localhost:8080/",
          "height": 375
        }
      },
      "execution_count": 357,
      "outputs": [
        {
          "output_type": "display_data",
          "data": {
            "text/plain": [
              "<Figure size 360x432 with 1 Axes>"
            ],
            "image/png": "[encoded data removed]"
          },
          "metadata": {
            "needs_background": "light"
          }
        }
      ]
    },
    {
      "cell_type": "markdown",
      "source": [
        "Z boxplotu lze vidět, že hodnoty přibližně nad 7500 jsou odlehlé -> výpočet níže."
      ],
      "metadata": {
        "id": "q_4zGgcnhLhj"
      }
    },
    {
      "cell_type": "code",
      "source": [
        "# Metoda IQR - interquartal range \n",
        "Q1_s = dfs1.start_frequency.quantile(0.25)\n",
        "Q3_s = dfs1.start_frequency.quantile(0.75)\n",
        "IQR_s = Q3_s - Q1_s\n",
        "\n",
        "Q1_e = dfs1.end_frequency.quantile(0.25)\n",
        "Q3_e = dfs1.end_frequency.quantile(0.75)\n",
        "IQR_e = Q3_e - Q1_e\n",
        "\n",
        "# zobrazení\n",
        "print(\"Q1 pro vypůjčení: \", Q1_s)\n",
        "print(\"Q3 pro vypůjčení: \", Q3_s)\n",
        "print(\"IQR pro vypůjčení: \", IQR_s)\n",
        "print('')\n",
        "print(\"Q1 pro vrácení: \", Q1_e)\n",
        "print(\"Q3 pro vrácení: \", Q3_e)\n",
        "print(\"IQR pro vrácení: \", IQR_e)"
      ],
      "metadata": {
        "id": "k2AaX1LzyxeQ",
        "colab": {
          "base_uri": "https://localhost:8080/"
        },
        "outputId": "a059eba1-1778-43fe-aa5c-18fd06b7ebe5"
      },
      "execution_count": 358,
      "outputs": [
        {
          "output_type": "stream",
          "name": "stdout",
          "text": [
            "Q1 pro vypůjčení:  257.0\n",
            "Q3 pro vypůjčení:  3154.5\n",
            "IQR pro vypůjčení:  2897.5\n",
            "\n",
            "Q1 pro vrácení:  236.0\n",
            "Q3 pro vrácení:  2892.0\n",
            "IQR pro vrácení:  2656.0\n"
          ]
        }
      ]
    },
    {
      "cell_type": "code",
      "source": [
        "# bounders\n",
        "weak_outlier_s = Q3_s + 1.5 * IQR_s\n",
        "strong_outlier_s = Q3_s + 3 * IQR_s\n",
        "\n",
        "weak_outlier_e = Q3_e + 1.5 * IQR_e\n",
        "strong_outlier_e = Q3_e + 3 * IQR_e\n",
        "\n",
        "# df outlier\n",
        "df_s_weak = dfs1[\"start_frequency\"][dfs1[\"start_frequency\"] > weak_outlier_s].count()\n",
        "df_s_strong = dfs1[\"start_frequency\"][dfs1[\"start_frequency\"] > strong_outlier_s].count()\n",
        "\n",
        "df_e_weak = dfs1[\"end_frequency\"][dfs1[\"end_frequency\"] > weak_outlier_e].count()\n",
        "df_e_strong = dfs1[\"end_frequency\"][dfs1[\"end_frequency\"] > strong_outlier_e].count()\n",
        "\n",
        "# zobrazení\n",
        "print(f\"Hranice slabé odlehlé hodnoty vypůjčení kol je: {weak_outlier_s} a počet stanic: {df_s_weak}\")\n",
        "print(f\"Hranice silné odlehlé hodnoty vypůjčení kol je: {strong_outlier_s} a počet stanic: {df_s_strong}\")\n",
        "print(\"\")\n",
        "print(f\"Hranice slabé odlehlé hodnoty vrácení kol je: {weak_outlier_e} a počet stanic: {df_e_weak}\")\n",
        "print(f\"Hranice silné odlehlé hodnoty vrácení kol je: {strong_outlier_e} a počet stanic: {df_e_strong}\")"
      ],
      "metadata": {
        "colab": {
          "base_uri": "https://localhost:8080/"
        },
        "id": "Hja8lx8Jg9SR",
        "outputId": "7444a87c-0c81-4cbd-e82b-9593333fa5df"
      },
      "execution_count": 359,
      "outputs": [
        {
          "output_type": "stream",
          "name": "stdout",
          "text": [
            "Hranice slabé odlehlé hodnoty vypůjčení kol je: 7500.75 a počet stanic: 13\n",
            "Hranice silné odlehlé hodnoty vypůjčení kol je: 11847.0 a počet stanic: 3\n",
            "\n",
            "Hranice slabé odlehlé hodnoty vrácení kol je: 6876.0 a počet stanic: 16\n",
            "Hranice silné odlehlé hodnoty vrácení kol je: 10860.0 a počet stanic: 6\n"
          ]
        }
      ]
    },
    {
      "cell_type": "markdown",
      "source": [
        "Další metoda určení odlehlých hodnot může být Z score.\n",
        "\n",
        "**Z score**   \n",
        "je metoda detekce odlehlých měření definovaná jednoduchým vzorcem a závislá na směrodatné odchylce. Právě díky jednoduchému vzorečku a nastavitelné hranici je možné si určit, co pro nás znamená odlehlé měření.   \n",
        "Vzorec vypadá následovně: $$ z = \\frac{x - \\mu}{\\sigma} $$"
      ],
      "metadata": {
        "id": "khduQ1KqHTTF"
      }
    },
    {
      "cell_type": "code",
      "source": [
        "# filtrace dat pro hodnoty vetsi jak smerodatna odchylka\n",
        "std = 3\n",
        "zs = abs((dfs1.start_frequency - dfs1.start_frequency.mean()) / dfs1.start_frequency.std())\n",
        "dfs1.start_frequency[zs > std]"
      ],
      "metadata": {
        "colab": {
          "base_uri": "https://localhost:8080/"
        },
        "id": "-z-dVhvBZT-g",
        "outputId": "e2d85e09-c000-4db0-b44c-65f7f7e918f6"
      },
      "execution_count": 360,
      "outputs": [
        {
          "output_type": "execute_result",
          "data": {
            "text/plain": [
              "1      12218.0\n",
              "9      17390.0\n",
              "16     12846.0\n",
              "98     11373.0\n",
              "137    11843.0\n",
              "Name: start_frequency, dtype: float64"
            ]
          },
          "metadata": {},
          "execution_count": 360
        }
      ]
    },
    {
      "cell_type": "markdown",
      "source": [
        "#### Mapa stanic<a name=\"3.1.1\"></a>"
      ],
      "metadata": {
        "id": "4ggIIR22ZeMP"
      }
    },
    {
      "cell_type": "code",
      "source": [
        "# vykreslení mapy stanic\n",
        "fig = px.scatter_mapbox(dfs1,lat=\"lat\", lon=\"lon\", hover_name = \"name\",\n",
        "                        hover_data = [\"description\",\"start_frequency\",\n",
        "                                      \"end_frequency\"] ,zoom=10, height=600)\n",
        "fig.update_layout(mapbox_style=\"open-street-map\")\n",
        "fig.update_layout(margin={\"r\":0,\"t\":0,\"l\":0,\"b\":0})\n",
        "fig.show()"
      ],
      "metadata": {
        "id": "datUnB6EVIiX",
        "colab": {
          "base_uri": "https://localhost:8080/",
          "height": 617
        },
        "outputId": "a464391e-ad29-4165-8c8b-008f80c97dad"
      },
      "execution_count": 361,
      "outputs": [
        {
          "output_type": "display_data",
          "data": {
            "text/html": [
              "<html>\n",
              "<head><meta charset=\"utf-8\" /></head>\n",
              "<body>\n",
              "    <div>            <script src=\"https://cdnjs.cloudflare.com/ajax/libs/mathjax/2.7.5/MathJax.js?config=TeX-AMS-MML_SVG\"></script><script type=\"text/javascript\">if (window.MathJax) {MathJax.Hub.Config({SVG: {font: \"STIX-Web\"}});}</script>                <script type=\"text/javascript\">window.PlotlyConfig = {MathJaxConfig: 'local'};</script>\n",
              "        <script src=\"https://cdn.plot.ly/plotly-2.8.3.min.js\"></script>                <div id=\"c2572e88-0290-4d38-acc8-a915ed19a9c5\" class=\"plotly-graph-div\" style=\"height:600px; width:100%;\"></div>            <script type=\"text/javascript\">                                    window.PLOTLYENV=window.PLOTLYENV || {};                                    if (document.getElementById(\"c2572e88-0290-4d38-acc8-a915ed19a9c5\")) {                    Plotly.newPlot(                        \"c2572e88-0290-4d38-acc8-a915ed19a9c5\",                        [{\"customdata\":[[\"North Corner of Charlotte Square\",8134.0,4980.0],[\"North East corner\",12218.0,8372.0],[\"near Tesco's\",9551.0,11940.0],[\"X-Y Cafe\",254.0,196.0],[\"Sanderson Building\",4096.0,4557.0],[\"Grant Institute\",1936.0,1958.0],[\"Kings Building House\",3176.0,2979.0],[\"Pollock Halls Entrance\",9441.0,6628.0],[\"Royal Commonwealth Pool Entrance\",4782.0,4090.0],[\"Melville Terrace\",17390.0,15225.0],[\"near the top of the South ramp\",8569.0,8402.0],[\"City Chambers Quadrangle\",5836.0,2723.0],[\"Edinburgh Leisure Tumbles Centre\",4039.0,5280.0],[\"The Meadows\",45.0,49.0],[\"Junction Brunswick Street and Elm Row\",2881.0,3234.0],[\"George Square, south side in front of University library\",6097.0,6160.0],[\"Bristo Square, near Potter Row\",12846.0,7898.0],[\"Entrance to Scottish Government Office\",10662.0,15254.0],[\"Fountainbridge by Gardner's Crescent\",8464.0,7315.0],[\"On Waverley Court forecourt\",2531.0,2378.0],[\"near Chalmers Street\",6275.0,3731.0],[\"Near Calton Road Exit\",1910.0,1473.0],[\"Hamilton Place by Dean Bank Lane\",6219.0,8212.0],[\"Near Craighall Road\",178.0,235.0],[\"beside Jacobs ladder\",3250.0,1957.0],[\"Depot\",2.0,3.0],[\"Sainsbury's Leith Walk\",726.0,1153.0],[\"Riego Street on junction with East Fountainbridge\",850.0,877.0],[\"Fettes Avenue\",484.0,749.0],[\"Corner of Vanburgh Place and Lochend Road\",503.0,809.0],[\"Debenhams / Puregym entrance\",5505.0,7381.0],[\"Near Rose Street\",8923.0,7398.0],[\"Corner of Bruntsfield Terrace and Bruntsfield Place\",3330.0,2281.0],[\"Cycleway off Little France\",19.0,35.0],[\"Corner of Castle Terrace and Lady Lawson St\",4926.0,3872.0],[\"Corner of Simon Square & Gilmour Street\",854.0,882.0],[\"Corner of Warrender Park Road & Spottiswoode Street\",1197.0,801.0],[\"Corner of Thirlestane Road & St. Margaret's Place\",222.0,167.0],[\"By co-op (outside maplins)\",391.0,522.0],[\"Corner of Whitehouse Loan & Bruntsfield Crescent\",247.0,109.0],[\"Outside student accomodation\",45.0,44.0],[\"outside Lidl\",341.0,417.0],[\"Dundee Terrace outside \\\"glass supplies\\\"\",1554.0,1759.0],[\"Macdonald Road\",1015.0,1341.0],[\"Leith Walk opposite Dalmeny Street\",7964.0,11052.0],[\"Corner of Marchmont Crescent & Marchmont Road\",1007.0,788.0],[\"Outside St. Mary's Primary School\",1176.0,1231.0],[\"Outside Orchard Brae House on Queensferry Road\",1436.0,1390.0],[\"Corner of Inverleith Row & Inverleith Terrace\",1548.0,2232.0],[\"Corner of South Trinity Road & Ferry Road\",556.0,813.0],[\"Colinton Road outside Starbucks\",1030.0,775.0],[\"Corner of Meadow Place and Melville Drive\",1178.0,1064.0],[\"Corner of Morningside Road & Morningside Park by M & S car park\",1121.0,1541.0],[\"Novotel\",5.0,6.0],[\"Causewayside outside NLS\",994.0,970.0],[\"Corner of Dudley Gardens on Newhaven Road\",1868.0,2954.0],[\"Western General virtual station across from public multi storey\",366.0,404.0],[\"19 point docking station beside queen victoria monument\",1437.0,2331.0],[\"On pavement corner by the entrance gates\",191.0,177.0],[\"Corner of Dundas Street & Henderson Row\",859.0,1337.0],[\"East corner of Hillside Crescent & London Road\",925.0,1216.0],[\"Cramond foreshore by turning circle\",703.0,948.0],[\"Between trees on Comely Bank Road\",820.0,1272.0],[\"West corner of Hillside Crescent & London Road\",123.0,149.0],[\"Corner of Roseburn Street & Russell Gardens\",377.0,383.0],[\"Between planters next to EICC\",710.0,760.0],[\"Corner of Crichton Street & Potterow\",335.0,286.0],[\"Outside Forestry & Land Scotland\",355.0,425.0],[\"Outside Piccolino\",1071.0,1075.0],[\"Corner of Murrayfield Avenue & Murrayfield Place\",266.0,275.0],[\"Next to the Edinburgh Academy\",91.0,95.0],[\"Outside GuitarGuitar\",56.0,67.0],[\"By the side of the station entrance\",334.0,327.0],[\"Corner of Wester Coates Terrace & Roseburn Terrace\",569.0,619.0],[\"Corner of Gamekeeper's Road & Whitehouse Road\",53.0,56.0],[\"Corner of Gladstone Terrace & Sciennes ROad\",504.0,509.0],[\"Opposite Jenners Depository\",85.0,104.0],[\"Craigleith road by bus stop\",271.0,380.0],[\"Riversdale Crescent\",509.0,455.0],[\"Outside zoo gatehouse\",139.0,131.0],[\"Whitehouse road by Sainbury's & bus stop\",62.0,88.0],[\"Corner of Corstorphine Road & Pinkhill\",18.0,21.0],[\"Outside Specsavers\",46.0,64.0],[\"Outside Lidl\",109.0,140.0],[\"Corner of West Newington Place & Newington Road\",19.0,18.0],[\"Corner of Queensferry Road & Orchard Road\",39.0,51.0],[\"IGMM at Western General Hospital\",412.0,510.0],[\"Corner of West Crosscauseway & Buccleugh Street\",492.0,421.0],[\"Inside garden\",25.0,24.0],[\"Sustrans car parking space 31 for walk cycle event\",23.0,14.0],[\"Temporary event station\",6.0,7.0],[\"Virtual station at Ingliston Park and Ride (19th to 23rd June)\",11.0,7.0],[\"Virtual station at east gate of RHC (19th to 23rd June)\",6.0,8.0],[\"Virtual station at west gate of RHC (19th to 23rd June)\",42.0,24.0],[\"20 bike virtual station for edinburgh climate festival\",43.0,42.0],[\"07 point angled physical docking station\",120.0,96.0],[\"13 point physical docking station\",2893.0,2495.0],[\"West end of Grassmarket\",2973.0,2919.0],[\"\",11373.0,8792.0],[\"\",7247.0,6971.0],[\"Next to Burns Statue\",889.0,1733.0],[\"Depot internal station\",3.0,6.0],[\"Opposite the Pleasance\",341.0,389.0],[\"Next to Tron Kirk Royal Mile\",3172.0,2778.0],[\"Eden Locke - Aparthotel (RESIDENTS ONLY)\",29.0,23.0],[\"Holyrood Park - Woman's Tour Of Scotland (Event 11/08/19)\",6.0,5.0],[\"Opposite Maggies student union\",93.0,98.0],[\"Fountain Court  - Apartments (RESIDENTS ONLY)\",47.0,36.0],[\"Outside the Usher Hall\",5472.0,3950.0],[\"Corner of South Trinity Road and Ferry Road\",4735.0,5709.0],[\"Milton Road Campus\",102.0,162.0],[\"On corner with Spottiswoode Street\",3560.0,2864.0],[\"Outside Edinburgh International Conference Centre\",3460.0,2579.0],[\"West end of campus\",1301.0,1308.0],[\"On corner with Russell Gardens\",1909.0,1871.0],[\"Sighthill Campus\",36.0,44.0],[\"Next to Playpark/Cafe Nero\",3.0,6.0],[\"Opposite St Leonards Land\",3912.0,4240.0],[\"Pleasance Sports Complex\",2.0,6.0],[\"Outside Scottish National Gallery\",1116.0,1030.0],[\"East end of Hillside Crescent\",4072.0,4556.0],[\"\",3950.0,4516.0],[\"20 point virtual docking station for UK lets Ride Event\",55.0,50.0],[\"Opposite Victoria Park on Newhaven Road\",946.0,1629.0],[\"Corner of Gladstone Terrace and Sciennes Road\",2131.0,1996.0],[\"On island next to Buccleuch Street\",4352.0,3172.0],[\"Corner of Marchmont Road\",3102.0,2296.0],[\"Haymarket Station\",3248.0,3022.0],[\"Outside Piccolinos off Lauriston Place\",5669.0,5349.0],[\"On corner of Henderson Row\",3318.0,3921.0],[\"Heriot Watt - Edinburgh Business School\",67.0,61.0],[\"Heriot Watt - Student Accomodation Heriot Watt - Student Accomodation (Anna MacLeod Halls))\",45.0,35.0],[\"Near Cramond Beach\",6610.0,7879.0],[\"Corstorphine Road, Edinburgh\",1005.0,935.0],[\"East side of Nicolson Street\",3216.0,2240.0],[\"Between Pleasance and Nicholson Street\",1802.0,1688.0],[\"Outside National Library of Scotland\",4337.0,3933.0],[\"Foot of Kings Road next to the promenade\",11843.0,16656.0],[\"Next to Fire Station\",3672.0,4048.0],[\"Outside St Mary's Primary School\",3063.0,2992.0],[\"Edinburgh University, The Pleasance\",1380.0,1378.0],[\"Corner with Inverleith Terrace\",2667.0,3240.0],[\"Junction with Roseburn Terrace\",1956.0,2080.0],[\"Murrayfield Stadium\",1.0,2.0],[\"Crescent House\",9.0,9.0],[\"Corner of Morningside Park, beside M&S\",3735.0,3995.0],[\"Outside Lidl\",1618.0,2082.0],[\"Corner with Royal Crescent\",2560.0,2672.0],[\"Near Napier University Merchiston Campus\",2165.0,1570.0],[\"Outside Silvan House, Forestry and Land Scotland\",1408.0,1456.0],[\"Corner of Dean Park Mews\",1327.0,1519.0],[\"Little France, Old Dalkeith Road, Edinburgh\",1417.0,1697.0],[\"The Institute of Genetics and Molecular Medicine\",2166.0,2470.0],[\"On Fettes Avenue next to Waitrose\",2385.0,2865.0],[\"Next to Murrayfield Tram Station\",883.0,997.0],[\"Porterfield Road\",1892.0,2135.0],[\"Meggetland Sports Complex\",2179.0,2860.0],[\"University Courtyard\",1376.0,1354.0],[\"Corner of Magdala Crescent\",2546.0,2293.0],[\"Outside Raeburn Place Sports Ground\",3026.0,3959.0],[\"Next to Craigleith Hill Bus Stop\",978.0,1136.0],[\"Corner of Bruntsfield Links next to Public Toilets\",7001.0,4372.0],[\"On corner with St Margaret's Place\",1833.0,1255.0],[\"Opposite Jenners Depository\",1884.0,2243.0],[\"Corner of Elm Row/Brunswick Street\",5150.0,5571.0],[\"Corner with A8 Corstorphine Road at Western Terrace\",719.0,703.0],[\"Near Stadium and Ice Rink\",784.0,804.0],[\"Outside National Museum\",2261.0,1359.0],[\"East end of Promenade\",3240.0,4052.0],[\"Junction with Whitehouse Road\",1528.0,1527.0],[\"Corner with McLeod Street\",2773.0,3349.0],[\"Next to Kennedy Tower\",529.0,428.0],[\"Near Abbey Mount\",4686.0,5279.0],[\"Sighthill Campus\",516.0,654.0],[\"Milton Road Campus\",1112.0,1364.0],[\"Outside Dynamic Earth, Holyrood Road\",4694.0,5824.0],[\"Outside Anna Macleod Halls\",530.0,429.0],[\"Outside Edinburgh Business School\",912.0,947.0],[\"Corner with Drumsheugh Gardens\",2866.0,2565.0],[\"Off Gibson Terrace\",3976.0,4245.0],[\"Junction with Easter Road\",7288.0,11264.0],[\"Next to Rail and Tram stations\",869.0,966.0],[\"Temporary station at City Chambers\",1.0,null],[\"Between Lochside Court and Lochside Avenue\",221.0,237.0],[\"Next to East Coast Tyres\",577.0,766.0],[\"Near to Scotstoun Bus Terminus\",619.0,548.0],[\"Next to bike shelter\",410.0,324.0],[\"Junction with Farquhar Terrace/Boness Road\",1058.0,1086.0],[\"Off Ferrymuir Gait\",557.0,489.0],[\"Off Newhalls Road\",1643.0,1911.0],[\"ARUP Edinburgh\",128.0,122.0],[\"Outside supermarket\",219.0,200.0],[\"Next to Marina Shop and Restaurant\",195.0,203.0],[\"Next to Customer Service building\",136.0,224.0],[\"Next to Allander House\",1142.0,1537.0],[\"Musselborough North High Street opposite Harbour Road\",709.0,838.0],[\"Adjacent to the Brunton Theatre\",294.0,379.0],[\"Outside Omni Centre\",1929.0,1475.0],[\"Virtual Depot\",null,2.0],[\"The Street\",null,3.0]],\"hovertemplate\":\"<b>%{hovertext}</b><br><br>lat=%{lat}<br>lon=%{lon}<br>description=%{customdata[0]}<br>start_frequency=%{customdata[1]}<br>end_frequency=%{customdata[2]}<extra></extra>\",\"hovertext\":[\"Charlotte Square\",\"St Andrew Square\",\"Canonmills\",\"Kings Buildings 4\",\"Kings Building 2\",\"Kings Buildings 1\",\"Kings Building 3\",\"Pollock Halls\",\"Royal Commonwealth Pool\",\"Meadows East\",\"Waverley Bridge\",\"City Chambers\",\"Portobello\",\"Launch Day Event\",\"Brunswick Place\",\"George Square\",\"Bristo Square\",\"Victoria Quay\",\"Fountainbridge\",\"Waverley Court\",\"Lauriston Place\",\"Waverley Station\",\"Stockbridge\",\"Victoria Park\",\"St Andrews House\",\"Depot\",\"Shrubhill\",\"Riego Street\",\"Waitrose, Comely Bank\",\"Leith Links\",\"Ocean Terminal\",\"Castle Street\",\"Bruntsfield\",\"Royal Infirmary\",\"Castle Terrace\",\"Simon Square\",\"Warrender Park Road\",\"Thirlestane Road\",\"Dalry Road Co-op\",\"Whitehouse Loan\",\"Gibson Terrace\",\"Dalry Road Lidl\",\"Dundee Terrace\",\"Macdonald Road\",\"Leith Walk\",\"Marchmont Crescent\",\"East London Street\",\"Orchard Brae House\",\"Inverleith Row\",\"South Trinity Road\",\"Colinton Road\",\"Meadow Place\",\"Morningside Road\",\"Novotel\",\"Causewayside\",\"Newhaven Road / Dudley Gardens\",\"Western General\",\"Newkirkgate\",\"Pollock Halls Virtual\",\"Dundas Street\",\"Hillside Crescent 2\",\"Cramond Foreshore\",\"Comely Bank Road\",\"Hillside Crescent 1\",\"Roseburn Street\",\"EICC\",\"Crichton Street\",\"Corstorphine Road\",\"Tollcross\",\"Murrayfield Avenue\",\"Henderson Row\",\"St. John's Road 2\",\"Murrayfield Tram\",\"Wester Coates Terrace\",\"Gamekeeper's Road\",\"Gladstone Terrace\",\"Balgreen\",\"Craigleith Road\",\"Murrayfield\",\"Edinburgh Zoo\",\"Whitehouse Road\",\"Corstorphine Road - Pinkhill\",\"St. John's Road 1\",\"Logie Green Road\",\"West Newington Place\",\"Queensferry Road\",\"IGMM\",\"West Crosscauseway\",\"Dunbar\\u2019s Close Garden\",\"Sustrans - walk cycle event\",\"Corn Exchange - walk cycle event\",\"Ingliston Park and Ride (19th to 23rd June)\",\"Royal Highland Show - East Gate (19th to 23rd June)\",\"Royal Highland Show - West Gate (19th to 23rd June)\",\"Meadows - Edinburgh Climate Festival\",\"Hunter Square\",\"Crichton Street\",\"Grassmarket\",\"Meadow Place 2\",\"Dundee Terrace\",\"Constitution Street\",\"Depot Virtual\",\"Drummond Street\",\"The Tron\",\"Eden Locke - Aparthotel (RESIDENTS ONLY)\",\"Holyrood Park - Woman's Tour Of Scotland (Event 11/08/19)\",\"Queen Margaret University\",\"Fountain Court  - Apartments (RESIDENTS ONLY)\",\"Lothian Road\",\"South Trinity Road\",\"Milton Road - Edinburgh College\",\"Warrender Park Road\",\"EICC\",\"Kings Buildings - Murchison House\",\"Roseburn Street\",\"Sighthill - Edinburgh College\",\"Fort Kinnaird\",\"Holyrood Road\",\"Pleasance - Edinburgh University Sports Fair\",\"Belford Road\",\"Hillside Crescent\",\"Dalry Road Lidl\",\"HSBC UK Lets Ride - Meadows Event\",\"Dudley Gardens\",\"Gladstone Terrace\",\"West Crosscauseway\",\"Marchmont Crescent\",\"Haymarket Station\",\"Tollcross\",\"Dundas Street\",\"Heriot Watt - Edinburgh Business School\",\"Heriot Watt - Student Accomodation (Anna MacLeod Halls)\",\"Cramond Foreshore\",\"Edinburgh Zoo\",\"Surgeons Hall\",\"Simon Square\",\"Causewayside\",\"Portobello - Kings Road\",\"McDonald Road\",\"East London Street\",\"Pleasance Courtyard\",\"Inverleith Row\",\"Wester Coates Terrace\",\"Cycling Scotland Conference\",\"Crescent House\",\"Morningside Road\",\"Logie Green Road\",\"Scotland Street\",\"Colinton Road\",\"Corstorphine Road\",\"Dean Street\",\"Edinburgh Royal Infirmary\",\"IGMM - Western General\",\"Waitrose Comely Bank\",\"Murrayfield Tram\",\"Western General Hospital\",\"Meggetland\",\"Queen Margaret University\",\"Haymarket Terrace\",\"Comely Bank Road\",\"Craigleith Road\",\"Bruntsfield Links\",\"Thirlestane Road\",\"Balgreen Road\",\"Brunswick Place\",\"Ellersly Road\",\"Murrayfield\",\"Chambers Street\",\"Joppa\",\"Gamekeeper's Road\",\"Gorgie Road\",\"Royal Edinburgh Hospital\",\"Abbeyhill\",\"Sighthill - Edinburgh College\",\"Milton Road - Edinburgh College\",\"Dynamic Earth\",\"Heriot Watt - Student Accommodation\",\"Heriot Watt - Edinburgh Business School\",\"Drumsheugh Place\",\"Boroughmuir\",\"Duke Street\",\"Edinburgh Park Station\",\"City Chambers Launch Station\",\"Edinburgh Park Central\",\"The Loan\",\"Borrowman Square\",\"Dalmeny Station\",\"Hopetoun Road\",\"Forth Bridge Visitors Centre\",\"Hawes Pier\",\"Scotstoun House\",\"Tesco Ferrymuir\",\"Port Edgar Marina\",\"Ingliston Park & Ride\",\"Leith Walk North\",\"Musselburgh Lidl\",\"Musselburgh Brunton Hall\",\"Picady Place\",\"Virtual Depot\",\"Smarter Travel Station\"],\"lat\":[55.95233546161639,55.95474881217642,55.96280408759764,55.92200087060626,55.92320215516664,55.92418540667696,55.923478807846635,55.939963469723715,55.939000247888764,55.939809466328285,55.95134439884462,55.95010933017899,55.957004308392506,55.942551339390945,55.960929747664,55.94308406301113,55.94600418964078,55.977637787726984,55.94335692764551,55.95173449698344,55.944771652335476,55.952641035774384,55.95856558589723,55.97424715757633,55.95316433242384,55.97237325804326,55.96253727246136,55.945159896857184,55.959504176688824,55.96919856910954,55.981286014792985,55.951500737349754,55.93715871276677,55.924295174984614,55.94676648672239,55.944867799682754,55.938363058645024,55.93536510821717,55.94271471556419,55.93632904938287,55.94049262199568,55.941754301444796,55.93972942415463,55.963995150971236,55.96503980507732,55.936397496743666,55.95994339132352,55.95508276879095,55.964145597867244,55.971268912190844,55.934034801869515,55.94030045743447,55.92798551356313,55.944896459715345,55.93642987756881,55.97592738157906,55.96345848770889,55.97070402016615,55.94034806856411,55.96094446922441,55.957803310852015,55.980023741808324,55.95940686974708,55.95791033111316,55.94446626439512,55.94604282192561,55.94474957118208,55.94174288122498,55.94428069681837,55.94632179137708,55.96026010209808,55.942944853851905,55.9419563895648,55.9456092021698,55.96953169937321,55.93802439880083,55.93893772779211,55.95661859471628,55.94476686576929,55.942221825711776,55.96152699979099,55.942364438846695,55.94274592050117,55.96403450946105,55.93821225851473,55.95454278693572,55.96248692705142,55.943861983330955,55.951813501278245,55.945452213917534,55.92701363904687,55.93909048596021,55.940906749395,55.94065528387753,55.94173596765826,55.94969158307013,55.94475574122453,55.947097278583385,55.940237631689435,55.93970989541296,55.97544142756835,55.97233473082818,55.9483365370385,55.95003729291336,55.95264053655981,55.95135352288074,55.93193490858167,55.94380585491596,55.947409199207115,55.97132539148155,55.944051353414075,55.93836921723555,55.94607055533778,55.92446420087144,55.94442555452843,55.926664566092654,55.93437199635734,55.94955950619123,55.948209628249515,55.95197357717703,55.95787194536338,55.94179129688128,55.939977758149666,55.97593978299806,55.93796327344498,55.9438359841253,55.936431918148195,55.94558221753474,55.944248052468346,55.9607624081837,55.90880966452917,55.908403986062076,55.980030767403164,55.94211534619251,55.94664279961712,55.94485886752089,55.93650603148236,55.957915406923476,55.9640310527501,55.95995414501485,55.947566653309394,55.964117879889585,55.94564841884953,55.940886347739024,55.96391066325888,55.927985349796536,55.964058329676064,55.96037972054591,55.933416359161036,55.94166971920444,55.957278012740645,55.92063236018849,55.96264210870907,55.959536249717715,55.94191081116495,55.963453810934496,55.92758664038103,55.931980482636575,55.946063966641006,55.95941012836135,55.95657629337518,55.937123239991095,55.935323709648124,55.938941745489494,55.96085174106396,55.945045875212095,55.94479128084842,55.94760044619224,55.94894930668582,55.969442746098885,55.9387414422504,55.92781815597736,55.95524788917224,55.926684277487574,55.94406627599551,55.951089465236365,55.90841344459825,55.9088228790413,55.95159412232485,55.94007146917616,55.96901164826488,55.927382676939004,55.950222304548845,55.931168715771065,55.98989968232655,55.98260596953824,55.98676132611317,55.99018214620787,55.987743170866025,55.99052952143077,55.98110725959637,55.983766187891035,55.992957267668345,55.9387919459937,55.96791807044289,55.94388031687606,55.94400897108537,55.95653524179326,55.97240196356882,53.39552546462075],\"legendgroup\":\"\",\"lon\":[-3.207101172107286,-3.192773668658787,-3.196283585062929,-3.1769018141649212,-3.17164624536349,-3.173830830087809,-3.175384584907078,-3.171585934311565,-3.173923554315593,-3.182738850746432,-3.191420998989883,-3.190257770093808,-3.116888118730116,-3.191380756192416,-3.181005314780577,-3.188311072722399,-3.188665492872815,-3.174115590621568,-3.209247501624645,-3.18417853540609,-3.197265856419562,-3.187526919462357,-3.208070182227743,-3.194482342104265,-3.181682340931843,-3.155833150766966,-3.179472670388236,-3.203678290717107,-3.223428055375961,-3.166884617023356,-3.176351263805259,-3.203183906525282,-3.206435329645956,-3.133510335817163,-3.202037829055143,-3.182670511194715,-3.198031182386103,-3.198671326704016,-3.221430982426,-3.202294536676049,-3.2171441917087122,-3.222524291865397,-3.220602995527315,-3.185188767893123,-3.176686414784853,-3.194252202886105,-3.187329201962484,-3.223634263956455,-3.202073560611438,-3.207815717530479,-3.2108032288005,-3.194591930765,-3.209738736635245,-3.199635221500898,-3.180114903557978,-3.191317916099706,-3.23280956008216,-3.1716239961015162,-3.172108169850503,-3.201386994249105,-3.1754794362148,-3.300622016981151,-3.215659820662267,-3.180692837632364,-3.234541218248978,-3.210484908343801,-3.1865421356333172,-3.271484360775275,-3.202964359237739,-3.236542329964095,-3.203912595837096,-3.290794069257344,-3.237802024128314,-3.231715619159217,-3.307305425252252,-3.184979210204801,-3.251173333050928,-3.237802968201094,-3.243687888944919,-3.268697484588187,-3.306114175491529,-3.265384123501235,-3.281623013233002,-3.195673725279903,-3.17897226737648,-3.23472817617926,-3.232031328469361,-3.184972223259024,-3.178725911660876,-3.219679557435938,-3.248556775310362,-3.355912910873826,-3.3688722251728223,-3.381606403941987,-3.190360574257738,-3.18781281937504,-3.18691697426982,-3.1972457326126,-3.194640214184801,-3.220588933667954,-3.166806411195239,-3.155781602605998,-3.18226129953905,-3.187821518826922,-3.205665534467016,-3.168590609786974,-3.073045771766146,-3.211238456749925,-3.205765497136553,-3.207963567424258,-3.098567246199309,-3.198032688546618,-3.210396331000765,-3.178731512475451,-3.234497716594433,-3.289467852759799,-3.105037819791278,-3.180413257527789,-3.181597452807864,-3.226124804664096,-3.1758883709196652,-3.222415309596499,-3.189862157672223,-3.191321207818646,-3.185021145932069,-3.184951408497681,-3.194150044314256,-3.218192059354351,-3.203104599110474,-3.201278014771333,-3.320141905887681,-3.328825358925314,-3.300641788832536,-3.269286765448441,-3.185474585938891,-3.182589723460069,-3.180166347615113,-3.118332042090287,-3.185175372950425,-3.187197758547654,-3.181591941706529,-3.202094747416367,-3.231847150914063,-3.240777565829148,-3.191861874639585,-3.209749771944871,-3.195700361124863,-3.195470336902758,-3.21239711224257,-3.271523727766862,-3.214285387389054,-3.140540732733598,-3.231915547243943,-3.223434402338853,-3.237800313822617,-3.232909305683961,-3.23367105304419,-3.073104633681168,-3.223024024359574,-3.215661360613694,-3.237939788691392,-3.206431879393449,-3.198763443819871,-3.251110776059022,-3.180985762469163,-3.250881447188249,-3.243673010460725,-3.188919736735215,-3.0947272616547252,-3.307258798472374,-3.229909254900902,-3.213307722203224,-3.17221628009507,-3.289481117121666,-3.098561479441612,-3.17572460948655,-3.328783525816887,-3.320113285176247,-3.212354285094022,-3.215335840688084,-3.16739470303429,-3.307442444578868,-3.190270030188429,-3.314414297805683,-3.397772901929727,-3.381454898058535,-3.382426853781425,-3.404603924278717,-3.40375244599943,-3.385596660576908,-3.39421060796127,-3.401351801602175,-3.407156205559118,-3.355556216932513,-3.17358629706473,-3.066753916217862,-3.058492533629163,-3.18624761207468,-3.155794035109693,-2.9901380418724552],\"marker\":{\"color\":\"#636efa\"},\"mode\":\"markers\",\"name\":\"\",\"showlegend\":false,\"subplot\":\"mapbox\",\"type\":\"scattermapbox\"}],                        {\"template\":{\"data\":{\"bar\":[{\"error_x\":{\"color\":\"#2a3f5f\"},\"error_y\":{\"color\":\"#2a3f5f\"},\"marker\":{\"line\":{\"color\":\"#E5ECF6\",\"width\":0.5},\"pattern\":{\"fillmode\":\"overlay\",\"size\":10,\"solidity\":0.2}},\"type\":\"bar\"}],\"barpolar\":[{\"marker\":{\"line\":{\"color\":\"#E5ECF6\",\"width\":0.5},\"pattern\":{\"fillmode\":\"overlay\",\"size\":10,\"solidity\":0.2}},\"type\":\"barpolar\"}],\"carpet\":[{\"aaxis\":{\"endlinecolor\":\"#2a3f5f\",\"gridcolor\":\"white\",\"linecolor\":\"white\",\"minorgridcolor\":\"white\",\"startlinecolor\":\"#2a3f5f\"},\"baxis\":{\"endlinecolor\":\"#2a3f5f\",\"gridcolor\":\"white\",\"linecolor\":\"white\",\"minorgridcolor\":\"white\",\"startlinecolor\":\"#2a3f5f\"},\"type\":\"carpet\"}],\"choropleth\":[{\"colorbar\":{\"outlinewidth\":0,\"ticks\":\"\"},\"type\":\"choropleth\"}],\"contour\":[{\"colorbar\":{\"outlinewidth\":0,\"ticks\":\"\"},\"colorscale\":[[0.0,\"#0d0887\"],[0.1111111111111111,\"#46039f\"],[0.2222222222222222,\"#7201a8\"],[0.3333333333333333,\"#9c179e\"],[0.4444444444444444,\"#bd3786\"],[0.5555555555555556,\"#d8576b\"],[0.6666666666666666,\"#ed7953\"],[0.7777777777777778,\"#fb9f3a\"],[0.8888888888888888,\"#fdca26\"],[1.0,\"#f0f921\"]],\"type\":\"contour\"}],\"contourcarpet\":[{\"colorbar\":{\"outlinewidth\":0,\"ticks\":\"\"},\"type\":\"contourcarpet\"}],\"heatmap\":[{\"colorbar\":{\"outlinewidth\":0,\"ticks\":\"\"},\"colorscale\":[[0.0,\"#0d0887\"],[0.1111111111111111,\"#46039f\"],[0.2222222222222222,\"#7201a8\"],[0.3333333333333333,\"#9c179e\"],[0.4444444444444444,\"#bd3786\"],[0.5555555555555556,\"#d8576b\"],[0.6666666666666666,\"#ed7953\"],[0.7777777777777778,\"#fb9f3a\"],[0.8888888888888888,\"#fdca26\"],[1.0,\"#f0f921\"]],\"type\":\"heatmap\"}],\"heatmapgl\":[{\"colorbar\":{\"outlinewidth\":0,\"ticks\":\"\"},\"colorscale\":[[0.0,\"#0d0887\"],[0.1111111111111111,\"#46039f\"],[0.2222222222222222,\"#7201a8\"],[0.3333333333333333,\"#9c179e\"],[0.4444444444444444,\"#bd3786\"],[0.5555555555555556,\"#d8576b\"],[0.6666666666666666,\"#ed7953\"],[0.7777777777777778,\"#fb9f3a\"],[0.8888888888888888,\"#fdca26\"],[1.0,\"#f0f921\"]],\"type\":\"heatmapgl\"}],\"histogram\":[{\"marker\":{\"pattern\":{\"fillmode\":\"overlay\",\"size\":10,\"solidity\":0.2}},\"type\":\"histogram\"}],\"histogram2d\":[{\"colorbar\":{\"outlinewidth\":0,\"ticks\":\"\"},\"colorscale\":[[0.0,\"#0d0887\"],[0.1111111111111111,\"#46039f\"],[0.2222222222222222,\"#7201a8\"],[0.3333333333333333,\"#9c179e\"],[0.4444444444444444,\"#bd3786\"],[0.5555555555555556,\"#d8576b\"],[0.6666666666666666,\"#ed7953\"],[0.7777777777777778,\"#fb9f3a\"],[0.8888888888888888,\"#fdca26\"],[1.0,\"#f0f921\"]],\"type\":\"histogram2d\"}],\"histogram2dcontour\":[{\"colorbar\":{\"outlinewidth\":0,\"ticks\":\"\"},\"colorscale\":[[0.0,\"#0d0887\"],[0.1111111111111111,\"#46039f\"],[0.2222222222222222,\"#7201a8\"],[0.3333333333333333,\"#9c179e\"],[0.4444444444444444,\"#bd3786\"],[0.5555555555555556,\"#d8576b\"],[0.6666666666666666,\"#ed7953\"],[0.7777777777777778,\"#fb9f3a\"],[0.8888888888888888,\"#fdca26\"],[1.0,\"#f0f921\"]],\"type\":\"histogram2dcontour\"}],\"mesh3d\":[{\"colorbar\":{\"outlinewidth\":0,\"ticks\":\"\"},\"type\":\"mesh3d\"}],\"parcoords\":[{\"line\":{\"colorbar\":{\"outlinewidth\":0,\"ticks\":\"\"}},\"type\":\"parcoords\"}],\"pie\":[{\"automargin\":true,\"type\":\"pie\"}],\"scatter\":[{\"marker\":{\"colorbar\":{\"outlinewidth\":0,\"ticks\":\"\"}},\"type\":\"scatter\"}],\"scatter3d\":[{\"line\":{\"colorbar\":{\"outlinewidth\":0,\"ticks\":\"\"}},\"marker\":{\"colorbar\":{\"outlinewidth\":0,\"ticks\":\"\"}},\"type\":\"scatter3d\"}],\"scattercarpet\":[{\"marker\":{\"colorbar\":{\"outlinewidth\":0,\"ticks\":\"\"}},\"type\":\"scattercarpet\"}],\"scattergeo\":[{\"marker\":{\"colorbar\":{\"outlinewidth\":0,\"ticks\":\"\"}},\"type\":\"scattergeo\"}],\"scattergl\":[{\"marker\":{\"colorbar\":{\"outlinewidth\":0,\"ticks\":\"\"}},\"type\":\"scattergl\"}],\"scattermapbox\":[{\"marker\":{\"colorbar\":{\"outlinewidth\":0,\"ticks\":\"\"}},\"type\":\"scattermapbox\"}],\"scatterpolar\":[{\"marker\":{\"colorbar\":{\"outlinewidth\":0,\"ticks\":\"\"}},\"type\":\"scatterpolar\"}],\"scatterpolargl\":[{\"marker\":{\"colorbar\":{\"outlinewidth\":0,\"ticks\":\"\"}},\"type\":\"scatterpolargl\"}],\"scatterternary\":[{\"marker\":{\"colorbar\":{\"outlinewidth\":0,\"ticks\":\"\"}},\"type\":\"scatterternary\"}],\"surface\":[{\"colorbar\":{\"outlinewidth\":0,\"ticks\":\"\"},\"colorscale\":[[0.0,\"#0d0887\"],[0.1111111111111111,\"#46039f\"],[0.2222222222222222,\"#7201a8\"],[0.3333333333333333,\"#9c179e\"],[0.4444444444444444,\"#bd3786\"],[0.5555555555555556,\"#d8576b\"],[0.6666666666666666,\"#ed7953\"],[0.7777777777777778,\"#fb9f3a\"],[0.8888888888888888,\"#fdca26\"],[1.0,\"#f0f921\"]],\"type\":\"surface\"}],\"table\":[{\"cells\":{\"fill\":{\"color\":\"#EBF0F8\"},\"line\":{\"color\":\"white\"}},\"header\":{\"fill\":{\"color\":\"#C8D4E3\"},\"line\":{\"color\":\"white\"}},\"type\":\"table\"}]},\"layout\":{\"annotationdefaults\":{\"arrowcolor\":\"#2a3f5f\",\"arrowhead\":0,\"arrowwidth\":1},\"autotypenumbers\":\"strict\",\"coloraxis\":{\"colorbar\":{\"outlinewidth\":0,\"ticks\":\"\"}},\"colorscale\":{\"diverging\":[[0,\"#8e0152\"],[0.1,\"#c51b7d\"],[0.2,\"#de77ae\"],[0.3,\"#f1b6da\"],[0.4,\"#fde0ef\"],[0.5,\"#f7f7f7\"],[0.6,\"#e6f5d0\"],[0.7,\"#b8e186\"],[0.8,\"#7fbc41\"],[0.9,\"#4d9221\"],[1,\"#276419\"]],\"sequential\":[[0.0,\"#0d0887\"],[0.1111111111111111,\"#46039f\"],[0.2222222222222222,\"#7201a8\"],[0.3333333333333333,\"#9c179e\"],[0.4444444444444444,\"#bd3786\"],[0.5555555555555556,\"#d8576b\"],[0.6666666666666666,\"#ed7953\"],[0.7777777777777778,\"#fb9f3a\"],[0.8888888888888888,\"#fdca26\"],[1.0,\"#f0f921\"]],\"sequentialminus\":[[0.0,\"#0d0887\"],[0.1111111111111111,\"#46039f\"],[0.2222222222222222,\"#7201a8\"],[0.3333333333333333,\"#9c179e\"],[0.4444444444444444,\"#bd3786\"],[0.5555555555555556,\"#d8576b\"],[0.6666666666666666,\"#ed7953\"],[0.7777777777777778,\"#fb9f3a\"],[0.8888888888888888,\"#fdca26\"],[1.0,\"#f0f921\"]]},\"colorway\":[\"#636efa\",\"#EF553B\",\"#00cc96\",\"#ab63fa\",\"#FFA15A\",\"#19d3f3\",\"#FF6692\",\"#B6E880\",\"#FF97FF\",\"#FECB52\"],\"font\":{\"color\":\"#2a3f5f\"},\"geo\":{\"bgcolor\":\"white\",\"lakecolor\":\"white\",\"landcolor\":\"#E5ECF6\",\"showlakes\":true,\"showland\":true,\"subunitcolor\":\"white\"},\"hoverlabel\":{\"align\":\"left\"},\"hovermode\":\"closest\",\"mapbox\":{\"style\":\"light\"},\"paper_bgcolor\":\"white\",\"plot_bgcolor\":\"#E5ECF6\",\"polar\":{\"angularaxis\":{\"gridcolor\":\"white\",\"linecolor\":\"white\",\"ticks\":\"\"},\"bgcolor\":\"#E5ECF6\",\"radialaxis\":{\"gridcolor\":\"white\",\"linecolor\":\"white\",\"ticks\":\"\"}},\"scene\":{\"xaxis\":{\"backgroundcolor\":\"#E5ECF6\",\"gridcolor\":\"white\",\"gridwidth\":2,\"linecolor\":\"white\",\"showbackground\":true,\"ticks\":\"\",\"zerolinecolor\":\"white\"},\"yaxis\":{\"backgroundcolor\":\"#E5ECF6\",\"gridcolor\":\"white\",\"gridwidth\":2,\"linecolor\":\"white\",\"showbackground\":true,\"ticks\":\"\",\"zerolinecolor\":\"white\"},\"zaxis\":{\"backgroundcolor\":\"#E5ECF6\",\"gridcolor\":\"white\",\"gridwidth\":2,\"linecolor\":\"white\",\"showbackground\":true,\"ticks\":\"\",\"zerolinecolor\":\"white\"}},\"shapedefaults\":{\"line\":{\"color\":\"#2a3f5f\"}},\"ternary\":{\"aaxis\":{\"gridcolor\":\"white\",\"linecolor\":\"white\",\"ticks\":\"\"},\"baxis\":{\"gridcolor\":\"white\",\"linecolor\":\"white\",\"ticks\":\"\"},\"bgcolor\":\"#E5ECF6\",\"caxis\":{\"gridcolor\":\"white\",\"linecolor\":\"white\",\"ticks\":\"\"}},\"title\":{\"x\":0.05},\"xaxis\":{\"automargin\":true,\"gridcolor\":\"white\",\"linecolor\":\"white\",\"ticks\":\"\",\"title\":{\"standoff\":15},\"zerolinecolor\":\"white\",\"zerolinewidth\":2},\"yaxis\":{\"automargin\":true,\"gridcolor\":\"white\",\"linecolor\":\"white\",\"ticks\":\"\",\"title\":{\"standoff\":15},\"zerolinecolor\":\"white\",\"zerolinewidth\":2}}},\"mapbox\":{\"domain\":{\"x\":[0.0,1.0],\"y\":[0.0,1.0]},\"center\":{\"lat\":55.93678355923356,\"lon\":-3.2146867369991274},\"zoom\":10,\"style\":\"open-street-map\"},\"legend\":{\"tracegroupgap\":0},\"margin\":{\"t\":0,\"r\":0,\"l\":0,\"b\":0},\"height\":600},                        {\"responsive\": true}                    ).then(function(){\n",
              "                            \n",
              "var gd = document.getElementById('c2572e88-0290-4d38-acc8-a915ed19a9c5');\n",
              "var x = new MutationObserver(function (mutations, observer) {{\n",
              "        var display = window.getComputedStyle(gd).display;\n",
              "        if (!display || display === 'none') {{\n",
              "            console.log([gd, 'removed!']);\n",
              "            Plotly.purge(gd);\n",
              "            observer.disconnect();\n",
              "        }}\n",
              "}});\n",
              "\n",
              "// Listen for the removal of the full notebook cells\n",
              "var notebookContainer = gd.closest('#notebook-container');\n",
              "if (notebookContainer) {{\n",
              "    x.observe(notebookContainer, {childList: true});\n",
              "}}\n",
              "\n",
              "// Listen for the clearing of the current output cell\n",
              "var outputEl = gd.closest('.output');\n",
              "if (outputEl) {{\n",
              "    x.observe(outputEl, {childList: true});\n",
              "}}\n",
              "\n",
              "                        })                };                            </script>        </div>\n",
              "</body>\n",
              "</html>"
            ]
          },
          "metadata": {}
        }
      ]
    },
    {
      "cell_type": "markdown",
      "source": [
        "#### Vzdálenosti stanic<a name=\"3.1.2\"></a>"
      ],
      "metadata": {
        "id": "pGxMHnqZ8UmN"
      }
    },
    {
      "cell_type": "code",
      "source": [
        "# kopie dataframu pro výpočet vzdáleností seřazená podle id\n",
        "df_s2 = dfs1.copy().sort_values(by=\"id\")"
      ],
      "metadata": {
        "id": "fQHp8kZ-8tpz"
      },
      "execution_count": 362,
      "outputs": []
    },
    {
      "cell_type": "markdown",
      "source": [
        "postup výpočtu vzdáleností:   \n",
        "https://medium.com/@danalindquist/finding-the-distance-between-two-lists-of-geographic-coordinates-9ace7e43bb2f"
      ],
      "metadata": {
        "id": "kbVVbL6VGu75"
      }
    },
    {
      "cell_type": "code",
      "source": [
        "# převedení na radiány\n",
        "df_s2['lat'] = np.radians(df_s2['lat'])\n",
        "df_s2['lon'] = np.radians(df_s2['lon'])"
      ],
      "metadata": {
        "id": "sUKL3M2CAj1L"
      },
      "execution_count": 363,
      "outputs": []
    },
    {
      "cell_type": "code",
      "source": [
        "# vytvoření matice pomocí knihovny\n",
        "dist = DistanceMetric.get_metric('haversine')"
      ],
      "metadata": {
        "id": "XiHxpcHWAzpS"
      },
      "execution_count": 364,
      "outputs": []
    },
    {
      "cell_type": "code",
      "source": [
        "# radius země v km\n",
        "earth_radius = 6373\n",
        "# matice s výpočtem vzdálenosti mezi stanicemi v km\n",
        "distance = pd.DataFrame(dist.pairwise(\n",
        "    (df_s2[['lat','lon']]) * earth_radius).round(2),\n",
        "      columns=df_s2.id, index=df_s2.id)"
      ],
      "metadata": {
        "id": "UHxl7c9iBKzG"
      },
      "execution_count": 365,
      "outputs": []
    },
    {
      "cell_type": "code",
      "source": [
        "distance.head()"
      ],
      "metadata": {
        "colab": {
          "base_uri": "https://localhost:8080/",
          "height": 267
        },
        "id": "wFrAw8JdFNgZ",
        "outputId": "3a3c3bb1-89d2-42d4-e218-bf605a529931"
      },
      "execution_count": 366,
      "outputs": [
        {
          "output_type": "execute_result",
          "data": {
            "text/plain": [
              "id   171   183   189   225   241   242   246   247   248   249   ...  1868  \\\n",
              "id                                                               ...         \n",
              "171  0.00  0.96  0.80  1.03  1.84  1.84  0.64  1.92  0.33  1.15  ...  1.07   \n",
              "183  0.96  0.00  0.19  0.81  1.13  1.13  1.59  1.75  0.66  1.78  ...  1.58   \n",
              "189  0.80  0.19  0.00  0.70  1.18  1.18  1.44  1.88  0.48  1.74  ...  1.56   \n",
              "225  1.03  0.81  0.70  0.00  0.83  0.83  1.51  2.54  0.79  2.18  ...  2.09   \n",
              "241  1.84  1.13  1.18  0.83  0.00  0.00  2.33  2.10  1.54  2.91  ...  2.69   \n",
              "\n",
              "id   1869  1870  1871  1874  1877  2259  2263  2265  2268  \n",
              "id                                                         \n",
              "171  0.89  0.23  1.09  1.30  0.70  2.47  0.58  1.05  1.51  \n",
              "183  1.60  1.18  0.57  1.36  1.59  1.51  1.37  1.95  0.80  \n",
              "189  1.53  1.02  0.69  1.43  1.46  1.67  1.18  1.76  0.83  \n",
              "225  1.92  1.22  1.37  2.11  1.69  1.65  0.97  1.47  0.58  \n",
              "241  2.70  2.04  1.54  2.28  2.52  0.85  1.76  2.08  0.35  \n",
              "\n",
              "[5 rows x 200 columns]"
            ],
            "text/html": [
              "\n",
              "  <div id=\"df-416bfc12-46b9-4484-9476-b4d24c538438\">\n",
              "    <div class=\"colab-df-container\">\n",
              "      <div>\n",
              "<style scoped>\n",
              "    .dataframe tbody tr th:only-of-type {\n",
              "        vertical-align: middle;\n",
              "    }\n",
              "\n",
              "    .dataframe tbody tr th {\n",
              "        vertical-align: top;\n",
              "    }\n",
              "\n",
              "    .dataframe thead th {\n",
              "        text-align: right;\n",
              "    }\n",
              "</style>\n",
              "<table border=\"1\" class=\"dataframe\">\n",
              "  <thead>\n",
              "    <tr style=\"text-align: right;\">\n",
              "      <th>id</th>\n",
              "      <th>171</th>\n",
              "      <th>183</th>\n",
              "      <th>189</th>\n",
              "      <th>225</th>\n",
              "      <th>241</th>\n",
              "      <th>242</th>\n",
              "      <th>246</th>\n",
              "      <th>247</th>\n",
              "      <th>248</th>\n",
              "      <th>249</th>\n",
              "      <th>...</th>\n",
              "      <th>1868</th>\n",
              "      <th>1869</th>\n",
              "      <th>1870</th>\n",
              "      <th>1871</th>\n",
              "      <th>1874</th>\n",
              "      <th>1877</th>\n",
              "      <th>2259</th>\n",
              "      <th>2263</th>\n",
              "      <th>2265</th>\n",
              "      <th>2268</th>\n",
              "    </tr>\n",
              "    <tr>\n",
              "      <th>id</th>\n",
              "      <th></th>\n",
              "      <th></th>\n",
              "      <th></th>\n",
              "      <th></th>\n",
              "      <th></th>\n",
              "      <th></th>\n",
              "      <th></th>\n",
              "      <th></th>\n",
              "      <th></th>\n",
              "      <th></th>\n",
              "      <th></th>\n",
              "      <th></th>\n",
              "      <th></th>\n",
              "      <th></th>\n",
              "      <th></th>\n",
              "      <th></th>\n",
              "      <th></th>\n",
              "      <th></th>\n",
              "      <th></th>\n",
              "      <th></th>\n",
              "      <th></th>\n",
              "    </tr>\n",
              "  </thead>\n",
              "  <tbody>\n",
              "    <tr>\n",
              "      <th>171</th>\n",
              "      <td>0.00</td>\n",
              "      <td>0.96</td>\n",
              "      <td>0.80</td>\n",
              "      <td>1.03</td>\n",
              "      <td>1.84</td>\n",
              "      <td>1.84</td>\n",
              "      <td>0.64</td>\n",
              "      <td>1.92</td>\n",
              "      <td>0.33</td>\n",
              "      <td>1.15</td>\n",
              "      <td>...</td>\n",
              "      <td>1.07</td>\n",
              "      <td>0.89</td>\n",
              "      <td>0.23</td>\n",
              "      <td>1.09</td>\n",
              "      <td>1.30</td>\n",
              "      <td>0.70</td>\n",
              "      <td>2.47</td>\n",
              "      <td>0.58</td>\n",
              "      <td>1.05</td>\n",
              "      <td>1.51</td>\n",
              "    </tr>\n",
              "    <tr>\n",
              "      <th>183</th>\n",
              "      <td>0.96</td>\n",
              "      <td>0.00</td>\n",
              "      <td>0.19</td>\n",
              "      <td>0.81</td>\n",
              "      <td>1.13</td>\n",
              "      <td>1.13</td>\n",
              "      <td>1.59</td>\n",
              "      <td>1.75</td>\n",
              "      <td>0.66</td>\n",
              "      <td>1.78</td>\n",
              "      <td>...</td>\n",
              "      <td>1.58</td>\n",
              "      <td>1.60</td>\n",
              "      <td>1.18</td>\n",
              "      <td>0.57</td>\n",
              "      <td>1.36</td>\n",
              "      <td>1.59</td>\n",
              "      <td>1.51</td>\n",
              "      <td>1.37</td>\n",
              "      <td>1.95</td>\n",
              "      <td>0.80</td>\n",
              "    </tr>\n",
              "    <tr>\n",
              "      <th>189</th>\n",
              "      <td>0.80</td>\n",
              "      <td>0.19</td>\n",
              "      <td>0.00</td>\n",
              "      <td>0.70</td>\n",
              "      <td>1.18</td>\n",
              "      <td>1.18</td>\n",
              "      <td>1.44</td>\n",
              "      <td>1.88</td>\n",
              "      <td>0.48</td>\n",
              "      <td>1.74</td>\n",
              "      <td>...</td>\n",
              "      <td>1.56</td>\n",
              "      <td>1.53</td>\n",
              "      <td>1.02</td>\n",
              "      <td>0.69</td>\n",
              "      <td>1.43</td>\n",
              "      <td>1.46</td>\n",
              "      <td>1.67</td>\n",
              "      <td>1.18</td>\n",
              "      <td>1.76</td>\n",
              "      <td>0.83</td>\n",
              "    </tr>\n",
              "    <tr>\n",
              "      <th>225</th>\n",
              "      <td>1.03</td>\n",
              "      <td>0.81</td>\n",
              "      <td>0.70</td>\n",
              "      <td>0.00</td>\n",
              "      <td>0.83</td>\n",
              "      <td>0.83</td>\n",
              "      <td>1.51</td>\n",
              "      <td>2.54</td>\n",
              "      <td>0.79</td>\n",
              "      <td>2.18</td>\n",
              "      <td>...</td>\n",
              "      <td>2.09</td>\n",
              "      <td>1.92</td>\n",
              "      <td>1.22</td>\n",
              "      <td>1.37</td>\n",
              "      <td>2.11</td>\n",
              "      <td>1.69</td>\n",
              "      <td>1.65</td>\n",
              "      <td>0.97</td>\n",
              "      <td>1.47</td>\n",
              "      <td>0.58</td>\n",
              "    </tr>\n",
              "    <tr>\n",
              "      <th>241</th>\n",
              "      <td>1.84</td>\n",
              "      <td>1.13</td>\n",
              "      <td>1.18</td>\n",
              "      <td>0.83</td>\n",
              "      <td>0.00</td>\n",
              "      <td>0.00</td>\n",
              "      <td>2.33</td>\n",
              "      <td>2.10</td>\n",
              "      <td>1.54</td>\n",
              "      <td>2.91</td>\n",
              "      <td>...</td>\n",
              "      <td>2.69</td>\n",
              "      <td>2.70</td>\n",
              "      <td>2.04</td>\n",
              "      <td>1.54</td>\n",
              "      <td>2.28</td>\n",
              "      <td>2.52</td>\n",
              "      <td>0.85</td>\n",
              "      <td>1.76</td>\n",
              "      <td>2.08</td>\n",
              "      <td>0.35</td>\n",
              "    </tr>\n",
              "  </tbody>\n",
              "</table>\n",
              "<p>5 rows × 200 columns</p>\n",
              "</div>\n",
              "      <button class=\"colab-df-convert\" onclick=\"convertToInteractive('df-416bfc12-46b9-4484-9476-b4d24c538438')\"\n",
              "              title=\"Convert this dataframe to an interactive table.\"\n",
              "              style=\"display:none;\">\n",
              "        \n",
              "  <svg xmlns=\"http://www.w3.org/2000/svg\" height=\"24px\"viewBox=\"0 0 24 24\"\n",
              "       width=\"24px\">\n",
              "    <path d=\"M0 0h24v24H0V0z\" fill=\"none\"/>\n",
              "    <path d=\"M18.56 5.44l.94 2.06.94-2.06 2.06-.94-2.06-.94-.94-2.06-.94 2.06-2.06.94zm-11 1L8.5 8.5l.94-2.06 2.06-.94-2.06-.94L8.5 2.5l-.94 2.06-2.06.94zm10 10l.94 2.06.94-2.06 2.06-.94-2.06-.94-.94-2.06-.94 2.06-2.06.94z\"/><path d=\"M17.41 7.96l-1.37-1.37c-.4-.4-.92-.59-1.43-.59-.52 0-1.04.2-1.43.59L10.3 9.45l-7.72 7.72c-.78.78-.78 2.05 0 2.83L4 21.41c.39.39.9.59 1.41.59.51 0 1.02-.2 1.41-.59l7.78-7.78 2.81-2.81c.8-.78.8-2.07 0-2.86zM5.41 20L4 18.59l7.72-7.72 1.47 1.35L5.41 20z\"/>\n",
              "  </svg>\n",
              "      </button>\n",
              "      \n",
              "  <style>\n",
              "    .colab-df-container {\n",
              "      display:flex;\n",
              "      flex-wrap:wrap;\n",
              "      gap: 12px;\n",
              "    }\n",
              "\n",
              "    .colab-df-convert {\n",
              "      background-color: #E8F0FE;\n",
              "      border: none;\n",
              "      border-radius: 50%;\n",
              "      cursor: pointer;\n",
              "      display: none;\n",
              "      fill: #1967D2;\n",
              "      height: 32px;\n",
              "      padding: 0 0 0 0;\n",
              "      width: 32px;\n",
              "    }\n",
              "\n",
              "    .colab-df-convert:hover {\n",
              "      background-color: #E2EBFA;\n",
              "      box-shadow: 0px 1px 2px rgba(60, 64, 67, 0.3), 0px 1px 3px 1px rgba(60, 64, 67, 0.15);\n",
              "      fill: #174EA6;\n",
              "    }\n",
              "\n",
              "    [theme=dark] .colab-df-convert {\n",
              "      background-color: #3B4455;\n",
              "      fill: #D2E3FC;\n",
              "    }\n",
              "\n",
              "    [theme=dark] .colab-df-convert:hover {\n",
              "      background-color: #434B5C;\n",
              "      box-shadow: 0px 1px 3px 1px rgba(0, 0, 0, 0.15);\n",
              "      filter: drop-shadow(0px 1px 2px rgba(0, 0, 0, 0.3));\n",
              "      fill: #FFFFFF;\n",
              "    }\n",
              "  </style>\n",
              "\n",
              "      <script>\n",
              "        const buttonEl =\n",
              "          document.querySelector('#df-416bfc12-46b9-4484-9476-b4d24c538438 button.colab-df-convert');\n",
              "        buttonEl.style.display =\n",
              "          google.colab.kernel.accessAllowed ? 'block' : 'none';\n",
              "\n",
              "        async function convertToInteractive(key) {\n",
              "          const element = document.querySelector('#df-416bfc12-46b9-4484-9476-b4d24c538438');\n",
              "          const dataTable =\n",
              "            await google.colab.kernel.invokeFunction('convertToInteractive',\n",
              "                                                     [key], {});\n",
              "          if (!dataTable) return;\n",
              "\n",
              "          const docLinkHtml = 'Like what you see? Visit the ' +\n",
              "            '<a target=\"_blank\" href=https://colab.research.google.com/notebooks/data_table.ipynb>data table notebook</a>'\n",
              "            + ' to learn more about interactive tables.';\n",
              "          element.innerHTML = '';\n",
              "          dataTable['output_type'] = 'display_data';\n",
              "          await google.colab.output.renderOutput(dataTable, element);\n",
              "          const docLink = document.createElement('div');\n",
              "          docLink.innerHTML = docLinkHtml;\n",
              "          element.appendChild(docLink);\n",
              "        }\n",
              "      </script>\n",
              "    </div>\n",
              "  </div>\n",
              "  "
            ]
          },
          "metadata": {},
          "execution_count": 366
        }
      ]
    },
    {
      "cell_type": "markdown",
      "source": [
        "#### Aktivní a neaktivní stanice<a name=\"3.1.2\"></a>"
      ],
      "metadata": {
        "id": "pkEM7V1GbsXw"
      }
    },
    {
      "cell_type": "markdown",
      "source": [
        "\n",
        "Z posbíraných dat jsme zjistili, že se průměrně půčují 2,2 kola denně na každé stanici. Pro určení aktivních stanic jsme si určili, že za aktivní stanice budeme považovat pouze stanice, na kterých proběhne v průměru minimálně **0,3** výpujček kol denně."
      ],
      "metadata": {
        "id": "OMgSTtO-bzAk"
      }
    },
    {
      "cell_type": "code",
      "source": [
        "# pocet pronájmu prepoctenych na 0,3 denně\n",
        "rent_by_day = 0.3\n",
        "days_variable = rent_by_day * date_range\n",
        "# vsechny stanice, které mají v průměru méně jak 0,3 pronájmů kol za den\n",
        "active_stations = dfs1[dfs1[\"start_frequency\"] > days_variable]\n",
        "inactive_stations = dfs1[dfs1[\"start_frequency\"] < days_variable]\n"
      ],
      "metadata": {
        "id": "7PWJZlXpdhAv"
      },
      "execution_count": 367,
      "outputs": []
    },
    {
      "cell_type": "code",
      "source": [
        "print(f\"Počet aktivních stanic je: {active_stations.id.count()} stanic\")\n",
        "print(f\"Počet neaktivních stanic je: {inactive_stations.id.count()} stanic\")"
      ],
      "metadata": {
        "colab": {
          "base_uri": "https://localhost:8080/"
        },
        "id": "JULI2DzKFRXa",
        "outputId": "3ebf3e8b-a1c7-448e-cb9b-52deedfa44dc"
      },
      "execution_count": 368,
      "outputs": [
        {
          "output_type": "stream",
          "name": "stdout",
          "text": [
            "Počet aktivních stanic je: 145 stanic\n",
            "Počet neaktivních stanic je: 53 stanic\n"
          ]
        }
      ]
    },
    {
      "cell_type": "markdown",
      "source": [
        "#### Nejfrekventovanější stanice<a name=\"3.1.2\"></a>"
      ],
      "metadata": {
        "id": "0sU54o25F103"
      }
    },
    {
      "cell_type": "code",
      "source": [
        "# 10 nejfrekventovanějších stanic pro pronájem kola\n",
        "top_rent_stations = active_stations.sort_values(\n",
        "    by= \"start_frequency\", ascending= False).head(10).reset_index()"
      ],
      "metadata": {
        "id": "HWZAyuOAF7El"
      },
      "execution_count": 369,
      "outputs": []
    },
    {
      "cell_type": "code",
      "source": [
        "top_rent_stations"
      ],
      "metadata": {
        "colab": {
          "base_uri": "https://localhost:8080/",
          "height": 363
        },
        "id": "EZJTjemtGT9t",
        "outputId": "c1eb03bd-c75c-4502-8115-00cfe345ce24"
      },
      "execution_count": 370,
      "outputs": [
        {
          "output_type": "execute_result",
          "data": {
            "text/plain": [
              "   index    id                     name  \\\n",
              "0      9   265             Meadows East   \n",
              "1     16   248            Bristo Square   \n",
              "2      1   259         St Andrew Square   \n",
              "3    137  1728  Portobello - Kings Road   \n",
              "4     98  1024           Meadow Place 2   \n",
              "5     17   250            Victoria Quay   \n",
              "6      2   262               Canonmills   \n",
              "7      7   264            Pollock Halls   \n",
              "8     31   289            Castle Street   \n",
              "9     10   183          Waverley Bridge   \n",
              "\n",
              "                                description        lat       lon  distance  \\\n",
              "0                          Melville Terrace  55.939809 -3.182739  0.781461   \n",
              "1            Bristo Square, near Potter Row  55.946004 -3.188665  1.005436   \n",
              "2                         North East corner  55.954749 -3.192774  0.921967   \n",
              "3  Foot of Kings Road next to the promenade  55.957915 -3.118332  4.417536   \n",
              "4                                            55.940238 -3.194640  1.343822   \n",
              "5    Entrance to Scottish Government Office  55.977638 -3.174116  0.000000   \n",
              "6                              near Tesco's  55.962804 -3.196284  2.150241   \n",
              "7                    Pollock Halls Entrance  55.939963 -3.171586  0.000000   \n",
              "8                          Near Rose Street  55.951501 -3.203184  1.328247   \n",
              "9            near the top of the South ramp  55.951344 -3.191421  1.311092   \n",
              "\n",
              "   start_frequency  end_frequency  \n",
              "0          17390.0        15225.0  \n",
              "1          12846.0         7898.0  \n",
              "2          12218.0         8372.0  \n",
              "3          11843.0        16656.0  \n",
              "4          11373.0         8792.0  \n",
              "5          10662.0        15254.0  \n",
              "6           9551.0        11940.0  \n",
              "7           9441.0         6628.0  \n",
              "8           8923.0         7398.0  \n",
              "9           8569.0         8402.0  "
            ],
            "text/html": [
              "\n",
              "  <div id=\"df-6d4d0424-fb68-46ff-89ea-47948552562e\">\n",
              "    <div class=\"colab-df-container\">\n",
              "      <div>\n",
              "<style scoped>\n",
              "    .dataframe tbody tr th:only-of-type {\n",
              "        vertical-align: middle;\n",
              "    }\n",
              "\n",
              "    .dataframe tbody tr th {\n",
              "        vertical-align: top;\n",
              "    }\n",
              "\n",
              "    .dataframe thead th {\n",
              "        text-align: right;\n",
              "    }\n",
              "</style>\n",
              "<table border=\"1\" class=\"dataframe\">\n",
              "  <thead>\n",
              "    <tr style=\"text-align: right;\">\n",
              "      <th></th>\n",
              "      <th>index</th>\n",
              "      <th>id</th>\n",
              "      <th>name</th>\n",
              "      <th>description</th>\n",
              "      <th>lat</th>\n",
              "      <th>lon</th>\n",
              "      <th>distance</th>\n",
              "      <th>start_frequency</th>\n",
              "      <th>end_frequency</th>\n",
              "    </tr>\n",
              "  </thead>\n",
              "  <tbody>\n",
              "    <tr>\n",
              "      <th>0</th>\n",
              "      <td>9</td>\n",
              "      <td>265</td>\n",
              "      <td>Meadows East</td>\n",
              "      <td>Melville Terrace</td>\n",
              "      <td>55.939809</td>\n",
              "      <td>-3.182739</td>\n",
              "      <td>0.781461</td>\n",
              "      <td>17390.0</td>\n",
              "      <td>15225.0</td>\n",
              "    </tr>\n",
              "    <tr>\n",
              "      <th>1</th>\n",
              "      <td>16</td>\n",
              "      <td>248</td>\n",
              "      <td>Bristo Square</td>\n",
              "      <td>Bristo Square, near Potter Row</td>\n",
              "      <td>55.946004</td>\n",
              "      <td>-3.188665</td>\n",
              "      <td>1.005436</td>\n",
              "      <td>12846.0</td>\n",
              "      <td>7898.0</td>\n",
              "    </tr>\n",
              "    <tr>\n",
              "      <th>2</th>\n",
              "      <td>1</td>\n",
              "      <td>259</td>\n",
              "      <td>St Andrew Square</td>\n",
              "      <td>North East corner</td>\n",
              "      <td>55.954749</td>\n",
              "      <td>-3.192774</td>\n",
              "      <td>0.921967</td>\n",
              "      <td>12218.0</td>\n",
              "      <td>8372.0</td>\n",
              "    </tr>\n",
              "    <tr>\n",
              "      <th>3</th>\n",
              "      <td>137</td>\n",
              "      <td>1728</td>\n",
              "      <td>Portobello - Kings Road</td>\n",
              "      <td>Foot of Kings Road next to the promenade</td>\n",
              "      <td>55.957915</td>\n",
              "      <td>-3.118332</td>\n",
              "      <td>4.417536</td>\n",
              "      <td>11843.0</td>\n",
              "      <td>16656.0</td>\n",
              "    </tr>\n",
              "    <tr>\n",
              "      <th>4</th>\n",
              "      <td>98</td>\n",
              "      <td>1024</td>\n",
              "      <td>Meadow Place 2</td>\n",
              "      <td></td>\n",
              "      <td>55.940238</td>\n",
              "      <td>-3.194640</td>\n",
              "      <td>1.343822</td>\n",
              "      <td>11373.0</td>\n",
              "      <td>8792.0</td>\n",
              "    </tr>\n",
              "    <tr>\n",
              "      <th>5</th>\n",
              "      <td>17</td>\n",
              "      <td>250</td>\n",
              "      <td>Victoria Quay</td>\n",
              "      <td>Entrance to Scottish Government Office</td>\n",
              "      <td>55.977638</td>\n",
              "      <td>-3.174116</td>\n",
              "      <td>0.000000</td>\n",
              "      <td>10662.0</td>\n",
              "      <td>15254.0</td>\n",
              "    </tr>\n",
              "    <tr>\n",
              "      <th>6</th>\n",
              "      <td>2</td>\n",
              "      <td>262</td>\n",
              "      <td>Canonmills</td>\n",
              "      <td>near Tesco's</td>\n",
              "      <td>55.962804</td>\n",
              "      <td>-3.196284</td>\n",
              "      <td>2.150241</td>\n",
              "      <td>9551.0</td>\n",
              "      <td>11940.0</td>\n",
              "    </tr>\n",
              "    <tr>\n",
              "      <th>7</th>\n",
              "      <td>7</td>\n",
              "      <td>264</td>\n",
              "      <td>Pollock Halls</td>\n",
              "      <td>Pollock Halls Entrance</td>\n",
              "      <td>55.939963</td>\n",
              "      <td>-3.171586</td>\n",
              "      <td>0.000000</td>\n",
              "      <td>9441.0</td>\n",
              "      <td>6628.0</td>\n",
              "    </tr>\n",
              "    <tr>\n",
              "      <th>8</th>\n",
              "      <td>31</td>\n",
              "      <td>289</td>\n",
              "      <td>Castle Street</td>\n",
              "      <td>Near Rose Street</td>\n",
              "      <td>55.951501</td>\n",
              "      <td>-3.203184</td>\n",
              "      <td>1.328247</td>\n",
              "      <td>8923.0</td>\n",
              "      <td>7398.0</td>\n",
              "    </tr>\n",
              "    <tr>\n",
              "      <th>9</th>\n",
              "      <td>10</td>\n",
              "      <td>183</td>\n",
              "      <td>Waverley Bridge</td>\n",
              "      <td>near the top of the South ramp</td>\n",
              "      <td>55.951344</td>\n",
              "      <td>-3.191421</td>\n",
              "      <td>1.311092</td>\n",
              "      <td>8569.0</td>\n",
              "      <td>8402.0</td>\n",
              "    </tr>\n",
              "  </tbody>\n",
              "</table>\n",
              "</div>\n",
              "      <button class=\"colab-df-convert\" onclick=\"convertToInteractive('df-6d4d0424-fb68-46ff-89ea-47948552562e')\"\n",
              "              title=\"Convert this dataframe to an interactive table.\"\n",
              "              style=\"display:none;\">\n",
              "        \n",
              "  <svg xmlns=\"http://www.w3.org/2000/svg\" height=\"24px\"viewBox=\"0 0 24 24\"\n",
              "       width=\"24px\">\n",
              "    <path d=\"M0 0h24v24H0V0z\" fill=\"none\"/>\n",
              "    <path d=\"M18.56 5.44l.94 2.06.94-2.06 2.06-.94-2.06-.94-.94-2.06-.94 2.06-2.06.94zm-11 1L8.5 8.5l.94-2.06 2.06-.94-2.06-.94L8.5 2.5l-.94 2.06-2.06.94zm10 10l.94 2.06.94-2.06 2.06-.94-2.06-.94-.94-2.06-.94 2.06-2.06.94z\"/><path d=\"M17.41 7.96l-1.37-1.37c-.4-.4-.92-.59-1.43-.59-.52 0-1.04.2-1.43.59L10.3 9.45l-7.72 7.72c-.78.78-.78 2.05 0 2.83L4 21.41c.39.39.9.59 1.41.59.51 0 1.02-.2 1.41-.59l7.78-7.78 2.81-2.81c.8-.78.8-2.07 0-2.86zM5.41 20L4 18.59l7.72-7.72 1.47 1.35L5.41 20z\"/>\n",
              "  </svg>\n",
              "      </button>\n",
              "      \n",
              "  <style>\n",
              "    .colab-df-container {\n",
              "      display:flex;\n",
              "      flex-wrap:wrap;\n",
              "      gap: 12px;\n",
              "    }\n",
              "\n",
              "    .colab-df-convert {\n",
              "      background-color: #E8F0FE;\n",
              "      border: none;\n",
              "      border-radius: 50%;\n",
              "      cursor: pointer;\n",
              "      display: none;\n",
              "      fill: #1967D2;\n",
              "      height: 32px;\n",
              "      padding: 0 0 0 0;\n",
              "      width: 32px;\n",
              "    }\n",
              "\n",
              "    .colab-df-convert:hover {\n",
              "      background-color: #E2EBFA;\n",
              "      box-shadow: 0px 1px 2px rgba(60, 64, 67, 0.3), 0px 1px 3px 1px rgba(60, 64, 67, 0.15);\n",
              "      fill: #174EA6;\n",
              "    }\n",
              "\n",
              "    [theme=dark] .colab-df-convert {\n",
              "      background-color: #3B4455;\n",
              "      fill: #D2E3FC;\n",
              "    }\n",
              "\n",
              "    [theme=dark] .colab-df-convert:hover {\n",
              "      background-color: #434B5C;\n",
              "      box-shadow: 0px 1px 3px 1px rgba(0, 0, 0, 0.15);\n",
              "      filter: drop-shadow(0px 1px 2px rgba(0, 0, 0, 0.3));\n",
              "      fill: #FFFFFF;\n",
              "    }\n",
              "  </style>\n",
              "\n",
              "      <script>\n",
              "        const buttonEl =\n",
              "          document.querySelector('#df-6d4d0424-fb68-46ff-89ea-47948552562e button.colab-df-convert');\n",
              "        buttonEl.style.display =\n",
              "          google.colab.kernel.accessAllowed ? 'block' : 'none';\n",
              "\n",
              "        async function convertToInteractive(key) {\n",
              "          const element = document.querySelector('#df-6d4d0424-fb68-46ff-89ea-47948552562e');\n",
              "          const dataTable =\n",
              "            await google.colab.kernel.invokeFunction('convertToInteractive',\n",
              "                                                     [key], {});\n",
              "          if (!dataTable) return;\n",
              "\n",
              "          const docLinkHtml = 'Like what you see? Visit the ' +\n",
              "            '<a target=\"_blank\" href=https://colab.research.google.com/notebooks/data_table.ipynb>data table notebook</a>'\n",
              "            + ' to learn more about interactive tables.';\n",
              "          element.innerHTML = '';\n",
              "          dataTable['output_type'] = 'display_data';\n",
              "          await google.colab.output.renderOutput(dataTable, element);\n",
              "          const docLink = document.createElement('div');\n",
              "          docLink.innerHTML = docLinkHtml;\n",
              "          element.appendChild(docLink);\n",
              "        }\n",
              "      </script>\n",
              "    </div>\n",
              "  </div>\n",
              "  "
            ]
          },
          "metadata": {},
          "execution_count": 370
        }
      ]
    },
    {
      "cell_type": "code",
      "source": [
        "# 10 nejfrekventovanějších stanic pro pronájem kola\n",
        "top_return_stations = active_stations.sort_values(\n",
        "    by= \"end_frequency\", ascending= False).head(10).reset_index()"
      ],
      "metadata": {
        "id": "36hY4F7qHLtj"
      },
      "execution_count": 371,
      "outputs": []
    },
    {
      "cell_type": "code",
      "source": [
        "top_return_stations"
      ],
      "metadata": {
        "colab": {
          "base_uri": "https://localhost:8080/",
          "height": 363
        },
        "id": "cZ6lvp7DHV5u",
        "outputId": "181e8afe-9ada-4d67-abdb-1ead54ee03a5"
      },
      "execution_count": 372,
      "outputs": [
        {
          "output_type": "execute_result",
          "data": {
            "text/plain": [
              "   index    id                     name  \\\n",
              "0    137  1728  Portobello - Kings Road   \n",
              "1     17   250            Victoria Quay   \n",
              "2      9   265             Meadows East   \n",
              "3      2   262               Canonmills   \n",
              "4    180  1824              Duke Street   \n",
              "5     44   358               Leith Walk   \n",
              "6     98  1024           Meadow Place 2   \n",
              "7     10   183          Waverley Bridge   \n",
              "8      1   259         St Andrew Square   \n",
              "9     22   258              Stockbridge   \n",
              "\n",
              "                                description        lat       lon  distance  \\\n",
              "0  Foot of Kings Road next to the promenade  55.957915 -3.118332  4.417536   \n",
              "1    Entrance to Scottish Government Office  55.977638 -3.174116  0.000000   \n",
              "2                          Melville Terrace  55.939809 -3.182739  0.781461   \n",
              "3                              near Tesco's  55.962804 -3.196284  2.150241   \n",
              "4                 Junction with Easter Road  55.969012 -3.167395  2.785309   \n",
              "5        Leith Walk opposite Dalmeny Street  55.965040 -3.176686  1.777731   \n",
              "6                                            55.940238 -3.194640  1.343822   \n",
              "7            near the top of the South ramp  55.951344 -3.191421  1.311092   \n",
              "8                         North East corner  55.954749 -3.192774  0.921967   \n",
              "9          Hamilton Place by Dean Bank Lane  55.958566 -3.208070  1.042496   \n",
              "\n",
              "   start_frequency  end_frequency  \n",
              "0          11843.0        16656.0  \n",
              "1          10662.0        15254.0  \n",
              "2          17390.0        15225.0  \n",
              "3           9551.0        11940.0  \n",
              "4           7288.0        11264.0  \n",
              "5           7964.0        11052.0  \n",
              "6          11373.0         8792.0  \n",
              "7           8569.0         8402.0  \n",
              "8          12218.0         8372.0  \n",
              "9           6219.0         8212.0  "
            ],
            "text/html": [
              "\n",
              "  <div id=\"df-ea92ed15-39fe-4596-aa3c-6261969f17a0\">\n",
              "    <div class=\"colab-df-container\">\n",
              "      <div>\n",
              "<style scoped>\n",
              "    .dataframe tbody tr th:only-of-type {\n",
              "        vertical-align: middle;\n",
              "    }\n",
              "\n",
              "    .dataframe tbody tr th {\n",
              "        vertical-align: top;\n",
              "    }\n",
              "\n",
              "    .dataframe thead th {\n",
              "        text-align: right;\n",
              "    }\n",
              "</style>\n",
              "<table border=\"1\" class=\"dataframe\">\n",
              "  <thead>\n",
              "    <tr style=\"text-align: right;\">\n",
              "      <th></th>\n",
              "      <th>index</th>\n",
              "      <th>id</th>\n",
              "      <th>name</th>\n",
              "      <th>description</th>\n",
              "      <th>lat</th>\n",
              "      <th>lon</th>\n",
              "      <th>distance</th>\n",
              "      <th>start_frequency</th>\n",
              "      <th>end_frequency</th>\n",
              "    </tr>\n",
              "  </thead>\n",
              "  <tbody>\n",
              "    <tr>\n",
              "      <th>0</th>\n",
              "      <td>137</td>\n",
              "      <td>1728</td>\n",
              "      <td>Portobello - Kings Road</td>\n",
              "      <td>Foot of Kings Road next to the promenade</td>\n",
              "      <td>55.957915</td>\n",
              "      <td>-3.118332</td>\n",
              "      <td>4.417536</td>\n",
              "      <td>11843.0</td>\n",
              "      <td>16656.0</td>\n",
              "    </tr>\n",
              "    <tr>\n",
              "      <th>1</th>\n",
              "      <td>17</td>\n",
              "      <td>250</td>\n",
              "      <td>Victoria Quay</td>\n",
              "      <td>Entrance to Scottish Government Office</td>\n",
              "      <td>55.977638</td>\n",
              "      <td>-3.174116</td>\n",
              "      <td>0.000000</td>\n",
              "      <td>10662.0</td>\n",
              "      <td>15254.0</td>\n",
              "    </tr>\n",
              "    <tr>\n",
              "      <th>2</th>\n",
              "      <td>9</td>\n",
              "      <td>265</td>\n",
              "      <td>Meadows East</td>\n",
              "      <td>Melville Terrace</td>\n",
              "      <td>55.939809</td>\n",
              "      <td>-3.182739</td>\n",
              "      <td>0.781461</td>\n",
              "      <td>17390.0</td>\n",
              "      <td>15225.0</td>\n",
              "    </tr>\n",
              "    <tr>\n",
              "      <th>3</th>\n",
              "      <td>2</td>\n",
              "      <td>262</td>\n",
              "      <td>Canonmills</td>\n",
              "      <td>near Tesco's</td>\n",
              "      <td>55.962804</td>\n",
              "      <td>-3.196284</td>\n",
              "      <td>2.150241</td>\n",
              "      <td>9551.0</td>\n",
              "      <td>11940.0</td>\n",
              "    </tr>\n",
              "    <tr>\n",
              "      <th>4</th>\n",
              "      <td>180</td>\n",
              "      <td>1824</td>\n",
              "      <td>Duke Street</td>\n",
              "      <td>Junction with Easter Road</td>\n",
              "      <td>55.969012</td>\n",
              "      <td>-3.167395</td>\n",
              "      <td>2.785309</td>\n",
              "      <td>7288.0</td>\n",
              "      <td>11264.0</td>\n",
              "    </tr>\n",
              "    <tr>\n",
              "      <th>5</th>\n",
              "      <td>44</td>\n",
              "      <td>358</td>\n",
              "      <td>Leith Walk</td>\n",
              "      <td>Leith Walk opposite Dalmeny Street</td>\n",
              "      <td>55.965040</td>\n",
              "      <td>-3.176686</td>\n",
              "      <td>1.777731</td>\n",
              "      <td>7964.0</td>\n",
              "      <td>11052.0</td>\n",
              "    </tr>\n",
              "    <tr>\n",
              "      <th>6</th>\n",
              "      <td>98</td>\n",
              "      <td>1024</td>\n",
              "      <td>Meadow Place 2</td>\n",
              "      <td></td>\n",
              "      <td>55.940238</td>\n",
              "      <td>-3.194640</td>\n",
              "      <td>1.343822</td>\n",
              "      <td>11373.0</td>\n",
              "      <td>8792.0</td>\n",
              "    </tr>\n",
              "    <tr>\n",
              "      <th>7</th>\n",
              "      <td>10</td>\n",
              "      <td>183</td>\n",
              "      <td>Waverley Bridge</td>\n",
              "      <td>near the top of the South ramp</td>\n",
              "      <td>55.951344</td>\n",
              "      <td>-3.191421</td>\n",
              "      <td>1.311092</td>\n",
              "      <td>8569.0</td>\n",
              "      <td>8402.0</td>\n",
              "    </tr>\n",
              "    <tr>\n",
              "      <th>8</th>\n",
              "      <td>1</td>\n",
              "      <td>259</td>\n",
              "      <td>St Andrew Square</td>\n",
              "      <td>North East corner</td>\n",
              "      <td>55.954749</td>\n",
              "      <td>-3.192774</td>\n",
              "      <td>0.921967</td>\n",
              "      <td>12218.0</td>\n",
              "      <td>8372.0</td>\n",
              "    </tr>\n",
              "    <tr>\n",
              "      <th>9</th>\n",
              "      <td>22</td>\n",
              "      <td>258</td>\n",
              "      <td>Stockbridge</td>\n",
              "      <td>Hamilton Place by Dean Bank Lane</td>\n",
              "      <td>55.958566</td>\n",
              "      <td>-3.208070</td>\n",
              "      <td>1.042496</td>\n",
              "      <td>6219.0</td>\n",
              "      <td>8212.0</td>\n",
              "    </tr>\n",
              "  </tbody>\n",
              "</table>\n",
              "</div>\n",
              "      <button class=\"colab-df-convert\" onclick=\"convertToInteractive('df-ea92ed15-39fe-4596-aa3c-6261969f17a0')\"\n",
              "              title=\"Convert this dataframe to an interactive table.\"\n",
              "              style=\"display:none;\">\n",
              "        \n",
              "  <svg xmlns=\"http://www.w3.org/2000/svg\" height=\"24px\"viewBox=\"0 0 24 24\"\n",
              "       width=\"24px\">\n",
              "    <path d=\"M0 0h24v24H0V0z\" fill=\"none\"/>\n",
              "    <path d=\"M18.56 5.44l.94 2.06.94-2.06 2.06-.94-2.06-.94-.94-2.06-.94 2.06-2.06.94zm-11 1L8.5 8.5l.94-2.06 2.06-.94-2.06-.94L8.5 2.5l-.94 2.06-2.06.94zm10 10l.94 2.06.94-2.06 2.06-.94-2.06-.94-.94-2.06-.94 2.06-2.06.94z\"/><path d=\"M17.41 7.96l-1.37-1.37c-.4-.4-.92-.59-1.43-.59-.52 0-1.04.2-1.43.59L10.3 9.45l-7.72 7.72c-.78.78-.78 2.05 0 2.83L4 21.41c.39.39.9.59 1.41.59.51 0 1.02-.2 1.41-.59l7.78-7.78 2.81-2.81c.8-.78.8-2.07 0-2.86zM5.41 20L4 18.59l7.72-7.72 1.47 1.35L5.41 20z\"/>\n",
              "  </svg>\n",
              "      </button>\n",
              "      \n",
              "  <style>\n",
              "    .colab-df-container {\n",
              "      display:flex;\n",
              "      flex-wrap:wrap;\n",
              "      gap: 12px;\n",
              "    }\n",
              "\n",
              "    .colab-df-convert {\n",
              "      background-color: #E8F0FE;\n",
              "      border: none;\n",
              "      border-radius: 50%;\n",
              "      cursor: pointer;\n",
              "      display: none;\n",
              "      fill: #1967D2;\n",
              "      height: 32px;\n",
              "      padding: 0 0 0 0;\n",
              "      width: 32px;\n",
              "    }\n",
              "\n",
              "    .colab-df-convert:hover {\n",
              "      background-color: #E2EBFA;\n",
              "      box-shadow: 0px 1px 2px rgba(60, 64, 67, 0.3), 0px 1px 3px 1px rgba(60, 64, 67, 0.15);\n",
              "      fill: #174EA6;\n",
              "    }\n",
              "\n",
              "    [theme=dark] .colab-df-convert {\n",
              "      background-color: #3B4455;\n",
              "      fill: #D2E3FC;\n",
              "    }\n",
              "\n",
              "    [theme=dark] .colab-df-convert:hover {\n",
              "      background-color: #434B5C;\n",
              "      box-shadow: 0px 1px 3px 1px rgba(0, 0, 0, 0.15);\n",
              "      filter: drop-shadow(0px 1px 2px rgba(0, 0, 0, 0.3));\n",
              "      fill: #FFFFFF;\n",
              "    }\n",
              "  </style>\n",
              "\n",
              "      <script>\n",
              "        const buttonEl =\n",
              "          document.querySelector('#df-ea92ed15-39fe-4596-aa3c-6261969f17a0 button.colab-df-convert');\n",
              "        buttonEl.style.display =\n",
              "          google.colab.kernel.accessAllowed ? 'block' : 'none';\n",
              "\n",
              "        async function convertToInteractive(key) {\n",
              "          const element = document.querySelector('#df-ea92ed15-39fe-4596-aa3c-6261969f17a0');\n",
              "          const dataTable =\n",
              "            await google.colab.kernel.invokeFunction('convertToInteractive',\n",
              "                                                     [key], {});\n",
              "          if (!dataTable) return;\n",
              "\n",
              "          const docLinkHtml = 'Like what you see? Visit the ' +\n",
              "            '<a target=\"_blank\" href=https://colab.research.google.com/notebooks/data_table.ipynb>data table notebook</a>'\n",
              "            + ' to learn more about interactive tables.';\n",
              "          element.innerHTML = '';\n",
              "          dataTable['output_type'] = 'display_data';\n",
              "          await google.colab.output.renderOutput(dataTable, element);\n",
              "          const docLink = document.createElement('div');\n",
              "          docLink.innerHTML = docLinkHtml;\n",
              "          element.appendChild(docLink);\n",
              "        }\n",
              "      </script>\n",
              "    </div>\n",
              "  </div>\n",
              "  "
            ]
          },
          "metadata": {},
          "execution_count": 372
        }
      ]
    },
    {
      "cell_type": "markdown",
      "source": [
        "#### Dostupnost kol na stanicích<a name=\"3.1.2\"></a>"
      ],
      "metadata": {
        "id": "AgiwQj8xHwxI"
      }
    },
    {
      "cell_type": "markdown",
      "source": [
        "Pro výpočet hromadění a nedostatku kol na stanicích si definujeme, že nás zajímají pouze stanice, kterým chybí nebo je přebytek kol průměrně větší jak **3 kola na den.**"
      ],
      "metadata": {
        "id": "ooWDzJpEJcaT"
      }
    },
    {
      "cell_type": "code",
      "source": [
        "# proměnná počet kol za den\n",
        "rent_diff = 3"
      ],
      "metadata": {
        "id": "6WHfrIFUKATP"
      },
      "execution_count": 373,
      "outputs": []
    },
    {
      "cell_type": "code",
      "source": [
        "df_s_new = dfs1.copy()"
      ],
      "metadata": {
        "id": "K7COoUE0PeWc"
      },
      "execution_count": 374,
      "outputs": []
    },
    {
      "cell_type": "code",
      "source": [
        "# výpočet rozdílu mezi počtem pronájmů a vrácení kol přepočítaných na den\n",
        "df_s_new[\"bikes_on_stations\"] = (\n",
        "    df_s_new[\"start_frequency\"] - df_s_new[\"end_frequency\"]) / date_range"
      ],
      "metadata": {
        "id": "U-7xkY56H1fR"
      },
      "execution_count": 375,
      "outputs": []
    },
    {
      "cell_type": "code",
      "source": [
        "# graf nadbytku kol\n",
        "plt.rcParams['font.size'] = '12'\n",
        "fig, ax = plt.subplots(figsize=(10,8))\n",
        "sns.set_style('whitegrid')\n",
        "sns.scatterplot(data=df_s_new, x='start_frequency', y='end_frequency', ax=ax, s=100)\n",
        "plt.title('Hromadění a nedostatek kol', fontsize=18)\n",
        "plt.xlabel('Station start frequency', fontsize=14)\n",
        "plt.ylabel('Station end frequency', fontsize=14)\n",
        "# vykreslení identity line:\n",
        "x = df_s_new['start_frequency']\n",
        "plt.plot(x, x, color='k', linestyle='--', linewidth=2)\n",
        "\n",
        "# Anotace bodů s největším rozdílem:\n",
        "masks = [(df_s_new['bikes_on_stations'] > rent_diff), (df_s_new['bikes_on_stations'] < - rent_diff)]\n",
        "for i in range(2):\n",
        "  x = df_s_new['start_frequency'][masks[i]]\n",
        "  y = df_s_new['end_frequency'][masks[i]]\n",
        "  names = df_s_new['name'][masks[i]]\n",
        "  if i == 0:\n",
        "    texts = [plt.text(x1, y1, name, ha='right', va='bottom') for x1, y1, name in zip(x, y, names)]\n",
        "  elif i == 1:\n",
        "    texts = [plt.text(x1, y1, name, ha='left', va='bottom') for x1, y1, name in zip(x, y, names)]\n",
        "plt.text(1000, 11000, 'Přebytek', fontsize=14, bbox=dict(facecolor='red', alpha=0.3))\n",
        "plt.text(9000, 2000, 'Nedostatek', fontsize=14, bbox=dict(facecolor='red', alpha=0.3 ))\n",
        "plt.show()"
      ],
      "metadata": {
        "colab": {
          "base_uri": "https://localhost:8080/",
          "height": 524
        },
        "id": "AA5vOdbdrGYZ",
        "outputId": "239f3d2a-c83c-4284-a9b2-62ed830b62fc"
      },
      "execution_count": 376,
      "outputs": [
        {
          "output_type": "display_data",
          "data": {
            "text/plain": [
              "<Figure size 720x576 with 1 Axes>"
            ],
            "image/png": "[encoded data removed]"
          },
          "metadata": {
            "needs_background": "light"
          }
        }
      ]
    },
    {
      "cell_type": "code",
      "source": [
        "# nedostatek kol\n",
        "not_enough = df_s_new[df_s_new[\"bikes_on_stations\"] >= rent_diff].sort_values(by=\"bikes_on_stations\")"
      ],
      "metadata": {
        "id": "PT484Cq0ISH7"
      },
      "execution_count": 377,
      "outputs": []
    },
    {
      "cell_type": "code",
      "source": [
        "# hromadění kol\n",
        "too_much = df_s_new[df_s_new[\"bikes_on_stations\"] <= (- rent_diff)].sort_values(by=\"bikes_on_stations\")"
      ],
      "metadata": {
        "id": "MDLIo0HyJF6N"
      },
      "execution_count": 378,
      "outputs": []
    },
    {
      "cell_type": "code",
      "source": [
        "too_much"
      ],
      "metadata": {
        "colab": {
          "base_uri": "https://localhost:8080/",
          "height": 253
        },
        "id": "cBEW32kwQ-Ep",
        "outputId": "532b48da-a2a1-40ad-b8cf-e4e855ea0e21"
      },
      "execution_count": 379,
      "outputs": [
        {
          "output_type": "execute_result",
          "data": {
            "text/plain": [
              "       id                     name                               description  \\\n",
              "137  1728  Portobello - Kings Road  Foot of Kings Road next to the promenade   \n",
              "17    250            Victoria Quay    Entrance to Scottish Government Office   \n",
              "180  1824              Duke Street                 Junction with Easter Road   \n",
              "44    358               Leith Walk        Leith Walk opposite Dalmeny Street   \n",
              "\n",
              "           lat       lon  distance  start_frequency  end_frequency  \\\n",
              "137  55.957915 -3.118332  4.417536          11843.0        16656.0   \n",
              "17   55.977638 -3.174116  0.000000          10662.0        15254.0   \n",
              "180  55.969012 -3.167395  2.785309           7288.0        11264.0   \n",
              "44   55.965040 -3.176686  1.777731           7964.0        11052.0   \n",
              "\n",
              "     bikes_on_stations  \n",
              "137          -4.723258  \n",
              "17           -4.506379  \n",
              "180          -3.901865  \n",
              "44           -3.030422  "
            ],
            "text/html": [
              "\n",
              "  <div id=\"df-fbe8ca16-e5dd-4fe1-9cb9-f03df4323d8d\">\n",
              "    <div class=\"colab-df-container\">\n",
              "      <div>\n",
              "<style scoped>\n",
              "    .dataframe tbody tr th:only-of-type {\n",
              "        vertical-align: middle;\n",
              "    }\n",
              "\n",
              "    .dataframe tbody tr th {\n",
              "        vertical-align: top;\n",
              "    }\n",
              "\n",
              "    .dataframe thead th {\n",
              "        text-align: right;\n",
              "    }\n",
              "</style>\n",
              "<table border=\"1\" class=\"dataframe\">\n",
              "  <thead>\n",
              "    <tr style=\"text-align: right;\">\n",
              "      <th></th>\n",
              "      <th>id</th>\n",
              "      <th>name</th>\n",
              "      <th>description</th>\n",
              "      <th>lat</th>\n",
              "      <th>lon</th>\n",
              "      <th>distance</th>\n",
              "      <th>start_frequency</th>\n",
              "      <th>end_frequency</th>\n",
              "      <th>bikes_on_stations</th>\n",
              "    </tr>\n",
              "  </thead>\n",
              "  <tbody>\n",
              "    <tr>\n",
              "      <th>137</th>\n",
              "      <td>1728</td>\n",
              "      <td>Portobello - Kings Road</td>\n",
              "      <td>Foot of Kings Road next to the promenade</td>\n",
              "      <td>55.957915</td>\n",
              "      <td>-3.118332</td>\n",
              "      <td>4.417536</td>\n",
              "      <td>11843.0</td>\n",
              "      <td>16656.0</td>\n",
              "      <td>-4.723258</td>\n",
              "    </tr>\n",
              "    <tr>\n",
              "      <th>17</th>\n",
              "      <td>250</td>\n",
              "      <td>Victoria Quay</td>\n",
              "      <td>Entrance to Scottish Government Office</td>\n",
              "      <td>55.977638</td>\n",
              "      <td>-3.174116</td>\n",
              "      <td>0.000000</td>\n",
              "      <td>10662.0</td>\n",
              "      <td>15254.0</td>\n",
              "      <td>-4.506379</td>\n",
              "    </tr>\n",
              "    <tr>\n",
              "      <th>180</th>\n",
              "      <td>1824</td>\n",
              "      <td>Duke Street</td>\n",
              "      <td>Junction with Easter Road</td>\n",
              "      <td>55.969012</td>\n",
              "      <td>-3.167395</td>\n",
              "      <td>2.785309</td>\n",
              "      <td>7288.0</td>\n",
              "      <td>11264.0</td>\n",
              "      <td>-3.901865</td>\n",
              "    </tr>\n",
              "    <tr>\n",
              "      <th>44</th>\n",
              "      <td>358</td>\n",
              "      <td>Leith Walk</td>\n",
              "      <td>Leith Walk opposite Dalmeny Street</td>\n",
              "      <td>55.965040</td>\n",
              "      <td>-3.176686</td>\n",
              "      <td>1.777731</td>\n",
              "      <td>7964.0</td>\n",
              "      <td>11052.0</td>\n",
              "      <td>-3.030422</td>\n",
              "    </tr>\n",
              "  </tbody>\n",
              "</table>\n",
              "</div>\n",
              "      <button class=\"colab-df-convert\" onclick=\"convertToInteractive('df-fbe8ca16-e5dd-4fe1-9cb9-f03df4323d8d')\"\n",
              "              title=\"Convert this dataframe to an interactive table.\"\n",
              "              style=\"display:none;\">\n",
              "        \n",
              "  <svg xmlns=\"http://www.w3.org/2000/svg\" height=\"24px\"viewBox=\"0 0 24 24\"\n",
              "       width=\"24px\">\n",
              "    <path d=\"M0 0h24v24H0V0z\" fill=\"none\"/>\n",
              "    <path d=\"M18.56 5.44l.94 2.06.94-2.06 2.06-.94-2.06-.94-.94-2.06-.94 2.06-2.06.94zm-11 1L8.5 8.5l.94-2.06 2.06-.94-2.06-.94L8.5 2.5l-.94 2.06-2.06.94zm10 10l.94 2.06.94-2.06 2.06-.94-2.06-.94-.94-2.06-.94 2.06-2.06.94z\"/><path d=\"M17.41 7.96l-1.37-1.37c-.4-.4-.92-.59-1.43-.59-.52 0-1.04.2-1.43.59L10.3 9.45l-7.72 7.72c-.78.78-.78 2.05 0 2.83L4 21.41c.39.39.9.59 1.41.59.51 0 1.02-.2 1.41-.59l7.78-7.78 2.81-2.81c.8-.78.8-2.07 0-2.86zM5.41 20L4 18.59l7.72-7.72 1.47 1.35L5.41 20z\"/>\n",
              "  </svg>\n",
              "      </button>\n",
              "      \n",
              "  <style>\n",
              "    .colab-df-container {\n",
              "      display:flex;\n",
              "      flex-wrap:wrap;\n",
              "      gap: 12px;\n",
              "    }\n",
              "\n",
              "    .colab-df-convert {\n",
              "      background-color: #E8F0FE;\n",
              "      border: none;\n",
              "      border-radius: 50%;\n",
              "      cursor: pointer;\n",
              "      display: none;\n",
              "      fill: #1967D2;\n",
              "      height: 32px;\n",
              "      padding: 0 0 0 0;\n",
              "      width: 32px;\n",
              "    }\n",
              "\n",
              "    .colab-df-convert:hover {\n",
              "      background-color: #E2EBFA;\n",
              "      box-shadow: 0px 1px 2px rgba(60, 64, 67, 0.3), 0px 1px 3px 1px rgba(60, 64, 67, 0.15);\n",
              "      fill: #174EA6;\n",
              "    }\n",
              "\n",
              "    [theme=dark] .colab-df-convert {\n",
              "      background-color: #3B4455;\n",
              "      fill: #D2E3FC;\n",
              "    }\n",
              "\n",
              "    [theme=dark] .colab-df-convert:hover {\n",
              "      background-color: #434B5C;\n",
              "      box-shadow: 0px 1px 3px 1px rgba(0, 0, 0, 0.15);\n",
              "      filter: drop-shadow(0px 1px 2px rgba(0, 0, 0, 0.3));\n",
              "      fill: #FFFFFF;\n",
              "    }\n",
              "  </style>\n",
              "\n",
              "      <script>\n",
              "        const buttonEl =\n",
              "          document.querySelector('#df-fbe8ca16-e5dd-4fe1-9cb9-f03df4323d8d button.colab-df-convert');\n",
              "        buttonEl.style.display =\n",
              "          google.colab.kernel.accessAllowed ? 'block' : 'none';\n",
              "\n",
              "        async function convertToInteractive(key) {\n",
              "          const element = document.querySelector('#df-fbe8ca16-e5dd-4fe1-9cb9-f03df4323d8d');\n",
              "          const dataTable =\n",
              "            await google.colab.kernel.invokeFunction('convertToInteractive',\n",
              "                                                     [key], {});\n",
              "          if (!dataTable) return;\n",
              "\n",
              "          const docLinkHtml = 'Like what you see? Visit the ' +\n",
              "            '<a target=\"_blank\" href=https://colab.research.google.com/notebooks/data_table.ipynb>data table notebook</a>'\n",
              "            + ' to learn more about interactive tables.';\n",
              "          element.innerHTML = '';\n",
              "          dataTable['output_type'] = 'display_data';\n",
              "          await google.colab.output.renderOutput(dataTable, element);\n",
              "          const docLink = document.createElement('div');\n",
              "          docLink.innerHTML = docLinkHtml;\n",
              "          element.appendChild(docLink);\n",
              "        }\n",
              "      </script>\n",
              "    </div>\n",
              "  </div>\n",
              "  "
            ]
          },
          "metadata": {},
          "execution_count": 379
        }
      ]
    },
    {
      "cell_type": "code",
      "source": [
        "not_enough"
      ],
      "metadata": {
        "colab": {
          "base_uri": "https://localhost:8080/",
          "height": 175
        },
        "id": "-sPRFlw9OgdW",
        "outputId": "4eeec86f-9186-49d8-a8b2-8d6fdedb33fc"
      },
      "execution_count": 380,
      "outputs": [
        {
          "output_type": "execute_result",
          "data": {
            "text/plain": [
              "     id              name                       description        lat  \\\n",
              "11  189     City Chambers          City Chambers Quadrangle  55.950109   \n",
              "0   247  Charlotte Square  North Corner of Charlotte Square  55.952335   \n",
              "1   259  St Andrew Square                 North East corner  55.954749   \n",
              "16  248     Bristo Square    Bristo Square, near Potter Row  55.946004   \n",
              "\n",
              "         lon  distance  start_frequency  end_frequency  bikes_on_stations  \n",
              "11 -3.190258  0.000000           5836.0         2723.0           3.054956  \n",
              "0  -3.207101  0.937974           8134.0         4980.0           3.095191  \n",
              "1  -3.192774  0.921967          12218.0         8372.0           3.774289  \n",
              "16 -3.188665  1.005436          12846.0         7898.0           4.855741  "
            ],
            "text/html": [
              "\n",
              "  <div id=\"df-6f1cabe4-9f8a-429f-a8bd-bd5b001a9a84\">\n",
              "    <div class=\"colab-df-container\">\n",
              "      <div>\n",
              "<style scoped>\n",
              "    .dataframe tbody tr th:only-of-type {\n",
              "        vertical-align: middle;\n",
              "    }\n",
              "\n",
              "    .dataframe tbody tr th {\n",
              "        vertical-align: top;\n",
              "    }\n",
              "\n",
              "    .dataframe thead th {\n",
              "        text-align: right;\n",
              "    }\n",
              "</style>\n",
              "<table border=\"1\" class=\"dataframe\">\n",
              "  <thead>\n",
              "    <tr style=\"text-align: right;\">\n",
              "      <th></th>\n",
              "      <th>id</th>\n",
              "      <th>name</th>\n",
              "      <th>description</th>\n",
              "      <th>lat</th>\n",
              "      <th>lon</th>\n",
              "      <th>distance</th>\n",
              "      <th>start_frequency</th>\n",
              "      <th>end_frequency</th>\n",
              "      <th>bikes_on_stations</th>\n",
              "    </tr>\n",
              "  </thead>\n",
              "  <tbody>\n",
              "    <tr>\n",
              "      <th>11</th>\n",
              "      <td>189</td>\n",
              "      <td>City Chambers</td>\n",
              "      <td>City Chambers Quadrangle</td>\n",
              "      <td>55.950109</td>\n",
              "      <td>-3.190258</td>\n",
              "      <td>0.000000</td>\n",
              "      <td>5836.0</td>\n",
              "      <td>2723.0</td>\n",
              "      <td>3.054956</td>\n",
              "    </tr>\n",
              "    <tr>\n",
              "      <th>0</th>\n",
              "      <td>247</td>\n",
              "      <td>Charlotte Square</td>\n",
              "      <td>North Corner of Charlotte Square</td>\n",
              "      <td>55.952335</td>\n",
              "      <td>-3.207101</td>\n",
              "      <td>0.937974</td>\n",
              "      <td>8134.0</td>\n",
              "      <td>4980.0</td>\n",
              "      <td>3.095191</td>\n",
              "    </tr>\n",
              "    <tr>\n",
              "      <th>1</th>\n",
              "      <td>259</td>\n",
              "      <td>St Andrew Square</td>\n",
              "      <td>North East corner</td>\n",
              "      <td>55.954749</td>\n",
              "      <td>-3.192774</td>\n",
              "      <td>0.921967</td>\n",
              "      <td>12218.0</td>\n",
              "      <td>8372.0</td>\n",
              "      <td>3.774289</td>\n",
              "    </tr>\n",
              "    <tr>\n",
              "      <th>16</th>\n",
              "      <td>248</td>\n",
              "      <td>Bristo Square</td>\n",
              "      <td>Bristo Square, near Potter Row</td>\n",
              "      <td>55.946004</td>\n",
              "      <td>-3.188665</td>\n",
              "      <td>1.005436</td>\n",
              "      <td>12846.0</td>\n",
              "      <td>7898.0</td>\n",
              "      <td>4.855741</td>\n",
              "    </tr>\n",
              "  </tbody>\n",
              "</table>\n",
              "</div>\n",
              "      <button class=\"colab-df-convert\" onclick=\"convertToInteractive('df-6f1cabe4-9f8a-429f-a8bd-bd5b001a9a84')\"\n",
              "              title=\"Convert this dataframe to an interactive table.\"\n",
              "              style=\"display:none;\">\n",
              "        \n",
              "  <svg xmlns=\"http://www.w3.org/2000/svg\" height=\"24px\"viewBox=\"0 0 24 24\"\n",
              "       width=\"24px\">\n",
              "    <path d=\"M0 0h24v24H0V0z\" fill=\"none\"/>\n",
              "    <path d=\"M18.56 5.44l.94 2.06.94-2.06 2.06-.94-2.06-.94-.94-2.06-.94 2.06-2.06.94zm-11 1L8.5 8.5l.94-2.06 2.06-.94-2.06-.94L8.5 2.5l-.94 2.06-2.06.94zm10 10l.94 2.06.94-2.06 2.06-.94-2.06-.94-.94-2.06-.94 2.06-2.06.94z\"/><path d=\"M17.41 7.96l-1.37-1.37c-.4-.4-.92-.59-1.43-.59-.52 0-1.04.2-1.43.59L10.3 9.45l-7.72 7.72c-.78.78-.78 2.05 0 2.83L4 21.41c.39.39.9.59 1.41.59.51 0 1.02-.2 1.41-.59l7.78-7.78 2.81-2.81c.8-.78.8-2.07 0-2.86zM5.41 20L4 18.59l7.72-7.72 1.47 1.35L5.41 20z\"/>\n",
              "  </svg>\n",
              "      </button>\n",
              "      \n",
              "  <style>\n",
              "    .colab-df-container {\n",
              "      display:flex;\n",
              "      flex-wrap:wrap;\n",
              "      gap: 12px;\n",
              "    }\n",
              "\n",
              "    .colab-df-convert {\n",
              "      background-color: #E8F0FE;\n",
              "      border: none;\n",
              "      border-radius: 50%;\n",
              "      cursor: pointer;\n",
              "      display: none;\n",
              "      fill: #1967D2;\n",
              "      height: 32px;\n",
              "      padding: 0 0 0 0;\n",
              "      width: 32px;\n",
              "    }\n",
              "\n",
              "    .colab-df-convert:hover {\n",
              "      background-color: #E2EBFA;\n",
              "      box-shadow: 0px 1px 2px rgba(60, 64, 67, 0.3), 0px 1px 3px 1px rgba(60, 64, 67, 0.15);\n",
              "      fill: #174EA6;\n",
              "    }\n",
              "\n",
              "    [theme=dark] .colab-df-convert {\n",
              "      background-color: #3B4455;\n",
              "      fill: #D2E3FC;\n",
              "    }\n",
              "\n",
              "    [theme=dark] .colab-df-convert:hover {\n",
              "      background-color: #434B5C;\n",
              "      box-shadow: 0px 1px 3px 1px rgba(0, 0, 0, 0.15);\n",
              "      filter: drop-shadow(0px 1px 2px rgba(0, 0, 0, 0.3));\n",
              "      fill: #FFFFFF;\n",
              "    }\n",
              "  </style>\n",
              "\n",
              "      <script>\n",
              "        const buttonEl =\n",
              "          document.querySelector('#df-6f1cabe4-9f8a-429f-a8bd-bd5b001a9a84 button.colab-df-convert');\n",
              "        buttonEl.style.display =\n",
              "          google.colab.kernel.accessAllowed ? 'block' : 'none';\n",
              "\n",
              "        async function convertToInteractive(key) {\n",
              "          const element = document.querySelector('#df-6f1cabe4-9f8a-429f-a8bd-bd5b001a9a84');\n",
              "          const dataTable =\n",
              "            await google.colab.kernel.invokeFunction('convertToInteractive',\n",
              "                                                     [key], {});\n",
              "          if (!dataTable) return;\n",
              "\n",
              "          const docLinkHtml = 'Like what you see? Visit the ' +\n",
              "            '<a target=\"_blank\" href=https://colab.research.google.com/notebooks/data_table.ipynb>data table notebook</a>'\n",
              "            + ' to learn more about interactive tables.';\n",
              "          element.innerHTML = '';\n",
              "          dataTable['output_type'] = 'display_data';\n",
              "          await google.colab.output.renderOutput(dataTable, element);\n",
              "          const docLink = document.createElement('div');\n",
              "          docLink.innerHTML = docLinkHtml;\n",
              "          element.appendChild(docLink);\n",
              "        }\n",
              "      </script>\n",
              "    </div>\n",
              "  </div>\n",
              "  "
            ]
          },
          "metadata": {},
          "execution_count": 380
        }
      ]
    },
    {
      "cell_type": "markdown",
      "source": [
        "*   Na **4 stanicích** je průměrně nedostatek kol.\n",
        "*   Na **4 stanicích** je průměrně přebytek kol.\n",
        "\n",
        "Pro stanice s přebytkem kol je potřeba zajistit přepravu do nejbližší stanice, která má nedostatek kol a naopak."
      ],
      "metadata": {
        "id": "eY4ouP47KWjO"
      }
    },
    {
      "cell_type": "markdown",
      "source": [
        "### Záznamy o zapůjčení<a name=\"3.1.2\"></a>"
      ],
      "metadata": {
        "id": "k5G3NOcpMs48"
      }
    },
    {
      "cell_type": "markdown",
      "source": [
        "#### Doba pronájmu<a name=\"3.1.2\"></a>"
      ],
      "metadata": {
        "id": "69Td_-pkNGnA"
      }
    },
    {
      "cell_type": "code",
      "source": [
        "dfb1[\"duration\"].describe()"
      ],
      "metadata": {
        "colab": {
          "base_uri": "https://localhost:8080/"
        },
        "id": "n0mqwZAQZPEs",
        "outputId": "0d2a7cff-0e7c-404c-e78f-a394f7d919f8"
      },
      "execution_count": 381,
      "outputs": [
        {
          "output_type": "execute_result",
          "data": {
            "text/plain": [
              "count                       438259\n",
              "mean     0 days 00:32:28.838038694\n",
              "std      0 days 01:34:17.134780300\n",
              "min                0 days 00:01:01\n",
              "25%                0 days 00:10:24\n",
              "50%                0 days 00:19:23\n",
              "75%                0 days 00:42:09\n",
              "max               27 days 08:29:08\n",
              "Name: duration, dtype: object"
            ]
          },
          "metadata": {},
          "execution_count": 381
        }
      ]
    },
    {
      "cell_type": "code",
      "source": [
        "# převedení na datový formát float\n",
        "dfb1[\"duration_sec\"] = dfb1.duration.astype('timedelta64[s]')"
      ],
      "metadata": {
        "id": "-lceh_3JvwUS"
      },
      "execution_count": 382,
      "outputs": []
    },
    {
      "cell_type": "code",
      "source": [
        "dfb1[\"duration_sec\"] = dfb1[\"duration_sec\"]"
      ],
      "metadata": {
        "id": "a7hmj_MP3V1C"
      },
      "execution_count": 383,
      "outputs": []
    },
    {
      "cell_type": "code",
      "source": [
        "dfb1[\"duration_sec\"].describe().round(2)"
      ],
      "metadata": {
        "colab": {
          "base_uri": "https://localhost:8080/"
        },
        "id": "yb9toOB9189x",
        "outputId": "44b16986-623a-4056-a3df-c9638c8571b5"
      },
      "execution_count": 384,
      "outputs": [
        {
          "output_type": "execute_result",
          "data": {
            "text/plain": [
              "count     438259.00\n",
              "mean        1948.84\n",
              "std         5657.13\n",
              "min           61.00\n",
              "25%          624.00\n",
              "50%         1163.00\n",
              "75%         2529.00\n",
              "max      2363348.00\n",
              "Name: duration_sec, dtype: float64"
            ]
          },
          "metadata": {},
          "execution_count": 384
        }
      ]
    },
    {
      "cell_type": "code",
      "source": [
        "#  inter-quartile range\n",
        "dfb1.boxplot(column=\"duration_sec\", figsize=(5, 6));"
      ],
      "metadata": {
        "colab": {
          "base_uri": "https://localhost:8080/",
          "height": 390
        },
        "id": "5hRUomaXsx49",
        "outputId": "ab0ba5c3-367d-4233-f7ed-b79c5783bb06"
      },
      "execution_count": 385,
      "outputs": [
        {
          "output_type": "display_data",
          "data": {
            "text/plain": [
              "<Figure size 360x432 with 1 Axes>"
            ],
            "image/png": "[encoded data removed]"
          },
          "metadata": {}
        }
      ]
    },
    {
      "cell_type": "code",
      "source": [
        "# histogram délky pronájmu kola\n",
        "plt.hist(x = np.log10(dfb1['duration_sec']), bins=50, edgecolor='black');\n",
        "plt.title('Duration distribution \\n(log transformed)')\n",
        "plt.xlabel('Duration (log s)')\n",
        "plt.ylabel('Rental count')\n",
        "plt.show()"
      ],
      "metadata": {
        "colab": {
          "base_uri": "https://localhost:8080/",
          "height": 319
        },
        "id": "O0dnpCJjsxWj",
        "outputId": "ffd326f0-b094-4d62-d7b7-fc2496b8f91f"
      },
      "execution_count": 386,
      "outputs": [
        {
          "output_type": "display_data",
          "data": {
            "text/plain": [
              "<Figure size 432x288 with 1 Axes>"
            ],
            "image/png": "[encoded data removed]"
          },
          "metadata": {}
        }
      ]
    },
    {
      "cell_type": "markdown",
      "source": [
        "Histogram je zkreslený odlehlými hodnoty, které odstraníme pomocí metody z-score ± 3 směrodatné ochylky"
      ],
      "metadata": {
        "id": "BvZzl0J64B_c"
      }
    },
    {
      "cell_type": "code",
      "source": [
        "# Odstranění odlehlých hodnot\n",
        "df_b_outlier = dfb1[(np.abs(stats.zscore(dfb1['duration_sec'])) < 3)]"
      ],
      "metadata": {
        "id": "nC7Ufq0k4Qrq"
      },
      "execution_count": 387,
      "outputs": []
    },
    {
      "cell_type": "code",
      "source": [
        "df_b_outlier.duration.describe()"
      ],
      "metadata": {
        "colab": {
          "base_uri": "https://localhost:8080/"
        },
        "id": "mXjRIwx84cB-",
        "outputId": "c2c38ef8-24ac-450a-8ed6-fb36ed9de0d1"
      },
      "execution_count": 388,
      "outputs": [
        {
          "output_type": "execute_result",
          "data": {
            "text/plain": [
              "count                       437296\n",
              "mean     0 days 00:30:55.535854432\n",
              "std      0 days 00:33:05.583055047\n",
              "min                0 days 00:01:01\n",
              "25%                0 days 00:10:23\n",
              "50%                0 days 00:19:20\n",
              "75%                0 days 00:41:56\n",
              "max                0 days 05:15:17\n",
              "Name: duration, dtype: object"
            ]
          },
          "metadata": {},
          "execution_count": 388
        }
      ]
    },
    {
      "cell_type": "markdown",
      "source": [
        "Bez odlehlých hodnot lze vidět, že:\n",
        "*   průměrná doba výpujčky je **30min**\n",
        "*   směrodatná odchylka je **33 min**\n",
        "*   nejkratší výpujčka je **1 min**\n",
        "*   nejdelší výpujčka **5 hod 15 min**"
      ],
      "metadata": {
        "id": "Z3m5ew-r6Rsn"
      }
    },
    {
      "cell_type": "code",
      "source": [
        "# histogram délky výpujčky kola po odstranění odlehlých hodnot\n",
        "freqs, bins, bars = plt.hist(x = np.log10(df_b_outlier['duration_sec']), bins=50, edgecolor='black');\n",
        "plt.title('Duration distribution \\n(log transformed)')\n",
        "plt.xlabel('Duration (log s)')\n",
        "plt.ylabel('Rental count')\n",
        "plt.show()"
      ],
      "metadata": {
        "colab": {
          "base_uri": "https://localhost:8080/",
          "height": 319
        },
        "id": "qHNJ7lTI46NL",
        "outputId": "1e94246f-dac4-4e30-8d6a-ba8343909ed6"
      },
      "execution_count": 389,
      "outputs": [
        {
          "output_type": "display_data",
          "data": {
            "text/plain": [
              "<Figure size 432x288 with 1 Axes>"
            ],
            "image/png": "[encoded data removed]"
          },
          "metadata": {}
        }
      ]
    },
    {
      "cell_type": "markdown",
      "source": [
        "Z histogramu lze vidět, že se nachází dva peaky délky výpujček kol.   \n",
        "* První peak je **krátkodobější výpujčka** a zjistíme ho z levé poloviny histogramu.   \n",
        "* Druhý je **dlouhodobější výpujčka** a zjistíme ho z pravé poloviny histogramu."
      ],
      "metadata": {
        "id": "pTw6lWg26g7F"
      }
    },
    {
      "cell_type": "markdown",
      "source": [
        "### Poptávka"
      ],
      "metadata": {
        "id": "Wfs-pPEpuyVz"
      }
    },
    {
      "cell_type": "markdown",
      "source": [
        "#### Vývoj v čase"
      ],
      "metadata": {
        "id": "r_iSEW0g75yS"
      }
    },
    {
      "cell_type": "code",
      "source": [
        "dfm2 = dfm1.copy()"
      ],
      "metadata": {
        "id": "LUCYBfWE9gq9"
      },
      "execution_count": 390,
      "outputs": []
    },
    {
      "cell_type": "code",
      "source": [
        "dfm2 = dfm2.drop(columns=[\"end\", \"start_name\", \"start_description\",\n",
        "                   \"end_name\", \"start_longitude\", \"end_description\",\n",
        "                   \"end_latitude\", \"end_longitude\", \"distance\",\n",
        "                   \"start_latitude\",])"
      ],
      "metadata": {
        "id": "2LsII5AI9N_X"
      },
      "execution_count": 391,
      "outputs": []
    },
    {
      "cell_type": "code",
      "source": [
        " # rozdělení sloupce 'start' na datum (datetime) a čas \n",
        "dfm2['date'] = pd.to_datetime(dfm2[\"start\"]).dt.normalize()\n",
        "dfm2['time'] = pd.to_datetime(dfm2[\"start\"]).dt.time\n",
        "# přidání sloupců den v týdnu, číslo dne a hodina:\n",
        "dfm2['day_of_week'] = dfm2['date'].dt.day_name()\n",
        "dfm2['day_index'] = dfm2['date'].dt.dayofweek\n",
        "dfm2['hour'] = dfm2['start'].dt.hour\n",
        "# převedení na datový formát float\n",
        "dfm2[\"duration_sec\"] = dfm2[\"duration\"].astype('timedelta64[s]')\n",
        "# odstranění sloupce start\n",
        "dfm2 = dfm2.drop(columns=[\"start\", \"duration\"])"
      ],
      "metadata": {
        "id": "pwFVsb_ECOkM"
      },
      "execution_count": 392,
      "outputs": []
    },
    {
      "cell_type": "code",
      "source": [
        "dfm2.head()"
      ],
      "metadata": {
        "colab": {
          "base_uri": "https://localhost:8080/",
          "height": 206
        },
        "id": "f0xM346KDTlJ",
        "outputId": "4a4881c2-854a-4ea3-88e0-617b52758792"
      },
      "execution_count": 393,
      "outputs": [
        {
          "output_type": "execute_result",
          "data": {
            "text/plain": [
              "   start_id  end_id  temp_c  feels_c  wind_kmh  gust_kmh  rain_mm       date  \\\n",
              "0       247     259      10        8        16        23      0.0 2018-09-15   \n",
              "1       259     262      10        8        16        23      0.0 2018-09-15   \n",
              "2       262     250      10        8        16        23      0.0 2018-09-15   \n",
              "3       255     254      14       11        32        47      0.0 2018-09-16   \n",
              "4       255     253      14       11        32        47      0.0 2018-09-16   \n",
              "\n",
              "       time day_of_week  day_index  hour  duration_sec  \n",
              "0  08:52:05    Saturday          5     8        1182.0  \n",
              "1  09:24:33    Saturday          5     9         995.0  \n",
              "2  09:48:54    Saturday          5     9        3466.0  \n",
              "3  12:01:36      Sunday          6    12        1430.0  \n",
              "4  12:03:43      Sunday          6    12         452.0  "
            ],
            "text/html": [
              "\n",
              "  <div id=\"df-c6b99898-a942-4da3-ac10-9074bc01233f\">\n",
              "    <div class=\"colab-df-container\">\n",
              "      <div>\n",
              "<style scoped>\n",
              "    .dataframe tbody tr th:only-of-type {\n",
              "        vertical-align: middle;\n",
              "    }\n",
              "\n",
              "    .dataframe tbody tr th {\n",
              "        vertical-align: top;\n",
              "    }\n",
              "\n",
              "    .dataframe thead th {\n",
              "        text-align: right;\n",
              "    }\n",
              "</style>\n",
              "<table border=\"1\" class=\"dataframe\">\n",
              "  <thead>\n",
              "    <tr style=\"text-align: right;\">\n",
              "      <th></th>\n",
              "      <th>start_id</th>\n",
              "      <th>end_id</th>\n",
              "      <th>temp_c</th>\n",
              "      <th>feels_c</th>\n",
              "      <th>wind_kmh</th>\n",
              "      <th>gust_kmh</th>\n",
              "      <th>rain_mm</th>\n",
              "      <th>date</th>\n",
              "      <th>time</th>\n",
              "      <th>day_of_week</th>\n",
              "      <th>day_index</th>\n",
              "      <th>hour</th>\n",
              "      <th>duration_sec</th>\n",
              "    </tr>\n",
              "  </thead>\n",
              "  <tbody>\n",
              "    <tr>\n",
              "      <th>0</th>\n",
              "      <td>247</td>\n",
              "      <td>259</td>\n",
              "      <td>10</td>\n",
              "      <td>8</td>\n",
              "      <td>16</td>\n",
              "      <td>23</td>\n",
              "      <td>0.0</td>\n",
              "      <td>2018-09-15</td>\n",
              "      <td>08:52:05</td>\n",
              "      <td>Saturday</td>\n",
              "      <td>5</td>\n",
              "      <td>8</td>\n",
              "      <td>1182.0</td>\n",
              "    </tr>\n",
              "    <tr>\n",
              "      <th>1</th>\n",
              "      <td>259</td>\n",
              "      <td>262</td>\n",
              "      <td>10</td>\n",
              "      <td>8</td>\n",
              "      <td>16</td>\n",
              "      <td>23</td>\n",
              "      <td>0.0</td>\n",
              "      <td>2018-09-15</td>\n",
              "      <td>09:24:33</td>\n",
              "      <td>Saturday</td>\n",
              "      <td>5</td>\n",
              "      <td>9</td>\n",
              "      <td>995.0</td>\n",
              "    </tr>\n",
              "    <tr>\n",
              "      <th>2</th>\n",
              "      <td>262</td>\n",
              "      <td>250</td>\n",
              "      <td>10</td>\n",
              "      <td>8</td>\n",
              "      <td>16</td>\n",
              "      <td>23</td>\n",
              "      <td>0.0</td>\n",
              "      <td>2018-09-15</td>\n",
              "      <td>09:48:54</td>\n",
              "      <td>Saturday</td>\n",
              "      <td>5</td>\n",
              "      <td>9</td>\n",
              "      <td>3466.0</td>\n",
              "    </tr>\n",
              "    <tr>\n",
              "      <th>3</th>\n",
              "      <td>255</td>\n",
              "      <td>254</td>\n",
              "      <td>14</td>\n",
              "      <td>11</td>\n",
              "      <td>32</td>\n",
              "      <td>47</td>\n",
              "      <td>0.0</td>\n",
              "      <td>2018-09-16</td>\n",
              "      <td>12:01:36</td>\n",
              "      <td>Sunday</td>\n",
              "      <td>6</td>\n",
              "      <td>12</td>\n",
              "      <td>1430.0</td>\n",
              "    </tr>\n",
              "    <tr>\n",
              "      <th>4</th>\n",
              "      <td>255</td>\n",
              "      <td>253</td>\n",
              "      <td>14</td>\n",
              "      <td>11</td>\n",
              "      <td>32</td>\n",
              "      <td>47</td>\n",
              "      <td>0.0</td>\n",
              "      <td>2018-09-16</td>\n",
              "      <td>12:03:43</td>\n",
              "      <td>Sunday</td>\n",
              "      <td>6</td>\n",
              "      <td>12</td>\n",
              "      <td>452.0</td>\n",
              "    </tr>\n",
              "  </tbody>\n",
              "</table>\n",
              "</div>\n",
              "      <button class=\"colab-df-convert\" onclick=\"convertToInteractive('df-c6b99898-a942-4da3-ac10-9074bc01233f')\"\n",
              "              title=\"Convert this dataframe to an interactive table.\"\n",
              "              style=\"display:none;\">\n",
              "        \n",
              "  <svg xmlns=\"http://www.w3.org/2000/svg\" height=\"24px\"viewBox=\"0 0 24 24\"\n",
              "       width=\"24px\">\n",
              "    <path d=\"M0 0h24v24H0V0z\" fill=\"none\"/>\n",
              "    <path d=\"M18.56 5.44l.94 2.06.94-2.06 2.06-.94-2.06-.94-.94-2.06-.94 2.06-2.06.94zm-11 1L8.5 8.5l.94-2.06 2.06-.94-2.06-.94L8.5 2.5l-.94 2.06-2.06.94zm10 10l.94 2.06.94-2.06 2.06-.94-2.06-.94-.94-2.06-.94 2.06-2.06.94z\"/><path d=\"M17.41 7.96l-1.37-1.37c-.4-.4-.92-.59-1.43-.59-.52 0-1.04.2-1.43.59L10.3 9.45l-7.72 7.72c-.78.78-.78 2.05 0 2.83L4 21.41c.39.39.9.59 1.41.59.51 0 1.02-.2 1.41-.59l7.78-7.78 2.81-2.81c.8-.78.8-2.07 0-2.86zM5.41 20L4 18.59l7.72-7.72 1.47 1.35L5.41 20z\"/>\n",
              "  </svg>\n",
              "      </button>\n",
              "      \n",
              "  <style>\n",
              "    .colab-df-container {\n",
              "      display:flex;\n",
              "      flex-wrap:wrap;\n",
              "      gap: 12px;\n",
              "    }\n",
              "\n",
              "    .colab-df-convert {\n",
              "      background-color: #E8F0FE;\n",
              "      border: none;\n",
              "      border-radius: 50%;\n",
              "      cursor: pointer;\n",
              "      display: none;\n",
              "      fill: #1967D2;\n",
              "      height: 32px;\n",
              "      padding: 0 0 0 0;\n",
              "      width: 32px;\n",
              "    }\n",
              "\n",
              "    .colab-df-convert:hover {\n",
              "      background-color: #E2EBFA;\n",
              "      box-shadow: 0px 1px 2px rgba(60, 64, 67, 0.3), 0px 1px 3px 1px rgba(60, 64, 67, 0.15);\n",
              "      fill: #174EA6;\n",
              "    }\n",
              "\n",
              "    [theme=dark] .colab-df-convert {\n",
              "      background-color: #3B4455;\n",
              "      fill: #D2E3FC;\n",
              "    }\n",
              "\n",
              "    [theme=dark] .colab-df-convert:hover {\n",
              "      background-color: #434B5C;\n",
              "      box-shadow: 0px 1px 3px 1px rgba(0, 0, 0, 0.15);\n",
              "      filter: drop-shadow(0px 1px 2px rgba(0, 0, 0, 0.3));\n",
              "      fill: #FFFFFF;\n",
              "    }\n",
              "  </style>\n",
              "\n",
              "      <script>\n",
              "        const buttonEl =\n",
              "          document.querySelector('#df-c6b99898-a942-4da3-ac10-9074bc01233f button.colab-df-convert');\n",
              "        buttonEl.style.display =\n",
              "          google.colab.kernel.accessAllowed ? 'block' : 'none';\n",
              "\n",
              "        async function convertToInteractive(key) {\n",
              "          const element = document.querySelector('#df-c6b99898-a942-4da3-ac10-9074bc01233f');\n",
              "          const dataTable =\n",
              "            await google.colab.kernel.invokeFunction('convertToInteractive',\n",
              "                                                     [key], {});\n",
              "          if (!dataTable) return;\n",
              "\n",
              "          const docLinkHtml = 'Like what you see? Visit the ' +\n",
              "            '<a target=\"_blank\" href=https://colab.research.google.com/notebooks/data_table.ipynb>data table notebook</a>'\n",
              "            + ' to learn more about interactive tables.';\n",
              "          element.innerHTML = '';\n",
              "          dataTable['output_type'] = 'display_data';\n",
              "          await google.colab.output.renderOutput(dataTable, element);\n",
              "          const docLink = document.createElement('div');\n",
              "          docLink.innerHTML = docLinkHtml;\n",
              "          element.appendChild(docLink);\n",
              "        }\n",
              "      </script>\n",
              "    </div>\n",
              "  </div>\n",
              "  "
            ]
          },
          "metadata": {},
          "execution_count": 393
        }
      ]
    },
    {
      "cell_type": "markdown",
      "source": [
        "##### Podle času"
      ],
      "metadata": {
        "id": "7Or8KpgnDBVh"
      }
    },
    {
      "cell_type": "code",
      "source": [
        "# víkendové pronájmy\n",
        "df_weekend = dfm2[dfm2[\"day_index\"] > 4]\n",
        "# pracovní dny\n",
        "df_workday = dfm2[dfm2[\"day_index\"] < 5]"
      ],
      "metadata": {
        "id": "JGkwQvgKH6j_"
      },
      "execution_count": 394,
      "outputs": []
    },
    {
      "cell_type": "code",
      "source": [
        "# seskupené víkendové dny podle hodiny na počet záznamů a průměrnou dobu pronájmu\n",
        "grouped_hour_weekend = (df_weekend.groupby('hour').agg(\n",
        "    {'start_id': 'count','duration_sec': 'median'}).reset_index().rename(\n",
        "        columns={'start_id':'count'})\n",
        "               )\n",
        "# seskupené víkendové dny podle hodiny na počet záznamů a průměrnou dobu pronájmu\n",
        "grouped_hour_workday = (df_workday.groupby('hour').agg(\n",
        "    {'start_id': 'count','duration_sec': 'median'}).reset_index().rename(\n",
        "        columns={'start_id':'count'})\n",
        "               )\n"
      ],
      "metadata": {
        "id": "eAxxsyBIDFqJ"
      },
      "execution_count": 395,
      "outputs": []
    },
    {
      "cell_type": "code",
      "source": [
        "# Graf počtu pronájmu v pracovní dny podle počtu a délky pronájmu\n",
        "fig = plt.figure(figsize=(13, 5))\n",
        "ax1 = fig.add_subplot(1, 2, 1)  # Jeden řádek, dva sloupce, první graf\n",
        "ax2 = fig.add_subplot(1, 2, 2)  # Druhý graf\n",
        "grouped_hour_workday.plot.bar(ax=ax1, \n",
        "    x='hour', y='count', legend=False, width=1).grid(axis='x');\n",
        "grouped_hour_workday.plot.bar(ax=ax2,\n",
        "    x='hour', y='duration_sec', legend=False, color=\"y\", width=1).grid(axis='x')\n",
        "fig.suptitle(\"Pronájmy v pracovní dny\");\n",
        "ax1.set_xlabel(\"Denní hodina (h)\");\n",
        "ax2.set_xlabel(\"Denní hodina (h)\");\n",
        "ax1.set_ylabel(\"Počet\");\n",
        "ax2.set_ylabel(\"Median délky výpujčky (s)\");\n"
      ],
      "metadata": {
        "colab": {
          "base_uri": "https://localhost:8080/",
          "height": 378
        },
        "id": "OsPver2ANeld",
        "outputId": "e0cbd67d-9100-4ca3-f292-9a264369409f"
      },
      "execution_count": 396,
      "outputs": [
        {
          "output_type": "display_data",
          "data": {
            "text/plain": [
              "<Figure size 936x360 with 2 Axes>"
            ],
            "image/png": "[encoded data removed]"
          },
          "metadata": {}
        }
      ]
    },
    {
      "cell_type": "markdown",
      "source": [
        "\n",
        "V **pracovní dny** jsou pronájmy *nejčastější* kolem **16 hodiny** a minimální v noci kolem 3 hodiny. *Nejdelší* pronájmy jsou mezi **13-14 hodinou okolo 24 minut.**"
      ],
      "metadata": {
        "id": "ykTP_jpoRslm"
      }
    },
    {
      "cell_type": "code",
      "source": [
        "# Graf počtu pronájmu o víkendu podle počtu a délky pronájmu\n",
        "fig = plt.figure(figsize=(13, 5))\n",
        "ax1 = fig.add_subplot(1, 2, 1)  # Jeden řádek, dva sloupce, první graf\n",
        "ax2 = fig.add_subplot(1, 2, 2)  # Druhý graf\n",
        "grouped_hour_weekend.plot.bar(ax=ax1, \n",
        "    x='hour', y='count', legend=False, width=1).grid(axis='x');\n",
        "grouped_hour_weekend.plot.bar(ax=ax2,\n",
        "    x='hour', y='duration_sec', legend=False, color=\"y\", width=1).grid(axis='x')\n",
        "fig.suptitle(\"Pronájmy o víkendu\");\n",
        "ax1.set_xlabel(\"Denní hodina (h)\");\n",
        "ax2.set_xlabel(\"Denní hodina (h)\");\n",
        "ax1.set_ylabel(\"Počet\");\n",
        "ax2.set_ylabel(\"Median délky výpujčky (s)\");"
      ],
      "metadata": {
        "id": "87gZ0HcsJWTW"
      },
      "execution_count": null,
      "outputs": []
    },
    {
      "cell_type": "markdown",
      "source": [
        "O **víkendu** jsou pronájmy *nejčastější* mezi **12 až 15 hodinou** a minimální v noci kolem 4 hodiny. *Nejdelší* pronájmy jsou mezi **12-13 hodinou okolo 35 minut**.\n",
        "\n"
      ],
      "metadata": {
        "id": "3MBkwIPDFP4f"
      }
    },
    {
      "cell_type": "markdown",
      "source": [
        "##### Podle dnů v týdnu"
      ],
      "metadata": {
        "id": "Rii_6WW5MY3c"
      }
    },
    {
      "cell_type": "code",
      "source": [
        "# seskupení dat podle dnů v týdnu\n",
        "days = ['Monday','Tuesday','Wednesday','Thursday','Friday','Saturday', 'Sunday']\n",
        "grouped_weekday = (dfm2.groupby('day_of_week')\n",
        "                            .agg({'start_id': 'count','duration_sec': 'median'})\n",
        "                            .reindex(days)\n",
        "                            .reset_index()\n",
        "                            .rename(columns={'start_id':'count'}))"
      ],
      "metadata": {
        "id": "k3JvAdFyMVnp"
      },
      "execution_count": null,
      "outputs": []
    },
    {
      "cell_type": "code",
      "source": [
        "grouped_weekday"
      ],
      "metadata": {
        "id": "2SgtN1m8SVB3"
      },
      "execution_count": null,
      "outputs": []
    },
    {
      "cell_type": "code",
      "source": [
        "# Graf pronájmů v jednotlivých dnech podle počtu a délky pronájmu\n",
        "fig = plt.figure(figsize=(13, 5))\n",
        "ax1 = fig.add_subplot(1, 2, 1)  # Jeden řádek, dva sloupce, první graf\n",
        "ax2 = fig.add_subplot(1, 2, 2)  # Druhý graf\n",
        "# graf počet na den\n",
        "grouped_weekday.plot.bar(ax=ax1, \n",
        "    x='day_of_week', y='count', legend=False,\n",
        "     width=0.5, color=list('rgbkymc')).grid(axis='x');\n",
        "# graf délky pronájmu na den\n",
        "grouped_weekday.plot.bar(ax=ax2,\n",
        "    x='day_of_week', y='duration_sec', legend=False,\n",
        "     width=0.5, color=list('rgbkymc')).grid(axis='x')\n",
        "fig.suptitle(\"Pronájmy o víkendu\");\n",
        "ax1.set_xlabel(\"Denní hodina (h)\");\n",
        "ax2.set_xlabel(\"Denní hodina (h)\");\n",
        "ax1.set_ylabel(\"Počet\");\n",
        "ax2.set_ylabel(\"Median délky výpujčky (s)\");"
      ],
      "metadata": {
        "id": "EBhsyy4Cceoj"
      },
      "execution_count": null,
      "outputs": []
    },
    {
      "cell_type": "markdown",
      "source": [
        "Z prvního grafu jsme zjistili, že nejvíce výpujček probíhá o víkendu, což jsme také očekávali, ale rozdíly mezi jednotlivými dny jsou minimální.\n",
        "\n",
        "Z druhého grafu zjišťujeme, že o víkendu je délka pronájmu kol velmi výraznější než v pracovní dny."
      ],
      "metadata": {
        "id": "jv229GqYjOIk"
      }
    },
    {
      "cell_type": "markdown",
      "source": [
        "#### Příčiny výkyvů poptávky"
      ],
      "metadata": {
        "id": "vZJhx9cwu2J_"
      }
    },
    {
      "cell_type": "code",
      "source": [
        "# Seskupení podle data:\n",
        "date_group = dfm2.groupby('date').count()['start_id'].reset_index().rename(columns={'start_id':'count'}) "
      ],
      "metadata": {
        "id": "SCWK1SCBlJlR"
      },
      "execution_count": null,
      "outputs": []
    },
    {
      "cell_type": "code",
      "source": [
        "# graf závislosti počtu výpujček na den\n",
        "date_group.plot.line(x=\"date\", y=\"count\", figsize=(12,6))\n",
        "plt.title('Denní pronájmy kol')\n",
        "plt.xlabel('')\n",
        "plt.ylabel('Počet pronájmů')\n",
        "plt.show()"
      ],
      "metadata": {
        "id": "rEIqWLP3mC5Q"
      },
      "execution_count": null,
      "outputs": []
    },
    {
      "cell_type": "markdown",
      "source": [
        "Na první pohled lze vidět, že v letním období dosahují pronájmy největších hodnot a zároveň, že rok 2020 byly kola mnohem více využívána. Tyto zjištění budeme dále zkoumat."
      ],
      "metadata": {
        "id": "NxYby-Yhp6wT"
      }
    },
    {
      "cell_type": "markdown",
      "source": [
        "##### Vliv sezóny"
      ],
      "metadata": {
        "id": "FwzC9FZlqpah"
      }
    },
    {
      "cell_type": "markdown",
      "source": [
        "Data si rozdělíme na roční sezóny, které ještě rozdělíme na letní a zimní sezónu. Letní sezóna bude delší.\n",
        "*   **1. Sezóna**\n",
        "    *   zimní (2018-11-01  -  2019-04-01)\n",
        "    *   letní (2019-04-02  -  2019-10-30)\n",
        "*   **2. Sezóna**\n",
        "    *   zimní (2019-11-01  -  2020-04-01)\n",
        "    *   letní (2020-04-02  -  2020-10-30)"
      ],
      "metadata": {
        "id": "TEfAHtkwq_C0"
      }
    },
    {
      "cell_type": "code",
      "source": [
        "date_group['month'] = pd.DatetimeIndex(date_group['date']).month_name()\n",
        "# Rozdělení na sezóny\n",
        "season_1_w = date_group[(date_group[\"date\"] >=  \"2018-11-01\")\n",
        "                 & (date_group[\"date\"] < '2019-04-01')]\n",
        "\n",
        "season_1_s = date_group[(date_group[\"date\"] >=  '2019-04-01')\n",
        "                 & (date_group[\"date\"] <= '2019-10-30')]\n",
        "\n",
        "season_2_w = date_group[(date_group[\"date\"] >=  \"2019-11-01\")\n",
        "                 & (date_group[\"date\"] < '2020-04-01')]\n",
        "\n",
        "season_2_s = date_group[(date_group[\"date\"] >=  '2020-04-01')\n",
        "                 & (date_group[\"date\"] <= '2020-10-30')]"
      ],
      "metadata": {
        "id": "l3eZ-Dptsk5I"
      },
      "execution_count": null,
      "outputs": []
    },
    {
      "cell_type": "code",
      "source": [
        "season_1_w"
      ],
      "metadata": {
        "id": "4qquPSwxzxBf"
      },
      "execution_count": null,
      "outputs": []
    },
    {
      "cell_type": "code",
      "source": [
        "season_2_w"
      ],
      "metadata": {
        "id": "s408yyDgzzaC"
      },
      "execution_count": null,
      "outputs": []
    },
    {
      "cell_type": "code",
      "source": [
        "# liniový měsíční graf počtu pronájmů kol za zimní sezóny\n",
        "fig, ax = plt.subplots(figsize=(12,6))\n",
        "season_1_w.plot.line(x='month', y='count', ax=ax)\n",
        "season_2_w.plot.line(x='month', y='count', ax=ax, color=\"r\")\n",
        "ax.legend(labels=['2018/19', '2019/20'], fontsize=16)\n",
        "plt.xlabel(\"\")\n",
        "plt.ylabel(ylabel='Počet pronájmů')\n",
        "plt.title('Měsíční počet pronájmů kol za zimní sezóny', fontsize=18)\n",
        "plt.show()"
      ],
      "metadata": {
        "id": "WsxJvXQttct7"
      },
      "execution_count": null,
      "outputs": []
    },
    {
      "cell_type": "code",
      "source": [
        "season_1_w.describe()"
      ],
      "metadata": {
        "id": "KvnXirJh28G9"
      },
      "execution_count": null,
      "outputs": []
    },
    {
      "cell_type": "code",
      "source": [
        "season_2_w.describe()"
      ],
      "metadata": {
        "id": "5QX6hD-j29Wd"
      },
      "execution_count": null,
      "outputs": []
    },
    {
      "cell_type": "code",
      "source": [
        "# liniový měsíční graf počtu pronájmů kol za zimní sezóny\n",
        "fig, ax = plt.subplots(figsize=(12,6))\n",
        "season_1_s.plot.line(x='month', y='count', ax=ax)\n",
        "season_2_s.plot.line(x='month', y='count', ax=ax, color=\"r\")\n",
        "ax.legend(labels=['2018/19', '2019/20'], fontsize=16)\n",
        "plt.xlabel(\"\")\n",
        "plt.ylabel(ylabel='Počet pronájmů')\n",
        "plt.title('Měsíční počet pronájmů kol za letní sezóny', fontsize=18)\n",
        "plt.show()"
      ],
      "metadata": {
        "id": "eLB5hgTwyYDH"
      },
      "execution_count": null,
      "outputs": []
    },
    {
      "cell_type": "code",
      "source": [
        "season_1_s.describe()"
      ],
      "metadata": {
        "id": "T9L2C8Dw2yc_"
      },
      "execution_count": null,
      "outputs": []
    },
    {
      "cell_type": "code",
      "source": [
        "season_2_s.describe()"
      ],
      "metadata": {
        "id": "tWTwFl4w2jrC"
      },
      "execution_count": null,
      "outputs": []
    },
    {
      "cell_type": "markdown",
      "source": [
        "Počty uživatelů rostou velmi výrazně bez ohledu na sezónu. Průměrně přibližně dvojnásobně."
      ],
      "metadata": {
        "id": "tPgRQmA72A8K"
      }
    },
    {
      "cell_type": "markdown",
      "source": [
        "##### Vliv počasí"
      ],
      "metadata": {
        "id": "xJJoPgfM8FHa"
      }
    },
    {
      "cell_type": "code",
      "source": [
        "dfm2"
      ],
      "metadata": {
        "id": "XLACjB6ASACI"
      },
      "execution_count": null,
      "outputs": []
    },
    {
      "cell_type": "code",
      "source": [
        "# Seskupení podle data s průměrnou pocitovou teplotou a průměrnými srážky na mm:\n",
        "weather_group = dfm2.groupby('date').agg(\n",
        "    {'start_id': ['count'], 'feels_c': ['mean'], \"rain_mm\" : [\"mean\"]}\n",
        "    ).reset_index().rename(columns={\"start_id\":\"rent\"})"
      ],
      "metadata": {
        "id": "hiiDIs0BWBM4"
      },
      "execution_count": null,
      "outputs": []
    },
    {
      "cell_type": "code",
      "source": [
        "weather_group.head()"
      ],
      "metadata": {
        "id": "PdKker6UWKb6"
      },
      "execution_count": null,
      "outputs": []
    },
    {
      "cell_type": "code",
      "source": [
        "# graf závisloti půjčování kol na srážkách\n",
        "sns.regplot(x=\"rain_mm\", y=\"rent\", data=weather_group);\n",
        "plt.title('Závislot půjčování kol na srážkách');\n",
        "plt.xlabel('Průměrné denní srážky (mm)');\n",
        "plt.ylabel('Počet pronájmů');"
      ],
      "metadata": {
        "id": "e9ykHvZFouD9"
      },
      "execution_count": null,
      "outputs": []
    },
    {
      "cell_type": "markdown",
      "source": [
        "Z grafu lze vidět, že nejvíce výpujček probíhá pokud neprší nebo jenom mírně mrholí během dne."
      ],
      "metadata": {
        "id": "EHUSJ1F9rh3-"
      }
    },
    {
      "cell_type": "code",
      "source": [
        "# graf závisloti půjčování kol na pocitové teplotě\n",
        "sns.regplot(x=\"feels_c\", y=\"rent\", data=weather_group, color=\"y\");\n",
        "plt.title('Závislot půjčování kol na pocitové teplotě');\n",
        "plt.xlabel('Průměrná pocitová teplota (°C))');\n",
        "plt.ylabel('Počet pronájmů');"
      ],
      "metadata": {
        "id": "WxTreyK-qkZb"
      },
      "execution_count": null,
      "outputs": []
    },
    {
      "cell_type": "markdown",
      "source": [
        "Z grafu lze vidět, že nejvíce pronájmů probíhá pokud je vyšší pocitová teplota (někde nad 10°C)"
      ],
      "metadata": {
        "id": "s6QGsAt_r2PP"
      }
    }
  ]
}