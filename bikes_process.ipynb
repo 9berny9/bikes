{
  "nbformat": 4,
  "nbformat_minor": 0,
  "metadata": {
    "colab": {
      "name": "bikes_process.ipynb",
      "provenance": [],
      "collapsed_sections": [],
      "toc_visible": true,
      "mount_file_id": "1qPHH4ucRDhH3cakdRiANFC8oMqPl7m4R",
      "authorship_tag": "ABX9TyNK/d9U4wChOOzdQdlSstUI"
    },
    "kernelspec": {
      "name": "python3",
      "display_name": "Python 3"
    },
    "language_info": {
      "name": "python"
    }
  },
  "cells": [
    {
      "cell_type": "code",
      "source": [
        "import pandas as pd\n",
        "import numpy as np"
      ],
      "metadata": {
        "id": "yWKzpblpdtNb"
      },
      "execution_count": 16,
      "outputs": []
    },
    {
      "cell_type": "code",
      "source": [
        "!git clone https://github.com/9berny9/bikes"
      ],
      "metadata": {
        "colab": {
          "base_uri": "https://localhost:8080/"
        },
        "id": "y-pQGr_fDnF1",
        "outputId": "2204c6f1-f0fd-459f-f593-c81641cdb0be"
      },
      "execution_count": 17,
      "outputs": [
        {
          "output_type": "stream",
          "name": "stdout",
          "text": [
            "fatal: destination path 'bikes' already exists and is not an empty directory.\n"
          ]
        }
      ]
    },
    {
      "cell_type": "markdown",
      "source": [
        "# BIKES IN EDINBURGH\n",
        "1. [Zadání](#1)\n",
        "2. [Úprava dat](#2)\n",
        "3. [Analýza](#3)\n",
        "\n"
      ],
      "metadata": {
        "id": "R3_mPWybXAv-"
      }
    },
    {
      "cell_type": "markdown",
      "source": [
        "## Zadání <a name=\"1\"></a>\n",
        "\n"
      ],
      "metadata": {
        "id": "W0kbLpM3Z3Mo"
      }
    },
    {
      "cell_type": "markdown",
      "source": [
        "V Edinburghu, stejně jako v dalších městech, funguje systém \"bike sharing\" - ve městě jsou stanice s koly, člověk si může nějaké půjčit a potom ho vrátit v nějaké další stanici. Problém je, že v některých stanicích se kola pravidelně hromadí a jinde naopak chybí. Provozovatel kol, firma Just Eat Cycles, zadala projekt, jehož cílem je systém zefektivnit.\n",
        "\n",
        "Coby datový analytik jste součástí týmu, který na projektu pracuje. Vaším úkolem je zpracovat relevantní data a zjistit z nich informace užitečné pro zbytek týmu. Máte k dispozici data o všech výpůjčkách (na ENGETO databázi v tabulce edinburgh_bikes). Proveďte standardní deskriptivní statistiku dat. Také zjistěte minimálně následující informace:\n",
        "\n",
        "identifikujte aktivní a neaktivní stanice\n",
        "identifikujte nejfrekventovanější stanice\n",
        "identifikujte stanice, na kterých se kola hromadí a stanice, kde potenciálně chybí\n",
        "spočítejte vzdálenosti mezi jednotlivými stanicemi\n",
        "jak dlouho trvá jedna výpůjčka? Najděte odlehlé hodnoty, zobrazte histogram\n",
        "Analýza poptávky:\n",
        "\n",
        "zobrazte vývoj poptávky po půjčování kol v čase\n",
        "identifikujte příčiny výkyvů poptávky\n",
        "zjistěte vliv počasí na poptávku po kolech (údaje o počasí v Edinburghu jsou v tabulce edinburgh_weather)\n",
        "půjčují si lidé kola více o víkendu než během pracovního týdne?\n",
        "Výstupem analýzy bude ideálně jupyter notebook nebo colab notebook uložený na Vašem githubu. Výstupy Vaší analýzy musí být zřejmé i bez spouštění kódu. V textových buňkách popište, jak jste postupovali a napište své závěry. Pokud v zadání chybí nějaká informace, doplňte ji podle vlastního uvážení, své rozhodnutí uveďte a vysvětlete v notebooku."
      ],
      "metadata": {
        "id": "iQxT93xNaXCt"
      }
    },
    {
      "cell_type": "markdown",
      "source": [
        "## Úprava dat <a name=\"2\"></a>"
      ],
      "metadata": {
        "id": "eDTPR0YXaQ6p"
      }
    },
    {
      "cell_type": "markdown",
      "source": [
        "* Veškerá práce s databází a úprava datových formátů se nachází v repozitáři zde: https://github.com/9berny9/bikes/blob/90970fb641920d89a08362277943fd1b273625eb/data_process.ipynb\n",
        "\n",
        "* Výstupem úpravy dat jsou pickle soubory uložené v repozitáři **bikes/Database/modified_data**, na kterých probíhá celá analýza."
      ],
      "metadata": {
        "id": "h0eNidY0bGAd"
      }
    },
    {
      "cell_type": "markdown",
      "source": [
        "## Analýza<a name=\"3\"></a>"
      ],
      "metadata": {
        "id": "rZ7KKUSwK20f"
      }
    },
    {
      "cell_type": "markdown",
      "source": [
        "### Stanice<a name=\"3.1\"></a>"
      ],
      "metadata": {
        "id": "Ve2Xo4UTZT-F"
      }
    },
    {
      "cell_type": "markdown",
      "source": [
        ""
      ],
      "metadata": {
        "id": "6uUzT_vsZpnB"
      }
    },
    {
      "cell_type": "code",
      "source": [
        "# načtení pickle do dataframu\n",
        "url_stations = \"/content/bikes/Database/modified_data/stations.pkl\"\n",
        "df_s = pd.read_pickle(url_stations)"
      ],
      "metadata": {
        "id": "-FYTyQnyZrG8"
      },
      "execution_count": 165,
      "outputs": []
    },
    {
      "cell_type": "code",
      "source": [
        "# deskriptivní statistika\n",
        "df_s[[\"start_frequency\", \"end_frequency\"]].describe()"
      ],
      "metadata": {
        "id": "sAOG8g8udAfW",
        "outputId": "6ce7fead-fb21-439c-dd5f-df74397cd999",
        "colab": {
          "base_uri": "https://localhost:8080/",
          "height": 300
        }
      },
      "execution_count": 91,
      "outputs": [
        {
          "output_type": "execute_result",
          "data": {
            "text/plain": [
              "       start_frequency  end_frequency\n",
              "count       198.000000     199.000000\n",
              "mean       2213.429293    2202.306533\n",
              "std        2884.099842    2898.879223\n",
              "min           1.000000       2.000000\n",
              "25%         257.000000     236.000000\n",
              "50%        1064.500000    1231.000000\n",
              "75%        3154.500000    2892.000000\n",
              "max       17390.000000   16656.000000"
            ],
            "text/html": [
              "\n",
              "  <div id=\"df-9669e68b-c4f4-429c-b346-ba21aa8a33fc\">\n",
              "    <div class=\"colab-df-container\">\n",
              "      <div>\n",
              "<style scoped>\n",
              "    .dataframe tbody tr th:only-of-type {\n",
              "        vertical-align: middle;\n",
              "    }\n",
              "\n",
              "    .dataframe tbody tr th {\n",
              "        vertical-align: top;\n",
              "    }\n",
              "\n",
              "    .dataframe thead th {\n",
              "        text-align: right;\n",
              "    }\n",
              "</style>\n",
              "<table border=\"1\" class=\"dataframe\">\n",
              "  <thead>\n",
              "    <tr style=\"text-align: right;\">\n",
              "      <th></th>\n",
              "      <th>start_frequency</th>\n",
              "      <th>end_frequency</th>\n",
              "    </tr>\n",
              "  </thead>\n",
              "  <tbody>\n",
              "    <tr>\n",
              "      <th>count</th>\n",
              "      <td>198.000000</td>\n",
              "      <td>199.000000</td>\n",
              "    </tr>\n",
              "    <tr>\n",
              "      <th>mean</th>\n",
              "      <td>2213.429293</td>\n",
              "      <td>2202.306533</td>\n",
              "    </tr>\n",
              "    <tr>\n",
              "      <th>std</th>\n",
              "      <td>2884.099842</td>\n",
              "      <td>2898.879223</td>\n",
              "    </tr>\n",
              "    <tr>\n",
              "      <th>min</th>\n",
              "      <td>1.000000</td>\n",
              "      <td>2.000000</td>\n",
              "    </tr>\n",
              "    <tr>\n",
              "      <th>25%</th>\n",
              "      <td>257.000000</td>\n",
              "      <td>236.000000</td>\n",
              "    </tr>\n",
              "    <tr>\n",
              "      <th>50%</th>\n",
              "      <td>1064.500000</td>\n",
              "      <td>1231.000000</td>\n",
              "    </tr>\n",
              "    <tr>\n",
              "      <th>75%</th>\n",
              "      <td>3154.500000</td>\n",
              "      <td>2892.000000</td>\n",
              "    </tr>\n",
              "    <tr>\n",
              "      <th>max</th>\n",
              "      <td>17390.000000</td>\n",
              "      <td>16656.000000</td>\n",
              "    </tr>\n",
              "  </tbody>\n",
              "</table>\n",
              "</div>\n",
              "      <button class=\"colab-df-convert\" onclick=\"convertToInteractive('df-9669e68b-c4f4-429c-b346-ba21aa8a33fc')\"\n",
              "              title=\"Convert this dataframe to an interactive table.\"\n",
              "              style=\"display:none;\">\n",
              "        \n",
              "  <svg xmlns=\"http://www.w3.org/2000/svg\" height=\"24px\"viewBox=\"0 0 24 24\"\n",
              "       width=\"24px\">\n",
              "    <path d=\"M0 0h24v24H0V0z\" fill=\"none\"/>\n",
              "    <path d=\"M18.56 5.44l.94 2.06.94-2.06 2.06-.94-2.06-.94-.94-2.06-.94 2.06-2.06.94zm-11 1L8.5 8.5l.94-2.06 2.06-.94-2.06-.94L8.5 2.5l-.94 2.06-2.06.94zm10 10l.94 2.06.94-2.06 2.06-.94-2.06-.94-.94-2.06-.94 2.06-2.06.94z\"/><path d=\"M17.41 7.96l-1.37-1.37c-.4-.4-.92-.59-1.43-.59-.52 0-1.04.2-1.43.59L10.3 9.45l-7.72 7.72c-.78.78-.78 2.05 0 2.83L4 21.41c.39.39.9.59 1.41.59.51 0 1.02-.2 1.41-.59l7.78-7.78 2.81-2.81c.8-.78.8-2.07 0-2.86zM5.41 20L4 18.59l7.72-7.72 1.47 1.35L5.41 20z\"/>\n",
              "  </svg>\n",
              "      </button>\n",
              "      \n",
              "  <style>\n",
              "    .colab-df-container {\n",
              "      display:flex;\n",
              "      flex-wrap:wrap;\n",
              "      gap: 12px;\n",
              "    }\n",
              "\n",
              "    .colab-df-convert {\n",
              "      background-color: #E8F0FE;\n",
              "      border: none;\n",
              "      border-radius: 50%;\n",
              "      cursor: pointer;\n",
              "      display: none;\n",
              "      fill: #1967D2;\n",
              "      height: 32px;\n",
              "      padding: 0 0 0 0;\n",
              "      width: 32px;\n",
              "    }\n",
              "\n",
              "    .colab-df-convert:hover {\n",
              "      background-color: #E2EBFA;\n",
              "      box-shadow: 0px 1px 2px rgba(60, 64, 67, 0.3), 0px 1px 3px 1px rgba(60, 64, 67, 0.15);\n",
              "      fill: #174EA6;\n",
              "    }\n",
              "\n",
              "    [theme=dark] .colab-df-convert {\n",
              "      background-color: #3B4455;\n",
              "      fill: #D2E3FC;\n",
              "    }\n",
              "\n",
              "    [theme=dark] .colab-df-convert:hover {\n",
              "      background-color: #434B5C;\n",
              "      box-shadow: 0px 1px 3px 1px rgba(0, 0, 0, 0.15);\n",
              "      filter: drop-shadow(0px 1px 2px rgba(0, 0, 0, 0.3));\n",
              "      fill: #FFFFFF;\n",
              "    }\n",
              "  </style>\n",
              "\n",
              "      <script>\n",
              "        const buttonEl =\n",
              "          document.querySelector('#df-9669e68b-c4f4-429c-b346-ba21aa8a33fc button.colab-df-convert');\n",
              "        buttonEl.style.display =\n",
              "          google.colab.kernel.accessAllowed ? 'block' : 'none';\n",
              "\n",
              "        async function convertToInteractive(key) {\n",
              "          const element = document.querySelector('#df-9669e68b-c4f4-429c-b346-ba21aa8a33fc');\n",
              "          const dataTable =\n",
              "            await google.colab.kernel.invokeFunction('convertToInteractive',\n",
              "                                                     [key], {});\n",
              "          if (!dataTable) return;\n",
              "\n",
              "          const docLinkHtml = 'Like what you see? Visit the ' +\n",
              "            '<a target=\"_blank\" href=https://colab.research.google.com/notebooks/data_table.ipynb>data table notebook</a>'\n",
              "            + ' to learn more about interactive tables.';\n",
              "          element.innerHTML = '';\n",
              "          dataTable['output_type'] = 'display_data';\n",
              "          await google.colab.output.renderOutput(dataTable, element);\n",
              "          const docLink = document.createElement('div');\n",
              "          docLink.innerHTML = docLinkHtml;\n",
              "          element.appendChild(docLink);\n",
              "        }\n",
              "      </script>\n",
              "    </div>\n",
              "  </div>\n",
              "  "
            ]
          },
          "metadata": {},
          "execution_count": 91
        }
      ]
    },
    {
      "cell_type": "markdown",
      "source": [
        "V Edinburghu se nachází **200** stanic pro půjčení kol a data jsou sbírány od **2018-09-15** do **2021-06-30**, což je **1019** dnů."
      ],
      "metadata": {
        "id": "DlwxHBDwhttI"
      }
    },
    {
      "cell_type": "markdown",
      "source": [
        "*   Průměrný počet půjčených kol na stanici je **2213 výpujček kol**, což je **2,17** výpujček za den.\n",
        "*   Medián počtu půjčených kol na stanici je **1064 výpujček kol**, což je **1,04** výpujček za den.\n",
        "*   Průměrný počet vrácených kola na stanici je **2202 vrácení kol**, což je **2,16** výpujček za den.\n",
        "*   Medián počtu vrácených kol na stanici je **1231 vrácení kol**, což je **1,21** výpujček za den.\n",
        "*   Minimální hodnota počtu výpujček ve stanicích je **1** a počtu vrácení je **2** za celé období.   Tyto stanice můžeme označit jako neaktivní a budou řešeny v pozdější analýze).\n",
        "*   Maximální hodnota počtu výpujček je **17390**, což je **17,07** výpujček za den a maximální hodnota počtu vratek je **16656**, což je **16,35** vratek za den.\n"
      ],
      "metadata": {
        "id": "JmrLFM1ddVFv"
      }
    },
    {
      "cell_type": "markdown",
      "source": [
        "#### Mapa stanic<a name=\"3.1.1\"></a>"
      ],
      "metadata": {
        "id": "4ggIIR22ZeMP"
      }
    },
    {
      "cell_type": "code",
      "source": [
        "import plotly.express as px"
      ],
      "metadata": {
        "id": "nWExz3gkaCIi"
      },
      "execution_count": 61,
      "outputs": []
    },
    {
      "cell_type": "code",
      "source": [
        "# vykreslení mapy stanic\n",
        "fig = px.scatter_mapbox(df_s,lat=\"lat\", lon=\"lon\", hover_name = \"name\", hover_data = [\"description\",\"start_frequency\",\"end_frequency\"] ,zoom=10, height=600)\n",
        "fig.update_layout(mapbox_style=\"open-street-map\")\n",
        "fig.update_layout(margin={\"r\":0,\"t\":0,\"l\":0,\"b\":0})\n",
        "fig.show()"
      ],
      "metadata": {
        "id": "datUnB6EVIiX",
        "outputId": "40ee5074-d702-4e8a-cf32-c49e5ba89a07",
        "colab": {
          "base_uri": "https://localhost:8080/",
          "height": 617
        }
      },
      "execution_count": 63,
      "outputs": [
        {
          "output_type": "display_data",
          "data": {
            "text/html": [
              "<html>\n",
              "<head><meta charset=\"utf-8\" /></head>\n",
              "<body>\n",
              "    <div>            <script src=\"https://cdnjs.cloudflare.com/ajax/libs/mathjax/2.7.5/MathJax.js?config=TeX-AMS-MML_SVG\"></script><script type=\"text/javascript\">if (window.MathJax) {MathJax.Hub.Config({SVG: {font: \"STIX-Web\"}});}</script>                <script type=\"text/javascript\">window.PlotlyConfig = {MathJaxConfig: 'local'};</script>\n",
              "        <script src=\"https://cdn.plot.ly/plotly-2.8.3.min.js\"></script>                <div id=\"84175de5-e134-4ab4-b534-ea3df8489b80\" class=\"plotly-graph-div\" style=\"height:600px; width:100%;\"></div>            <script type=\"text/javascript\">                                    window.PLOTLYENV=window.PLOTLYENV || {};                                    if (document.getElementById(\"84175de5-e134-4ab4-b534-ea3df8489b80\")) {                    Plotly.newPlot(                        \"84175de5-e134-4ab4-b534-ea3df8489b80\",                        [{\"customdata\":[[\"North Corner of Charlotte Square\",8134.0,4980.0],[\"North East corner\",12218.0,8372.0],[\"near Tesco's\",9551.0,11940.0],[\"X-Y Cafe\",254.0,196.0],[\"Sanderson Building\",4096.0,4557.0],[\"Grant Institute\",1936.0,1958.0],[\"Kings Building House\",3176.0,2979.0],[\"Pollock Halls Entrance\",9441.0,6628.0],[\"Royal Commonwealth Pool Entrance\",4782.0,4090.0],[\"Melville Terrace\",17390.0,15225.0],[\"near the top of the South ramp\",8569.0,8402.0],[\"City Chambers Quadrangle\",5836.0,2723.0],[\"Edinburgh Leisure Tumbles Centre\",4039.0,5280.0],[\"The Meadows\",45.0,49.0],[\"Junction Brunswick Street and Elm Row\",2881.0,3234.0],[\"George Square, south side in front of University library\",6097.0,6160.0],[\"Bristo Square, near Potter Row\",12846.0,7898.0],[\"Entrance to Scottish Government Office\",10662.0,15254.0],[\"Fountainbridge by Gardner's Crescent\",8464.0,7315.0],[\"On Waverley Court forecourt\",2531.0,2378.0],[\"near Chalmers Street\",6275.0,3731.0],[\"Near Calton Road Exit\",1910.0,1473.0],[\"Hamilton Place by Dean Bank Lane\",6219.0,8212.0],[\"Near Craighall Road\",178.0,235.0],[\"beside Jacobs ladder\",3250.0,1957.0],[\"Depot\",2.0,3.0],[\"Sainsbury's Leith Walk\",726.0,1153.0],[\"Riego Street on junction with East Fountainbridge\",850.0,877.0],[\"Fettes Avenue\",484.0,749.0],[\"Corner of Vanburgh Place and Lochend Road\",503.0,809.0],[\"Debenhams / Puregym entrance\",5505.0,7381.0],[\"Near Rose Street\",8923.0,7398.0],[\"Corner of Bruntsfield Terrace and Bruntsfield Place\",3330.0,2281.0],[\"Cycleway off Little France\",19.0,35.0],[\"Corner of Castle Terrace and Lady Lawson St\",4926.0,3872.0],[\"Corner of Simon Square & Gilmour Street\",854.0,882.0],[\"Corner of Warrender Park Road & Spottiswoode Street\",1197.0,801.0],[\"Corner of Thirlestane Road & St. Margaret's Place\",222.0,167.0],[\"By co-op (outside maplins)\",391.0,522.0],[\"Corner of Whitehouse Loan & Bruntsfield Crescent\",247.0,109.0],[\"Outside student accomodation\",45.0,44.0],[\"outside Lidl\",341.0,417.0],[\"Dundee Terrace outside \\\"glass supplies\\\"\",1554.0,1759.0],[\"Macdonald Road\",1015.0,1341.0],[\"Leith Walk opposite Dalmeny Street\",7964.0,11052.0],[\"Corner of Marchmont Crescent & Marchmont Road\",1007.0,788.0],[\"Outside St. Mary's Primary School\",1176.0,1231.0],[\"Outside Orchard Brae House on Queensferry Road\",1436.0,1390.0],[\"Corner of Inverleith Row & Inverleith Terrace\",1548.0,2232.0],[\"Corner of South Trinity Road & Ferry Road\",556.0,813.0],[\"Colinton Road outside Starbucks\",1030.0,775.0],[\"Corner of Meadow Place and Melville Drive\",1178.0,1064.0],[\"Corner of Morningside Road & Morningside Park by M & S car park\",1121.0,1541.0],[\"Novotel\",5.0,6.0],[\"Causewayside outside NLS\",994.0,970.0],[\"Corner of Dudley Gardens on Newhaven Road\",1868.0,2954.0],[\"Western General virtual station across from public multi storey\",366.0,404.0],[\"19 point docking station beside queen victoria monument\",1437.0,2331.0],[\"On pavement corner by the entrance gates\",191.0,177.0],[\"Corner of Dundas Street & Henderson Row\",859.0,1337.0],[\"East corner of Hillside Crescent & London Road\",925.0,1216.0],[\"Cramond foreshore by turning circle\",703.0,948.0],[\"Between trees on Comely Bank Road\",820.0,1272.0],[\"West corner of Hillside Crescent & London Road\",123.0,149.0],[\"Corner of Roseburn Street & Russell Gardens\",377.0,383.0],[\"Between planters next to EICC\",710.0,760.0],[\"Corner of Crichton Street & Potterow\",335.0,286.0],[\"Outside Forestry & Land Scotland\",355.0,425.0],[\"Outside Piccolino\",1071.0,1075.0],[\"Corner of Murrayfield Avenue & Murrayfield Place\",266.0,275.0],[\"Next to the Edinburgh Academy\",91.0,95.0],[\"Outside GuitarGuitar\",56.0,67.0],[\"By the side of the station entrance\",334.0,327.0],[\"Corner of Wester Coates Terrace & Roseburn Terrace\",569.0,619.0],[\"Corner of Gamekeeper's Road & Whitehouse Road\",53.0,56.0],[\"Corner of Gladstone Terrace & Sciennes ROad\",504.0,509.0],[\"Opposite Jenners Depository\",85.0,104.0],[\"Craigleith road by bus stop\",271.0,380.0],[\"Riversdale Crescent\",509.0,455.0],[\"Outside zoo gatehouse\",139.0,131.0],[\"Whitehouse road by Sainbury's & bus stop\",62.0,88.0],[\"Corner of Corstorphine Road & Pinkhill\",18.0,21.0],[\"Outside Specsavers\",46.0,64.0],[\"Outside Lidl\",109.0,140.0],[\"Corner of West Newington Place & Newington Road\",19.0,18.0],[\"Corner of Queensferry Road & Orchard Road\",39.0,51.0],[\"IGMM at Western General Hospital\",412.0,510.0],[\"Corner of West Crosscauseway & Buccleugh Street\",492.0,421.0],[\"Inside garden\",25.0,24.0],[\"Sustrans car parking space 31 for walk cycle event\",23.0,14.0],[\"Temporary event station\",6.0,7.0],[\"Virtual station at Ingliston Park and Ride (19th to 23rd June)\",11.0,7.0],[\"Virtual station at east gate of RHC (19th to 23rd June)\",6.0,8.0],[\"Virtual station at west gate of RHC (19th to 23rd June)\",42.0,24.0],[\"20 bike virtual station for edinburgh climate festival\",43.0,42.0],[\"07 point angled physical docking station\",120.0,96.0],[\"13 point physical docking station\",2893.0,2495.0],[\"West end of Grassmarket\",2973.0,2919.0],[\"\",11373.0,8792.0],[\"\",7247.0,6971.0],[\"Next to Burns Statue\",889.0,1733.0],[\"Depot internal station\",3.0,6.0],[\"Opposite the Pleasance\",341.0,389.0],[\"Next to Tron Kirk Royal Mile\",3172.0,2778.0],[\"Eden Locke - Aparthotel (RESIDENTS ONLY)\",29.0,23.0],[\"Holyrood Park - Woman's Tour Of Scotland (Event 11/08/19)\",6.0,5.0],[\"Opposite Maggies student union\",93.0,98.0],[\"Fountain Court  - Apartments (RESIDENTS ONLY)\",47.0,36.0],[\"Outside the Usher Hall\",5472.0,3950.0],[\"Corner of South Trinity Road and Ferry Road\",4735.0,5709.0],[\"Milton Road Campus\",102.0,162.0],[\"On corner with Spottiswoode Street\",3560.0,2864.0],[\"Outside Edinburgh International Conference Centre\",3460.0,2579.0],[\"West end of campus\",1301.0,1308.0],[\"On corner with Russell Gardens\",1909.0,1871.0],[\"Sighthill Campus\",36.0,44.0],[\"Next to Playpark/Cafe Nero\",3.0,6.0],[\"Opposite St Leonards Land\",3912.0,4240.0],[\"Pleasance Sports Complex\",2.0,6.0],[\"Outside Scottish National Gallery\",1116.0,1030.0],[\"East end of Hillside Crescent\",4072.0,4556.0],[\"\",3950.0,4516.0],[\"20 point virtual docking station for UK lets Ride Event\",55.0,50.0],[\"Opposite Victoria Park on Newhaven Road\",946.0,1629.0],[\"Corner of Gladstone Terrace and Sciennes Road\",2131.0,1996.0],[\"On island next to Buccleuch Street\",4352.0,3172.0],[\"Corner of Marchmont Road\",3102.0,2296.0],[\"Haymarket Station\",3248.0,3022.0],[\"Outside Piccolinos off Lauriston Place\",5669.0,5349.0],[\"On corner of Henderson Row\",3318.0,3921.0],[\"Heriot Watt - Edinburgh Business School\",67.0,61.0],[\"Heriot Watt - Student Accomodation Heriot Watt - Student Accomodation (Anna MacLeod Halls))\",45.0,35.0],[\"Near Cramond Beach\",6610.0,7879.0],[\"Corstorphine Road, Edinburgh\",1005.0,935.0],[\"East side of Nicolson Street\",3216.0,2240.0],[\"Between Pleasance and Nicholson Street\",1802.0,1688.0],[\"Outside National Library of Scotland\",4337.0,3933.0],[\"Foot of Kings Road next to the promenade\",11843.0,16656.0],[\"Next to Fire Station\",3672.0,4048.0],[\"Outside St Mary's Primary School\",3063.0,2992.0],[\"Edinburgh University, The Pleasance\",1380.0,1378.0],[\"Corner with Inverleith Terrace\",2667.0,3240.0],[\"Junction with Roseburn Terrace\",1956.0,2080.0],[\"Murrayfield Stadium\",1.0,2.0],[\"Crescent House\",9.0,9.0],[\"Corner of Morningside Park, beside M&S\",3735.0,3995.0],[\"Outside Lidl\",1618.0,2082.0],[\"Corner with Royal Crescent\",2560.0,2672.0],[\"Near Napier University Merchiston Campus\",2165.0,1570.0],[\"Outside Silvan House, Forestry and Land Scotland\",1408.0,1456.0],[\"Corner of Dean Park Mews\",1327.0,1519.0],[\"Little France, Old Dalkeith Road, Edinburgh\",1417.0,1697.0],[\"The Institute of Genetics and Molecular Medicine\",2166.0,2470.0],[\"On Fettes Avenue next to Waitrose\",2385.0,2865.0],[\"Next to Murrayfield Tram Station\",883.0,997.0],[\"Porterfield Road\",1892.0,2135.0],[\"Meggetland Sports Complex\",2179.0,2860.0],[\"University Courtyard\",1376.0,1354.0],[\"Corner of Magdala Crescent\",2546.0,2293.0],[\"Outside Raeburn Place Sports Ground\",3026.0,3959.0],[\"Next to Craigleith Hill Bus Stop\",978.0,1136.0],[\"Corner of Bruntsfield Links next to Public Toilets\",7001.0,4372.0],[\"On corner with St Margaret's Place\",1833.0,1255.0],[\"Opposite Jenners Depository\",1884.0,2243.0],[\"Corner of Elm Row/Brunswick Street\",5150.0,5571.0],[\"Corner with A8 Corstorphine Road at Western Terrace\",719.0,703.0],[\"Near Stadium and Ice Rink\",784.0,804.0],[\"Outside National Museum\",2261.0,1359.0],[\"East end of Promenade\",3240.0,4052.0],[\"Junction with Whitehouse Road\",1528.0,1527.0],[\"Corner with McLeod Street\",2773.0,3349.0],[\"Next to Kennedy Tower\",529.0,428.0],[\"Near Abbey Mount\",4686.0,5279.0],[\"Sighthill Campus\",516.0,654.0],[\"Milton Road Campus\",1112.0,1364.0],[\"Outside Dynamic Earth, Holyrood Road\",4694.0,5824.0],[\"Outside Anna Macleod Halls\",530.0,429.0],[\"Outside Edinburgh Business School\",912.0,947.0],[\"Corner with Drumsheugh Gardens\",2866.0,2565.0],[\"Off Gibson Terrace\",3976.0,4245.0],[\"Junction with Easter Road\",7288.0,11264.0],[\"Next to Rail and Tram stations\",869.0,966.0],[\"Temporary station at City Chambers\",1.0,null],[\"Between Lochside Court and Lochside Avenue\",221.0,237.0],[\"Next to East Coast Tyres\",577.0,766.0],[\"Near to Scotstoun Bus Terminus\",619.0,548.0],[\"Next to bike shelter\",410.0,324.0],[\"Junction with Farquhar Terrace/Boness Road\",1058.0,1086.0],[\"Off Ferrymuir Gait\",557.0,489.0],[\"Off Newhalls Road\",1643.0,1911.0],[\"ARUP Edinburgh\",128.0,122.0],[\"Outside supermarket\",219.0,200.0],[\"Next to Marina Shop and Restaurant\",195.0,203.0],[\"Next to Customer Service building\",136.0,224.0],[\"Next to Allander House\",1142.0,1537.0],[\"Musselborough North High Street opposite Harbour Road\",709.0,838.0],[\"Adjacent to the Brunton Theatre\",294.0,379.0],[\"Outside Omni Centre\",1929.0,1475.0],[\"Virtual Depot\",null,2.0],[\"The Street\",null,3.0]],\"hovertemplate\":\"<b>%{hovertext}</b><br><br>lat=%{lat}<br>lon=%{lon}<br>description=%{customdata[0]}<br>start_frequency=%{customdata[1]}<br>end_frequency=%{customdata[2]}<extra></extra>\",\"hovertext\":[\"Charlotte Square\",\"St Andrew Square\",\"Canonmills\",\"Kings Buildings 4\",\"Kings Building 2\",\"Kings Buildings 1\",\"Kings Building 3\",\"Pollock Halls\",\"Royal Commonwealth Pool\",\"Meadows East\",\"Waverley Bridge\",\"City Chambers\",\"Portobello\",\"Launch Day Event\",\"Brunswick Place\",\"George Square\",\"Bristo Square\",\"Victoria Quay\",\"Fountainbridge\",\"Waverley Court\",\"Lauriston Place\",\"Waverley Station\",\"Stockbridge\",\"Victoria Park\",\"St Andrews House\",\"Depot\",\"Shrubhill\",\"Riego Street\",\"Waitrose, Comely Bank\",\"Leith Links\",\"Ocean Terminal\",\"Castle Street\",\"Bruntsfield\",\"Royal Infirmary\",\"Castle Terrace\",\"Simon Square\",\"Warrender Park Road\",\"Thirlestane Road\",\"Dalry Road Co-op\",\"Whitehouse Loan\",\"Gibson Terrace\",\"Dalry Road Lidl\",\"Dundee Terrace\",\"Macdonald Road\",\"Leith Walk\",\"Marchmont Crescent\",\"East London Street\",\"Orchard Brae House\",\"Inverleith Row\",\"South Trinity Road\",\"Colinton Road\",\"Meadow Place\",\"Morningside Road\",\"Novotel\",\"Causewayside\",\"Newhaven Road / Dudley Gardens\",\"Western General\",\"Newkirkgate\",\"Pollock Halls Virtual\",\"Dundas Street\",\"Hillside Crescent 2\",\"Cramond Foreshore\",\"Comely Bank Road\",\"Hillside Crescent 1\",\"Roseburn Street\",\"EICC\",\"Crichton Street\",\"Corstorphine Road\",\"Tollcross\",\"Murrayfield Avenue\",\"Henderson Row\",\"St. John's Road 2\",\"Murrayfield Tram\",\"Wester Coates Terrace\",\"Gamekeeper's Road\",\"Gladstone Terrace\",\"Balgreen\",\"Craigleith Road\",\"Murrayfield\",\"Edinburgh Zoo\",\"Whitehouse Road\",\"Corstorphine Road - Pinkhill\",\"St. John's Road 1\",\"Logie Green Road\",\"West Newington Place\",\"Queensferry Road\",\"IGMM\",\"West Crosscauseway\",\"Dunbar\\u2019s Close Garden\",\"Sustrans - walk cycle event\",\"Corn Exchange - walk cycle event\",\"Ingliston Park and Ride (19th to 23rd June)\",\"Royal Highland Show - East Gate (19th to 23rd June)\",\"Royal Highland Show - West Gate (19th to 23rd June)\",\"Meadows - Edinburgh Climate Festival\",\"Hunter Square\",\"Crichton Street\",\"Grassmarket\",\"Meadow Place 2\",\"Dundee Terrace\",\"Constitution Street\",\"Depot Virtual\",\"Drummond Street\",\"The Tron\",\"Eden Locke - Aparthotel (RESIDENTS ONLY)\",\"Holyrood Park - Woman's Tour Of Scotland (Event 11/08/19)\",\"Queen Margaret University\",\"Fountain Court  - Apartments (RESIDENTS ONLY)\",\"Lothian Road\",\"South Trinity Road\",\"Milton Road - Edinburgh College\",\"Warrender Park Road\",\"EICC\",\"Kings Buildings - Murchison House\",\"Roseburn Street\",\"Sighthill - Edinburgh College\",\"Fort Kinnaird\",\"Holyrood Road\",\"Pleasance - Edinburgh University Sports Fair\",\"Belford Road\",\"Hillside Crescent\",\"Dalry Road Lidl\",\"HSBC UK Lets Ride - Meadows Event\",\"Dudley Gardens\",\"Gladstone Terrace\",\"West Crosscauseway\",\"Marchmont Crescent\",\"Haymarket Station\",\"Tollcross\",\"Dundas Street\",\"Heriot Watt - Edinburgh Business School\",\"Heriot Watt - Student Accomodation (Anna MacLeod Halls)\",\"Cramond Foreshore\",\"Edinburgh Zoo\",\"Surgeons Hall\",\"Simon Square\",\"Causewayside\",\"Portobello - Kings Road\",\"McDonald Road\",\"East London Street\",\"Pleasance Courtyard\",\"Inverleith Row\",\"Wester Coates Terrace\",\"Cycling Scotland Conference\",\"Crescent House\",\"Morningside Road\",\"Logie Green Road\",\"Scotland Street\",\"Colinton Road\",\"Corstorphine Road\",\"Dean Street\",\"Edinburgh Royal Infirmary\",\"IGMM - Western General\",\"Waitrose Comely Bank\",\"Murrayfield Tram\",\"Western General Hospital\",\"Meggetland\",\"Queen Margaret University\",\"Haymarket Terrace\",\"Comely Bank Road\",\"Craigleith Road\",\"Bruntsfield Links\",\"Thirlestane Road\",\"Balgreen Road\",\"Brunswick Place\",\"Ellersly Road\",\"Murrayfield\",\"Chambers Street\",\"Joppa\",\"Gamekeeper's Road\",\"Gorgie Road\",\"Royal Edinburgh Hospital\",\"Abbeyhill\",\"Sighthill - Edinburgh College\",\"Milton Road - Edinburgh College\",\"Dynamic Earth\",\"Heriot Watt - Student Accommodation\",\"Heriot Watt - Edinburgh Business School\",\"Drumsheugh Place\",\"Boroughmuir\",\"Duke Street\",\"Edinburgh Park Station\",\"City Chambers Launch Station\",\"Edinburgh Park Central\",\"The Loan\",\"Borrowman Square\",\"Dalmeny Station\",\"Hopetoun Road\",\"Forth Bridge Visitors Centre\",\"Hawes Pier\",\"Scotstoun House\",\"Tesco Ferrymuir\",\"Port Edgar Marina\",\"Ingliston Park & Ride\",\"Leith Walk North\",\"Musselburgh Lidl\",\"Musselburgh Brunton Hall\",\"Picady Place\",\"Virtual Depot\",\"Smarter Travel Station\"],\"lat\":[55.95233546161639,55.95474881217642,55.96280408759764,55.92200087060626,55.92320215516664,55.92418540667696,55.923478807846635,55.939963469723715,55.939000247888764,55.939809466328285,55.95134439884462,55.95010933017899,55.957004308392506,55.942551339390945,55.960929747664,55.94308406301113,55.94600418964078,55.977637787726984,55.94335692764551,55.95173449698344,55.944771652335476,55.952641035774384,55.95856558589723,55.97424715757633,55.95316433242384,55.97237325804326,55.96253727246136,55.945159896857184,55.959504176688824,55.96919856910954,55.981286014792985,55.951500737349754,55.93715871276677,55.924295174984614,55.94676648672239,55.944867799682754,55.938363058645024,55.93536510821717,55.94271471556419,55.93632904938287,55.94049262199568,55.941754301444796,55.93972942415463,55.963995150971236,55.96503980507732,55.936397496743666,55.95994339132352,55.95508276879095,55.964145597867244,55.971268912190844,55.934034801869515,55.94030045743447,55.92798551356313,55.944896459715345,55.93642987756881,55.97592738157906,55.96345848770889,55.97070402016615,55.94034806856411,55.96094446922441,55.957803310852015,55.980023741808324,55.95940686974708,55.95791033111316,55.94446626439512,55.94604282192561,55.94474957118208,55.94174288122498,55.94428069681837,55.94632179137708,55.96026010209808,55.942944853851905,55.9419563895648,55.9456092021698,55.96953169937321,55.93802439880083,55.93893772779211,55.95661859471628,55.94476686576929,55.942221825711776,55.96152699979099,55.942364438846695,55.94274592050117,55.96403450946105,55.93821225851473,55.95454278693572,55.96248692705142,55.943861983330955,55.951813501278245,55.945452213917534,55.92701363904687,55.93909048596021,55.940906749395,55.94065528387753,55.94173596765826,55.94969158307013,55.94475574122453,55.947097278583385,55.940237631689435,55.93970989541296,55.97544142756835,55.97233473082818,55.9483365370385,55.95003729291336,55.95264053655981,55.95135352288074,55.93193490858167,55.94380585491596,55.947409199207115,55.97132539148155,55.944051353414075,55.93836921723555,55.94607055533778,55.92446420087144,55.94442555452843,55.926664566092654,55.93437199635734,55.94955950619123,55.948209628249515,55.95197357717703,55.95787194536338,55.94179129688128,55.939977758149666,55.97593978299806,55.93796327344498,55.9438359841253,55.936431918148195,55.94558221753474,55.944248052468346,55.9607624081837,55.90880966452917,55.908403986062076,55.980030767403164,55.94211534619251,55.94664279961712,55.94485886752089,55.93650603148236,55.957915406923476,55.9640310527501,55.95995414501485,55.947566653309394,55.964117879889585,55.94564841884953,55.940886347739024,55.96391066325888,55.927985349796536,55.964058329676064,55.96037972054591,55.933416359161036,55.94166971920444,55.957278012740645,55.92063236018849,55.96264210870907,55.959536249717715,55.94191081116495,55.963453810934496,55.92758664038103,55.931980482636575,55.946063966641006,55.95941012836135,55.95657629337518,55.937123239991095,55.935323709648124,55.938941745489494,55.96085174106396,55.945045875212095,55.94479128084842,55.94760044619224,55.94894930668582,55.969442746098885,55.9387414422504,55.92781815597736,55.95524788917224,55.926684277487574,55.94406627599551,55.951089465236365,55.90841344459825,55.9088228790413,55.95159412232485,55.94007146917616,55.96901164826488,55.927382676939004,55.950222304548845,55.931168715771065,55.98989968232655,55.98260596953824,55.98676132611317,55.99018214620787,55.987743170866025,55.99052952143077,55.98110725959637,55.983766187891035,55.992957267668345,55.9387919459937,55.96791807044289,55.94388031687606,55.94400897108537,55.95653524179326,55.97240196356882,53.39552546462075],\"legendgroup\":\"\",\"lon\":[-3.207101172107286,-3.192773668658787,-3.196283585062929,-3.1769018141649212,-3.17164624536349,-3.173830830087809,-3.175384584907078,-3.171585934311565,-3.173923554315593,-3.182738850746432,-3.191420998989883,-3.190257770093808,-3.116888118730116,-3.191380756192416,-3.181005314780577,-3.188311072722399,-3.188665492872815,-3.174115590621568,-3.209247501624645,-3.18417853540609,-3.197265856419562,-3.187526919462357,-3.208070182227743,-3.194482342104265,-3.181682340931843,-3.155833150766966,-3.179472670388236,-3.203678290717107,-3.223428055375961,-3.166884617023356,-3.176351263805259,-3.203183906525282,-3.206435329645956,-3.133510335817163,-3.202037829055143,-3.182670511194715,-3.198031182386103,-3.198671326704016,-3.221430982426,-3.202294536676049,-3.2171441917087122,-3.222524291865397,-3.220602995527315,-3.185188767893123,-3.176686414784853,-3.194252202886105,-3.187329201962484,-3.223634263956455,-3.202073560611438,-3.207815717530479,-3.2108032288005,-3.194591930765,-3.209738736635245,-3.199635221500898,-3.180114903557978,-3.191317916099706,-3.23280956008216,-3.1716239961015162,-3.172108169850503,-3.201386994249105,-3.1754794362148,-3.300622016981151,-3.215659820662267,-3.180692837632364,-3.234541218248978,-3.210484908343801,-3.1865421356333172,-3.271484360775275,-3.202964359237739,-3.236542329964095,-3.203912595837096,-3.290794069257344,-3.237802024128314,-3.231715619159217,-3.307305425252252,-3.184979210204801,-3.251173333050928,-3.237802968201094,-3.243687888944919,-3.268697484588187,-3.306114175491529,-3.265384123501235,-3.281623013233002,-3.195673725279903,-3.17897226737648,-3.23472817617926,-3.232031328469361,-3.184972223259024,-3.178725911660876,-3.219679557435938,-3.248556775310362,-3.355912910873826,-3.3688722251728223,-3.381606403941987,-3.190360574257738,-3.18781281937504,-3.18691697426982,-3.1972457326126,-3.194640214184801,-3.220588933667954,-3.166806411195239,-3.155781602605998,-3.18226129953905,-3.187821518826922,-3.205665534467016,-3.168590609786974,-3.073045771766146,-3.211238456749925,-3.205765497136553,-3.207963567424258,-3.098567246199309,-3.198032688546618,-3.210396331000765,-3.178731512475451,-3.234497716594433,-3.289467852759799,-3.105037819791278,-3.180413257527789,-3.181597452807864,-3.226124804664096,-3.1758883709196652,-3.222415309596499,-3.189862157672223,-3.191321207818646,-3.185021145932069,-3.184951408497681,-3.194150044314256,-3.218192059354351,-3.203104599110474,-3.201278014771333,-3.320141905887681,-3.328825358925314,-3.300641788832536,-3.269286765448441,-3.185474585938891,-3.182589723460069,-3.180166347615113,-3.118332042090287,-3.185175372950425,-3.187197758547654,-3.181591941706529,-3.202094747416367,-3.231847150914063,-3.240777565829148,-3.191861874639585,-3.209749771944871,-3.195700361124863,-3.195470336902758,-3.21239711224257,-3.271523727766862,-3.214285387389054,-3.140540732733598,-3.231915547243943,-3.223434402338853,-3.237800313822617,-3.232909305683961,-3.23367105304419,-3.073104633681168,-3.223024024359574,-3.215661360613694,-3.237939788691392,-3.206431879393449,-3.198763443819871,-3.251110776059022,-3.180985762469163,-3.250881447188249,-3.243673010460725,-3.188919736735215,-3.0947272616547252,-3.307258798472374,-3.229909254900902,-3.213307722203224,-3.17221628009507,-3.289481117121666,-3.098561479441612,-3.17572460948655,-3.328783525816887,-3.320113285176247,-3.212354285094022,-3.215335840688084,-3.16739470303429,-3.307442444578868,-3.190270030188429,-3.314414297805683,-3.397772901929727,-3.381454898058535,-3.382426853781425,-3.404603924278717,-3.40375244599943,-3.385596660576908,-3.39421060796127,-3.401351801602175,-3.407156205559118,-3.355556216932513,-3.17358629706473,-3.066753916217862,-3.058492533629163,-3.18624761207468,-3.155794035109693,-2.9901380418724552],\"marker\":{\"color\":\"#636efa\"},\"mode\":\"markers\",\"name\":\"\",\"showlegend\":false,\"subplot\":\"mapbox\",\"type\":\"scattermapbox\"}],                        {\"template\":{\"data\":{\"bar\":[{\"error_x\":{\"color\":\"#2a3f5f\"},\"error_y\":{\"color\":\"#2a3f5f\"},\"marker\":{\"line\":{\"color\":\"#E5ECF6\",\"width\":0.5},\"pattern\":{\"fillmode\":\"overlay\",\"size\":10,\"solidity\":0.2}},\"type\":\"bar\"}],\"barpolar\":[{\"marker\":{\"line\":{\"color\":\"#E5ECF6\",\"width\":0.5},\"pattern\":{\"fillmode\":\"overlay\",\"size\":10,\"solidity\":0.2}},\"type\":\"barpolar\"}],\"carpet\":[{\"aaxis\":{\"endlinecolor\":\"#2a3f5f\",\"gridcolor\":\"white\",\"linecolor\":\"white\",\"minorgridcolor\":\"white\",\"startlinecolor\":\"#2a3f5f\"},\"baxis\":{\"endlinecolor\":\"#2a3f5f\",\"gridcolor\":\"white\",\"linecolor\":\"white\",\"minorgridcolor\":\"white\",\"startlinecolor\":\"#2a3f5f\"},\"type\":\"carpet\"}],\"choropleth\":[{\"colorbar\":{\"outlinewidth\":0,\"ticks\":\"\"},\"type\":\"choropleth\"}],\"contour\":[{\"colorbar\":{\"outlinewidth\":0,\"ticks\":\"\"},\"colorscale\":[[0.0,\"#0d0887\"],[0.1111111111111111,\"#46039f\"],[0.2222222222222222,\"#7201a8\"],[0.3333333333333333,\"#9c179e\"],[0.4444444444444444,\"#bd3786\"],[0.5555555555555556,\"#d8576b\"],[0.6666666666666666,\"#ed7953\"],[0.7777777777777778,\"#fb9f3a\"],[0.8888888888888888,\"#fdca26\"],[1.0,\"#f0f921\"]],\"type\":\"contour\"}],\"contourcarpet\":[{\"colorbar\":{\"outlinewidth\":0,\"ticks\":\"\"},\"type\":\"contourcarpet\"}],\"heatmap\":[{\"colorbar\":{\"outlinewidth\":0,\"ticks\":\"\"},\"colorscale\":[[0.0,\"#0d0887\"],[0.1111111111111111,\"#46039f\"],[0.2222222222222222,\"#7201a8\"],[0.3333333333333333,\"#9c179e\"],[0.4444444444444444,\"#bd3786\"],[0.5555555555555556,\"#d8576b\"],[0.6666666666666666,\"#ed7953\"],[0.7777777777777778,\"#fb9f3a\"],[0.8888888888888888,\"#fdca26\"],[1.0,\"#f0f921\"]],\"type\":\"heatmap\"}],\"heatmapgl\":[{\"colorbar\":{\"outlinewidth\":0,\"ticks\":\"\"},\"colorscale\":[[0.0,\"#0d0887\"],[0.1111111111111111,\"#46039f\"],[0.2222222222222222,\"#7201a8\"],[0.3333333333333333,\"#9c179e\"],[0.4444444444444444,\"#bd3786\"],[0.5555555555555556,\"#d8576b\"],[0.6666666666666666,\"#ed7953\"],[0.7777777777777778,\"#fb9f3a\"],[0.8888888888888888,\"#fdca26\"],[1.0,\"#f0f921\"]],\"type\":\"heatmapgl\"}],\"histogram\":[{\"marker\":{\"pattern\":{\"fillmode\":\"overlay\",\"size\":10,\"solidity\":0.2}},\"type\":\"histogram\"}],\"histogram2d\":[{\"colorbar\":{\"outlinewidth\":0,\"ticks\":\"\"},\"colorscale\":[[0.0,\"#0d0887\"],[0.1111111111111111,\"#46039f\"],[0.2222222222222222,\"#7201a8\"],[0.3333333333333333,\"#9c179e\"],[0.4444444444444444,\"#bd3786\"],[0.5555555555555556,\"#d8576b\"],[0.6666666666666666,\"#ed7953\"],[0.7777777777777778,\"#fb9f3a\"],[0.8888888888888888,\"#fdca26\"],[1.0,\"#f0f921\"]],\"type\":\"histogram2d\"}],\"histogram2dcontour\":[{\"colorbar\":{\"outlinewidth\":0,\"ticks\":\"\"},\"colorscale\":[[0.0,\"#0d0887\"],[0.1111111111111111,\"#46039f\"],[0.2222222222222222,\"#7201a8\"],[0.3333333333333333,\"#9c179e\"],[0.4444444444444444,\"#bd3786\"],[0.5555555555555556,\"#d8576b\"],[0.6666666666666666,\"#ed7953\"],[0.7777777777777778,\"#fb9f3a\"],[0.8888888888888888,\"#fdca26\"],[1.0,\"#f0f921\"]],\"type\":\"histogram2dcontour\"}],\"mesh3d\":[{\"colorbar\":{\"outlinewidth\":0,\"ticks\":\"\"},\"type\":\"mesh3d\"}],\"parcoords\":[{\"line\":{\"colorbar\":{\"outlinewidth\":0,\"ticks\":\"\"}},\"type\":\"parcoords\"}],\"pie\":[{\"automargin\":true,\"type\":\"pie\"}],\"scatter\":[{\"marker\":{\"colorbar\":{\"outlinewidth\":0,\"ticks\":\"\"}},\"type\":\"scatter\"}],\"scatter3d\":[{\"line\":{\"colorbar\":{\"outlinewidth\":0,\"ticks\":\"\"}},\"marker\":{\"colorbar\":{\"outlinewidth\":0,\"ticks\":\"\"}},\"type\":\"scatter3d\"}],\"scattercarpet\":[{\"marker\":{\"colorbar\":{\"outlinewidth\":0,\"ticks\":\"\"}},\"type\":\"scattercarpet\"}],\"scattergeo\":[{\"marker\":{\"colorbar\":{\"outlinewidth\":0,\"ticks\":\"\"}},\"type\":\"scattergeo\"}],\"scattergl\":[{\"marker\":{\"colorbar\":{\"outlinewidth\":0,\"ticks\":\"\"}},\"type\":\"scattergl\"}],\"scattermapbox\":[{\"marker\":{\"colorbar\":{\"outlinewidth\":0,\"ticks\":\"\"}},\"type\":\"scattermapbox\"}],\"scatterpolar\":[{\"marker\":{\"colorbar\":{\"outlinewidth\":0,\"ticks\":\"\"}},\"type\":\"scatterpolar\"}],\"scatterpolargl\":[{\"marker\":{\"colorbar\":{\"outlinewidth\":0,\"ticks\":\"\"}},\"type\":\"scatterpolargl\"}],\"scatterternary\":[{\"marker\":{\"colorbar\":{\"outlinewidth\":0,\"ticks\":\"\"}},\"type\":\"scatterternary\"}],\"surface\":[{\"colorbar\":{\"outlinewidth\":0,\"ticks\":\"\"},\"colorscale\":[[0.0,\"#0d0887\"],[0.1111111111111111,\"#46039f\"],[0.2222222222222222,\"#7201a8\"],[0.3333333333333333,\"#9c179e\"],[0.4444444444444444,\"#bd3786\"],[0.5555555555555556,\"#d8576b\"],[0.6666666666666666,\"#ed7953\"],[0.7777777777777778,\"#fb9f3a\"],[0.8888888888888888,\"#fdca26\"],[1.0,\"#f0f921\"]],\"type\":\"surface\"}],\"table\":[{\"cells\":{\"fill\":{\"color\":\"#EBF0F8\"},\"line\":{\"color\":\"white\"}},\"header\":{\"fill\":{\"color\":\"#C8D4E3\"},\"line\":{\"color\":\"white\"}},\"type\":\"table\"}]},\"layout\":{\"annotationdefaults\":{\"arrowcolor\":\"#2a3f5f\",\"arrowhead\":0,\"arrowwidth\":1},\"autotypenumbers\":\"strict\",\"coloraxis\":{\"colorbar\":{\"outlinewidth\":0,\"ticks\":\"\"}},\"colorscale\":{\"diverging\":[[0,\"#8e0152\"],[0.1,\"#c51b7d\"],[0.2,\"#de77ae\"],[0.3,\"#f1b6da\"],[0.4,\"#fde0ef\"],[0.5,\"#f7f7f7\"],[0.6,\"#e6f5d0\"],[0.7,\"#b8e186\"],[0.8,\"#7fbc41\"],[0.9,\"#4d9221\"],[1,\"#276419\"]],\"sequential\":[[0.0,\"#0d0887\"],[0.1111111111111111,\"#46039f\"],[0.2222222222222222,\"#7201a8\"],[0.3333333333333333,\"#9c179e\"],[0.4444444444444444,\"#bd3786\"],[0.5555555555555556,\"#d8576b\"],[0.6666666666666666,\"#ed7953\"],[0.7777777777777778,\"#fb9f3a\"],[0.8888888888888888,\"#fdca26\"],[1.0,\"#f0f921\"]],\"sequentialminus\":[[0.0,\"#0d0887\"],[0.1111111111111111,\"#46039f\"],[0.2222222222222222,\"#7201a8\"],[0.3333333333333333,\"#9c179e\"],[0.4444444444444444,\"#bd3786\"],[0.5555555555555556,\"#d8576b\"],[0.6666666666666666,\"#ed7953\"],[0.7777777777777778,\"#fb9f3a\"],[0.8888888888888888,\"#fdca26\"],[1.0,\"#f0f921\"]]},\"colorway\":[\"#636efa\",\"#EF553B\",\"#00cc96\",\"#ab63fa\",\"#FFA15A\",\"#19d3f3\",\"#FF6692\",\"#B6E880\",\"#FF97FF\",\"#FECB52\"],\"font\":{\"color\":\"#2a3f5f\"},\"geo\":{\"bgcolor\":\"white\",\"lakecolor\":\"white\",\"landcolor\":\"#E5ECF6\",\"showlakes\":true,\"showland\":true,\"subunitcolor\":\"white\"},\"hoverlabel\":{\"align\":\"left\"},\"hovermode\":\"closest\",\"mapbox\":{\"style\":\"light\"},\"paper_bgcolor\":\"white\",\"plot_bgcolor\":\"#E5ECF6\",\"polar\":{\"angularaxis\":{\"gridcolor\":\"white\",\"linecolor\":\"white\",\"ticks\":\"\"},\"bgcolor\":\"#E5ECF6\",\"radialaxis\":{\"gridcolor\":\"white\",\"linecolor\":\"white\",\"ticks\":\"\"}},\"scene\":{\"xaxis\":{\"backgroundcolor\":\"#E5ECF6\",\"gridcolor\":\"white\",\"gridwidth\":2,\"linecolor\":\"white\",\"showbackground\":true,\"ticks\":\"\",\"zerolinecolor\":\"white\"},\"yaxis\":{\"backgroundcolor\":\"#E5ECF6\",\"gridcolor\":\"white\",\"gridwidth\":2,\"linecolor\":\"white\",\"showbackground\":true,\"ticks\":\"\",\"zerolinecolor\":\"white\"},\"zaxis\":{\"backgroundcolor\":\"#E5ECF6\",\"gridcolor\":\"white\",\"gridwidth\":2,\"linecolor\":\"white\",\"showbackground\":true,\"ticks\":\"\",\"zerolinecolor\":\"white\"}},\"shapedefaults\":{\"line\":{\"color\":\"#2a3f5f\"}},\"ternary\":{\"aaxis\":{\"gridcolor\":\"white\",\"linecolor\":\"white\",\"ticks\":\"\"},\"baxis\":{\"gridcolor\":\"white\",\"linecolor\":\"white\",\"ticks\":\"\"},\"bgcolor\":\"#E5ECF6\",\"caxis\":{\"gridcolor\":\"white\",\"linecolor\":\"white\",\"ticks\":\"\"}},\"title\":{\"x\":0.05},\"xaxis\":{\"automargin\":true,\"gridcolor\":\"white\",\"linecolor\":\"white\",\"ticks\":\"\",\"title\":{\"standoff\":15},\"zerolinecolor\":\"white\",\"zerolinewidth\":2},\"yaxis\":{\"automargin\":true,\"gridcolor\":\"white\",\"linecolor\":\"white\",\"ticks\":\"\",\"title\":{\"standoff\":15},\"zerolinecolor\":\"white\",\"zerolinewidth\":2}}},\"mapbox\":{\"domain\":{\"x\":[0.0,1.0],\"y\":[0.0,1.0]},\"center\":{\"lat\":55.93678355923356,\"lon\":-3.2146867369991274},\"zoom\":10,\"style\":\"open-street-map\"},\"legend\":{\"tracegroupgap\":0},\"margin\":{\"t\":0,\"r\":0,\"l\":0,\"b\":0},\"height\":600},                        {\"responsive\": true}                    ).then(function(){\n",
              "                            \n",
              "var gd = document.getElementById('84175de5-e134-4ab4-b534-ea3df8489b80');\n",
              "var x = new MutationObserver(function (mutations, observer) {{\n",
              "        var display = window.getComputedStyle(gd).display;\n",
              "        if (!display || display === 'none') {{\n",
              "            console.log([gd, 'removed!']);\n",
              "            Plotly.purge(gd);\n",
              "            observer.disconnect();\n",
              "        }}\n",
              "}});\n",
              "\n",
              "// Listen for the removal of the full notebook cells\n",
              "var notebookContainer = gd.closest('#notebook-container');\n",
              "if (notebookContainer) {{\n",
              "    x.observe(notebookContainer, {childList: true});\n",
              "}}\n",
              "\n",
              "// Listen for the clearing of the current output cell\n",
              "var outputEl = gd.closest('.output');\n",
              "if (outputEl) {{\n",
              "    x.observe(outputEl, {childList: true});\n",
              "}}\n",
              "\n",
              "                        })                };                            </script>        </div>\n",
              "</body>\n",
              "</html>"
            ]
          },
          "metadata": {}
        }
      ]
    },
    {
      "cell_type": "markdown",
      "source": [
        "#### Histogram využívání stanic<a name=\"3.1.1\"></a>"
      ],
      "metadata": {
        "id": "a8z16mSfcB95"
      }
    },
    {
      "cell_type": "code",
      "source": [
        "# vytvoření histogramu podle frekvence počtu vypůjčení\n",
        "px.histogram(df_s, x=\"start_frequency\")"
      ],
      "metadata": {
        "id": "c_e_vsnncCrb",
        "outputId": "223010ae-d4df-42b2-e2d4-62e93b379f10",
        "colab": {
          "base_uri": "https://localhost:8080/",
          "height": 542
        }
      },
      "execution_count": 88,
      "outputs": [
        {
          "output_type": "display_data",
          "data": {
            "text/html": [
              "<html>\n",
              "<head><meta charset=\"utf-8\" /></head>\n",
              "<body>\n",
              "    <div>            <script src=\"https://cdnjs.cloudflare.com/ajax/libs/mathjax/2.7.5/MathJax.js?config=TeX-AMS-MML_SVG\"></script><script type=\"text/javascript\">if (window.MathJax) {MathJax.Hub.Config({SVG: {font: \"STIX-Web\"}});}</script>                <script type=\"text/javascript\">window.PlotlyConfig = {MathJaxConfig: 'local'};</script>\n",
              "        <script src=\"https://cdn.plot.ly/plotly-2.8.3.min.js\"></script>                <div id=\"32691150-0830-4c45-850e-86592f9ddb1b\" class=\"plotly-graph-div\" style=\"height:525px; width:100%;\"></div>            <script type=\"text/javascript\">                                    window.PLOTLYENV=window.PLOTLYENV || {};                                    if (document.getElementById(\"32691150-0830-4c45-850e-86592f9ddb1b\")) {                    Plotly.newPlot(                        \"32691150-0830-4c45-850e-86592f9ddb1b\",                        [{\"alignmentgroup\":\"True\",\"bingroup\":\"x\",\"hovertemplate\":\"start_frequency=%{x}<br>count=%{y}<extra></extra>\",\"legendgroup\":\"\",\"marker\":{\"color\":\"#636efa\",\"pattern\":{\"shape\":\"\"}},\"name\":\"\",\"offsetgroup\":\"\",\"orientation\":\"v\",\"showlegend\":false,\"x\":[8134.0,12218.0,9551.0,254.0,4096.0,1936.0,3176.0,9441.0,4782.0,17390.0,8569.0,5836.0,4039.0,45.0,2881.0,6097.0,12846.0,10662.0,8464.0,2531.0,6275.0,1910.0,6219.0,178.0,3250.0,2.0,726.0,850.0,484.0,503.0,5505.0,8923.0,3330.0,19.0,4926.0,854.0,1197.0,222.0,391.0,247.0,45.0,341.0,1554.0,1015.0,7964.0,1007.0,1176.0,1436.0,1548.0,556.0,1030.0,1178.0,1121.0,5.0,994.0,1868.0,366.0,1437.0,191.0,859.0,925.0,703.0,820.0,123.0,377.0,710.0,335.0,355.0,1071.0,266.0,91.0,56.0,334.0,569.0,53.0,504.0,85.0,271.0,509.0,139.0,62.0,18.0,46.0,109.0,19.0,39.0,412.0,492.0,25.0,23.0,6.0,11.0,6.0,42.0,43.0,120.0,2893.0,2973.0,11373.0,7247.0,889.0,3.0,341.0,3172.0,29.0,6.0,93.0,47.0,5472.0,4735.0,102.0,3560.0,3460.0,1301.0,1909.0,36.0,3.0,3912.0,2.0,1116.0,4072.0,3950.0,55.0,946.0,2131.0,4352.0,3102.0,3248.0,5669.0,3318.0,67.0,45.0,6610.0,1005.0,3216.0,1802.0,4337.0,11843.0,3672.0,3063.0,1380.0,2667.0,1956.0,1.0,9.0,3735.0,1618.0,2560.0,2165.0,1408.0,1327.0,1417.0,2166.0,2385.0,883.0,1892.0,2179.0,1376.0,2546.0,3026.0,978.0,7001.0,1833.0,1884.0,5150.0,719.0,784.0,2261.0,3240.0,1528.0,2773.0,529.0,4686.0,516.0,1112.0,4694.0,530.0,912.0,2866.0,3976.0,7288.0,869.0,1.0,221.0,577.0,619.0,410.0,1058.0,557.0,1643.0,128.0,219.0,195.0,136.0,1142.0,709.0,294.0,1929.0,null,null],\"xaxis\":\"x\",\"yaxis\":\"y\",\"type\":\"histogram\"}],                        {\"template\":{\"data\":{\"bar\":[{\"error_x\":{\"color\":\"#2a3f5f\"},\"error_y\":{\"color\":\"#2a3f5f\"},\"marker\":{\"line\":{\"color\":\"#E5ECF6\",\"width\":0.5},\"pattern\":{\"fillmode\":\"overlay\",\"size\":10,\"solidity\":0.2}},\"type\":\"bar\"}],\"barpolar\":[{\"marker\":{\"line\":{\"color\":\"#E5ECF6\",\"width\":0.5},\"pattern\":{\"fillmode\":\"overlay\",\"size\":10,\"solidity\":0.2}},\"type\":\"barpolar\"}],\"carpet\":[{\"aaxis\":{\"endlinecolor\":\"#2a3f5f\",\"gridcolor\":\"white\",\"linecolor\":\"white\",\"minorgridcolor\":\"white\",\"startlinecolor\":\"#2a3f5f\"},\"baxis\":{\"endlinecolor\":\"#2a3f5f\",\"gridcolor\":\"white\",\"linecolor\":\"white\",\"minorgridcolor\":\"white\",\"startlinecolor\":\"#2a3f5f\"},\"type\":\"carpet\"}],\"choropleth\":[{\"colorbar\":{\"outlinewidth\":0,\"ticks\":\"\"},\"type\":\"choropleth\"}],\"contour\":[{\"colorbar\":{\"outlinewidth\":0,\"ticks\":\"\"},\"colorscale\":[[0.0,\"#0d0887\"],[0.1111111111111111,\"#46039f\"],[0.2222222222222222,\"#7201a8\"],[0.3333333333333333,\"#9c179e\"],[0.4444444444444444,\"#bd3786\"],[0.5555555555555556,\"#d8576b\"],[0.6666666666666666,\"#ed7953\"],[0.7777777777777778,\"#fb9f3a\"],[0.8888888888888888,\"#fdca26\"],[1.0,\"#f0f921\"]],\"type\":\"contour\"}],\"contourcarpet\":[{\"colorbar\":{\"outlinewidth\":0,\"ticks\":\"\"},\"type\":\"contourcarpet\"}],\"heatmap\":[{\"colorbar\":{\"outlinewidth\":0,\"ticks\":\"\"},\"colorscale\":[[0.0,\"#0d0887\"],[0.1111111111111111,\"#46039f\"],[0.2222222222222222,\"#7201a8\"],[0.3333333333333333,\"#9c179e\"],[0.4444444444444444,\"#bd3786\"],[0.5555555555555556,\"#d8576b\"],[0.6666666666666666,\"#ed7953\"],[0.7777777777777778,\"#fb9f3a\"],[0.8888888888888888,\"#fdca26\"],[1.0,\"#f0f921\"]],\"type\":\"heatmap\"}],\"heatmapgl\":[{\"colorbar\":{\"outlinewidth\":0,\"ticks\":\"\"},\"colorscale\":[[0.0,\"#0d0887\"],[0.1111111111111111,\"#46039f\"],[0.2222222222222222,\"#7201a8\"],[0.3333333333333333,\"#9c179e\"],[0.4444444444444444,\"#bd3786\"],[0.5555555555555556,\"#d8576b\"],[0.6666666666666666,\"#ed7953\"],[0.7777777777777778,\"#fb9f3a\"],[0.8888888888888888,\"#fdca26\"],[1.0,\"#f0f921\"]],\"type\":\"heatmapgl\"}],\"histogram\":[{\"marker\":{\"pattern\":{\"fillmode\":\"overlay\",\"size\":10,\"solidity\":0.2}},\"type\":\"histogram\"}],\"histogram2d\":[{\"colorbar\":{\"outlinewidth\":0,\"ticks\":\"\"},\"colorscale\":[[0.0,\"#0d0887\"],[0.1111111111111111,\"#46039f\"],[0.2222222222222222,\"#7201a8\"],[0.3333333333333333,\"#9c179e\"],[0.4444444444444444,\"#bd3786\"],[0.5555555555555556,\"#d8576b\"],[0.6666666666666666,\"#ed7953\"],[0.7777777777777778,\"#fb9f3a\"],[0.8888888888888888,\"#fdca26\"],[1.0,\"#f0f921\"]],\"type\":\"histogram2d\"}],\"histogram2dcontour\":[{\"colorbar\":{\"outlinewidth\":0,\"ticks\":\"\"},\"colorscale\":[[0.0,\"#0d0887\"],[0.1111111111111111,\"#46039f\"],[0.2222222222222222,\"#7201a8\"],[0.3333333333333333,\"#9c179e\"],[0.4444444444444444,\"#bd3786\"],[0.5555555555555556,\"#d8576b\"],[0.6666666666666666,\"#ed7953\"],[0.7777777777777778,\"#fb9f3a\"],[0.8888888888888888,\"#fdca26\"],[1.0,\"#f0f921\"]],\"type\":\"histogram2dcontour\"}],\"mesh3d\":[{\"colorbar\":{\"outlinewidth\":0,\"ticks\":\"\"},\"type\":\"mesh3d\"}],\"parcoords\":[{\"line\":{\"colorbar\":{\"outlinewidth\":0,\"ticks\":\"\"}},\"type\":\"parcoords\"}],\"pie\":[{\"automargin\":true,\"type\":\"pie\"}],\"scatter\":[{\"marker\":{\"colorbar\":{\"outlinewidth\":0,\"ticks\":\"\"}},\"type\":\"scatter\"}],\"scatter3d\":[{\"line\":{\"colorbar\":{\"outlinewidth\":0,\"ticks\":\"\"}},\"marker\":{\"colorbar\":{\"outlinewidth\":0,\"ticks\":\"\"}},\"type\":\"scatter3d\"}],\"scattercarpet\":[{\"marker\":{\"colorbar\":{\"outlinewidth\":0,\"ticks\":\"\"}},\"type\":\"scattercarpet\"}],\"scattergeo\":[{\"marker\":{\"colorbar\":{\"outlinewidth\":0,\"ticks\":\"\"}},\"type\":\"scattergeo\"}],\"scattergl\":[{\"marker\":{\"colorbar\":{\"outlinewidth\":0,\"ticks\":\"\"}},\"type\":\"scattergl\"}],\"scattermapbox\":[{\"marker\":{\"colorbar\":{\"outlinewidth\":0,\"ticks\":\"\"}},\"type\":\"scattermapbox\"}],\"scatterpolar\":[{\"marker\":{\"colorbar\":{\"outlinewidth\":0,\"ticks\":\"\"}},\"type\":\"scatterpolar\"}],\"scatterpolargl\":[{\"marker\":{\"colorbar\":{\"outlinewidth\":0,\"ticks\":\"\"}},\"type\":\"scatterpolargl\"}],\"scatterternary\":[{\"marker\":{\"colorbar\":{\"outlinewidth\":0,\"ticks\":\"\"}},\"type\":\"scatterternary\"}],\"surface\":[{\"colorbar\":{\"outlinewidth\":0,\"ticks\":\"\"},\"colorscale\":[[0.0,\"#0d0887\"],[0.1111111111111111,\"#46039f\"],[0.2222222222222222,\"#7201a8\"],[0.3333333333333333,\"#9c179e\"],[0.4444444444444444,\"#bd3786\"],[0.5555555555555556,\"#d8576b\"],[0.6666666666666666,\"#ed7953\"],[0.7777777777777778,\"#fb9f3a\"],[0.8888888888888888,\"#fdca26\"],[1.0,\"#f0f921\"]],\"type\":\"surface\"}],\"table\":[{\"cells\":{\"fill\":{\"color\":\"#EBF0F8\"},\"line\":{\"color\":\"white\"}},\"header\":{\"fill\":{\"color\":\"#C8D4E3\"},\"line\":{\"color\":\"white\"}},\"type\":\"table\"}]},\"layout\":{\"annotationdefaults\":{\"arrowcolor\":\"#2a3f5f\",\"arrowhead\":0,\"arrowwidth\":1},\"autotypenumbers\":\"strict\",\"coloraxis\":{\"colorbar\":{\"outlinewidth\":0,\"ticks\":\"\"}},\"colorscale\":{\"diverging\":[[0,\"#8e0152\"],[0.1,\"#c51b7d\"],[0.2,\"#de77ae\"],[0.3,\"#f1b6da\"],[0.4,\"#fde0ef\"],[0.5,\"#f7f7f7\"],[0.6,\"#e6f5d0\"],[0.7,\"#b8e186\"],[0.8,\"#7fbc41\"],[0.9,\"#4d9221\"],[1,\"#276419\"]],\"sequential\":[[0.0,\"#0d0887\"],[0.1111111111111111,\"#46039f\"],[0.2222222222222222,\"#7201a8\"],[0.3333333333333333,\"#9c179e\"],[0.4444444444444444,\"#bd3786\"],[0.5555555555555556,\"#d8576b\"],[0.6666666666666666,\"#ed7953\"],[0.7777777777777778,\"#fb9f3a\"],[0.8888888888888888,\"#fdca26\"],[1.0,\"#f0f921\"]],\"sequentialminus\":[[0.0,\"#0d0887\"],[0.1111111111111111,\"#46039f\"],[0.2222222222222222,\"#7201a8\"],[0.3333333333333333,\"#9c179e\"],[0.4444444444444444,\"#bd3786\"],[0.5555555555555556,\"#d8576b\"],[0.6666666666666666,\"#ed7953\"],[0.7777777777777778,\"#fb9f3a\"],[0.8888888888888888,\"#fdca26\"],[1.0,\"#f0f921\"]]},\"colorway\":[\"#636efa\",\"#EF553B\",\"#00cc96\",\"#ab63fa\",\"#FFA15A\",\"#19d3f3\",\"#FF6692\",\"#B6E880\",\"#FF97FF\",\"#FECB52\"],\"font\":{\"color\":\"#2a3f5f\"},\"geo\":{\"bgcolor\":\"white\",\"lakecolor\":\"white\",\"landcolor\":\"#E5ECF6\",\"showlakes\":true,\"showland\":true,\"subunitcolor\":\"white\"},\"hoverlabel\":{\"align\":\"left\"},\"hovermode\":\"closest\",\"mapbox\":{\"style\":\"light\"},\"paper_bgcolor\":\"white\",\"plot_bgcolor\":\"#E5ECF6\",\"polar\":{\"angularaxis\":{\"gridcolor\":\"white\",\"linecolor\":\"white\",\"ticks\":\"\"},\"bgcolor\":\"#E5ECF6\",\"radialaxis\":{\"gridcolor\":\"white\",\"linecolor\":\"white\",\"ticks\":\"\"}},\"scene\":{\"xaxis\":{\"backgroundcolor\":\"#E5ECF6\",\"gridcolor\":\"white\",\"gridwidth\":2,\"linecolor\":\"white\",\"showbackground\":true,\"ticks\":\"\",\"zerolinecolor\":\"white\"},\"yaxis\":{\"backgroundcolor\":\"#E5ECF6\",\"gridcolor\":\"white\",\"gridwidth\":2,\"linecolor\":\"white\",\"showbackground\":true,\"ticks\":\"\",\"zerolinecolor\":\"white\"},\"zaxis\":{\"backgroundcolor\":\"#E5ECF6\",\"gridcolor\":\"white\",\"gridwidth\":2,\"linecolor\":\"white\",\"showbackground\":true,\"ticks\":\"\",\"zerolinecolor\":\"white\"}},\"shapedefaults\":{\"line\":{\"color\":\"#2a3f5f\"}},\"ternary\":{\"aaxis\":{\"gridcolor\":\"white\",\"linecolor\":\"white\",\"ticks\":\"\"},\"baxis\":{\"gridcolor\":\"white\",\"linecolor\":\"white\",\"ticks\":\"\"},\"bgcolor\":\"#E5ECF6\",\"caxis\":{\"gridcolor\":\"white\",\"linecolor\":\"white\",\"ticks\":\"\"}},\"title\":{\"x\":0.05},\"xaxis\":{\"automargin\":true,\"gridcolor\":\"white\",\"linecolor\":\"white\",\"ticks\":\"\",\"title\":{\"standoff\":15},\"zerolinecolor\":\"white\",\"zerolinewidth\":2},\"yaxis\":{\"automargin\":true,\"gridcolor\":\"white\",\"linecolor\":\"white\",\"ticks\":\"\",\"title\":{\"standoff\":15},\"zerolinecolor\":\"white\",\"zerolinewidth\":2}}},\"xaxis\":{\"anchor\":\"y\",\"domain\":[0.0,1.0],\"title\":{\"text\":\"start_frequency\"}},\"yaxis\":{\"anchor\":\"x\",\"domain\":[0.0,1.0],\"title\":{\"text\":\"count\"}},\"legend\":{\"tracegroupgap\":0},\"margin\":{\"t\":60},\"barmode\":\"relative\"},                        {\"responsive\": true}                    ).then(function(){\n",
              "                            \n",
              "var gd = document.getElementById('32691150-0830-4c45-850e-86592f9ddb1b');\n",
              "var x = new MutationObserver(function (mutations, observer) {{\n",
              "        var display = window.getComputedStyle(gd).display;\n",
              "        if (!display || display === 'none') {{\n",
              "            console.log([gd, 'removed!']);\n",
              "            Plotly.purge(gd);\n",
              "            observer.disconnect();\n",
              "        }}\n",
              "}});\n",
              "\n",
              "// Listen for the removal of the full notebook cells\n",
              "var notebookContainer = gd.closest('#notebook-container');\n",
              "if (notebookContainer) {{\n",
              "    x.observe(notebookContainer, {childList: true});\n",
              "}}\n",
              "\n",
              "// Listen for the clearing of the current output cell\n",
              "var outputEl = gd.closest('.output');\n",
              "if (outputEl) {{\n",
              "    x.observe(outputEl, {childList: true});\n",
              "}}\n",
              "\n",
              "                        })                };                            </script>        </div>\n",
              "</body>\n",
              "</html>"
            ]
          },
          "metadata": {}
        }
      ]
    },
    {
      "cell_type": "code",
      "source": [
        "# nahradit řádky NaN za 0\n",
        "df_s[\"start_frequency\"] = df_s.start_frequency.fillna(0)"
      ],
      "metadata": {
        "id": "a5HR6SOnqdE8"
      },
      "execution_count": 166,
      "outputs": []
    },
    {
      "cell_type": "code",
      "source": [
        "# interquartile range\n",
        "Q1 = df_s[\"start_frequency\"].quantile(0.25)\n",
        "Q3 = df_s[\"start_frequency\"].quantile(0.75)\n",
        "IQR = Q3 - Q1"
      ],
      "metadata": {
        "id": "0FlVQX2flJZi"
      },
      "execution_count": 185,
      "outputs": []
    },
    {
      "cell_type": "code",
      "source": [
        "Q3"
      ],
      "metadata": {
        "id": "ImPPulKdvPHV",
        "outputId": "d9fefb3d-75fa-487e-d0cb-d579415c2a2e",
        "colab": {
          "base_uri": "https://localhost:8080/"
        }
      },
      "execution_count": 187,
      "outputs": [
        {
          "output_type": "execute_result",
          "data": {
            "text/plain": [
              "3119.5"
            ]
          },
          "metadata": {},
          "execution_count": 187
        }
      ]
    },
    {
      "cell_type": "code",
      "source": [
        "# odlehlé hodnoty\n",
        "lower_bound = Q1 - 1.5 * IQR\n",
        "upper_bound = Q3 + 1,5 * IQR"
      ],
      "metadata": {
        "id": "CpLesWIDksbe"
      },
      "execution_count": 179,
      "outputs": []
    },
    {
      "cell_type": "code",
      "source": [
        "lower_bound"
      ],
      "metadata": {
        "id": "u5Y6KPiXuOp1",
        "outputId": "ffd79391-fc8c-4b25-8276-53e84f34c95e",
        "colab": {
          "base_uri": "https://localhost:8080/"
        }
      },
      "execution_count": 183,
      "outputs": [
        {
          "output_type": "execute_result",
          "data": {
            "text/plain": [
              "-4077.375"
            ]
          },
          "metadata": {},
          "execution_count": 183
        }
      ]
    },
    {
      "cell_type": "code",
      "source": [
        "df_s[(df_s[\"start_frequency\"] < lower_bound) | (df_s[\"start_frequency\"] > upper_bound)]"
      ],
      "metadata": {
        "id": "_kEHEjCSlhV4",
        "outputId": "e783c17b-d5bc-46ed-e757-81ee50c32192",
        "colab": {
          "base_uri": "https://localhost:8080/",
          "height": 311
        }
      },
      "execution_count": 180,
      "outputs": [
        {
          "output_type": "error",
          "ename": "ValueError",
          "evalue": "ignored",
          "traceback": [
            "\u001b[0;31m---------------------------------------------------------------------------\u001b[0m",
            "\u001b[0;31mValueError\u001b[0m                                Traceback (most recent call last)",
            "\u001b[0;32m<ipython-input-180-773b79b76be3>\u001b[0m in \u001b[0;36m<module>\u001b[0;34m()\u001b[0m\n\u001b[0;32m----> 1\u001b[0;31m \u001b[0mdf_s\u001b[0m\u001b[0;34m[\u001b[0m\u001b[0;34m(\u001b[0m\u001b[0mdf_s\u001b[0m\u001b[0;34m[\u001b[0m\u001b[0;34m\"start_frequency\"\u001b[0m\u001b[0;34m]\u001b[0m \u001b[0;34m<\u001b[0m \u001b[0mlower_bound\u001b[0m\u001b[0;34m)\u001b[0m \u001b[0;34m|\u001b[0m \u001b[0;34m(\u001b[0m\u001b[0mdf_s\u001b[0m\u001b[0;34m[\u001b[0m\u001b[0;34m\"start_frequency\"\u001b[0m\u001b[0;34m]\u001b[0m \u001b[0;34m>\u001b[0m \u001b[0mupper_bound\u001b[0m\u001b[0;34m)\u001b[0m\u001b[0;34m]\u001b[0m\u001b[0;34m\u001b[0m\u001b[0;34m\u001b[0m\u001b[0m\n\u001b[0m",
            "\u001b[0;32m/usr/local/lib/python3.7/dist-packages/pandas/core/ops/common.py\u001b[0m in \u001b[0;36mnew_method\u001b[0;34m(self, other)\u001b[0m\n\u001b[1;32m     67\u001b[0m         \u001b[0mother\u001b[0m \u001b[0;34m=\u001b[0m \u001b[0mitem_from_zerodim\u001b[0m\u001b[0;34m(\u001b[0m\u001b[0mother\u001b[0m\u001b[0;34m)\u001b[0m\u001b[0;34m\u001b[0m\u001b[0;34m\u001b[0m\u001b[0m\n\u001b[1;32m     68\u001b[0m \u001b[0;34m\u001b[0m\u001b[0m\n\u001b[0;32m---> 69\u001b[0;31m         \u001b[0;32mreturn\u001b[0m \u001b[0mmethod\u001b[0m\u001b[0;34m(\u001b[0m\u001b[0mself\u001b[0m\u001b[0;34m,\u001b[0m \u001b[0mother\u001b[0m\u001b[0;34m)\u001b[0m\u001b[0;34m\u001b[0m\u001b[0;34m\u001b[0m\u001b[0m\n\u001b[0m\u001b[1;32m     70\u001b[0m \u001b[0;34m\u001b[0m\u001b[0m\n\u001b[1;32m     71\u001b[0m     \u001b[0;32mreturn\u001b[0m \u001b[0mnew_method\u001b[0m\u001b[0;34m\u001b[0m\u001b[0;34m\u001b[0m\u001b[0m\n",
            "\u001b[0;32m/usr/local/lib/python3.7/dist-packages/pandas/core/arraylike.py\u001b[0m in \u001b[0;36m__gt__\u001b[0;34m(self, other)\u001b[0m\n\u001b[1;32m     46\u001b[0m     \u001b[0;34m@\u001b[0m\u001b[0munpack_zerodim_and_defer\u001b[0m\u001b[0;34m(\u001b[0m\u001b[0;34m\"__gt__\"\u001b[0m\u001b[0;34m)\u001b[0m\u001b[0;34m\u001b[0m\u001b[0;34m\u001b[0m\u001b[0m\n\u001b[1;32m     47\u001b[0m     \u001b[0;32mdef\u001b[0m \u001b[0m__gt__\u001b[0m\u001b[0;34m(\u001b[0m\u001b[0mself\u001b[0m\u001b[0;34m,\u001b[0m \u001b[0mother\u001b[0m\u001b[0;34m)\u001b[0m\u001b[0;34m:\u001b[0m\u001b[0;34m\u001b[0m\u001b[0;34m\u001b[0m\u001b[0m\n\u001b[0;32m---> 48\u001b[0;31m         \u001b[0;32mreturn\u001b[0m \u001b[0mself\u001b[0m\u001b[0;34m.\u001b[0m\u001b[0m_cmp_method\u001b[0m\u001b[0;34m(\u001b[0m\u001b[0mother\u001b[0m\u001b[0;34m,\u001b[0m \u001b[0moperator\u001b[0m\u001b[0;34m.\u001b[0m\u001b[0mgt\u001b[0m\u001b[0;34m)\u001b[0m\u001b[0;34m\u001b[0m\u001b[0;34m\u001b[0m\u001b[0m\n\u001b[0m\u001b[1;32m     49\u001b[0m \u001b[0;34m\u001b[0m\u001b[0m\n\u001b[1;32m     50\u001b[0m     \u001b[0;34m@\u001b[0m\u001b[0munpack_zerodim_and_defer\u001b[0m\u001b[0;34m(\u001b[0m\u001b[0;34m\"__ge__\"\u001b[0m\u001b[0;34m)\u001b[0m\u001b[0;34m\u001b[0m\u001b[0;34m\u001b[0m\u001b[0m\n",
            "\u001b[0;32m/usr/local/lib/python3.7/dist-packages/pandas/core/series.py\u001b[0m in \u001b[0;36m_cmp_method\u001b[0;34m(self, other, op)\u001b[0m\n\u001b[1;32m   5500\u001b[0m \u001b[0;34m\u001b[0m\u001b[0m\n\u001b[1;32m   5501\u001b[0m         \u001b[0;32mwith\u001b[0m \u001b[0mnp\u001b[0m\u001b[0;34m.\u001b[0m\u001b[0merrstate\u001b[0m\u001b[0;34m(\u001b[0m\u001b[0mall\u001b[0m\u001b[0;34m=\u001b[0m\u001b[0;34m\"ignore\"\u001b[0m\u001b[0;34m)\u001b[0m\u001b[0;34m:\u001b[0m\u001b[0;34m\u001b[0m\u001b[0;34m\u001b[0m\u001b[0m\n\u001b[0;32m-> 5502\u001b[0;31m             \u001b[0mres_values\u001b[0m \u001b[0;34m=\u001b[0m \u001b[0mops\u001b[0m\u001b[0;34m.\u001b[0m\u001b[0mcomparison_op\u001b[0m\u001b[0;34m(\u001b[0m\u001b[0mlvalues\u001b[0m\u001b[0;34m,\u001b[0m \u001b[0mrvalues\u001b[0m\u001b[0;34m,\u001b[0m \u001b[0mop\u001b[0m\u001b[0;34m)\u001b[0m\u001b[0;34m\u001b[0m\u001b[0;34m\u001b[0m\u001b[0m\n\u001b[0m\u001b[1;32m   5503\u001b[0m \u001b[0;34m\u001b[0m\u001b[0m\n\u001b[1;32m   5504\u001b[0m         \u001b[0;32mreturn\u001b[0m \u001b[0mself\u001b[0m\u001b[0;34m.\u001b[0m\u001b[0m_construct_result\u001b[0m\u001b[0;34m(\u001b[0m\u001b[0mres_values\u001b[0m\u001b[0;34m,\u001b[0m \u001b[0mname\u001b[0m\u001b[0;34m=\u001b[0m\u001b[0mres_name\u001b[0m\u001b[0;34m)\u001b[0m\u001b[0;34m\u001b[0m\u001b[0;34m\u001b[0m\u001b[0m\n",
            "\u001b[0;32m/usr/local/lib/python3.7/dist-packages/pandas/core/ops/array_ops.py\u001b[0m in \u001b[0;36mcomparison_op\u001b[0;34m(left, right, op)\u001b[0m\n\u001b[1;32m    285\u001b[0m \u001b[0;34m\u001b[0m\u001b[0m\n\u001b[1;32m    286\u001b[0m     \u001b[0;32melse\u001b[0m\u001b[0;34m:\u001b[0m\u001b[0;34m\u001b[0m\u001b[0;34m\u001b[0m\u001b[0m\n\u001b[0;32m--> 287\u001b[0;31m         \u001b[0mres_values\u001b[0m \u001b[0;34m=\u001b[0m \u001b[0m_na_arithmetic_op\u001b[0m\u001b[0;34m(\u001b[0m\u001b[0mlvalues\u001b[0m\u001b[0;34m,\u001b[0m \u001b[0mrvalues\u001b[0m\u001b[0;34m,\u001b[0m \u001b[0mop\u001b[0m\u001b[0;34m,\u001b[0m \u001b[0mis_cmp\u001b[0m\u001b[0;34m=\u001b[0m\u001b[0;32mTrue\u001b[0m\u001b[0;34m)\u001b[0m\u001b[0;34m\u001b[0m\u001b[0;34m\u001b[0m\u001b[0m\n\u001b[0m\u001b[1;32m    288\u001b[0m \u001b[0;34m\u001b[0m\u001b[0m\n\u001b[1;32m    289\u001b[0m     \u001b[0;32mreturn\u001b[0m \u001b[0mres_values\u001b[0m\u001b[0;34m\u001b[0m\u001b[0;34m\u001b[0m\u001b[0m\n",
            "\u001b[0;32m/usr/local/lib/python3.7/dist-packages/pandas/core/ops/array_ops.py\u001b[0m in \u001b[0;36m_na_arithmetic_op\u001b[0;34m(left, right, op, is_cmp)\u001b[0m\n\u001b[1;32m    164\u001b[0m \u001b[0;34m\u001b[0m\u001b[0m\n\u001b[1;32m    165\u001b[0m     \u001b[0;32mtry\u001b[0m\u001b[0;34m:\u001b[0m\u001b[0;34m\u001b[0m\u001b[0;34m\u001b[0m\u001b[0m\n\u001b[0;32m--> 166\u001b[0;31m         \u001b[0mresult\u001b[0m \u001b[0;34m=\u001b[0m \u001b[0mfunc\u001b[0m\u001b[0;34m(\u001b[0m\u001b[0mleft\u001b[0m\u001b[0;34m,\u001b[0m \u001b[0mright\u001b[0m\u001b[0;34m)\u001b[0m\u001b[0;34m\u001b[0m\u001b[0;34m\u001b[0m\u001b[0m\n\u001b[0m\u001b[1;32m    167\u001b[0m     \u001b[0;32mexcept\u001b[0m \u001b[0mTypeError\u001b[0m\u001b[0;34m:\u001b[0m\u001b[0;34m\u001b[0m\u001b[0;34m\u001b[0m\u001b[0m\n\u001b[1;32m    168\u001b[0m         \u001b[0;32mif\u001b[0m \u001b[0mis_object_dtype\u001b[0m\u001b[0;34m(\u001b[0m\u001b[0mleft\u001b[0m\u001b[0;34m)\u001b[0m \u001b[0;32mor\u001b[0m \u001b[0mis_object_dtype\u001b[0m\u001b[0;34m(\u001b[0m\u001b[0mright\u001b[0m\u001b[0;34m)\u001b[0m \u001b[0;32mand\u001b[0m \u001b[0;32mnot\u001b[0m \u001b[0mis_cmp\u001b[0m\u001b[0;34m:\u001b[0m\u001b[0;34m\u001b[0m\u001b[0;34m\u001b[0m\u001b[0m\n",
            "\u001b[0;32m/usr/local/lib/python3.7/dist-packages/pandas/core/computation/expressions.py\u001b[0m in \u001b[0;36mevaluate\u001b[0;34m(op, a, b, use_numexpr)\u001b[0m\n\u001b[1;32m    237\u001b[0m         \u001b[0;32mif\u001b[0m \u001b[0muse_numexpr\u001b[0m\u001b[0;34m:\u001b[0m\u001b[0;34m\u001b[0m\u001b[0;34m\u001b[0m\u001b[0m\n\u001b[1;32m    238\u001b[0m             \u001b[0;31m# error: \"None\" not callable\u001b[0m\u001b[0;34m\u001b[0m\u001b[0;34m\u001b[0m\u001b[0;34m\u001b[0m\u001b[0m\n\u001b[0;32m--> 239\u001b[0;31m             \u001b[0;32mreturn\u001b[0m \u001b[0m_evaluate\u001b[0m\u001b[0;34m(\u001b[0m\u001b[0mop\u001b[0m\u001b[0;34m,\u001b[0m \u001b[0mop_str\u001b[0m\u001b[0;34m,\u001b[0m \u001b[0ma\u001b[0m\u001b[0;34m,\u001b[0m \u001b[0mb\u001b[0m\u001b[0;34m)\u001b[0m  \u001b[0;31m# type: ignore[misc]\u001b[0m\u001b[0;34m\u001b[0m\u001b[0;34m\u001b[0m\u001b[0m\n\u001b[0m\u001b[1;32m    240\u001b[0m     \u001b[0;32mreturn\u001b[0m \u001b[0m_evaluate_standard\u001b[0m\u001b[0;34m(\u001b[0m\u001b[0mop\u001b[0m\u001b[0;34m,\u001b[0m \u001b[0mop_str\u001b[0m\u001b[0;34m,\u001b[0m \u001b[0ma\u001b[0m\u001b[0;34m,\u001b[0m \u001b[0mb\u001b[0m\u001b[0;34m)\u001b[0m\u001b[0;34m\u001b[0m\u001b[0;34m\u001b[0m\u001b[0m\n\u001b[1;32m    241\u001b[0m \u001b[0;34m\u001b[0m\u001b[0m\n",
            "\u001b[0;32m/usr/local/lib/python3.7/dist-packages/pandas/core/computation/expressions.py\u001b[0m in \u001b[0;36m_evaluate_numexpr\u001b[0;34m(op, op_str, a, b)\u001b[0m\n\u001b[1;32m    126\u001b[0m \u001b[0;34m\u001b[0m\u001b[0m\n\u001b[1;32m    127\u001b[0m     \u001b[0;32mif\u001b[0m \u001b[0mresult\u001b[0m \u001b[0;32mis\u001b[0m \u001b[0;32mNone\u001b[0m\u001b[0;34m:\u001b[0m\u001b[0;34m\u001b[0m\u001b[0;34m\u001b[0m\u001b[0m\n\u001b[0;32m--> 128\u001b[0;31m         \u001b[0mresult\u001b[0m \u001b[0;34m=\u001b[0m \u001b[0m_evaluate_standard\u001b[0m\u001b[0;34m(\u001b[0m\u001b[0mop\u001b[0m\u001b[0;34m,\u001b[0m \u001b[0mop_str\u001b[0m\u001b[0;34m,\u001b[0m \u001b[0ma\u001b[0m\u001b[0;34m,\u001b[0m \u001b[0mb\u001b[0m\u001b[0;34m)\u001b[0m\u001b[0;34m\u001b[0m\u001b[0;34m\u001b[0m\u001b[0m\n\u001b[0m\u001b[1;32m    129\u001b[0m \u001b[0;34m\u001b[0m\u001b[0m\n\u001b[1;32m    130\u001b[0m     \u001b[0;32mreturn\u001b[0m \u001b[0mresult\u001b[0m\u001b[0;34m\u001b[0m\u001b[0;34m\u001b[0m\u001b[0m\n",
            "\u001b[0;32m/usr/local/lib/python3.7/dist-packages/pandas/core/computation/expressions.py\u001b[0m in \u001b[0;36m_evaluate_standard\u001b[0;34m(op, op_str, a, b)\u001b[0m\n\u001b[1;32m     67\u001b[0m     \u001b[0;32mif\u001b[0m \u001b[0m_TEST_MODE\u001b[0m\u001b[0;34m:\u001b[0m\u001b[0;34m\u001b[0m\u001b[0;34m\u001b[0m\u001b[0m\n\u001b[1;32m     68\u001b[0m         \u001b[0m_store_test_result\u001b[0m\u001b[0;34m(\u001b[0m\u001b[0;32mFalse\u001b[0m\u001b[0;34m)\u001b[0m\u001b[0;34m\u001b[0m\u001b[0;34m\u001b[0m\u001b[0m\n\u001b[0;32m---> 69\u001b[0;31m     \u001b[0;32mreturn\u001b[0m \u001b[0mop\u001b[0m\u001b[0;34m(\u001b[0m\u001b[0ma\u001b[0m\u001b[0;34m,\u001b[0m \u001b[0mb\u001b[0m\u001b[0;34m)\u001b[0m\u001b[0;34m\u001b[0m\u001b[0;34m\u001b[0m\u001b[0m\n\u001b[0m\u001b[1;32m     70\u001b[0m \u001b[0;34m\u001b[0m\u001b[0m\n\u001b[1;32m     71\u001b[0m \u001b[0;34m\u001b[0m\u001b[0m\n",
            "\u001b[0;31mValueError\u001b[0m: operands could not be broadcast together with shapes (200,) (2,) "
          ]
        }
      ]
    },
    {
      "cell_type": "code",
      "source": [
        "first_quartil = 221\n",
        "third_quartil = 4053\n",
        "IQR = third_quartil - first_quartil                                 # Interquartilový rozsah\n",
        "outlier = round(1.5 * IQR + third_quartil)\n",
        "strong_outlier = round(3 * IQR + third_quartil)\n",
        "print(\"Hranice slabé odlehlé hodnoty je: \", outlier, \"x\")\n",
        "print(\"Hranice silné odlehlé hodnoty je: \", strong_outlier, \"x\")\n",
        "print(\"\")\n",
        "\n",
        "df_outlier = df_start_stations_frequency.query(\"frequency_start_station > 9801 and frequency_start_station <= 15549\").count()\n",
        "print(\"POČET SLABÝCH ODLEHLÝCH HODNOT: \", df_outlier[\"frequency_start_station\"])\n",
        "df_strong_outlier = df_start_stations_frequency.query(\"frequency_start_station > 15549\").count()\n",
        "print(\"POČET SILNÝCH ODLEHLÝCH HODNOT: \", df_strong_outlier[\"frequency_start_station\"])"
      ],
      "metadata": {
        "id": "nrKAiM0LkKCu"
      },
      "execution_count": null,
      "outputs": []
    },
    {
      "cell_type": "markdown",
      "source": [
        "#### Vzdálenosti stanic<a name=\"3.1.2\"></a>"
      ],
      "metadata": {
        "id": "pGxMHnqZ8UmN"
      }
    },
    {
      "cell_type": "code",
      "source": [
        "from sklearn.metrics import DistanceMetric"
      ],
      "metadata": {
        "id": "wkR7JYx-HAUN"
      },
      "execution_count": 48,
      "outputs": []
    },
    {
      "cell_type": "code",
      "source": [
        "# kopie dataframu pro výpočet vzdáleností seřazená podle id\n",
        "df_s2 = df_s.copy().sort_values(by=\"id\")"
      ],
      "metadata": {
        "id": "fQHp8kZ-8tpz"
      },
      "execution_count": 75,
      "outputs": []
    },
    {
      "cell_type": "markdown",
      "source": [
        "postup výpočtu vzdáleností:   \n",
        "https://medium.com/@danalindquist/finding-the-distance-between-two-lists-of-geographic-coordinates-9ace7e43bb2f"
      ],
      "metadata": {
        "id": "kbVVbL6VGu75"
      }
    },
    {
      "cell_type": "code",
      "source": [
        "# převedení na radiány\n",
        "df_s2['lat'] = np.radians(df_s2['lat'])\n",
        "df_s2['lon'] = np.radians(df_s2['lon'])"
      ],
      "metadata": {
        "id": "sUKL3M2CAj1L"
      },
      "execution_count": 76,
      "outputs": []
    },
    {
      "cell_type": "code",
      "source": [
        "# vytvoření matice pomocí knihovny\n",
        "dist = DistanceMetric.get_metric('haversine')"
      ],
      "metadata": {
        "id": "XiHxpcHWAzpS"
      },
      "execution_count": 80,
      "outputs": []
    },
    {
      "cell_type": "code",
      "source": [
        "# radius země v km\n",
        "earth_radius = 6373\n",
        "# matice s výpočtem vzdálenosti mezi stanicemi v km\n",
        "distance = pd.DataFrame(dist.pairwise(\n",
        "    (df_s2[['lat','lon']]) * earth_radius).round(2),\n",
        "      columns=df_s2.id, index=df_s2.id)"
      ],
      "metadata": {
        "id": "UHxl7c9iBKzG"
      },
      "execution_count": 81,
      "outputs": []
    },
    {
      "cell_type": "code",
      "source": [
        "distance.head()"
      ],
      "metadata": {
        "colab": {
          "base_uri": "https://localhost:8080/",
          "height": 267
        },
        "id": "wFrAw8JdFNgZ",
        "outputId": "e1f9e183-2a4c-4d83-cd99-c8b7d56b4831"
      },
      "execution_count": 83,
      "outputs": [
        {
          "output_type": "execute_result",
          "data": {
            "text/plain": [
              "id   171   183   189   225   241   242   246   247   248   249   ...  1868  \\\n",
              "id                                                               ...         \n",
              "171  0.00  0.96  0.80  1.03  1.84  1.84  0.64  1.92  0.33  1.15  ...  1.07   \n",
              "183  0.96  0.00  0.19  0.81  1.13  1.13  1.59  1.75  0.66  1.78  ...  1.58   \n",
              "189  0.80  0.19  0.00  0.70  1.18  1.18  1.44  1.88  0.48  1.74  ...  1.56   \n",
              "225  1.03  0.81  0.70  0.00  0.83  0.83  1.51  2.54  0.79  2.18  ...  2.09   \n",
              "241  1.84  1.13  1.18  0.83  0.00  0.00  2.33  2.10  1.54  2.91  ...  2.69   \n",
              "\n",
              "id   1869  1870  1871  1874  1877  2259  2263  2265  2268  \n",
              "id                                                         \n",
              "171  0.89  0.23  1.09  1.30  0.70  2.47  0.58  1.05  1.51  \n",
              "183  1.60  1.18  0.57  1.36  1.59  1.51  1.37  1.95  0.80  \n",
              "189  1.53  1.02  0.69  1.43  1.46  1.67  1.18  1.76  0.83  \n",
              "225  1.92  1.22  1.37  2.11  1.69  1.65  0.97  1.47  0.58  \n",
              "241  2.70  2.04  1.54  2.28  2.52  0.85  1.76  2.08  0.35  \n",
              "\n",
              "[5 rows x 200 columns]"
            ],
            "text/html": [
              "\n",
              "  <div id=\"df-e3033142-c8b1-4902-b1c8-7516cec01607\">\n",
              "    <div class=\"colab-df-container\">\n",
              "      <div>\n",
              "<style scoped>\n",
              "    .dataframe tbody tr th:only-of-type {\n",
              "        vertical-align: middle;\n",
              "    }\n",
              "\n",
              "    .dataframe tbody tr th {\n",
              "        vertical-align: top;\n",
              "    }\n",
              "\n",
              "    .dataframe thead th {\n",
              "        text-align: right;\n",
              "    }\n",
              "</style>\n",
              "<table border=\"1\" class=\"dataframe\">\n",
              "  <thead>\n",
              "    <tr style=\"text-align: right;\">\n",
              "      <th>id</th>\n",
              "      <th>171</th>\n",
              "      <th>183</th>\n",
              "      <th>189</th>\n",
              "      <th>225</th>\n",
              "      <th>241</th>\n",
              "      <th>242</th>\n",
              "      <th>246</th>\n",
              "      <th>247</th>\n",
              "      <th>248</th>\n",
              "      <th>249</th>\n",
              "      <th>...</th>\n",
              "      <th>1868</th>\n",
              "      <th>1869</th>\n",
              "      <th>1870</th>\n",
              "      <th>1871</th>\n",
              "      <th>1874</th>\n",
              "      <th>1877</th>\n",
              "      <th>2259</th>\n",
              "      <th>2263</th>\n",
              "      <th>2265</th>\n",
              "      <th>2268</th>\n",
              "    </tr>\n",
              "    <tr>\n",
              "      <th>id</th>\n",
              "      <th></th>\n",
              "      <th></th>\n",
              "      <th></th>\n",
              "      <th></th>\n",
              "      <th></th>\n",
              "      <th></th>\n",
              "      <th></th>\n",
              "      <th></th>\n",
              "      <th></th>\n",
              "      <th></th>\n",
              "      <th></th>\n",
              "      <th></th>\n",
              "      <th></th>\n",
              "      <th></th>\n",
              "      <th></th>\n",
              "      <th></th>\n",
              "      <th></th>\n",
              "      <th></th>\n",
              "      <th></th>\n",
              "      <th></th>\n",
              "      <th></th>\n",
              "    </tr>\n",
              "  </thead>\n",
              "  <tbody>\n",
              "    <tr>\n",
              "      <th>171</th>\n",
              "      <td>0.00</td>\n",
              "      <td>0.96</td>\n",
              "      <td>0.80</td>\n",
              "      <td>1.03</td>\n",
              "      <td>1.84</td>\n",
              "      <td>1.84</td>\n",
              "      <td>0.64</td>\n",
              "      <td>1.92</td>\n",
              "      <td>0.33</td>\n",
              "      <td>1.15</td>\n",
              "      <td>...</td>\n",
              "      <td>1.07</td>\n",
              "      <td>0.89</td>\n",
              "      <td>0.23</td>\n",
              "      <td>1.09</td>\n",
              "      <td>1.30</td>\n",
              "      <td>0.70</td>\n",
              "      <td>2.47</td>\n",
              "      <td>0.58</td>\n",
              "      <td>1.05</td>\n",
              "      <td>1.51</td>\n",
              "    </tr>\n",
              "    <tr>\n",
              "      <th>183</th>\n",
              "      <td>0.96</td>\n",
              "      <td>0.00</td>\n",
              "      <td>0.19</td>\n",
              "      <td>0.81</td>\n",
              "      <td>1.13</td>\n",
              "      <td>1.13</td>\n",
              "      <td>1.59</td>\n",
              "      <td>1.75</td>\n",
              "      <td>0.66</td>\n",
              "      <td>1.78</td>\n",
              "      <td>...</td>\n",
              "      <td>1.58</td>\n",
              "      <td>1.60</td>\n",
              "      <td>1.18</td>\n",
              "      <td>0.57</td>\n",
              "      <td>1.36</td>\n",
              "      <td>1.59</td>\n",
              "      <td>1.51</td>\n",
              "      <td>1.37</td>\n",
              "      <td>1.95</td>\n",
              "      <td>0.80</td>\n",
              "    </tr>\n",
              "    <tr>\n",
              "      <th>189</th>\n",
              "      <td>0.80</td>\n",
              "      <td>0.19</td>\n",
              "      <td>0.00</td>\n",
              "      <td>0.70</td>\n",
              "      <td>1.18</td>\n",
              "      <td>1.18</td>\n",
              "      <td>1.44</td>\n",
              "      <td>1.88</td>\n",
              "      <td>0.48</td>\n",
              "      <td>1.74</td>\n",
              "      <td>...</td>\n",
              "      <td>1.56</td>\n",
              "      <td>1.53</td>\n",
              "      <td>1.02</td>\n",
              "      <td>0.69</td>\n",
              "      <td>1.43</td>\n",
              "      <td>1.46</td>\n",
              "      <td>1.67</td>\n",
              "      <td>1.18</td>\n",
              "      <td>1.76</td>\n",
              "      <td>0.83</td>\n",
              "    </tr>\n",
              "    <tr>\n",
              "      <th>225</th>\n",
              "      <td>1.03</td>\n",
              "      <td>0.81</td>\n",
              "      <td>0.70</td>\n",
              "      <td>0.00</td>\n",
              "      <td>0.83</td>\n",
              "      <td>0.83</td>\n",
              "      <td>1.51</td>\n",
              "      <td>2.54</td>\n",
              "      <td>0.79</td>\n",
              "      <td>2.18</td>\n",
              "      <td>...</td>\n",
              "      <td>2.09</td>\n",
              "      <td>1.92</td>\n",
              "      <td>1.22</td>\n",
              "      <td>1.37</td>\n",
              "      <td>2.11</td>\n",
              "      <td>1.69</td>\n",
              "      <td>1.65</td>\n",
              "      <td>0.97</td>\n",
              "      <td>1.47</td>\n",
              "      <td>0.58</td>\n",
              "    </tr>\n",
              "    <tr>\n",
              "      <th>241</th>\n",
              "      <td>1.84</td>\n",
              "      <td>1.13</td>\n",
              "      <td>1.18</td>\n",
              "      <td>0.83</td>\n",
              "      <td>0.00</td>\n",
              "      <td>0.00</td>\n",
              "      <td>2.33</td>\n",
              "      <td>2.10</td>\n",
              "      <td>1.54</td>\n",
              "      <td>2.91</td>\n",
              "      <td>...</td>\n",
              "      <td>2.69</td>\n",
              "      <td>2.70</td>\n",
              "      <td>2.04</td>\n",
              "      <td>1.54</td>\n",
              "      <td>2.28</td>\n",
              "      <td>2.52</td>\n",
              "      <td>0.85</td>\n",
              "      <td>1.76</td>\n",
              "      <td>2.08</td>\n",
              "      <td>0.35</td>\n",
              "    </tr>\n",
              "  </tbody>\n",
              "</table>\n",
              "<p>5 rows × 200 columns</p>\n",
              "</div>\n",
              "      <button class=\"colab-df-convert\" onclick=\"convertToInteractive('df-e3033142-c8b1-4902-b1c8-7516cec01607')\"\n",
              "              title=\"Convert this dataframe to an interactive table.\"\n",
              "              style=\"display:none;\">\n",
              "        \n",
              "  <svg xmlns=\"http://www.w3.org/2000/svg\" height=\"24px\"viewBox=\"0 0 24 24\"\n",
              "       width=\"24px\">\n",
              "    <path d=\"M0 0h24v24H0V0z\" fill=\"none\"/>\n",
              "    <path d=\"M18.56 5.44l.94 2.06.94-2.06 2.06-.94-2.06-.94-.94-2.06-.94 2.06-2.06.94zm-11 1L8.5 8.5l.94-2.06 2.06-.94-2.06-.94L8.5 2.5l-.94 2.06-2.06.94zm10 10l.94 2.06.94-2.06 2.06-.94-2.06-.94-.94-2.06-.94 2.06-2.06.94z\"/><path d=\"M17.41 7.96l-1.37-1.37c-.4-.4-.92-.59-1.43-.59-.52 0-1.04.2-1.43.59L10.3 9.45l-7.72 7.72c-.78.78-.78 2.05 0 2.83L4 21.41c.39.39.9.59 1.41.59.51 0 1.02-.2 1.41-.59l7.78-7.78 2.81-2.81c.8-.78.8-2.07 0-2.86zM5.41 20L4 18.59l7.72-7.72 1.47 1.35L5.41 20z\"/>\n",
              "  </svg>\n",
              "      </button>\n",
              "      \n",
              "  <style>\n",
              "    .colab-df-container {\n",
              "      display:flex;\n",
              "      flex-wrap:wrap;\n",
              "      gap: 12px;\n",
              "    }\n",
              "\n",
              "    .colab-df-convert {\n",
              "      background-color: #E8F0FE;\n",
              "      border: none;\n",
              "      border-radius: 50%;\n",
              "      cursor: pointer;\n",
              "      display: none;\n",
              "      fill: #1967D2;\n",
              "      height: 32px;\n",
              "      padding: 0 0 0 0;\n",
              "      width: 32px;\n",
              "    }\n",
              "\n",
              "    .colab-df-convert:hover {\n",
              "      background-color: #E2EBFA;\n",
              "      box-shadow: 0px 1px 2px rgba(60, 64, 67, 0.3), 0px 1px 3px 1px rgba(60, 64, 67, 0.15);\n",
              "      fill: #174EA6;\n",
              "    }\n",
              "\n",
              "    [theme=dark] .colab-df-convert {\n",
              "      background-color: #3B4455;\n",
              "      fill: #D2E3FC;\n",
              "    }\n",
              "\n",
              "    [theme=dark] .colab-df-convert:hover {\n",
              "      background-color: #434B5C;\n",
              "      box-shadow: 0px 1px 3px 1px rgba(0, 0, 0, 0.15);\n",
              "      filter: drop-shadow(0px 1px 2px rgba(0, 0, 0, 0.3));\n",
              "      fill: #FFFFFF;\n",
              "    }\n",
              "  </style>\n",
              "\n",
              "      <script>\n",
              "        const buttonEl =\n",
              "          document.querySelector('#df-e3033142-c8b1-4902-b1c8-7516cec01607 button.colab-df-convert');\n",
              "        buttonEl.style.display =\n",
              "          google.colab.kernel.accessAllowed ? 'block' : 'none';\n",
              "\n",
              "        async function convertToInteractive(key) {\n",
              "          const element = document.querySelector('#df-e3033142-c8b1-4902-b1c8-7516cec01607');\n",
              "          const dataTable =\n",
              "            await google.colab.kernel.invokeFunction('convertToInteractive',\n",
              "                                                     [key], {});\n",
              "          if (!dataTable) return;\n",
              "\n",
              "          const docLinkHtml = 'Like what you see? Visit the ' +\n",
              "            '<a target=\"_blank\" href=https://colab.research.google.com/notebooks/data_table.ipynb>data table notebook</a>'\n",
              "            + ' to learn more about interactive tables.';\n",
              "          element.innerHTML = '';\n",
              "          dataTable['output_type'] = 'display_data';\n",
              "          await google.colab.output.renderOutput(dataTable, element);\n",
              "          const docLink = document.createElement('div');\n",
              "          docLink.innerHTML = docLinkHtml;\n",
              "          element.appendChild(docLink);\n",
              "        }\n",
              "      </script>\n",
              "    </div>\n",
              "  </div>\n",
              "  "
            ]
          },
          "metadata": {},
          "execution_count": 83
        }
      ]
    }
  ]
}